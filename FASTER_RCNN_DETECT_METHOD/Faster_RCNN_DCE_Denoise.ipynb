{
 "cells": [
  {
   "cell_type": "code",
   "execution_count": 1,
   "id": "9fa7ad18",
   "metadata": {
    "_cell_guid": "b1076dfc-b9ad-4769-8c92-a6c4dae69d19",
    "_uuid": "8f2839f25d086af736a60e9eeb907d3b93b6e0e5",
    "execution": {
     "iopub.execute_input": "2024-12-26T00:58:13.889807Z",
     "iopub.status.busy": "2024-12-26T00:58:13.889515Z",
     "iopub.status.idle": "2024-12-26T00:59:36.662209Z",
     "shell.execute_reply": "2024-12-26T00:59:36.661003Z"
    },
    "papermill": {
     "duration": 82.780057,
     "end_time": "2024-12-26T00:59:36.663898",
     "exception": false,
     "start_time": "2024-12-26T00:58:13.883841",
     "status": "completed"
    },
    "tags": []
   },
   "outputs": [
    {
     "name": "stdout",
     "output_type": "stream",
     "text": [
      "Cloning into 'vision'...\r\n",
      "remote: Enumerating objects: 590862, done.\u001b[K\r\n",
      "remote: Counting objects: 100% (1217/1217), done.\u001b[K\r\n",
      "remote: Compressing objects: 100% (926/926), done.\u001b[K\r\n",
      "remote: Total 590862 (delta 980), reused 335 (delta 285), pack-reused 589645 (from 5)\u001b[K\r\n",
      "Receiving objects: 100% (590862/590862), 1.12 GiB | 39.80 MiB/s, done.\r\n",
      "Resolving deltas: 100% (552019/552019), done.\r\n",
      "fatal: not a git repository (or any parent up to mount point /kaggle)\r\n",
      "Stopping at filesystem boundary (GIT_DISCOVERY_ACROSS_FILESYSTEM not set).\r\n"
     ]
    }
   ],
   "source": [
    "!pip install pycocotools --quiet\n",
    "!git clone https://github.com/pytorch/vision.git\n",
    "!git checkout v0.3.0\n",
    "\n",
    "!cp vision/references/detection/utils.py ./\n",
    "\n",
    "!cp vision/references/detection/transforms.py ./\n",
    "!cp vision/references/detection/coco_eval.py ./\n",
    "!cp vision/references/detection/engine.py ./\n",
    "!cp vision/references/detection/coco_utils.py ./"
   ]
  },
  {
   "cell_type": "code",
   "execution_count": 2,
   "id": "fb50b1db",
   "metadata": {
    "execution": {
     "iopub.execute_input": "2024-12-26T00:59:36.694227Z",
     "iopub.status.busy": "2024-12-26T00:59:36.693939Z",
     "iopub.status.idle": "2024-12-26T00:59:43.096715Z",
     "shell.execute_reply": "2024-12-26T00:59:43.095829Z"
    },
    "papermill": {
     "duration": 6.419188,
     "end_time": "2024-12-26T00:59:43.098192",
     "exception": false,
     "start_time": "2024-12-26T00:59:36.679004",
     "status": "completed"
    },
    "tags": []
   },
   "outputs": [
    {
     "name": "stderr",
     "output_type": "stream",
     "text": [
      "/usr/local/lib/python3.10/dist-packages/albumentations/__init__.py:13: UserWarning: A new version of Albumentations is available: 1.4.24 (you have 1.4.15). Upgrade using: pip install -U albumentations. To disable automatic update checks, set the environment variable NO_ALBUMENTATIONS_UPDATE to 1.\n",
      "  check_for_updates()\n"
     ]
    }
   ],
   "source": [
    "import os\n",
    "import shutil\n",
    "from pathlib import Path\n",
    "import logging\n",
    "import random\n",
    "import warnings\n",
    "import time\n",
    "import io\n",
    "import sys\n",
    "\n",
    "# Data handling and transformations\n",
    "import numpy as np\n",
    "from PIL import Image\n",
    "import cv2\n",
    "import xml.etree.ElementTree as ET\n",
    "\n",
    "# Machine learning and deep learning libraries\n",
    "import torch\n",
    "import torchvision\n",
    "from torchvision import transforms as torchtrans  \n",
    "from torchvision.models.detection.faster_rcnn import FastRCNNPredictor\n",
    "from sklearn.model_selection import train_test_split\n",
    "from sklearn.metrics import precision_recall_fscore_support\n",
    "\n",
    "# For image augmentations\n",
    "import albumentations as A\n",
    "from albumentations.pytorch.transforms import ToTensorV2\n",
    "\n",
    "# Progress bar\n",
    "from tqdm import tqdm\n",
    "import matplotlib.pyplot as plt\n",
    "import matplotlib.patches as patches \n",
    "\n",
    "# Custom libraries\n",
    "import utils\n",
    "import transforms as T\n",
    "import engine  # Assuming this is a custom library\n",
    "import logging\n",
    "from engine import train_one_epoch, evaluate\n",
    "from torchvision import models, transforms"
   ]
  },
  {
   "cell_type": "code",
   "execution_count": 3,
   "id": "3d6f0933",
   "metadata": {
    "execution": {
     "iopub.execute_input": "2024-12-26T00:59:43.128366Z",
     "iopub.status.busy": "2024-12-26T00:59:43.127902Z",
     "iopub.status.idle": "2024-12-26T00:59:43.131473Z",
     "shell.execute_reply": "2024-12-26T00:59:43.130849Z"
    },
    "papermill": {
     "duration": 0.019691,
     "end_time": "2024-12-26T00:59:43.132621",
     "exception": false,
     "start_time": "2024-12-26T00:59:43.112930",
     "status": "completed"
    },
    "tags": []
   },
   "outputs": [],
   "source": [
    "# Define paths\n",
    "TRAIN_IMAGES_DIR = \"/kaggle/input/cs406-data/enhance_dce_denoise/train/images\"\n",
    "VAL_IMAGES_DIR = \"/kaggle/input/cs406-data/enhance_dce_denoise/val/images\"\n",
    "TEST_IMAGES_DIR = \"/kaggle/input/cs406-data/enhance_dce_denoise/test/images\"\n",
    "ANNOTATIONS_DIR = \"/kaggle/input/cs406-data/enhance_dce_denoise/VOC_Annotations\"\n"
   ]
  },
  {
   "cell_type": "code",
   "execution_count": 4,
   "id": "8a40f274",
   "metadata": {
    "execution": {
     "iopub.execute_input": "2024-12-26T00:59:43.162181Z",
     "iopub.status.busy": "2024-12-26T00:59:43.161926Z",
     "iopub.status.idle": "2024-12-26T00:59:43.169609Z",
     "shell.execute_reply": "2024-12-26T00:59:43.169035Z"
    },
    "papermill": {
     "duration": 0.023767,
     "end_time": "2024-12-26T00:59:43.170723",
     "exception": false,
     "start_time": "2024-12-26T00:59:43.146956",
     "status": "completed"
    },
    "tags": []
   },
   "outputs": [],
   "source": [
    "class VehicleDataset(torch.utils.data.Dataset):\n",
    "    def __init__(self, images_dir, annotations_dir, transforms=None):\n",
    "        self.images_dir = images_dir\n",
    "        self.transforms = transforms\n",
    "        self.annotations_dir = annotations_dir\n",
    "        self.image_files = [f for f in os.listdir(images_dir) ]\n",
    "        \n",
    "\n",
    "    def __len__(self):\n",
    "        return len(self.image_files)\n",
    "        \n",
    "    def __getitem__(self, idx):\n",
    "        image_filename = self.image_files[idx]\n",
    "        image_path = os.path.join(self.images_dir, image_filename)\n",
    "        anno_file =  os.path.splitext(image_filename)[0] + \".xml\"\n",
    "        annotation_path = os.path.join(self.annotations_dir,anno_file)\n",
    "        img = Image.open(image_path).convert(\"RGB\")\n",
    "        tree = ET.parse(annotation_path)\n",
    "        root = tree.getroot()\n",
    "\n",
    "        boxes = []\n",
    "        labels = []\n",
    "        img_width, img_height = img.size\n",
    "        for obj in root.findall(\"object\"):\n",
    "            bbox = obj.find(\"bndbox\")\n",
    "            xmin = int(bbox.find(\"xmin\").text)\n",
    "            ymin = int(bbox.find(\"ymin\").text)\n",
    "            xmax = int(bbox.find(\"xmax\").text)\n",
    "            ymax = int(bbox.find(\"ymax\").text)\n",
    "            boxes.append([xmin, ymin, xmax, ymax])\n",
    "            name = obj.find(\"name\").text\n",
    "            label = int(name.split('_')[-1]) \n",
    "            labels.append(label)\n",
    "        if len(boxes) == 0:\n",
    "            return None, None\n",
    "            \n",
    "        # Convert boxes to numpy array for albumentations (no manual normalization here)\n",
    "        boxes = np.array(boxes, dtype=np.float32)\n",
    "        \n",
    "        # Apply transformations if provided\n",
    "        if self.transforms:\n",
    "            img = self.transforms(img)\n",
    "\n",
    "        # Convert boxes to tensor\n",
    "        boxes = torch.as_tensor(boxes, dtype=torch.float32)\n",
    "        labels = torch.as_tensor(labels, dtype=torch.int64)\n",
    "\n",
    "        # Calculate area of each box\n",
    "        area = (boxes[:, 3] - boxes[:, 1]) * (boxes[:, 2] - boxes[:, 0])\n",
    "\n",
    "        # Suppose all instances are not crowd\n",
    "        iscrowd = torch.zeros((boxes.shape[0],), dtype=torch.int64)\n",
    "\n",
    "        # Prepare the target dictionary\n",
    "        target = {\n",
    "            \"boxes\": boxes,\n",
    "            \"labels\": labels,\n",
    "            \"area\": area,\n",
    "            \"iscrowd\": iscrowd,\n",
    "            \"image_id\": int(idx)\n",
    "        }\n",
    "\n",
    "        return img, target"
   ]
  },
  {
   "cell_type": "code",
   "execution_count": 5,
   "id": "58fe14cc",
   "metadata": {
    "execution": {
     "iopub.execute_input": "2024-12-26T00:59:43.199749Z",
     "iopub.status.busy": "2024-12-26T00:59:43.199514Z",
     "iopub.status.idle": "2024-12-26T00:59:43.669204Z",
     "shell.execute_reply": "2024-12-26T00:59:43.668351Z"
    },
    "papermill": {
     "duration": 0.486321,
     "end_time": "2024-12-26T00:59:43.671497",
     "exception": false,
     "start_time": "2024-12-26T00:59:43.185176",
     "status": "completed"
    },
    "tags": []
   },
   "outputs": [
    {
     "name": "stdout",
     "output_type": "stream",
     "text": [
      "torch.Size([3, 640, 640]) \n",
      " {'boxes': tensor([[211., 262., 449., 422.],\n",
      "        [323.,   6., 463., 264.]]), 'labels': tensor([2, 2]), 'area': tensor([38080., 36120.]), 'iscrowd': tensor([0, 0]), 'image_id': 25}\n"
     ]
    },
    {
     "data": {
      "image/png": "[encoded data removed]",
      "text/plain": [
       "<Figure size 640x480 with 1 Axes>"
      ]
     },
     "metadata": {},
     "output_type": "display_data"
    }
   ],
   "source": [
    "tmp_dataset = VehicleDataset(TRAIN_IMAGES_DIR, ANNOTATIONS_DIR)\n",
    "# ========================\n",
    "# Plot Image with Bounding Boxes\n",
    "# ========================\n",
    "def plot_img_bbox(img, target):\n",
    "    fig, ax = plt.subplots(1, 1)\n",
    "    ax.imshow(img.permute(1, 2, 0))  # Convert to HxWxC format for plotting\n",
    "    for box in target['boxes']:\n",
    "        x_min, y_min, x_max, y_max = box\n",
    "        width = x_max - x_min\n",
    "        height = y_max - y_min\n",
    "        rect = patches.Rectangle((x_min, y_min), width, height, linewidth=2, edgecolor='r', facecolor='none')\n",
    "        ax.add_patch(rect)\n",
    "    plt.show()\n",
    "transform = transforms.Compose([\n",
    "    transforms.ToTensor(),\n",
    "])\n",
    "tmp_dataset = VehicleDataset(TRAIN_IMAGES_DIR, ANNOTATIONS_DIR, transform)\n",
    "img, target = tmp_dataset[25]\n",
    "print(img.shape, '\\n', target)\n",
    "plot_img_bbox(img, target)"
   ]
  },
  {
   "cell_type": "code",
   "execution_count": 6,
   "id": "23ab9e64",
   "metadata": {
    "execution": {
     "iopub.execute_input": "2024-12-26T00:59:43.706704Z",
     "iopub.status.busy": "2024-12-26T00:59:43.706469Z",
     "iopub.status.idle": "2024-12-26T00:59:43.730813Z",
     "shell.execute_reply": "2024-12-26T00:59:43.730239Z"
    },
    "papermill": {
     "duration": 0.042757,
     "end_time": "2024-12-26T00:59:43.732043",
     "exception": false,
     "start_time": "2024-12-26T00:59:43.689286",
     "status": "completed"
    },
    "tags": []
   },
   "outputs": [],
   "source": [
    "# Define transformations\n",
    "transform = transforms.Compose([\n",
    "    transforms.ToTensor(),  # Chuyển ảnh PIL -> Tensor\n",
    "    transforms.Normalize(mean=[0.485, 0.456, 0.406], std=[0.229, 0.224, 0.225])  # Chuẩn hóa 3 kênh RGB\n",
    "])\n",
    "# Define dataset and dataloader\n",
    "train_dataset = VehicleDataset(TRAIN_IMAGES_DIR, ANNOTATIONS_DIR, transform)\n",
    "train_dataloader =  torch.utils.data.DataLoader(train_dataset, batch_size=8, shuffle=True, collate_fn=lambda x: tuple(zip(*[(img, tgt) for img, tgt in x if img is not None and tgt is not None])))\n",
    "# Validation setup\n",
    "val_dataset = VehicleDataset(VAL_IMAGES_DIR, ANNOTATIONS_DIR, transform)\n",
    "val_dataloader =  torch.utils.data.DataLoader(val_dataset, batch_size=8, shuffle=False, collate_fn=lambda x: tuple(zip(*[(img, tgt) for img, tgt in x if img is not None and tgt is not None])))\n",
    "# Test setup\n",
    "test_dataset = VehicleDataset(TEST_IMAGES_DIR, ANNOTATIONS_DIR,transform)\n",
    "test_dataloader =  torch.utils.data.DataLoader(test_dataset, batch_size=8, shuffle=False, collate_fn=lambda x: tuple(zip(*[(img, tgt) for img, tgt in x if img is not None and tgt is not None])))"
   ]
  },
  {
   "cell_type": "code",
   "execution_count": 7,
   "id": "61194810",
   "metadata": {
    "execution": {
     "iopub.execute_input": "2024-12-26T00:59:43.766185Z",
     "iopub.status.busy": "2024-12-26T00:59:43.765934Z",
     "iopub.status.idle": "2024-12-26T00:59:43.771368Z",
     "shell.execute_reply": "2024-12-26T00:59:43.770567Z"
    },
    "papermill": {
     "duration": 0.023603,
     "end_time": "2024-12-26T00:59:43.772505",
     "exception": false,
     "start_time": "2024-12-26T00:59:43.748902",
     "status": "completed"
    },
    "tags": []
   },
   "outputs": [],
   "source": [
    "from pathlib import Path\n",
    "\n",
    "LOG_FILE = \"/kaggle/working/results/log.txt\"\n",
    "ERROR_FILE = \"/kaggle/working/results/error.txt\"\n",
    "\n",
    "Path(LOG_FILE).parent.mkdir(parents=True, exist_ok=True)\n",
    "Path(ERROR_FILE).parent.mkdir(parents=True, exist_ok=True)\n",
    "\n",
    "logger = logging.getLogger()\n",
    "logger.setLevel(logging.INFO)  # Ensure logger level is set to INFO or DEBUG\n",
    "formatter = logging.Formatter(\"%(asctime)s - %(levelname)s - %(message)s\")\n",
    "\n",
    "# File handler to log to the log.txt file\n",
    "file_handler = logging.FileHandler(LOG_FILE, mode='w')\n",
    "file_handler.setFormatter(formatter)\n",
    "logger.addHandler(file_handler)\n",
    "\n",
    "# Stream handler to log to terminal\n",
    "stream_handler = logging.StreamHandler()\n",
    "stream_handler.setFormatter(formatter)\n",
    "logger.addHandler(stream_handler)\n"
   ]
  },
  {
   "cell_type": "code",
   "execution_count": 8,
   "id": "35a17999",
   "metadata": {
    "execution": {
     "iopub.execute_input": "2024-12-26T00:59:43.806298Z",
     "iopub.status.busy": "2024-12-26T00:59:43.806049Z",
     "iopub.status.idle": "2024-12-26T00:59:43.809560Z",
     "shell.execute_reply": "2024-12-26T00:59:43.808807Z"
    },
    "papermill": {
     "duration": 0.021436,
     "end_time": "2024-12-26T00:59:43.810670",
     "exception": false,
     "start_time": "2024-12-26T00:59:43.789234",
     "status": "completed"
    },
    "tags": []
   },
   "outputs": [],
   "source": [
    "def get_model(num_classes):\n",
    "    model = models.detection.fasterrcnn_resnet50_fpn(pretrained=True)\n",
    "    in_features = model.roi_heads.box_predictor.cls_score.in_features\n",
    "    model.roi_heads.box_predictor = FastRCNNPredictor(in_features, num_classes)\n",
    "    print(\"Model Done!\")\n",
    "    return model"
   ]
  },
  {
   "cell_type": "code",
   "execution_count": 9,
   "id": "51500800",
   "metadata": {
    "execution": {
     "iopub.execute_input": "2024-12-26T00:59:43.844536Z",
     "iopub.status.busy": "2024-12-26T00:59:43.844312Z",
     "iopub.status.idle": "2024-12-26T00:59:45.660514Z",
     "shell.execute_reply": "2024-12-26T00:59:45.659831Z"
    },
    "papermill": {
     "duration": 1.834429,
     "end_time": "2024-12-26T00:59:45.661772",
     "exception": false,
     "start_time": "2024-12-26T00:59:43.827343",
     "status": "completed"
    },
    "tags": []
   },
   "outputs": [
    {
     "name": "stderr",
     "output_type": "stream",
     "text": [
      "/usr/local/lib/python3.10/dist-packages/torchvision/models/_utils.py:208: UserWarning: The parameter 'pretrained' is deprecated since 0.13 and may be removed in the future, please use 'weights' instead.\n",
      "  warnings.warn(\n",
      "/usr/local/lib/python3.10/dist-packages/torchvision/models/_utils.py:223: UserWarning: Arguments other than a weight enum or `None` for 'weights' are deprecated since 0.13 and may be removed in the future. The current behavior is equivalent to passing `weights=FasterRCNN_ResNet50_FPN_Weights.COCO_V1`. You can also use `weights=FasterRCNN_ResNet50_FPN_Weights.DEFAULT` to get the most up-to-date weights.\n",
      "  warnings.warn(msg)\n",
      "Downloading: \"https://download.pytorch.org/models/fasterrcnn_resnet50_fpn_coco-258fb6c6.pth\" to /root/.cache/torch/hub/checkpoints/fasterrcnn_resnet50_fpn_coco-258fb6c6.pth\n",
      "100%|██████████| 160M/160M [00:00<00:00, 218MB/s]\n"
     ]
    },
    {
     "name": "stdout",
     "output_type": "stream",
     "text": [
      "Model Done!\n"
     ]
    }
   ],
   "source": [
    "device = torch.device('cuda') if torch.cuda.is_available() else torch.device('cpu')\n",
    "model = get_model(6)\n",
    "model.to(device)\n",
    "optimizer = torch.optim.Adam(model.parameters(), lr=1e-4, weight_decay=1e-5)\n",
    "num_epochs = 20"
   ]
  },
  {
   "cell_type": "code",
   "execution_count": 10,
   "id": "9385bddf",
   "metadata": {
    "execution": {
     "iopub.execute_input": "2024-12-26T00:59:45.697430Z",
     "iopub.status.busy": "2024-12-26T00:59:45.697177Z",
     "iopub.status.idle": "2024-12-26T02:28:22.446993Z",
     "shell.execute_reply": "2024-12-26T02:28:22.445973Z"
    },
    "papermill": {
     "duration": 5316.76907,
     "end_time": "2024-12-26T02:28:22.448494",
     "exception": false,
     "start_time": "2024-12-26T00:59:45.679424",
     "status": "completed"
    },
    "tags": []
   },
   "outputs": [
    {
     "name": "stderr",
     "output_type": "stream",
     "text": [
      "/kaggle/working/engine.py:30: FutureWarning: `torch.cuda.amp.autocast(args...)` is deprecated. Please use `torch.amp.autocast('cuda', args...)` instead.\n",
      "  with torch.cuda.amp.autocast(enabled=scaler is not None):\n"
     ]
    },
    {
     "name": "stdout",
     "output_type": "stream",
     "text": [
      "Epoch: [0]  [  0/263]  eta: 0:10:13  lr: 0.000000  loss: 2.2655 (2.2655)  loss_classifier: 1.8074 (1.8074)  loss_box_reg: 0.0634 (0.0634)  loss_objectness: 0.3701 (0.3701)  loss_rpn_box_reg: 0.0246 (0.0246)  time: 2.3342  data: 0.1256  max mem: 5805\n",
      "Epoch: [0]  [ 20/263]  eta: 0:03:59  lr: 0.000008  loss: 1.6181 (1.6102)  loss_classifier: 1.3014 (1.2923)  loss_box_reg: 0.0845 (0.0873)  loss_objectness: 0.1603 (0.2100)  loss_rpn_box_reg: 0.0188 (0.0206)  time: 0.9167  data: 0.1298  max mem: 6120\n",
      "Epoch: [0]  [ 40/263]  eta: 0:03:31  lr: 0.000016  loss: 0.5976 (1.0934)  loss_classifier: 0.2879 (0.7967)  loss_box_reg: 0.1603 (0.1229)  loss_objectness: 0.0721 (0.1544)  loss_rpn_box_reg: 0.0171 (0.0194)  time: 0.9098  data: 0.1202  max mem: 6120\n",
      "Epoch: [0]  [ 60/263]  eta: 0:03:09  lr: 0.000023  loss: 0.3901 (0.8722)  loss_classifier: 0.1951 (0.6016)  loss_box_reg: 0.1285 (0.1302)  loss_objectness: 0.0481 (0.1239)  loss_rpn_box_reg: 0.0102 (0.0165)  time: 0.9058  data: 0.1145  max mem: 6120\n",
      "Epoch: [0]  [ 80/263]  eta: 0:02:50  lr: 0.000031  loss: 0.3978 (0.7618)  loss_classifier: 0.1907 (0.5036)  loss_box_reg: 0.1446 (0.1365)  loss_objectness: 0.0476 (0.1063)  loss_rpn_box_reg: 0.0111 (0.0154)  time: 0.9154  data: 0.1253  max mem: 6120\n",
      "Epoch: [0]  [100/263]  eta: 0:02:30  lr: 0.000039  loss: 0.4075 (0.6936)  loss_classifier: 0.1939 (0.4436)  loss_box_reg: 0.1487 (0.1425)  loss_objectness: 0.0338 (0.0933)  loss_rpn_box_reg: 0.0087 (0.0142)  time: 0.9066  data: 0.1147  max mem: 6120\n",
      "Epoch: [0]  [120/263]  eta: 0:02:11  lr: 0.000046  loss: 0.4680 (0.6547)  loss_classifier: 0.2226 (0.4060)  loss_box_reg: 0.2010 (0.1511)  loss_objectness: 0.0278 (0.0842)  loss_rpn_box_reg: 0.0075 (0.0134)  time: 0.9067  data: 0.1137  max mem: 6120\n",
      "Epoch: [0]  [140/263]  eta: 0:01:53  lr: 0.000054  loss: 0.3676 (0.6188)  loss_classifier: 0.1779 (0.3752)  loss_box_reg: 0.1579 (0.1535)  loss_objectness: 0.0264 (0.0773)  loss_rpn_box_reg: 0.0094 (0.0128)  time: 0.9058  data: 0.1133  max mem: 6120\n",
      "Epoch: [0]  [160/263]  eta: 0:01:34  lr: 0.000061  loss: 0.4388 (0.5991)  loss_classifier: 0.2099 (0.3548)  loss_box_reg: 0.1708 (0.1578)  loss_objectness: 0.0390 (0.0739)  loss_rpn_box_reg: 0.0090 (0.0125)  time: 0.9054  data: 0.1117  max mem: 6120\n",
      "Epoch: [0]  [180/263]  eta: 0:01:16  lr: 0.000069  loss: 0.3331 (0.5732)  loss_classifier: 0.1603 (0.3341)  loss_box_reg: 0.1387 (0.1571)  loss_objectness: 0.0324 (0.0697)  loss_rpn_box_reg: 0.0098 (0.0123)  time: 0.9036  data: 0.1088  max mem: 6120\n",
      "Epoch: [0]  [200/263]  eta: 0:00:57  lr: 0.000077  loss: 0.3527 (0.5530)  loss_classifier: 0.1543 (0.3177)  loss_box_reg: 0.1502 (0.1568)  loss_objectness: 0.0266 (0.0664)  loss_rpn_box_reg: 0.0088 (0.0120)  time: 0.9071  data: 0.1182  max mem: 6120\n",
      "Epoch: [0]  [220/263]  eta: 0:00:39  lr: 0.000084  loss: 0.3761 (0.5375)  loss_classifier: 0.1773 (0.3045)  loss_box_reg: 0.1518 (0.1577)  loss_objectness: 0.0309 (0.0635)  loss_rpn_box_reg: 0.0086 (0.0118)  time: 0.9112  data: 0.1148  max mem: 6120\n",
      "Epoch: [0]  [240/263]  eta: 0:00:21  lr: 0.000092  loss: 0.3443 (0.5231)  loss_classifier: 0.1455 (0.2921)  loss_box_reg: 0.1475 (0.1579)  loss_objectness: 0.0268 (0.0615)  loss_rpn_box_reg: 0.0085 (0.0116)  time: 0.9157  data: 0.1206  max mem: 6120\n",
      "Epoch: [0]  [260/263]  eta: 0:00:02  lr: 0.000100  loss: 0.3285 (0.5099)  loss_classifier: 0.1587 (0.2824)  loss_box_reg: 0.1386 (0.1572)  loss_objectness: 0.0259 (0.0590)  loss_rpn_box_reg: 0.0069 (0.0113)  time: 0.9065  data: 0.1133  max mem: 6120\n",
      "Epoch: [0]  [262/263]  eta: 0:00:00  lr: 0.000100  loss: 0.3396 (0.5101)  loss_classifier: 0.1601 (0.2823)  loss_box_reg: 0.1426 (0.1578)  loss_objectness: 0.0259 (0.0588)  loss_rpn_box_reg: 0.0075 (0.0113)  time: 0.8823  data: 0.1115  max mem: 6120\n",
      "Epoch: [0] Total time: 0:04:00 (0.9126 s / it)\n",
      "creating index...\n",
      "index created!\n",
      "Test:  [ 0/75]  eta: 0:00:35  model_time: 0.3763 (0.3763)  evaluator_time: 0.0188 (0.0188)  time: 0.4755  data: 0.0715  max mem: 6120\n",
      "Test:  [74/75]  eta: 0:00:00  model_time: 0.3673 (0.3666)  evaluator_time: 0.0191 (0.0222)  time: 0.4780  data: 0.0803  max mem: 6120\n",
      "Test: Total time: 0:00:35 (0.4748 s / it)\n",
      "Averaged stats: model_time: 0.3673 (0.3666)  evaluator_time: 0.0191 (0.0222)\n",
      "Accumulating evaluation results...\n"
     ]
    },
    {
     "name": "stderr",
     "output_type": "stream",
     "text": [
      "2024-12-26 01:04:30,481 - INFO - Evaluation results on validation set: <coco_eval.CocoEvaluator object at 0x7827902238b0>\n"
     ]
    },
    {
     "name": "stdout",
     "output_type": "stream",
     "text": [
      "DONE (t=0.61s).\n",
      "IoU metric: bbox\n",
      " Average Precision  (AP) @[ IoU=0.50:0.95 | area=   all | maxDets=100 ] = 0.114\n",
      " Average Precision  (AP) @[ IoU=0.50      | area=   all | maxDets=100 ] = 0.298\n",
      " Average Precision  (AP) @[ IoU=0.75      | area=   all | maxDets=100 ] = 0.073\n",
      " Average Precision  (AP) @[ IoU=0.50:0.95 | area= small | maxDets=100 ] = 0.020\n",
      " Average Precision  (AP) @[ IoU=0.50:0.95 | area=medium | maxDets=100 ] = 0.052\n",
      " Average Precision  (AP) @[ IoU=0.50:0.95 | area= large | maxDets=100 ] = 0.141\n",
      " Average Recall     (AR) @[ IoU=0.50:0.95 | area=   all | maxDets=  1 ] = 0.150\n",
      " Average Recall     (AR) @[ IoU=0.50:0.95 | area=   all | maxDets= 10 ] = 0.283\n",
      " Average Recall     (AR) @[ IoU=0.50:0.95 | area=   all | maxDets=100 ] = 0.315\n",
      " Average Recall     (AR) @[ IoU=0.50:0.95 | area= small | maxDets=100 ] = 0.058\n",
      " Average Recall     (AR) @[ IoU=0.50:0.95 | area=medium | maxDets=100 ] = 0.184\n",
      " Average Recall     (AR) @[ IoU=0.50:0.95 | area= large | maxDets=100 ] = 0.357\n",
      "<coco_eval.CocoEvaluator object at 0x7827902238b0>\n"
     ]
    },
    {
     "name": "stderr",
     "output_type": "stream",
     "text": [
      "2024-12-26 01:04:31,426 - INFO - Checkpoint saved at epoch 0\n"
     ]
    },
    {
     "name": "stdout",
     "output_type": "stream",
     "text": [
      "Checkpoint saved at epoch 0\n",
      "Epoch: [1]  [  0/263]  eta: 0:03:44  lr: 0.000100  loss: 0.4166 (0.4166)  loss_classifier: 0.2112 (0.2112)  loss_box_reg: 0.1711 (0.1711)  loss_objectness: 0.0278 (0.0278)  loss_rpn_box_reg: 0.0066 (0.0066)  time: 0.8539  data: 0.0576  max mem: 6120\n",
      "Epoch: [1]  [ 20/263]  eta: 0:03:28  lr: 0.000100  loss: 0.3155 (0.3481)  loss_classifier: 0.1489 (0.1626)  loss_box_reg: 0.1408 (0.1536)  loss_objectness: 0.0210 (0.0238)  loss_rpn_box_reg: 0.0066 (0.0081)  time: 0.8592  data: 0.0631  max mem: 6120\n",
      "Epoch: [1]  [ 40/263]  eta: 0:03:11  lr: 0.000100  loss: 0.3327 (0.3290)  loss_classifier: 0.1405 (0.1505)  loss_box_reg: 0.1411 (0.1490)  loss_objectness: 0.0165 (0.0222)  loss_rpn_box_reg: 0.0068 (0.0074)  time: 0.8555  data: 0.0601  max mem: 6120\n",
      "Epoch: [1]  [ 60/263]  eta: 0:02:53  lr: 0.000100  loss: 0.3672 (0.3395)  loss_classifier: 0.1641 (0.1550)  loss_box_reg: 0.1588 (0.1531)  loss_objectness: 0.0235 (0.0237)  loss_rpn_box_reg: 0.0079 (0.0078)  time: 0.8511  data: 0.0566  max mem: 6120\n",
      "Epoch: [1]  [ 80/263]  eta: 0:02:36  lr: 0.000100  loss: 0.3135 (0.3418)  loss_classifier: 0.1542 (0.1547)  loss_box_reg: 0.1492 (0.1543)  loss_objectness: 0.0233 (0.0246)  loss_rpn_box_reg: 0.0073 (0.0082)  time: 0.8498  data: 0.0603  max mem: 6120\n",
      "Epoch: [1]  [100/263]  eta: 0:02:19  lr: 0.000100  loss: 0.3107 (0.3332)  loss_classifier: 0.1308 (0.1500)  loss_box_reg: 0.1312 (0.1507)  loss_objectness: 0.0177 (0.0242)  loss_rpn_box_reg: 0.0076 (0.0082)  time: 0.8554  data: 0.0596  max mem: 6120\n",
      "Epoch: [1]  [120/263]  eta: 0:02:02  lr: 0.000100  loss: 0.2988 (0.3272)  loss_classifier: 0.1234 (0.1459)  loss_box_reg: 0.1387 (0.1491)  loss_objectness: 0.0208 (0.0241)  loss_rpn_box_reg: 0.0082 (0.0082)  time: 0.8504  data: 0.0566  max mem: 6120\n",
      "Epoch: [1]  [140/263]  eta: 0:01:44  lr: 0.000100  loss: 0.2974 (0.3252)  loss_classifier: 0.1196 (0.1445)  loss_box_reg: 0.1496 (0.1489)  loss_objectness: 0.0149 (0.0237)  loss_rpn_box_reg: 0.0068 (0.0081)  time: 0.8516  data: 0.0564  max mem: 6120\n",
      "Epoch: [1]  [160/263]  eta: 0:01:27  lr: 0.000100  loss: 0.2617 (0.3207)  loss_classifier: 0.1132 (0.1424)  loss_box_reg: 0.1238 (0.1473)  loss_objectness: 0.0148 (0.0231)  loss_rpn_box_reg: 0.0067 (0.0080)  time: 0.8550  data: 0.0587  max mem: 6120\n",
      "Epoch: [1]  [180/263]  eta: 0:01:10  lr: 0.000100  loss: 0.3120 (0.3235)  loss_classifier: 0.1460 (0.1428)  loss_box_reg: 0.1616 (0.1495)  loss_objectness: 0.0225 (0.0231)  loss_rpn_box_reg: 0.0093 (0.0081)  time: 0.8560  data: 0.0605  max mem: 6120\n",
      "Epoch: [1]  [200/263]  eta: 0:00:53  lr: 0.000100  loss: 0.3057 (0.3256)  loss_classifier: 0.1267 (0.1427)  loss_box_reg: 0.1574 (0.1503)  loss_objectness: 0.0216 (0.0243)  loss_rpn_box_reg: 0.0080 (0.0083)  time: 0.8518  data: 0.0567  max mem: 6120\n",
      "Epoch: [1]  [220/263]  eta: 0:00:36  lr: 0.000100  loss: 0.2770 (0.3218)  loss_classifier: 0.1185 (0.1409)  loss_box_reg: 0.1319 (0.1488)  loss_objectness: 0.0180 (0.0240)  loss_rpn_box_reg: 0.0057 (0.0082)  time: 0.8521  data: 0.0580  max mem: 6120\n",
      "Epoch: [1]  [240/263]  eta: 0:00:19  lr: 0.000100  loss: 0.2418 (0.3174)  loss_classifier: 0.1007 (0.1389)  loss_box_reg: 0.1201 (0.1472)  loss_objectness: 0.0128 (0.0232)  loss_rpn_box_reg: 0.0060 (0.0081)  time: 0.8537  data: 0.0601  max mem: 6120\n",
      "Epoch: [1]  [260/263]  eta: 0:00:02  lr: 0.000100  loss: 0.2704 (0.3144)  loss_classifier: 0.1038 (0.1373)  loss_box_reg: 0.1366 (0.1464)  loss_objectness: 0.0162 (0.0227)  loss_rpn_box_reg: 0.0063 (0.0080)  time: 0.8521  data: 0.0575  max mem: 6120\n",
      "Epoch: [1]  [262/263]  eta: 0:00:00  lr: 0.000100  loss: 0.2704 (0.3144)  loss_classifier: 0.1038 (0.1373)  loss_box_reg: 0.1242 (0.1464)  loss_objectness: 0.0162 (0.0227)  loss_rpn_box_reg: 0.0063 (0.0080)  time: 0.8271  data: 0.0561  max mem: 6120\n",
      "Epoch: [1] Total time: 0:03:43 (0.8515 s / it)\n",
      "creating index...\n",
      "index created!\n",
      "Test:  [ 0/75]  eta: 0:00:34  model_time: 0.3774 (0.3774)  evaluator_time: 0.0103 (0.0103)  time: 0.4593  data: 0.0613  max mem: 6120\n",
      "Test:  [74/75]  eta: 0:00:00  model_time: 0.3658 (0.3656)  evaluator_time: 0.0153 (0.0157)  time: 0.4649  data: 0.0727  max mem: 6120\n",
      "Test: Total time: 0:00:34 (0.4615 s / it)\n",
      "Averaged stats: model_time: 0.3658 (0.3656)  evaluator_time: 0.0153 (0.0157)\n",
      "Accumulating evaluation results...\n"
     ]
    },
    {
     "name": "stderr",
     "output_type": "stream",
     "text": [
      "2024-12-26 01:08:55,064 - INFO - Evaluation results on validation set: <coco_eval.CocoEvaluator object at 0x7827916f1cf0>\n"
     ]
    },
    {
     "name": "stdout",
     "output_type": "stream",
     "text": [
      "DONE (t=0.36s).\n",
      "IoU metric: bbox\n",
      " Average Precision  (AP) @[ IoU=0.50:0.95 | area=   all | maxDets=100 ] = 0.214\n",
      " Average Precision  (AP) @[ IoU=0.50      | area=   all | maxDets=100 ] = 0.432\n",
      " Average Precision  (AP) @[ IoU=0.75      | area=   all | maxDets=100 ] = 0.186\n",
      " Average Precision  (AP) @[ IoU=0.50:0.95 | area= small | maxDets=100 ] = 0.060\n",
      " Average Precision  (AP) @[ IoU=0.50:0.95 | area=medium | maxDets=100 ] = 0.119\n",
      " Average Precision  (AP) @[ IoU=0.50:0.95 | area= large | maxDets=100 ] = 0.254\n",
      " Average Recall     (AR) @[ IoU=0.50:0.95 | area=   all | maxDets=  1 ] = 0.211\n",
      " Average Recall     (AR) @[ IoU=0.50:0.95 | area=   all | maxDets= 10 ] = 0.357\n",
      " Average Recall     (AR) @[ IoU=0.50:0.95 | area=   all | maxDets=100 ] = 0.380\n",
      " Average Recall     (AR) @[ IoU=0.50:0.95 | area= small | maxDets=100 ] = 0.170\n",
      " Average Recall     (AR) @[ IoU=0.50:0.95 | area=medium | maxDets=100 ] = 0.288\n",
      " Average Recall     (AR) @[ IoU=0.50:0.95 | area= large | maxDets=100 ] = 0.412\n",
      "<coco_eval.CocoEvaluator object at 0x7827916f1cf0>\n"
     ]
    },
    {
     "name": "stderr",
     "output_type": "stream",
     "text": [
      "2024-12-26 01:08:55,820 - INFO - Checkpoint saved at epoch 1\n"
     ]
    },
    {
     "name": "stdout",
     "output_type": "stream",
     "text": [
      "Checkpoint saved at epoch 1\n",
      "Epoch: [2]  [  0/263]  eta: 0:03:42  lr: 0.000100  loss: 0.1525 (0.1525)  loss_classifier: 0.0667 (0.0667)  loss_box_reg: 0.0689 (0.0689)  loss_objectness: 0.0118 (0.0118)  loss_rpn_box_reg: 0.0052 (0.0052)  time: 0.8476  data: 0.0549  max mem: 6120\n",
      "Epoch: [2]  [ 20/263]  eta: 0:03:27  lr: 0.000100  loss: 0.2771 (0.2926)  loss_classifier: 0.1133 (0.1237)  loss_box_reg: 0.1351 (0.1454)  loss_objectness: 0.0132 (0.0162)  loss_rpn_box_reg: 0.0067 (0.0072)  time: 0.8535  data: 0.0577  max mem: 6120\n",
      "Epoch: [2]  [ 40/263]  eta: 0:03:10  lr: 0.000100  loss: 0.2658 (0.2834)  loss_classifier: 0.1057 (0.1170)  loss_box_reg: 0.1312 (0.1452)  loss_objectness: 0.0094 (0.0141)  loss_rpn_box_reg: 0.0067 (0.0071)  time: 0.8544  data: 0.0578  max mem: 6120\n",
      "Epoch: [2]  [ 60/263]  eta: 0:02:53  lr: 0.000100  loss: 0.2265 (0.2679)  loss_classifier: 0.0903 (0.1100)  loss_box_reg: 0.1276 (0.1381)  loss_objectness: 0.0082 (0.0131)  loss_rpn_box_reg: 0.0050 (0.0067)  time: 0.8568  data: 0.0588  max mem: 6120\n",
      "Epoch: [2]  [ 80/263]  eta: 0:02:36  lr: 0.000100  loss: 0.2570 (0.2648)  loss_classifier: 0.1025 (0.1090)  loss_box_reg: 0.1221 (0.1364)  loss_objectness: 0.0108 (0.0128)  loss_rpn_box_reg: 0.0054 (0.0066)  time: 0.8525  data: 0.0573  max mem: 6120\n",
      "Epoch: [2]  [100/263]  eta: 0:02:19  lr: 0.000100  loss: 0.2362 (0.2634)  loss_classifier: 0.1010 (0.1080)  loss_box_reg: 0.1272 (0.1366)  loss_objectness: 0.0094 (0.0122)  loss_rpn_box_reg: 0.0065 (0.0066)  time: 0.8580  data: 0.0608  max mem: 6120\n",
      "Epoch: [2]  [120/263]  eta: 0:02:02  lr: 0.000100  loss: 0.2431 (0.2616)  loss_classifier: 0.0938 (0.1069)  loss_box_reg: 0.1288 (0.1354)  loss_objectness: 0.0087 (0.0126)  loss_rpn_box_reg: 0.0077 (0.0067)  time: 0.8546  data: 0.0588  max mem: 6120\n",
      "Epoch: [2]  [140/263]  eta: 0:01:45  lr: 0.000100  loss: 0.2131 (0.2557)  loss_classifier: 0.0862 (0.1045)  loss_box_reg: 0.0999 (0.1316)  loss_objectness: 0.0136 (0.0128)  loss_rpn_box_reg: 0.0066 (0.0067)  time: 0.8476  data: 0.0581  max mem: 6120\n",
      "Epoch: [2]  [160/263]  eta: 0:01:27  lr: 0.000100  loss: 0.2331 (0.2545)  loss_classifier: 0.0941 (0.1041)  loss_box_reg: 0.1154 (0.1315)  loss_objectness: 0.0094 (0.0124)  loss_rpn_box_reg: 0.0051 (0.0065)  time: 0.8515  data: 0.0566  max mem: 6120\n",
      "Epoch: [2]  [180/263]  eta: 0:01:10  lr: 0.000100  loss: 0.2624 (0.2542)  loss_classifier: 0.1004 (0.1040)  loss_box_reg: 0.1305 (0.1312)  loss_objectness: 0.0132 (0.0125)  loss_rpn_box_reg: 0.0055 (0.0066)  time: 0.8534  data: 0.0581  max mem: 6120\n",
      "Epoch: [2]  [200/263]  eta: 0:00:53  lr: 0.000100  loss: 0.2840 (0.2603)  loss_classifier: 0.1280 (0.1069)  loss_box_reg: 0.1190 (0.1330)  loss_objectness: 0.0201 (0.0136)  loss_rpn_box_reg: 0.0074 (0.0067)  time: 0.8540  data: 0.0577  max mem: 6120\n",
      "Epoch: [2]  [220/263]  eta: 0:00:36  lr: 0.000100  loss: 0.2401 (0.2592)  loss_classifier: 0.1051 (0.1065)  loss_box_reg: 0.1160 (0.1324)  loss_objectness: 0.0119 (0.0136)  loss_rpn_box_reg: 0.0059 (0.0067)  time: 0.8525  data: 0.0583  max mem: 6120\n",
      "Epoch: [2]  [240/263]  eta: 0:00:19  lr: 0.000100  loss: 0.2567 (0.2609)  loss_classifier: 0.1125 (0.1070)  loss_box_reg: 0.1329 (0.1331)  loss_objectness: 0.0129 (0.0140)  loss_rpn_box_reg: 0.0063 (0.0068)  time: 0.8545  data: 0.0592  max mem: 6120\n",
      "Epoch: [2]  [260/263]  eta: 0:00:02  lr: 0.000100  loss: 0.2455 (0.2602)  loss_classifier: 0.1015 (0.1069)  loss_box_reg: 0.1241 (0.1324)  loss_objectness: 0.0150 (0.0141)  loss_rpn_box_reg: 0.0064 (0.0068)  time: 0.8585  data: 0.0615  max mem: 6120\n",
      "Epoch: [2]  [262/263]  eta: 0:00:00  lr: 0.000100  loss: 0.2227 (0.2594)  loss_classifier: 0.0829 (0.1065)  loss_box_reg: 0.1224 (0.1320)  loss_objectness: 0.0134 (0.0140)  loss_rpn_box_reg: 0.0060 (0.0068)  time: 0.8333  data: 0.0605  max mem: 6120\n",
      "Epoch: [2] Total time: 0:03:44 (0.8521 s / it)\n",
      "creating index...\n",
      "index created!\n",
      "Test:  [ 0/75]  eta: 0:00:33  model_time: 0.3682 (0.3682)  evaluator_time: 0.0103 (0.0103)  time: 0.4439  data: 0.0564  max mem: 6120\n",
      "Test:  [74/75]  eta: 0:00:00  model_time: 0.3648 (0.3650)  evaluator_time: 0.0098 (0.0133)  time: 0.4609  data: 0.0669  max mem: 6120\n",
      "Test: Total time: 0:00:34 (0.4535 s / it)\n",
      "Averaged stats: model_time: 0.3648 (0.3650)  evaluator_time: 0.0098 (0.0133)\n",
      "Accumulating evaluation results...\n"
     ]
    },
    {
     "name": "stderr",
     "output_type": "stream",
     "text": [
      "2024-12-26 01:13:18,912 - INFO - Evaluation results on validation set: <coco_eval.CocoEvaluator object at 0x78286b30a6b0>\n"
     ]
    },
    {
     "name": "stdout",
     "output_type": "stream",
     "text": [
      "DONE (t=0.25s).\n",
      "IoU metric: bbox\n",
      " Average Precision  (AP) @[ IoU=0.50:0.95 | area=   all | maxDets=100 ] = 0.252\n",
      " Average Precision  (AP) @[ IoU=0.50      | area=   all | maxDets=100 ] = 0.469\n",
      " Average Precision  (AP) @[ IoU=0.75      | area=   all | maxDets=100 ] = 0.245\n",
      " Average Precision  (AP) @[ IoU=0.50:0.95 | area= small | maxDets=100 ] = 0.043\n",
      " Average Precision  (AP) @[ IoU=0.50:0.95 | area=medium | maxDets=100 ] = 0.128\n",
      " Average Precision  (AP) @[ IoU=0.50:0.95 | area= large | maxDets=100 ] = 0.300\n",
      " Average Recall     (AR) @[ IoU=0.50:0.95 | area=   all | maxDets=  1 ] = 0.247\n",
      " Average Recall     (AR) @[ IoU=0.50:0.95 | area=   all | maxDets= 10 ] = 0.369\n",
      " Average Recall     (AR) @[ IoU=0.50:0.95 | area=   all | maxDets=100 ] = 0.379\n",
      " Average Recall     (AR) @[ IoU=0.50:0.95 | area= small | maxDets=100 ] = 0.109\n",
      " Average Recall     (AR) @[ IoU=0.50:0.95 | area=medium | maxDets=100 ] = 0.247\n",
      " Average Recall     (AR) @[ IoU=0.50:0.95 | area= large | maxDets=100 ] = 0.425\n",
      "<coco_eval.CocoEvaluator object at 0x78286b30a6b0>\n"
     ]
    },
    {
     "name": "stderr",
     "output_type": "stream",
     "text": [
      "2024-12-26 01:13:19,567 - INFO - Checkpoint saved at epoch 2\n"
     ]
    },
    {
     "name": "stdout",
     "output_type": "stream",
     "text": [
      "Checkpoint saved at epoch 2\n",
      "Epoch: [3]  [  0/263]  eta: 0:03:42  lr: 0.000100  loss: 0.2171 (0.2171)  loss_classifier: 0.0807 (0.0807)  loss_box_reg: 0.1255 (0.1255)  loss_objectness: 0.0077 (0.0077)  loss_rpn_box_reg: 0.0032 (0.0032)  time: 0.8450  data: 0.0534  max mem: 6120\n",
      "Epoch: [3]  [ 20/263]  eta: 0:03:29  lr: 0.000100  loss: 0.1821 (0.1866)  loss_classifier: 0.0656 (0.0690)  loss_box_reg: 0.0993 (0.1048)  loss_objectness: 0.0069 (0.0078)  loss_rpn_box_reg: 0.0046 (0.0049)  time: 0.8628  data: 0.0615  max mem: 6120\n",
      "Epoch: [3]  [ 40/263]  eta: 0:03:11  lr: 0.000100  loss: 0.1729 (0.2020)  loss_classifier: 0.0719 (0.0765)  loss_box_reg: 0.0948 (0.1125)  loss_objectness: 0.0065 (0.0076)  loss_rpn_box_reg: 0.0052 (0.0055)  time: 0.8535  data: 0.0586  max mem: 6120\n",
      "Epoch: [3]  [ 60/263]  eta: 0:02:54  lr: 0.000100  loss: 0.2041 (0.2091)  loss_classifier: 0.0767 (0.0778)  loss_box_reg: 0.1181 (0.1181)  loss_objectness: 0.0074 (0.0077)  loss_rpn_box_reg: 0.0051 (0.0056)  time: 0.8562  data: 0.0591  max mem: 6120\n",
      "Epoch: [3]  [ 80/263]  eta: 0:02:36  lr: 0.000100  loss: 0.1787 (0.2093)  loss_classifier: 0.0683 (0.0773)  loss_box_reg: 0.1046 (0.1188)  loss_objectness: 0.0056 (0.0074)  loss_rpn_box_reg: 0.0053 (0.0058)  time: 0.8549  data: 0.0581  max mem: 6120\n",
      "Epoch: [3]  [100/263]  eta: 0:02:19  lr: 0.000100  loss: 0.1988 (0.2109)  loss_classifier: 0.0739 (0.0781)  loss_box_reg: 0.1185 (0.1190)  loss_objectness: 0.0077 (0.0078)  loss_rpn_box_reg: 0.0056 (0.0059)  time: 0.8541  data: 0.0578  max mem: 6120\n",
      "Epoch: [3]  [120/263]  eta: 0:02:02  lr: 0.000100  loss: 0.2062 (0.2117)  loss_classifier: 0.0777 (0.0790)  loss_box_reg: 0.1149 (0.1189)  loss_objectness: 0.0052 (0.0078)  loss_rpn_box_reg: 0.0055 (0.0059)  time: 0.8532  data: 0.0584  max mem: 6120\n",
      "Epoch: [3]  [140/263]  eta: 0:01:45  lr: 0.000100  loss: 0.1921 (0.2121)  loss_classifier: 0.0707 (0.0789)  loss_box_reg: 0.1128 (0.1197)  loss_objectness: 0.0048 (0.0075)  loss_rpn_box_reg: 0.0057 (0.0060)  time: 0.8561  data: 0.0595  max mem: 6120\n",
      "Epoch: [3]  [160/263]  eta: 0:01:28  lr: 0.000100  loss: 0.2013 (0.2112)  loss_classifier: 0.0765 (0.0790)  loss_box_reg: 0.1057 (0.1186)  loss_objectness: 0.0061 (0.0077)  loss_rpn_box_reg: 0.0053 (0.0059)  time: 0.8556  data: 0.0595  max mem: 6120\n",
      "Epoch: [3]  [180/263]  eta: 0:01:11  lr: 0.000100  loss: 0.1963 (0.2115)  loss_classifier: 0.0765 (0.0794)  loss_box_reg: 0.1028 (0.1185)  loss_objectness: 0.0054 (0.0077)  loss_rpn_box_reg: 0.0042 (0.0059)  time: 0.8544  data: 0.0578  max mem: 6120\n",
      "Epoch: [3]  [200/263]  eta: 0:00:53  lr: 0.000100  loss: 0.2106 (0.2127)  loss_classifier: 0.0787 (0.0798)  loss_box_reg: 0.1195 (0.1192)  loss_objectness: 0.0068 (0.0077)  loss_rpn_box_reg: 0.0051 (0.0059)  time: 0.8539  data: 0.0577  max mem: 6120\n",
      "Epoch: [3]  [220/263]  eta: 0:00:36  lr: 0.000100  loss: 0.1995 (0.2121)  loss_classifier: 0.0675 (0.0800)  loss_box_reg: 0.1109 (0.1184)  loss_objectness: 0.0087 (0.0078)  loss_rpn_box_reg: 0.0057 (0.0059)  time: 0.8581  data: 0.0627  max mem: 6120\n",
      "Epoch: [3]  [240/263]  eta: 0:00:19  lr: 0.000100  loss: 0.1952 (0.2123)  loss_classifier: 0.0713 (0.0801)  loss_box_reg: 0.1126 (0.1181)  loss_objectness: 0.0068 (0.0080)  loss_rpn_box_reg: 0.0060 (0.0060)  time: 0.8476  data: 0.0568  max mem: 6120\n",
      "Epoch: [3]  [260/263]  eta: 0:00:02  lr: 0.000100  loss: 0.2003 (0.2134)  loss_classifier: 0.0818 (0.0808)  loss_box_reg: 0.1024 (0.1184)  loss_objectness: 0.0106 (0.0083)  loss_rpn_box_reg: 0.0053 (0.0060)  time: 0.8541  data: 0.0581  max mem: 6120\n",
      "Epoch: [3]  [262/263]  eta: 0:00:00  lr: 0.000100  loss: 0.1986 (0.2131)  loss_classifier: 0.0817 (0.0807)  loss_box_reg: 0.1003 (0.1182)  loss_objectness: 0.0110 (0.0083)  loss_rpn_box_reg: 0.0047 (0.0059)  time: 0.8301  data: 0.0571  max mem: 6120\n",
      "Epoch: [3] Total time: 0:03:44 (0.8531 s / it)\n",
      "creating index...\n",
      "index created!\n",
      "Test:  [ 0/75]  eta: 0:00:33  model_time: 0.3706 (0.3706)  evaluator_time: 0.0102 (0.0102)  time: 0.4441  data: 0.0542  max mem: 6120\n",
      "Test:  [74/75]  eta: 0:00:00  model_time: 0.3670 (0.3665)  evaluator_time: 0.0111 (0.0119)  time: 0.4532  data: 0.0646  max mem: 6120\n",
      "Test: Total time: 0:00:34 (0.4535 s / it)\n",
      "Averaged stats: model_time: 0.3670 (0.3665)  evaluator_time: 0.0111 (0.0119)\n",
      "Accumulating evaluation results...\n"
     ]
    },
    {
     "name": "stderr",
     "output_type": "stream",
     "text": [
      "2024-12-26 01:17:42,738 - INFO - Evaluation results on validation set: <coco_eval.CocoEvaluator object at 0x782790b6f250>\n"
     ]
    },
    {
     "name": "stdout",
     "output_type": "stream",
     "text": [
      "DONE (t=0.26s).\n",
      "IoU metric: bbox\n",
      " Average Precision  (AP) @[ IoU=0.50:0.95 | area=   all | maxDets=100 ] = 0.260\n",
      " Average Precision  (AP) @[ IoU=0.50      | area=   all | maxDets=100 ] = 0.517\n",
      " Average Precision  (AP) @[ IoU=0.75      | area=   all | maxDets=100 ] = 0.243\n",
      " Average Precision  (AP) @[ IoU=0.50:0.95 | area= small | maxDets=100 ] = 0.055\n",
      " Average Precision  (AP) @[ IoU=0.50:0.95 | area=medium | maxDets=100 ] = 0.146\n",
      " Average Precision  (AP) @[ IoU=0.50:0.95 | area= large | maxDets=100 ] = 0.306\n",
      " Average Recall     (AR) @[ IoU=0.50:0.95 | area=   all | maxDets=  1 ] = 0.236\n",
      " Average Recall     (AR) @[ IoU=0.50:0.95 | area=   all | maxDets= 10 ] = 0.373\n",
      " Average Recall     (AR) @[ IoU=0.50:0.95 | area=   all | maxDets=100 ] = 0.386\n",
      " Average Recall     (AR) @[ IoU=0.50:0.95 | area= small | maxDets=100 ] = 0.161\n",
      " Average Recall     (AR) @[ IoU=0.50:0.95 | area=medium | maxDets=100 ] = 0.267\n",
      " Average Recall     (AR) @[ IoU=0.50:0.95 | area= large | maxDets=100 ] = 0.425\n",
      "<coco_eval.CocoEvaluator object at 0x782790b6f250>\n"
     ]
    },
    {
     "name": "stderr",
     "output_type": "stream",
     "text": [
      "2024-12-26 01:17:43,367 - INFO - Checkpoint saved at epoch 3\n"
     ]
    },
    {
     "name": "stdout",
     "output_type": "stream",
     "text": [
      "Checkpoint saved at epoch 3\n",
      "Epoch: [4]  [  0/263]  eta: 0:03:48  lr: 0.000100  loss: 0.1412 (0.1412)  loss_classifier: 0.0511 (0.0511)  loss_box_reg: 0.0757 (0.0757)  loss_objectness: 0.0114 (0.0114)  loss_rpn_box_reg: 0.0030 (0.0030)  time: 0.8699  data: 0.0691  max mem: 6120\n",
      "Epoch: [4]  [ 20/263]  eta: 0:03:29  lr: 0.000100  loss: 0.1391 (0.1503)  loss_classifier: 0.0452 (0.0498)  loss_box_reg: 0.0819 (0.0899)  loss_objectness: 0.0043 (0.0058)  loss_rpn_box_reg: 0.0044 (0.0048)  time: 0.8607  data: 0.0607  max mem: 6120\n",
      "Epoch: [4]  [ 40/263]  eta: 0:03:11  lr: 0.000100  loss: 0.1784 (0.1668)  loss_classifier: 0.0554 (0.0566)  loss_box_reg: 0.1078 (0.0993)  loss_objectness: 0.0046 (0.0061)  loss_rpn_box_reg: 0.0044 (0.0049)  time: 0.8546  data: 0.0586  max mem: 6120\n",
      "Epoch: [4]  [ 60/263]  eta: 0:02:54  lr: 0.000100  loss: 0.1529 (0.1674)  loss_classifier: 0.0532 (0.0574)  loss_box_reg: 0.0942 (0.0997)  loss_objectness: 0.0037 (0.0056)  loss_rpn_box_reg: 0.0045 (0.0048)  time: 0.8597  data: 0.0634  max mem: 6120\n",
      "Epoch: [4]  [ 80/263]  eta: 0:02:37  lr: 0.000100  loss: 0.1775 (0.1725)  loss_classifier: 0.0635 (0.0591)  loss_box_reg: 0.1032 (0.1022)  loss_objectness: 0.0053 (0.0059)  loss_rpn_box_reg: 0.0051 (0.0052)  time: 0.8565  data: 0.0595  max mem: 6120\n",
      "Epoch: [4]  [100/263]  eta: 0:02:19  lr: 0.000100  loss: 0.1405 (0.1710)  loss_classifier: 0.0538 (0.0593)  loss_box_reg: 0.0784 (0.1008)  loss_objectness: 0.0038 (0.0058)  loss_rpn_box_reg: 0.0035 (0.0051)  time: 0.8511  data: 0.0599  max mem: 6120\n",
      "Epoch: [4]  [120/263]  eta: 0:02:02  lr: 0.000100  loss: 0.1593 (0.1710)  loss_classifier: 0.0536 (0.0597)  loss_box_reg: 0.0895 (0.1006)  loss_objectness: 0.0041 (0.0057)  loss_rpn_box_reg: 0.0037 (0.0050)  time: 0.8561  data: 0.0608  max mem: 6120\n",
      "Epoch: [4]  [140/263]  eta: 0:01:45  lr: 0.000100  loss: 0.1781 (0.1733)  loss_classifier: 0.0613 (0.0604)  loss_box_reg: 0.1046 (0.1021)  loss_objectness: 0.0050 (0.0057)  loss_rpn_box_reg: 0.0049 (0.0051)  time: 0.8509  data: 0.0569  max mem: 6120\n",
      "Epoch: [4]  [160/263]  eta: 0:01:28  lr: 0.000100  loss: 0.1563 (0.1739)  loss_classifier: 0.0615 (0.0610)  loss_box_reg: 0.0954 (0.1021)  loss_objectness: 0.0045 (0.0056)  loss_rpn_box_reg: 0.0051 (0.0051)  time: 0.8563  data: 0.0609  max mem: 6120\n",
      "Epoch: [4]  [180/263]  eta: 0:01:10  lr: 0.000100  loss: 0.1641 (0.1745)  loss_classifier: 0.0528 (0.0607)  loss_box_reg: 0.1047 (0.1030)  loss_objectness: 0.0049 (0.0057)  loss_rpn_box_reg: 0.0049 (0.0052)  time: 0.8506  data: 0.0558  max mem: 6120\n",
      "Epoch: [4]  [200/263]  eta: 0:00:53  lr: 0.000100  loss: 0.1588 (0.1758)  loss_classifier: 0.0611 (0.0613)  loss_box_reg: 0.0910 (0.1037)  loss_objectness: 0.0041 (0.0056)  loss_rpn_box_reg: 0.0052 (0.0052)  time: 0.8537  data: 0.0590  max mem: 6120\n",
      "Epoch: [4]  [220/263]  eta: 0:00:36  lr: 0.000100  loss: 0.1571 (0.1765)  loss_classifier: 0.0567 (0.0616)  loss_box_reg: 0.0975 (0.1042)  loss_objectness: 0.0041 (0.0056)  loss_rpn_box_reg: 0.0042 (0.0052)  time: 0.8539  data: 0.0590  max mem: 6120\n",
      "Epoch: [4]  [240/263]  eta: 0:00:19  lr: 0.000100  loss: 0.1597 (0.1757)  loss_classifier: 0.0531 (0.0612)  loss_box_reg: 0.1012 (0.1039)  loss_objectness: 0.0040 (0.0055)  loss_rpn_box_reg: 0.0042 (0.0051)  time: 0.8524  data: 0.0571  max mem: 6120\n",
      "Epoch: [4]  [260/263]  eta: 0:00:02  lr: 0.000100  loss: 0.1720 (0.1758)  loss_classifier: 0.0604 (0.0612)  loss_box_reg: 0.1086 (0.1041)  loss_objectness: 0.0042 (0.0054)  loss_rpn_box_reg: 0.0050 (0.0051)  time: 0.8545  data: 0.0573  max mem: 6120\n",
      "Epoch: [4]  [262/263]  eta: 0:00:00  lr: 0.000100  loss: 0.1714 (0.1761)  loss_classifier: 0.0615 (0.0613)  loss_box_reg: 0.1051 (0.1042)  loss_objectness: 0.0042 (0.0055)  loss_rpn_box_reg: 0.0047 (0.0051)  time: 0.8299  data: 0.0560  max mem: 6120\n",
      "Epoch: [4] Total time: 0:03:44 (0.8530 s / it)\n",
      "creating index...\n",
      "index created!\n",
      "Test:  [ 0/75]  eta: 0:00:33  model_time: 0.3750 (0.3750)  evaluator_time: 0.0069 (0.0069)  time: 0.4472  data: 0.0563  max mem: 6120\n",
      "Test:  [74/75]  eta: 0:00:00  model_time: 0.3662 (0.3651)  evaluator_time: 0.0085 (0.0087)  time: 0.4506  data: 0.0650  max mem: 6120\n",
      "Test: Total time: 0:00:33 (0.4489 s / it)\n",
      "Averaged stats: model_time: 0.3662 (0.3651)  evaluator_time: 0.0085 (0.0087)\n",
      "Accumulating evaluation results...\n",
      "DONE (t=0.19s).\n",
      "IoU metric: bbox\n",
      " Average Precision  (AP) @[ IoU=0.50:0.95 | area=   all | maxDets=100 ] = 0.275\n",
      " Average Precision  (AP) @[ IoU=0.50      | area=   all | maxDets=100 ] = 0.517\n",
      " Average Precision  (AP) @[ IoU=0.75      | area=   all | maxDets=100 ] = 0.268\n",
      " Average Precision  (AP) @[ IoU=0.50:0.95 | area= small | maxDets=100 ] = 0.054\n",
      " Average Precision  (AP) @[ IoU=0.50:0.95 | area=medium | maxDets=100 ] = 0.135\n",
      " Average Precision  (AP) @[ IoU=0.50:0.95 | area= large | maxDets=100 ] = 0.325\n",
      " Average Recall     (AR) @[ IoU=0.50:0.95 | area=   all | maxDets=  1 ] = 0.253\n",
      " Average Recall     (AR) @[ IoU=0.50:0.95 | area=   all | maxDets= 10 ] = 0.376\n",
      " Average Recall     (AR) @[ IoU=0.50:0.95 | area=   all | maxDets=100 ] = 0.384\n",
      " Average Recall     (AR) @[ IoU=0.50:0.95 | area= small | maxDets=100 ] = 0.103\n",
      " Average Recall     (AR) @[ IoU=0.50:0.95 | area=medium | maxDets=100 ] = 0.236\n",
      " Average Recall     (AR) @[ IoU=0.50:0.95 | area= large | maxDets=100 ] = 0.434\n"
     ]
    },
    {
     "name": "stderr",
     "output_type": "stream",
     "text": [
      "2024-12-26 01:22:06,729 - INFO - Evaluation results on validation set: <coco_eval.CocoEvaluator object at 0x7827916f1cf0>\n"
     ]
    },
    {
     "name": "stdout",
     "output_type": "stream",
     "text": [
      "<coco_eval.CocoEvaluator object at 0x7827916f1cf0>\n"
     ]
    },
    {
     "name": "stderr",
     "output_type": "stream",
     "text": [
      "2024-12-26 01:22:07,360 - INFO - Checkpoint saved at epoch 4\n"
     ]
    },
    {
     "name": "stdout",
     "output_type": "stream",
     "text": [
      "Checkpoint saved at epoch 4\n",
      "Epoch: [5]  [  0/263]  eta: 0:03:46  lr: 0.000100  loss: 0.1193 (0.1193)  loss_classifier: 0.0388 (0.0388)  loss_box_reg: 0.0758 (0.0758)  loss_objectness: 0.0017 (0.0017)  loss_rpn_box_reg: 0.0031 (0.0031)  time: 0.8608  data: 0.0605  max mem: 6120\n",
      "Epoch: [5]  [ 20/263]  eta: 0:03:28  lr: 0.000100  loss: 0.1495 (0.1566)  loss_classifier: 0.0479 (0.0521)  loss_box_reg: 0.0878 (0.0963)  loss_objectness: 0.0035 (0.0040)  loss_rpn_box_reg: 0.0037 (0.0042)  time: 0.8566  data: 0.0596  max mem: 6120\n",
      "Epoch: [5]  [ 40/263]  eta: 0:03:11  lr: 0.000100  loss: 0.1513 (0.1600)  loss_classifier: 0.0557 (0.0547)  loss_box_reg: 0.0920 (0.0972)  loss_objectness: 0.0029 (0.0039)  loss_rpn_box_reg: 0.0037 (0.0042)  time: 0.8571  data: 0.0603  max mem: 6120\n",
      "Epoch: [5]  [ 60/263]  eta: 0:02:53  lr: 0.000100  loss: 0.1285 (0.1524)  loss_classifier: 0.0422 (0.0516)  loss_box_reg: 0.0727 (0.0928)  loss_objectness: 0.0023 (0.0037)  loss_rpn_box_reg: 0.0034 (0.0042)  time: 0.8535  data: 0.0581  max mem: 6120\n",
      "Epoch: [5]  [ 80/263]  eta: 0:02:36  lr: 0.000100  loss: 0.1355 (0.1497)  loss_classifier: 0.0400 (0.0500)  loss_box_reg: 0.0907 (0.0920)  loss_objectness: 0.0026 (0.0035)  loss_rpn_box_reg: 0.0046 (0.0043)  time: 0.8553  data: 0.0585  max mem: 6120\n",
      "Epoch: [5]  [100/263]  eta: 0:02:19  lr: 0.000100  loss: 0.1314 (0.1481)  loss_classifier: 0.0396 (0.0489)  loss_box_reg: 0.0885 (0.0914)  loss_objectness: 0.0017 (0.0035)  loss_rpn_box_reg: 0.0040 (0.0043)  time: 0.8545  data: 0.0584  max mem: 6120\n",
      "Epoch: [5]  [120/263]  eta: 0:02:02  lr: 0.000100  loss: 0.1338 (0.1472)  loss_classifier: 0.0419 (0.0485)  loss_box_reg: 0.0875 (0.0909)  loss_objectness: 0.0022 (0.0034)  loss_rpn_box_reg: 0.0040 (0.0044)  time: 0.8528  data: 0.0572  max mem: 6120\n",
      "Epoch: [5]  [140/263]  eta: 0:01:45  lr: 0.000100  loss: 0.1425 (0.1461)  loss_classifier: 0.0478 (0.0481)  loss_box_reg: 0.0845 (0.0902)  loss_objectness: 0.0032 (0.0035)  loss_rpn_box_reg: 0.0039 (0.0044)  time: 0.8535  data: 0.0573  max mem: 6120\n",
      "Epoch: [5]  [160/263]  eta: 0:01:28  lr: 0.000100  loss: 0.1215 (0.1461)  loss_classifier: 0.0387 (0.0483)  loss_box_reg: 0.0833 (0.0899)  loss_objectness: 0.0030 (0.0035)  loss_rpn_box_reg: 0.0040 (0.0044)  time: 0.8529  data: 0.0562  max mem: 6120\n",
      "Epoch: [5]  [180/263]  eta: 0:01:10  lr: 0.000100  loss: 0.1369 (0.1459)  loss_classifier: 0.0451 (0.0482)  loss_box_reg: 0.0783 (0.0895)  loss_objectness: 0.0024 (0.0037)  loss_rpn_box_reg: 0.0039 (0.0044)  time: 0.8499  data: 0.0558  max mem: 6120\n",
      "Epoch: [5]  [200/263]  eta: 0:00:53  lr: 0.000100  loss: 0.1411 (0.1459)  loss_classifier: 0.0468 (0.0481)  loss_box_reg: 0.0837 (0.0895)  loss_objectness: 0.0033 (0.0037)  loss_rpn_box_reg: 0.0040 (0.0045)  time: 0.8573  data: 0.0613  max mem: 6120\n",
      "Epoch: [5]  [220/263]  eta: 0:00:36  lr: 0.000100  loss: 0.1281 (0.1454)  loss_classifier: 0.0405 (0.0479)  loss_box_reg: 0.0846 (0.0894)  loss_objectness: 0.0031 (0.0037)  loss_rpn_box_reg: 0.0038 (0.0045)  time: 0.8569  data: 0.0615  max mem: 6120\n",
      "Epoch: [5]  [240/263]  eta: 0:00:19  lr: 0.000100  loss: 0.1561 (0.1464)  loss_classifier: 0.0494 (0.0480)  loss_box_reg: 0.0955 (0.0902)  loss_objectness: 0.0031 (0.0037)  loss_rpn_box_reg: 0.0043 (0.0045)  time: 0.8556  data: 0.0604  max mem: 6120\n",
      "Epoch: [5]  [260/263]  eta: 0:00:02  lr: 0.000100  loss: 0.1244 (0.1460)  loss_classifier: 0.0424 (0.0477)  loss_box_reg: 0.0756 (0.0900)  loss_objectness: 0.0022 (0.0037)  loss_rpn_box_reg: 0.0042 (0.0045)  time: 0.8526  data: 0.0601  max mem: 6120\n",
      "Epoch: [5]  [262/263]  eta: 0:00:00  lr: 0.000100  loss: 0.1395 (0.1463)  loss_classifier: 0.0438 (0.0478)  loss_box_reg: 0.0863 (0.0903)  loss_objectness: 0.0022 (0.0037)  loss_rpn_box_reg: 0.0046 (0.0045)  time: 0.8279  data: 0.0587  max mem: 6120\n",
      "Epoch: [5] Total time: 0:03:44 (0.8527 s / it)\n",
      "creating index...\n",
      "index created!\n",
      "Test:  [ 0/75]  eta: 0:00:33  model_time: 0.3745 (0.3745)  evaluator_time: 0.0069 (0.0069)  time: 0.4461  data: 0.0555  max mem: 6120\n",
      "Test:  [74/75]  eta: 0:00:00  model_time: 0.3663 (0.3664)  evaluator_time: 0.0081 (0.0084)  time: 0.4501  data: 0.0646  max mem: 6120\n",
      "Test: Total time: 0:00:33 (0.4504 s / it)\n",
      "Averaged stats: model_time: 0.3663 (0.3664)  evaluator_time: 0.0081 (0.0084)\n",
      "Accumulating evaluation results...\n",
      "DONE (t=0.19s).\n",
      "IoU metric: bbox\n",
      " Average Precision  (AP) @[ IoU=0.50:0.95 | area=   all | maxDets=100 ] = 0.290\n",
      " Average Precision  (AP) @[ IoU=0.50      | area=   all | maxDets=100 ] = 0.518\n",
      " Average Precision  (AP) @[ IoU=0.75      | area=   all | maxDets=100 ] = 0.295\n",
      " Average Precision  (AP) @[ IoU=0.50:0.95 | area= small | maxDets=100 ] = 0.077\n",
      " Average Precision  (AP) @[ IoU=0.50:0.95 | area=medium | maxDets=100 ] = 0.139\n",
      " Average Precision  (AP) @[ IoU=0.50:0.95 | area= large | maxDets=100 ] = 0.348\n",
      " Average Recall     (AR) @[ IoU=0.50:0.95 | area=   all | maxDets=  1 ] = 0.254\n",
      " Average Recall     (AR) @[ IoU=0.50:0.95 | area=   all | maxDets= 10 ] = 0.386\n",
      " Average Recall     (AR) @[ IoU=0.50:0.95 | area=   all | maxDets=100 ] = 0.389\n",
      " Average Recall     (AR) @[ IoU=0.50:0.95 | area= small | maxDets=100 ] = 0.139\n",
      " Average Recall     (AR) @[ IoU=0.50:0.95 | area=medium | maxDets=100 ] = 0.264\n",
      " Average Recall     (AR) @[ IoU=0.50:0.95 | area= large | maxDets=100 ] = 0.435\n"
     ]
    },
    {
     "name": "stderr",
     "output_type": "stream",
     "text": [
      "2024-12-26 01:26:30,327 - INFO - Evaluation results on validation set: <coco_eval.CocoEvaluator object at 0x782790b00d00>\n"
     ]
    },
    {
     "name": "stdout",
     "output_type": "stream",
     "text": [
      "<coco_eval.CocoEvaluator object at 0x782790b00d00>\n"
     ]
    },
    {
     "name": "stderr",
     "output_type": "stream",
     "text": [
      "2024-12-26 01:26:31,111 - INFO - Checkpoint saved at epoch 5\n"
     ]
    },
    {
     "name": "stdout",
     "output_type": "stream",
     "text": [
      "Checkpoint saved at epoch 5\n",
      "Epoch: [6]  [  0/263]  eta: 0:03:41  lr: 0.000100  loss: 0.1615 (0.1615)  loss_classifier: 0.0465 (0.0465)  loss_box_reg: 0.1085 (0.1085)  loss_objectness: 0.0030 (0.0030)  loss_rpn_box_reg: 0.0035 (0.0035)  time: 0.8436  data: 0.0518  max mem: 6120\n",
      "Epoch: [6]  [ 20/263]  eta: 0:03:27  lr: 0.000100  loss: 0.1174 (0.1311)  loss_classifier: 0.0381 (0.0425)  loss_box_reg: 0.0748 (0.0805)  loss_objectness: 0.0026 (0.0040)  loss_rpn_box_reg: 0.0033 (0.0040)  time: 0.8536  data: 0.0572  max mem: 6120\n",
      "Epoch: [6]  [ 40/263]  eta: 0:03:10  lr: 0.000100  loss: 0.0965 (0.1225)  loss_classifier: 0.0314 (0.0379)  loss_box_reg: 0.0657 (0.0768)  loss_objectness: 0.0021 (0.0037)  loss_rpn_box_reg: 0.0036 (0.0042)  time: 0.8570  data: 0.0614  max mem: 6120\n",
      "Epoch: [6]  [ 60/263]  eta: 0:02:53  lr: 0.000100  loss: 0.1214 (0.1241)  loss_classifier: 0.0355 (0.0385)  loss_box_reg: 0.0763 (0.0781)  loss_objectness: 0.0022 (0.0033)  loss_rpn_box_reg: 0.0040 (0.0042)  time: 0.8553  data: 0.0567  max mem: 6120\n",
      "Epoch: [6]  [ 80/263]  eta: 0:02:36  lr: 0.000100  loss: 0.1139 (0.1242)  loss_classifier: 0.0362 (0.0386)  loss_box_reg: 0.0741 (0.0785)  loss_objectness: 0.0022 (0.0032)  loss_rpn_box_reg: 0.0035 (0.0040)  time: 0.8526  data: 0.0565  max mem: 6120\n",
      "Epoch: [6]  [100/263]  eta: 0:02:19  lr: 0.000100  loss: 0.1154 (0.1245)  loss_classifier: 0.0345 (0.0383)  loss_box_reg: 0.0835 (0.0792)  loss_objectness: 0.0014 (0.0030)  loss_rpn_box_reg: 0.0034 (0.0041)  time: 0.8557  data: 0.0585  max mem: 6120\n",
      "Epoch: [6]  [120/263]  eta: 0:02:02  lr: 0.000100  loss: 0.1307 (0.1259)  loss_classifier: 0.0382 (0.0387)  loss_box_reg: 0.0867 (0.0798)  loss_objectness: 0.0033 (0.0032)  loss_rpn_box_reg: 0.0043 (0.0041)  time: 0.8535  data: 0.0563  max mem: 6120\n",
      "Epoch: [6]  [140/263]  eta: 0:01:45  lr: 0.000100  loss: 0.0954 (0.1233)  loss_classifier: 0.0296 (0.0379)  loss_box_reg: 0.0601 (0.0781)  loss_objectness: 0.0023 (0.0031)  loss_rpn_box_reg: 0.0041 (0.0042)  time: 0.8522  data: 0.0596  max mem: 6120\n",
      "Epoch: [6]  [160/263]  eta: 0:01:27  lr: 0.000100  loss: 0.1248 (0.1254)  loss_classifier: 0.0391 (0.0386)  loss_box_reg: 0.0765 (0.0793)  loss_objectness: 0.0032 (0.0033)  loss_rpn_box_reg: 0.0040 (0.0042)  time: 0.8549  data: 0.0586  max mem: 6120\n",
      "Epoch: [6]  [180/263]  eta: 0:01:10  lr: 0.000100  loss: 0.1067 (0.1266)  loss_classifier: 0.0412 (0.0392)  loss_box_reg: 0.0674 (0.0800)  loss_objectness: 0.0020 (0.0033)  loss_rpn_box_reg: 0.0032 (0.0041)  time: 0.8553  data: 0.0573  max mem: 6120\n",
      "Epoch: [6]  [200/263]  eta: 0:00:53  lr: 0.000100  loss: 0.1184 (0.1275)  loss_classifier: 0.0361 (0.0393)  loss_box_reg: 0.0775 (0.0809)  loss_objectness: 0.0021 (0.0032)  loss_rpn_box_reg: 0.0038 (0.0041)  time: 0.8554  data: 0.0581  max mem: 6120\n",
      "Epoch: [6]  [220/263]  eta: 0:00:36  lr: 0.000100  loss: 0.1064 (0.1274)  loss_classifier: 0.0305 (0.0390)  loss_box_reg: 0.0666 (0.0811)  loss_objectness: 0.0019 (0.0031)  loss_rpn_box_reg: 0.0034 (0.0041)  time: 0.8521  data: 0.0560  max mem: 6120\n",
      "Epoch: [6]  [240/263]  eta: 0:00:19  lr: 0.000100  loss: 0.1101 (0.1273)  loss_classifier: 0.0343 (0.0391)  loss_box_reg: 0.0693 (0.0811)  loss_objectness: 0.0018 (0.0031)  loss_rpn_box_reg: 0.0041 (0.0041)  time: 0.8559  data: 0.0608  max mem: 6120\n",
      "Epoch: [6]  [260/263]  eta: 0:00:02  lr: 0.000100  loss: 0.1158 (0.1274)  loss_classifier: 0.0355 (0.0390)  loss_box_reg: 0.0738 (0.0812)  loss_objectness: 0.0019 (0.0031)  loss_rpn_box_reg: 0.0038 (0.0041)  time: 0.8537  data: 0.0576  max mem: 6120\n",
      "Epoch: [6]  [262/263]  eta: 0:00:00  lr: 0.000100  loss: 0.1158 (0.1272)  loss_classifier: 0.0353 (0.0388)  loss_box_reg: 0.0738 (0.0811)  loss_objectness: 0.0019 (0.0031)  loss_rpn_box_reg: 0.0038 (0.0041)  time: 0.8287  data: 0.0558  max mem: 6120\n",
      "Epoch: [6] Total time: 0:03:44 (0.8525 s / it)\n",
      "creating index...\n",
      "index created!\n",
      "Test:  [ 0/75]  eta: 0:00:34  model_time: 0.3797 (0.3797)  evaluator_time: 0.0056 (0.0056)  time: 0.4636  data: 0.0689  max mem: 6120\n"
     ]
    },
    {
     "name": "stderr",
     "output_type": "stream",
     "text": [
      "2024-12-26 01:30:53,824 - INFO - Evaluation results on validation set: <coco_eval.CocoEvaluator object at 0x7827916f14e0>\n"
     ]
    },
    {
     "name": "stdout",
     "output_type": "stream",
     "text": [
      "Test:  [74/75]  eta: 0:00:00  model_time: 0.3660 (0.3666)  evaluator_time: 0.0055 (0.0063)  time: 0.4474  data: 0.0653  max mem: 6120\n",
      "Test: Total time: 0:00:33 (0.4479 s / it)\n",
      "Averaged stats: model_time: 0.3660 (0.3666)  evaluator_time: 0.0055 (0.0063)\n",
      "Accumulating evaluation results...\n",
      "DONE (t=0.11s).\n",
      "IoU metric: bbox\n",
      " Average Precision  (AP) @[ IoU=0.50:0.95 | area=   all | maxDets=100 ] = 0.284\n",
      " Average Precision  (AP) @[ IoU=0.50      | area=   all | maxDets=100 ] = 0.509\n",
      " Average Precision  (AP) @[ IoU=0.75      | area=   all | maxDets=100 ] = 0.290\n",
      " Average Precision  (AP) @[ IoU=0.50:0.95 | area= small | maxDets=100 ] = 0.019\n",
      " Average Precision  (AP) @[ IoU=0.50:0.95 | area=medium | maxDets=100 ] = 0.144\n",
      " Average Precision  (AP) @[ IoU=0.50:0.95 | area= large | maxDets=100 ] = 0.338\n",
      " Average Recall     (AR) @[ IoU=0.50:0.95 | area=   all | maxDets=  1 ] = 0.260\n",
      " Average Recall     (AR) @[ IoU=0.50:0.95 | area=   all | maxDets= 10 ] = 0.356\n",
      " Average Recall     (AR) @[ IoU=0.50:0.95 | area=   all | maxDets=100 ] = 0.358\n",
      " Average Recall     (AR) @[ IoU=0.50:0.95 | area= small | maxDets=100 ] = 0.028\n",
      " Average Recall     (AR) @[ IoU=0.50:0.95 | area=medium | maxDets=100 ] = 0.195\n",
      " Average Recall     (AR) @[ IoU=0.50:0.95 | area= large | maxDets=100 ] = 0.418\n",
      "<coco_eval.CocoEvaluator object at 0x7827916f14e0>\n"
     ]
    },
    {
     "name": "stderr",
     "output_type": "stream",
     "text": [
      "2024-12-26 01:30:54,541 - INFO - Checkpoint saved at epoch 6\n"
     ]
    },
    {
     "name": "stdout",
     "output_type": "stream",
     "text": [
      "Checkpoint saved at epoch 6\n",
      "Epoch: [7]  [  0/263]  eta: 0:03:53  lr: 0.000100  loss: 0.1666 (0.1666)  loss_classifier: 0.0521 (0.0521)  loss_box_reg: 0.1043 (0.1043)  loss_objectness: 0.0044 (0.0044)  loss_rpn_box_reg: 0.0058 (0.0058)  time: 0.8870  data: 0.0902  max mem: 6120\n",
      "Epoch: [7]  [ 20/263]  eta: 0:03:28  lr: 0.000100  loss: 0.0939 (0.1135)  loss_classifier: 0.0298 (0.0337)  loss_box_reg: 0.0663 (0.0737)  loss_objectness: 0.0017 (0.0023)  loss_rpn_box_reg: 0.0030 (0.0037)  time: 0.8552  data: 0.0579  max mem: 6120\n",
      "Epoch: [7]  [ 40/263]  eta: 0:03:11  lr: 0.000100  loss: 0.0894 (0.1090)  loss_classifier: 0.0261 (0.0313)  loss_box_reg: 0.0574 (0.0722)  loss_objectness: 0.0015 (0.0020)  loss_rpn_box_reg: 0.0032 (0.0035)  time: 0.8622  data: 0.0657  max mem: 6120\n",
      "Epoch: [7]  [ 60/263]  eta: 0:02:54  lr: 0.000100  loss: 0.1154 (0.1144)  loss_classifier: 0.0327 (0.0323)  loss_box_reg: 0.0795 (0.0761)  loss_objectness: 0.0016 (0.0021)  loss_rpn_box_reg: 0.0036 (0.0039)  time: 0.8586  data: 0.0625  max mem: 6120\n",
      "Epoch: [7]  [ 80/263]  eta: 0:02:37  lr: 0.000100  loss: 0.0967 (0.1130)  loss_classifier: 0.0279 (0.0319)  loss_box_reg: 0.0632 (0.0753)  loss_objectness: 0.0016 (0.0021)  loss_rpn_box_reg: 0.0029 (0.0038)  time: 0.8554  data: 0.0594  max mem: 6120\n",
      "Epoch: [7]  [100/263]  eta: 0:02:19  lr: 0.000100  loss: 0.0922 (0.1111)  loss_classifier: 0.0288 (0.0319)  loss_box_reg: 0.0566 (0.0735)  loss_objectness: 0.0012 (0.0021)  loss_rpn_box_reg: 0.0025 (0.0036)  time: 0.8549  data: 0.0589  max mem: 6120\n",
      "Epoch: [7]  [120/263]  eta: 0:02:02  lr: 0.000100  loss: 0.1066 (0.1116)  loss_classifier: 0.0305 (0.0320)  loss_box_reg: 0.0669 (0.0738)  loss_objectness: 0.0018 (0.0022)  loss_rpn_box_reg: 0.0032 (0.0036)  time: 0.8560  data: 0.0600  max mem: 6120\n",
      "Epoch: [7]  [140/263]  eta: 0:01:45  lr: 0.000100  loss: 0.1045 (0.1111)  loss_classifier: 0.0301 (0.0319)  loss_box_reg: 0.0687 (0.0734)  loss_objectness: 0.0013 (0.0021)  loss_rpn_box_reg: 0.0034 (0.0036)  time: 0.8596  data: 0.0640  max mem: 6120\n",
      "Epoch: [7]  [160/263]  eta: 0:01:28  lr: 0.000100  loss: 0.1429 (0.1140)  loss_classifier: 0.0355 (0.0327)  loss_box_reg: 0.0985 (0.0755)  loss_objectness: 0.0017 (0.0021)  loss_rpn_box_reg: 0.0034 (0.0037)  time: 0.8552  data: 0.0571  max mem: 6120\n",
      "Epoch: [7]  [180/263]  eta: 0:01:11  lr: 0.000100  loss: 0.1196 (0.1145)  loss_classifier: 0.0350 (0.0328)  loss_box_reg: 0.0771 (0.0758)  loss_objectness: 0.0016 (0.0021)  loss_rpn_box_reg: 0.0036 (0.0037)  time: 0.8492  data: 0.0582  max mem: 6120\n",
      "Epoch: [7]  [200/263]  eta: 0:00:53  lr: 0.000100  loss: 0.0956 (0.1132)  loss_classifier: 0.0292 (0.0326)  loss_box_reg: 0.0570 (0.0749)  loss_objectness: 0.0018 (0.0021)  loss_rpn_box_reg: 0.0030 (0.0037)  time: 0.8584  data: 0.0609  max mem: 6120\n",
      "Epoch: [7]  [220/263]  eta: 0:00:36  lr: 0.000100  loss: 0.0948 (0.1124)  loss_classifier: 0.0277 (0.0323)  loss_box_reg: 0.0586 (0.0743)  loss_objectness: 0.0014 (0.0022)  loss_rpn_box_reg: 0.0029 (0.0037)  time: 0.8556  data: 0.0581  max mem: 6120\n",
      "Epoch: [7]  [240/263]  eta: 0:00:19  lr: 0.000100  loss: 0.1004 (0.1116)  loss_classifier: 0.0310 (0.0321)  loss_box_reg: 0.0666 (0.0737)  loss_objectness: 0.0016 (0.0022)  loss_rpn_box_reg: 0.0027 (0.0036)  time: 0.8603  data: 0.0639  max mem: 6120\n",
      "Epoch: [7]  [260/263]  eta: 0:00:02  lr: 0.000100  loss: 0.1021 (0.1111)  loss_classifier: 0.0323 (0.0320)  loss_box_reg: 0.0657 (0.0733)  loss_objectness: 0.0022 (0.0022)  loss_rpn_box_reg: 0.0032 (0.0036)  time: 0.8606  data: 0.0639  max mem: 6120\n",
      "Epoch: [7]  [262/263]  eta: 0:00:00  lr: 0.000100  loss: 0.1021 (0.1112)  loss_classifier: 0.0303 (0.0320)  loss_box_reg: 0.0657 (0.0733)  loss_objectness: 0.0021 (0.0022)  loss_rpn_box_reg: 0.0031 (0.0036)  time: 0.8349  data: 0.0619  max mem: 6120\n",
      "Epoch: [7] Total time: 0:03:44 (0.8553 s / it)\n",
      "creating index...\n",
      "index created!\n",
      "Test:  [ 0/75]  eta: 0:00:33  model_time: 0.3746 (0.3746)  evaluator_time: 0.0055 (0.0055)  time: 0.4468  data: 0.0575  max mem: 6120\n"
     ]
    },
    {
     "name": "stderr",
     "output_type": "stream",
     "text": [
      "2024-12-26 01:35:18,545 - INFO - Evaluation results on validation set: <coco_eval.CocoEvaluator object at 0x782790b01f60>\n"
     ]
    },
    {
     "name": "stdout",
     "output_type": "stream",
     "text": [
      "Test:  [74/75]  eta: 0:00:00  model_time: 0.3665 (0.3664)  evaluator_time: 0.0062 (0.0069)  time: 0.4506  data: 0.0670  max mem: 6120\n",
      "Test: Total time: 0:00:33 (0.4503 s / it)\n",
      "Averaged stats: model_time: 0.3665 (0.3664)  evaluator_time: 0.0062 (0.0069)\n",
      "Accumulating evaluation results...\n",
      "DONE (t=0.14s).\n",
      "IoU metric: bbox\n",
      " Average Precision  (AP) @[ IoU=0.50:0.95 | area=   all | maxDets=100 ] = 0.276\n",
      " Average Precision  (AP) @[ IoU=0.50      | area=   all | maxDets=100 ] = 0.510\n",
      " Average Precision  (AP) @[ IoU=0.75      | area=   all | maxDets=100 ] = 0.267\n",
      " Average Precision  (AP) @[ IoU=0.50:0.95 | area= small | maxDets=100 ] = 0.060\n",
      " Average Precision  (AP) @[ IoU=0.50:0.95 | area=medium | maxDets=100 ] = 0.151\n",
      " Average Precision  (AP) @[ IoU=0.50:0.95 | area= large | maxDets=100 ] = 0.324\n",
      " Average Recall     (AR) @[ IoU=0.50:0.95 | area=   all | maxDets=  1 ] = 0.248\n",
      " Average Recall     (AR) @[ IoU=0.50:0.95 | area=   all | maxDets= 10 ] = 0.359\n",
      " Average Recall     (AR) @[ IoU=0.50:0.95 | area=   all | maxDets=100 ] = 0.363\n",
      " Average Recall     (AR) @[ IoU=0.50:0.95 | area= small | maxDets=100 ] = 0.097\n",
      " Average Recall     (AR) @[ IoU=0.50:0.95 | area=medium | maxDets=100 ] = 0.215\n",
      " Average Recall     (AR) @[ IoU=0.50:0.95 | area= large | maxDets=100 ] = 0.417\n",
      "<coco_eval.CocoEvaluator object at 0x782790b01f60>\n"
     ]
    },
    {
     "name": "stderr",
     "output_type": "stream",
     "text": [
      "2024-12-26 01:35:19,171 - INFO - Checkpoint saved at epoch 7\n"
     ]
    },
    {
     "name": "stdout",
     "output_type": "stream",
     "text": [
      "Checkpoint saved at epoch 7\n",
      "Epoch: [8]  [  0/263]  eta: 0:03:46  lr: 0.000100  loss: 0.1368 (0.1368)  loss_classifier: 0.0340 (0.0340)  loss_box_reg: 0.0952 (0.0952)  loss_objectness: 0.0029 (0.0029)  loss_rpn_box_reg: 0.0047 (0.0047)  time: 0.8615  data: 0.0654  max mem: 6120\n",
      "Epoch: [8]  [ 20/263]  eta: 0:03:28  lr: 0.000100  loss: 0.0980 (0.1044)  loss_classifier: 0.0273 (0.0308)  loss_box_reg: 0.0647 (0.0688)  loss_objectness: 0.0009 (0.0015)  loss_rpn_box_reg: 0.0029 (0.0033)  time: 0.8590  data: 0.0615  max mem: 6120\n",
      "Epoch: [8]  [ 40/263]  eta: 0:03:11  lr: 0.000100  loss: 0.0873 (0.0989)  loss_classifier: 0.0247 (0.0285)  loss_box_reg: 0.0591 (0.0659)  loss_objectness: 0.0010 (0.0014)  loss_rpn_box_reg: 0.0026 (0.0031)  time: 0.8598  data: 0.0631  max mem: 6120\n",
      "Epoch: [8]  [ 60/263]  eta: 0:02:54  lr: 0.000100  loss: 0.0789 (0.0940)  loss_classifier: 0.0238 (0.0272)  loss_box_reg: 0.0466 (0.0622)  loss_objectness: 0.0017 (0.0015)  loss_rpn_box_reg: 0.0026 (0.0031)  time: 0.8561  data: 0.0592  max mem: 6120\n",
      "Epoch: [8]  [ 80/263]  eta: 0:02:37  lr: 0.000100  loss: 0.0990 (0.0991)  loss_classifier: 0.0288 (0.0288)  loss_box_reg: 0.0713 (0.0654)  loss_objectness: 0.0015 (0.0016)  loss_rpn_box_reg: 0.0037 (0.0033)  time: 0.8600  data: 0.0648  max mem: 6120\n",
      "Epoch: [8]  [100/263]  eta: 0:02:19  lr: 0.000100  loss: 0.1054 (0.1004)  loss_classifier: 0.0306 (0.0293)  loss_box_reg: 0.0715 (0.0663)  loss_objectness: 0.0011 (0.0016)  loss_rpn_box_reg: 0.0025 (0.0033)  time: 0.8579  data: 0.0610  max mem: 6120\n",
      "Epoch: [8]  [120/263]  eta: 0:02:02  lr: 0.000100  loss: 0.0882 (0.0988)  loss_classifier: 0.0239 (0.0286)  loss_box_reg: 0.0613 (0.0654)  loss_objectness: 0.0009 (0.0015)  loss_rpn_box_reg: 0.0025 (0.0032)  time: 0.8581  data: 0.0615  max mem: 6120\n",
      "Epoch: [8]  [140/263]  eta: 0:01:45  lr: 0.000100  loss: 0.1023 (0.0998)  loss_classifier: 0.0276 (0.0288)  loss_box_reg: 0.0678 (0.0662)  loss_objectness: 0.0012 (0.0016)  loss_rpn_box_reg: 0.0029 (0.0032)  time: 0.8572  data: 0.0619  max mem: 6120\n",
      "Epoch: [8]  [160/263]  eta: 0:01:28  lr: 0.000100  loss: 0.0965 (0.1002)  loss_classifier: 0.0262 (0.0288)  loss_box_reg: 0.0630 (0.0664)  loss_objectness: 0.0013 (0.0016)  loss_rpn_box_reg: 0.0043 (0.0034)  time: 0.8524  data: 0.0565  max mem: 6120\n",
      "Epoch: [8]  [180/263]  eta: 0:01:11  lr: 0.000100  loss: 0.0934 (0.0998)  loss_classifier: 0.0277 (0.0287)  loss_box_reg: 0.0617 (0.0661)  loss_objectness: 0.0017 (0.0017)  loss_rpn_box_reg: 0.0029 (0.0033)  time: 0.8603  data: 0.0630  max mem: 6120\n",
      "Epoch: [8]  [200/263]  eta: 0:00:54  lr: 0.000100  loss: 0.0961 (0.1004)  loss_classifier: 0.0272 (0.0288)  loss_box_reg: 0.0617 (0.0667)  loss_objectness: 0.0010 (0.0017)  loss_rpn_box_reg: 0.0027 (0.0033)  time: 0.8566  data: 0.0596  max mem: 6120\n",
      "Epoch: [8]  [220/263]  eta: 0:00:36  lr: 0.000100  loss: 0.1049 (0.1005)  loss_classifier: 0.0282 (0.0287)  loss_box_reg: 0.0724 (0.0668)  loss_objectness: 0.0019 (0.0017)  loss_rpn_box_reg: 0.0033 (0.0033)  time: 0.8582  data: 0.0624  max mem: 6120\n",
      "Epoch: [8]  [240/263]  eta: 0:00:19  lr: 0.000100  loss: 0.1014 (0.1005)  loss_classifier: 0.0294 (0.0288)  loss_box_reg: 0.0673 (0.0667)  loss_objectness: 0.0010 (0.0017)  loss_rpn_box_reg: 0.0029 (0.0033)  time: 0.8528  data: 0.0602  max mem: 6120\n",
      "Epoch: [8]  [260/263]  eta: 0:00:02  lr: 0.000100  loss: 0.1111 (0.1016)  loss_classifier: 0.0324 (0.0294)  loss_box_reg: 0.0700 (0.0671)  loss_objectness: 0.0015 (0.0018)  loss_rpn_box_reg: 0.0031 (0.0033)  time: 0.8597  data: 0.0618  max mem: 6120\n",
      "Epoch: [8]  [262/263]  eta: 0:00:00  lr: 0.000100  loss: 0.1142 (0.1016)  loss_classifier: 0.0331 (0.0294)  loss_box_reg: 0.0707 (0.0671)  loss_objectness: 0.0018 (0.0017)  loss_rpn_box_reg: 0.0031 (0.0033)  time: 0.8333  data: 0.0595  max mem: 6120\n",
      "Epoch: [8] Total time: 0:03:45 (0.8557 s / it)\n",
      "creating index...\n",
      "index created!\n",
      "Test:  [ 0/75]  eta: 0:00:34  model_time: 0.3836 (0.3836)  evaluator_time: 0.0092 (0.0092)  time: 0.4611  data: 0.0593  max mem: 6120\n"
     ]
    },
    {
     "name": "stderr",
     "output_type": "stream",
     "text": [
      "2024-12-26 01:39:42,918 - INFO - Evaluation results on validation set: <coco_eval.CocoEvaluator object at 0x782790132c20>\n"
     ]
    },
    {
     "name": "stdout",
     "output_type": "stream",
     "text": [
      "Test:  [74/75]  eta: 0:00:00  model_time: 0.3659 (0.3660)  evaluator_time: 0.0062 (0.0070)  time: 0.4484  data: 0.0662  max mem: 6120\n",
      "Test: Total time: 0:00:33 (0.4502 s / it)\n",
      "Averaged stats: model_time: 0.3659 (0.3660)  evaluator_time: 0.0062 (0.0070)\n",
      "Accumulating evaluation results...\n",
      "DONE (t=0.15s).\n",
      "IoU metric: bbox\n",
      " Average Precision  (AP) @[ IoU=0.50:0.95 | area=   all | maxDets=100 ] = 0.276\n",
      " Average Precision  (AP) @[ IoU=0.50      | area=   all | maxDets=100 ] = 0.497\n",
      " Average Precision  (AP) @[ IoU=0.75      | area=   all | maxDets=100 ] = 0.275\n",
      " Average Precision  (AP) @[ IoU=0.50:0.95 | area= small | maxDets=100 ] = 0.072\n",
      " Average Precision  (AP) @[ IoU=0.50:0.95 | area=medium | maxDets=100 ] = 0.142\n",
      " Average Precision  (AP) @[ IoU=0.50:0.95 | area= large | maxDets=100 ] = 0.329\n",
      " Average Recall     (AR) @[ IoU=0.50:0.95 | area=   all | maxDets=  1 ] = 0.255\n",
      " Average Recall     (AR) @[ IoU=0.50:0.95 | area=   all | maxDets= 10 ] = 0.366\n",
      " Average Recall     (AR) @[ IoU=0.50:0.95 | area=   all | maxDets=100 ] = 0.369\n",
      " Average Recall     (AR) @[ IoU=0.50:0.95 | area= small | maxDets=100 ] = 0.094\n",
      " Average Recall     (AR) @[ IoU=0.50:0.95 | area=medium | maxDets=100 ] = 0.206\n",
      " Average Recall     (AR) @[ IoU=0.50:0.95 | area= large | maxDets=100 ] = 0.423\n",
      "<coco_eval.CocoEvaluator object at 0x782790132c20>\n"
     ]
    },
    {
     "name": "stderr",
     "output_type": "stream",
     "text": [
      "2024-12-26 01:39:43,553 - INFO - Checkpoint saved at epoch 8\n"
     ]
    },
    {
     "name": "stdout",
     "output_type": "stream",
     "text": [
      "Checkpoint saved at epoch 8\n",
      "Epoch: [9]  [  0/263]  eta: 0:03:45  lr: 0.000100  loss: 0.1360 (0.1360)  loss_classifier: 0.0404 (0.0404)  loss_box_reg: 0.0921 (0.0921)  loss_objectness: 0.0004 (0.0004)  loss_rpn_box_reg: 0.0030 (0.0030)  time: 0.8558  data: 0.0620  max mem: 6120\n",
      "Epoch: [9]  [ 20/263]  eta: 0:03:29  lr: 0.000100  loss: 0.0930 (0.0991)  loss_classifier: 0.0276 (0.0295)  loss_box_reg: 0.0623 (0.0650)  loss_objectness: 0.0009 (0.0014)  loss_rpn_box_reg: 0.0028 (0.0032)  time: 0.8608  data: 0.0623  max mem: 6120\n",
      "Epoch: [9]  [ 40/263]  eta: 0:03:11  lr: 0.000100  loss: 0.0812 (0.0956)  loss_classifier: 0.0240 (0.0280)  loss_box_reg: 0.0536 (0.0625)  loss_objectness: 0.0016 (0.0020)  loss_rpn_box_reg: 0.0027 (0.0031)  time: 0.8579  data: 0.0609  max mem: 6120\n",
      "Epoch: [9]  [ 60/263]  eta: 0:02:54  lr: 0.000100  loss: 0.0765 (0.0922)  loss_classifier: 0.0222 (0.0263)  loss_box_reg: 0.0482 (0.0609)  loss_objectness: 0.0013 (0.0018)  loss_rpn_box_reg: 0.0029 (0.0031)  time: 0.8558  data: 0.0579  max mem: 6120\n",
      "Epoch: [9]  [ 80/263]  eta: 0:02:37  lr: 0.000100  loss: 0.0857 (0.0937)  loss_classifier: 0.0225 (0.0268)  loss_box_reg: 0.0586 (0.0618)  loss_objectness: 0.0014 (0.0020)  loss_rpn_box_reg: 0.0027 (0.0031)  time: 0.8640  data: 0.0668  max mem: 6120\n",
      "Epoch: [9]  [100/263]  eta: 0:02:20  lr: 0.000100  loss: 0.0824 (0.0917)  loss_classifier: 0.0211 (0.0263)  loss_box_reg: 0.0551 (0.0604)  loss_objectness: 0.0011 (0.0020)  loss_rpn_box_reg: 0.0028 (0.0031)  time: 0.8664  data: 0.0698  max mem: 6120\n",
      "Epoch: [9]  [120/263]  eta: 0:02:03  lr: 0.000100  loss: 0.1002 (0.0938)  loss_classifier: 0.0275 (0.0269)  loss_box_reg: 0.0660 (0.0618)  loss_objectness: 0.0015 (0.0020)  loss_rpn_box_reg: 0.0026 (0.0031)  time: 0.8580  data: 0.0615  max mem: 6120\n",
      "Epoch: [9]  [140/263]  eta: 0:01:45  lr: 0.000100  loss: 0.0888 (0.0956)  loss_classifier: 0.0286 (0.0276)  loss_box_reg: 0.0564 (0.0629)  loss_objectness: 0.0016 (0.0019)  loss_rpn_box_reg: 0.0030 (0.0032)  time: 0.8571  data: 0.0621  max mem: 6120\n",
      "Epoch: [9]  [160/263]  eta: 0:01:28  lr: 0.000100  loss: 0.0950 (0.0961)  loss_classifier: 0.0266 (0.0278)  loss_box_reg: 0.0639 (0.0632)  loss_objectness: 0.0016 (0.0020)  loss_rpn_box_reg: 0.0031 (0.0032)  time: 0.8585  data: 0.0618  max mem: 6120\n",
      "Epoch: [9]  [180/263]  eta: 0:01:11  lr: 0.000100  loss: 0.0983 (0.0966)  loss_classifier: 0.0289 (0.0281)  loss_box_reg: 0.0631 (0.0633)  loss_objectness: 0.0018 (0.0020)  loss_rpn_box_reg: 0.0033 (0.0032)  time: 0.8472  data: 0.0563  max mem: 6120\n",
      "Epoch: [9]  [200/263]  eta: 0:00:54  lr: 0.000100  loss: 0.1051 (0.0975)  loss_classifier: 0.0330 (0.0283)  loss_box_reg: 0.0674 (0.0640)  loss_objectness: 0.0006 (0.0019)  loss_rpn_box_reg: 0.0028 (0.0032)  time: 0.8577  data: 0.0599  max mem: 6120\n",
      "Epoch: [9]  [220/263]  eta: 0:00:36  lr: 0.000100  loss: 0.0713 (0.0962)  loss_classifier: 0.0201 (0.0280)  loss_box_reg: 0.0482 (0.0632)  loss_objectness: 0.0014 (0.0019)  loss_rpn_box_reg: 0.0032 (0.0032)  time: 0.8572  data: 0.0622  max mem: 6120\n",
      "Epoch: [9]  [240/263]  eta: 0:00:19  lr: 0.000100  loss: 0.0820 (0.0952)  loss_classifier: 0.0212 (0.0276)  loss_box_reg: 0.0559 (0.0625)  loss_objectness: 0.0013 (0.0019)  loss_rpn_box_reg: 0.0025 (0.0032)  time: 0.8535  data: 0.0579  max mem: 6120\n",
      "Epoch: [9]  [260/263]  eta: 0:00:02  lr: 0.000100  loss: 0.0828 (0.0943)  loss_classifier: 0.0239 (0.0273)  loss_box_reg: 0.0554 (0.0619)  loss_objectness: 0.0015 (0.0019)  loss_rpn_box_reg: 0.0030 (0.0032)  time: 0.8571  data: 0.0599  max mem: 6120\n",
      "Epoch: [9]  [262/263]  eta: 0:00:00  lr: 0.000100  loss: 0.0828 (0.0942)  loss_classifier: 0.0239 (0.0273)  loss_box_reg: 0.0554 (0.0618)  loss_objectness: 0.0015 (0.0019)  loss_rpn_box_reg: 0.0032 (0.0032)  time: 0.8322  data: 0.0591  max mem: 6120\n",
      "Epoch: [9] Total time: 0:03:45 (0.8560 s / it)\n",
      "creating index...\n",
      "index created!\n",
      "Test:  [ 0/75]  eta: 0:00:33  model_time: 0.3797 (0.3797)  evaluator_time: 0.0056 (0.0056)  time: 0.4521  data: 0.0577  max mem: 6120\n"
     ]
    },
    {
     "name": "stderr",
     "output_type": "stream",
     "text": [
      "2024-12-26 01:44:07,390 - INFO - Evaluation results on validation set: <coco_eval.CocoEvaluator object at 0x782790221240>\n"
     ]
    },
    {
     "name": "stdout",
     "output_type": "stream",
     "text": [
      "Test:  [74/75]  eta: 0:00:00  model_time: 0.3666 (0.3659)  evaluator_time: 0.0055 (0.0063)  time: 0.4476  data: 0.0655  max mem: 6120\n",
      "Test: Total time: 0:00:33 (0.4499 s / it)\n",
      "Averaged stats: model_time: 0.3666 (0.3659)  evaluator_time: 0.0055 (0.0063)\n",
      "Accumulating evaluation results...\n",
      "DONE (t=0.12s).\n",
      "IoU metric: bbox\n",
      " Average Precision  (AP) @[ IoU=0.50:0.95 | area=   all | maxDets=100 ] = 0.296\n",
      " Average Precision  (AP) @[ IoU=0.50      | area=   all | maxDets=100 ] = 0.514\n",
      " Average Precision  (AP) @[ IoU=0.75      | area=   all | maxDets=100 ] = 0.320\n",
      " Average Precision  (AP) @[ IoU=0.50:0.95 | area= small | maxDets=100 ] = 0.089\n",
      " Average Precision  (AP) @[ IoU=0.50:0.95 | area=medium | maxDets=100 ] = 0.146\n",
      " Average Precision  (AP) @[ IoU=0.50:0.95 | area= large | maxDets=100 ] = 0.352\n",
      " Average Recall     (AR) @[ IoU=0.50:0.95 | area=   all | maxDets=  1 ] = 0.265\n",
      " Average Recall     (AR) @[ IoU=0.50:0.95 | area=   all | maxDets= 10 ] = 0.371\n",
      " Average Recall     (AR) @[ IoU=0.50:0.95 | area=   all | maxDets=100 ] = 0.374\n",
      " Average Recall     (AR) @[ IoU=0.50:0.95 | area= small | maxDets=100 ] = 0.132\n",
      " Average Recall     (AR) @[ IoU=0.50:0.95 | area=medium | maxDets=100 ] = 0.209\n",
      " Average Recall     (AR) @[ IoU=0.50:0.95 | area= large | maxDets=100 ] = 0.427\n",
      "<coco_eval.CocoEvaluator object at 0x782790221240>\n"
     ]
    },
    {
     "name": "stderr",
     "output_type": "stream",
     "text": [
      "2024-12-26 01:44:08,026 - INFO - Checkpoint saved at epoch 9\n"
     ]
    },
    {
     "name": "stdout",
     "output_type": "stream",
     "text": [
      "Checkpoint saved at epoch 9\n",
      "Epoch: [10]  [  0/263]  eta: 0:03:44  lr: 0.000100  loss: 0.0855 (0.0855)  loss_classifier: 0.0219 (0.0219)  loss_box_reg: 0.0591 (0.0591)  loss_objectness: 0.0013 (0.0013)  loss_rpn_box_reg: 0.0031 (0.0031)  time: 0.8545  data: 0.0593  max mem: 6120\n",
      "Epoch: [10]  [ 20/263]  eta: 0:03:28  lr: 0.000100  loss: 0.0934 (0.0913)  loss_classifier: 0.0291 (0.0259)  loss_box_reg: 0.0594 (0.0609)  loss_objectness: 0.0009 (0.0013)  loss_rpn_box_reg: 0.0032 (0.0031)  time: 0.8599  data: 0.0606  max mem: 6120\n",
      "Epoch: [10]  [ 40/263]  eta: 0:03:11  lr: 0.000100  loss: 0.0653 (0.0842)  loss_classifier: 0.0175 (0.0239)  loss_box_reg: 0.0411 (0.0559)  loss_objectness: 0.0006 (0.0013)  loss_rpn_box_reg: 0.0022 (0.0031)  time: 0.8586  data: 0.0595  max mem: 6120\n",
      "Epoch: [10]  [ 60/263]  eta: 0:02:54  lr: 0.000100  loss: 0.0684 (0.0835)  loss_classifier: 0.0177 (0.0234)  loss_box_reg: 0.0454 (0.0557)  loss_objectness: 0.0011 (0.0014)  loss_rpn_box_reg: 0.0026 (0.0030)  time: 0.8550  data: 0.0579  max mem: 6120\n",
      "Epoch: [10]  [ 80/263]  eta: 0:02:36  lr: 0.000100  loss: 0.0721 (0.0841)  loss_classifier: 0.0174 (0.0232)  loss_box_reg: 0.0540 (0.0565)  loss_objectness: 0.0007 (0.0014)  loss_rpn_box_reg: 0.0025 (0.0030)  time: 0.8554  data: 0.0584  max mem: 6120\n",
      "Epoch: [10]  [100/263]  eta: 0:02:19  lr: 0.000100  loss: 0.0862 (0.0845)  loss_classifier: 0.0215 (0.0229)  loss_box_reg: 0.0595 (0.0572)  loss_objectness: 0.0010 (0.0014)  loss_rpn_box_reg: 0.0024 (0.0030)  time: 0.8588  data: 0.0632  max mem: 6120\n",
      "Epoch: [10]  [120/263]  eta: 0:02:02  lr: 0.000100  loss: 0.0771 (0.0839)  loss_classifier: 0.0223 (0.0229)  loss_box_reg: 0.0511 (0.0567)  loss_objectness: 0.0009 (0.0014)  loss_rpn_box_reg: 0.0023 (0.0029)  time: 0.8548  data: 0.0582  max mem: 6120\n",
      "Epoch: [10]  [140/263]  eta: 0:01:45  lr: 0.000100  loss: 0.0867 (0.0838)  loss_classifier: 0.0221 (0.0228)  loss_box_reg: 0.0579 (0.0566)  loss_objectness: 0.0012 (0.0014)  loss_rpn_box_reg: 0.0026 (0.0030)  time: 0.8525  data: 0.0570  max mem: 6120\n",
      "Epoch: [10]  [160/263]  eta: 0:01:28  lr: 0.000100  loss: 0.0854 (0.0837)  loss_classifier: 0.0218 (0.0229)  loss_box_reg: 0.0604 (0.0565)  loss_objectness: 0.0007 (0.0014)  loss_rpn_box_reg: 0.0025 (0.0030)  time: 0.8577  data: 0.0591  max mem: 6120\n",
      "Epoch: [10]  [180/263]  eta: 0:01:11  lr: 0.000100  loss: 0.0607 (0.0835)  loss_classifier: 0.0194 (0.0227)  loss_box_reg: 0.0423 (0.0564)  loss_objectness: 0.0010 (0.0014)  loss_rpn_box_reg: 0.0024 (0.0029)  time: 0.8605  data: 0.0629  max mem: 6120\n",
      "Epoch: [10]  [200/263]  eta: 0:00:53  lr: 0.000100  loss: 0.0701 (0.0835)  loss_classifier: 0.0207 (0.0228)  loss_box_reg: 0.0492 (0.0564)  loss_objectness: 0.0010 (0.0014)  loss_rpn_box_reg: 0.0025 (0.0029)  time: 0.8533  data: 0.0567  max mem: 6120\n",
      "Epoch: [10]  [220/263]  eta: 0:00:36  lr: 0.000100  loss: 0.0821 (0.0838)  loss_classifier: 0.0217 (0.0229)  loss_box_reg: 0.0566 (0.0567)  loss_objectness: 0.0008 (0.0014)  loss_rpn_box_reg: 0.0026 (0.0029)  time: 0.8560  data: 0.0594  max mem: 6120\n",
      "Epoch: [10]  [240/263]  eta: 0:00:19  lr: 0.000100  loss: 0.0749 (0.0832)  loss_classifier: 0.0209 (0.0227)  loss_box_reg: 0.0495 (0.0562)  loss_objectness: 0.0008 (0.0014)  loss_rpn_box_reg: 0.0025 (0.0029)  time: 0.8506  data: 0.0596  max mem: 6120\n",
      "Epoch: [10]  [260/263]  eta: 0:00:02  lr: 0.000100  loss: 0.0796 (0.0833)  loss_classifier: 0.0213 (0.0228)  loss_box_reg: 0.0485 (0.0561)  loss_objectness: 0.0009 (0.0014)  loss_rpn_box_reg: 0.0027 (0.0029)  time: 0.8575  data: 0.0611  max mem: 6120\n",
      "Epoch: [10]  [262/263]  eta: 0:00:00  lr: 0.000100  loss: 0.0805 (0.0836)  loss_classifier: 0.0236 (0.0229)  loss_box_reg: 0.0485 (0.0563)  loss_objectness: 0.0009 (0.0014)  loss_rpn_box_reg: 0.0028 (0.0029)  time: 0.8328  data: 0.0604  max mem: 6120\n",
      "Epoch: [10] Total time: 0:03:44 (0.8543 s / it)\n",
      "creating index...\n",
      "index created!\n",
      "Test:  [ 0/75]  eta: 0:00:33  model_time: 0.3784 (0.3784)  evaluator_time: 0.0050 (0.0050)  time: 0.4487  data: 0.0563  max mem: 6120\n"
     ]
    },
    {
     "name": "stderr",
     "output_type": "stream",
     "text": [
      "2024-12-26 01:48:30,916 - INFO - Evaluation results on validation set: <coco_eval.CocoEvaluator object at 0x78286b30a3b0>\n"
     ]
    },
    {
     "name": "stdout",
     "output_type": "stream",
     "text": [
      "Test:  [74/75]  eta: 0:00:00  model_time: 0.3650 (0.3658)  evaluator_time: 0.0054 (0.0059)  time: 0.4457  data: 0.0649  max mem: 6120\n",
      "Test: Total time: 0:00:33 (0.4462 s / it)\n",
      "Averaged stats: model_time: 0.3650 (0.3658)  evaluator_time: 0.0054 (0.0059)\n",
      "Accumulating evaluation results...\n",
      "DONE (t=0.11s).\n",
      "IoU metric: bbox\n",
      " Average Precision  (AP) @[ IoU=0.50:0.95 | area=   all | maxDets=100 ] = 0.286\n",
      " Average Precision  (AP) @[ IoU=0.50      | area=   all | maxDets=100 ] = 0.504\n",
      " Average Precision  (AP) @[ IoU=0.75      | area=   all | maxDets=100 ] = 0.302\n",
      " Average Precision  (AP) @[ IoU=0.50:0.95 | area= small | maxDets=100 ] = 0.067\n",
      " Average Precision  (AP) @[ IoU=0.50:0.95 | area=medium | maxDets=100 ] = 0.139\n",
      " Average Precision  (AP) @[ IoU=0.50:0.95 | area= large | maxDets=100 ] = 0.342\n",
      " Average Recall     (AR) @[ IoU=0.50:0.95 | area=   all | maxDets=  1 ] = 0.254\n",
      " Average Recall     (AR) @[ IoU=0.50:0.95 | area=   all | maxDets= 10 ] = 0.360\n",
      " Average Recall     (AR) @[ IoU=0.50:0.95 | area=   all | maxDets=100 ] = 0.362\n",
      " Average Recall     (AR) @[ IoU=0.50:0.95 | area= small | maxDets=100 ] = 0.080\n",
      " Average Recall     (AR) @[ IoU=0.50:0.95 | area=medium | maxDets=100 ] = 0.201\n",
      " Average Recall     (AR) @[ IoU=0.50:0.95 | area= large | maxDets=100 ] = 0.419\n",
      "<coco_eval.CocoEvaluator object at 0x78286b30a3b0>\n"
     ]
    },
    {
     "name": "stderr",
     "output_type": "stream",
     "text": [
      "2024-12-26 01:48:31,542 - INFO - Checkpoint saved at epoch 10\n"
     ]
    },
    {
     "name": "stdout",
     "output_type": "stream",
     "text": [
      "Checkpoint saved at epoch 10\n",
      "Epoch: [11]  [  0/263]  eta: 0:03:45  lr: 0.000100  loss: 0.0413 (0.0413)  loss_classifier: 0.0140 (0.0140)  loss_box_reg: 0.0261 (0.0261)  loss_objectness: 0.0004 (0.0004)  loss_rpn_box_reg: 0.0008 (0.0008)  time: 0.8581  data: 0.0616  max mem: 6120\n",
      "Epoch: [11]  [ 20/263]  eta: 0:03:28  lr: 0.000100  loss: 0.0665 (0.0719)  loss_classifier: 0.0185 (0.0205)  loss_box_reg: 0.0468 (0.0477)  loss_objectness: 0.0006 (0.0011)  loss_rpn_box_reg: 0.0023 (0.0026)  time: 0.8595  data: 0.0631  max mem: 6120\n",
      "Epoch: [11]  [ 40/263]  eta: 0:03:10  lr: 0.000100  loss: 0.0710 (0.0714)  loss_classifier: 0.0199 (0.0200)  loss_box_reg: 0.0465 (0.0475)  loss_objectness: 0.0008 (0.0013)  loss_rpn_box_reg: 0.0023 (0.0026)  time: 0.8504  data: 0.0541  max mem: 6120\n",
      "Epoch: [11]  [ 60/263]  eta: 0:02:53  lr: 0.000100  loss: 0.0693 (0.0724)  loss_classifier: 0.0180 (0.0201)  loss_box_reg: 0.0486 (0.0484)  loss_objectness: 0.0013 (0.0014)  loss_rpn_box_reg: 0.0024 (0.0025)  time: 0.8538  data: 0.0584  max mem: 6120\n",
      "Epoch: [11]  [ 80/263]  eta: 0:02:36  lr: 0.000100  loss: 0.0771 (0.0738)  loss_classifier: 0.0202 (0.0204)  loss_box_reg: 0.0507 (0.0495)  loss_objectness: 0.0005 (0.0013)  loss_rpn_box_reg: 0.0026 (0.0026)  time: 0.8549  data: 0.0570  max mem: 6120\n",
      "Epoch: [11]  [100/263]  eta: 0:02:19  lr: 0.000100  loss: 0.0667 (0.0748)  loss_classifier: 0.0201 (0.0209)  loss_box_reg: 0.0468 (0.0500)  loss_objectness: 0.0011 (0.0013)  loss_rpn_box_reg: 0.0026 (0.0027)  time: 0.8572  data: 0.0608  max mem: 6120\n",
      "Epoch: [11]  [120/263]  eta: 0:02:02  lr: 0.000100  loss: 0.0701 (0.0739)  loss_classifier: 0.0191 (0.0205)  loss_box_reg: 0.0485 (0.0494)  loss_objectness: 0.0007 (0.0013)  loss_rpn_box_reg: 0.0023 (0.0027)  time: 0.8529  data: 0.0566  max mem: 6120\n",
      "Epoch: [11]  [140/263]  eta: 0:01:45  lr: 0.000100  loss: 0.0711 (0.0741)  loss_classifier: 0.0197 (0.0206)  loss_box_reg: 0.0461 (0.0494)  loss_objectness: 0.0012 (0.0014)  loss_rpn_box_reg: 0.0024 (0.0027)  time: 0.8527  data: 0.0575  max mem: 6120\n",
      "Epoch: [11]  [160/263]  eta: 0:01:27  lr: 0.000100  loss: 0.0819 (0.0748)  loss_classifier: 0.0206 (0.0208)  loss_box_reg: 0.0564 (0.0500)  loss_objectness: 0.0011 (0.0014)  loss_rpn_box_reg: 0.0021 (0.0026)  time: 0.8472  data: 0.0552  max mem: 6120\n",
      "Epoch: [11]  [180/263]  eta: 0:01:10  lr: 0.000100  loss: 0.0868 (0.0764)  loss_classifier: 0.0234 (0.0211)  loss_box_reg: 0.0592 (0.0512)  loss_objectness: 0.0009 (0.0015)  loss_rpn_box_reg: 0.0025 (0.0027)  time: 0.8540  data: 0.0580  max mem: 6120\n",
      "Epoch: [11]  [200/263]  eta: 0:00:53  lr: 0.000100  loss: 0.0802 (0.0775)  loss_classifier: 0.0221 (0.0214)  loss_box_reg: 0.0518 (0.0519)  loss_objectness: 0.0018 (0.0015)  loss_rpn_box_reg: 0.0027 (0.0027)  time: 0.8532  data: 0.0575  max mem: 6120\n",
      "Epoch: [11]  [220/263]  eta: 0:00:36  lr: 0.000100  loss: 0.0896 (0.0789)  loss_classifier: 0.0263 (0.0218)  loss_box_reg: 0.0599 (0.0529)  loss_objectness: 0.0011 (0.0015)  loss_rpn_box_reg: 0.0025 (0.0027)  time: 0.8552  data: 0.0598  max mem: 6120\n",
      "Epoch: [11]  [240/263]  eta: 0:00:19  lr: 0.000100  loss: 0.0772 (0.0789)  loss_classifier: 0.0209 (0.0218)  loss_box_reg: 0.0513 (0.0529)  loss_objectness: 0.0010 (0.0015)  loss_rpn_box_reg: 0.0025 (0.0027)  time: 0.8556  data: 0.0604  max mem: 6120\n",
      "Epoch: [11]  [260/263]  eta: 0:00:02  lr: 0.000100  loss: 0.0655 (0.0785)  loss_classifier: 0.0187 (0.0217)  loss_box_reg: 0.0451 (0.0527)  loss_objectness: 0.0006 (0.0015)  loss_rpn_box_reg: 0.0020 (0.0027)  time: 0.8543  data: 0.0588  max mem: 6120\n",
      "Epoch: [11]  [262/263]  eta: 0:00:00  lr: 0.000100  loss: 0.0655 (0.0785)  loss_classifier: 0.0187 (0.0217)  loss_box_reg: 0.0451 (0.0527)  loss_objectness: 0.0005 (0.0015)  loss_rpn_box_reg: 0.0021 (0.0027)  time: 0.8280  data: 0.0566  max mem: 6120\n",
      "Epoch: [11] Total time: 0:03:44 (0.8520 s / it)\n",
      "creating index...\n",
      "index created!\n",
      "Test:  [ 0/75]  eta: 0:00:33  model_time: 0.3780 (0.3780)  evaluator_time: 0.0050 (0.0050)  time: 0.4476  data: 0.0556  max mem: 6120\n"
     ]
    },
    {
     "name": "stderr",
     "output_type": "stream",
     "text": [
      "2024-12-26 01:52:53,856 - INFO - Evaluation results on validation set: <coco_eval.CocoEvaluator object at 0x782790b03e50>\n"
     ]
    },
    {
     "name": "stdout",
     "output_type": "stream",
     "text": [
      "Test:  [74/75]  eta: 0:00:00  model_time: 0.3661 (0.3657)  evaluator_time: 0.0051 (0.0055)  time: 0.4467  data: 0.0652  max mem: 6120\n",
      "Test: Total time: 0:00:33 (0.4449 s / it)\n",
      "Averaged stats: model_time: 0.3661 (0.3657)  evaluator_time: 0.0051 (0.0055)\n",
      "Accumulating evaluation results...\n",
      "DONE (t=0.10s).\n",
      "IoU metric: bbox\n",
      " Average Precision  (AP) @[ IoU=0.50:0.95 | area=   all | maxDets=100 ] = 0.288\n",
      " Average Precision  (AP) @[ IoU=0.50      | area=   all | maxDets=100 ] = 0.502\n",
      " Average Precision  (AP) @[ IoU=0.75      | area=   all | maxDets=100 ] = 0.300\n",
      " Average Precision  (AP) @[ IoU=0.50:0.95 | area= small | maxDets=100 ] = 0.044\n",
      " Average Precision  (AP) @[ IoU=0.50:0.95 | area=medium | maxDets=100 ] = 0.148\n",
      " Average Precision  (AP) @[ IoU=0.50:0.95 | area= large | maxDets=100 ] = 0.342\n",
      " Average Recall     (AR) @[ IoU=0.50:0.95 | area=   all | maxDets=  1 ] = 0.261\n",
      " Average Recall     (AR) @[ IoU=0.50:0.95 | area=   all | maxDets= 10 ] = 0.358\n",
      " Average Recall     (AR) @[ IoU=0.50:0.95 | area=   all | maxDets=100 ] = 0.360\n",
      " Average Recall     (AR) @[ IoU=0.50:0.95 | area= small | maxDets=100 ] = 0.050\n",
      " Average Recall     (AR) @[ IoU=0.50:0.95 | area=medium | maxDets=100 ] = 0.209\n",
      " Average Recall     (AR) @[ IoU=0.50:0.95 | area= large | maxDets=100 ] = 0.413\n",
      "<coco_eval.CocoEvaluator object at 0x782790b03e50>\n"
     ]
    },
    {
     "name": "stderr",
     "output_type": "stream",
     "text": [
      "2024-12-26 01:52:54,507 - INFO - Checkpoint saved at epoch 11\n"
     ]
    },
    {
     "name": "stdout",
     "output_type": "stream",
     "text": [
      "Checkpoint saved at epoch 11\n",
      "Epoch: [12]  [  0/263]  eta: 0:03:42  lr: 0.000100  loss: 0.0520 (0.0520)  loss_classifier: 0.0121 (0.0121)  loss_box_reg: 0.0361 (0.0361)  loss_objectness: 0.0025 (0.0025)  loss_rpn_box_reg: 0.0013 (0.0013)  time: 0.8455  data: 0.0525  max mem: 6120\n",
      "Epoch: [12]  [ 20/263]  eta: 0:03:27  lr: 0.000100  loss: 0.0705 (0.0686)  loss_classifier: 0.0198 (0.0185)  loss_box_reg: 0.0481 (0.0466)  loss_objectness: 0.0009 (0.0012)  loss_rpn_box_reg: 0.0020 (0.0023)  time: 0.8546  data: 0.0576  max mem: 6120\n",
      "Epoch: [12]  [ 40/263]  eta: 0:03:10  lr: 0.000100  loss: 0.0616 (0.0678)  loss_classifier: 0.0167 (0.0185)  loss_box_reg: 0.0419 (0.0459)  loss_objectness: 0.0007 (0.0010)  loss_rpn_box_reg: 0.0024 (0.0024)  time: 0.8524  data: 0.0569  max mem: 6120\n",
      "Epoch: [12]  [ 60/263]  eta: 0:02:53  lr: 0.000100  loss: 0.0733 (0.0702)  loss_classifier: 0.0226 (0.0195)  loss_box_reg: 0.0499 (0.0473)  loss_objectness: 0.0004 (0.0009)  loss_rpn_box_reg: 0.0022 (0.0025)  time: 0.8593  data: 0.0627  max mem: 6120\n",
      "Epoch: [12]  [ 80/263]  eta: 0:02:36  lr: 0.000100  loss: 0.0706 (0.0718)  loss_classifier: 0.0182 (0.0199)  loss_box_reg: 0.0468 (0.0485)  loss_objectness: 0.0004 (0.0009)  loss_rpn_box_reg: 0.0023 (0.0024)  time: 0.8607  data: 0.0641  max mem: 6120\n",
      "Epoch: [12]  [100/263]  eta: 0:02:19  lr: 0.000100  loss: 0.0696 (0.0723)  loss_classifier: 0.0193 (0.0199)  loss_box_reg: 0.0516 (0.0491)  loss_objectness: 0.0005 (0.0009)  loss_rpn_box_reg: 0.0021 (0.0024)  time: 0.8541  data: 0.0577  max mem: 6120\n",
      "Epoch: [12]  [120/263]  eta: 0:02:02  lr: 0.000100  loss: 0.0707 (0.0732)  loss_classifier: 0.0189 (0.0200)  loss_box_reg: 0.0498 (0.0498)  loss_objectness: 0.0006 (0.0009)  loss_rpn_box_reg: 0.0020 (0.0025)  time: 0.8543  data: 0.0592  max mem: 6120\n",
      "Epoch: [12]  [140/263]  eta: 0:01:45  lr: 0.000100  loss: 0.0769 (0.0735)  loss_classifier: 0.0181 (0.0201)  loss_box_reg: 0.0504 (0.0501)  loss_objectness: 0.0005 (0.0009)  loss_rpn_box_reg: 0.0020 (0.0024)  time: 0.8509  data: 0.0595  max mem: 6120\n",
      "Epoch: [12]  [160/263]  eta: 0:01:28  lr: 0.000100  loss: 0.0642 (0.0724)  loss_classifier: 0.0175 (0.0197)  loss_box_reg: 0.0397 (0.0494)  loss_objectness: 0.0010 (0.0009)  loss_rpn_box_reg: 0.0019 (0.0024)  time: 0.8547  data: 0.0580  max mem: 6120\n",
      "Epoch: [12]  [180/263]  eta: 0:01:10  lr: 0.000100  loss: 0.0590 (0.0725)  loss_classifier: 0.0181 (0.0197)  loss_box_reg: 0.0419 (0.0493)  loss_objectness: 0.0012 (0.0010)  loss_rpn_box_reg: 0.0028 (0.0025)  time: 0.8576  data: 0.0607  max mem: 6120\n",
      "Epoch: [12]  [200/263]  eta: 0:00:53  lr: 0.000100  loss: 0.0643 (0.0715)  loss_classifier: 0.0164 (0.0195)  loss_box_reg: 0.0444 (0.0486)  loss_objectness: 0.0008 (0.0010)  loss_rpn_box_reg: 0.0018 (0.0025)  time: 0.8582  data: 0.0625  max mem: 6120\n",
      "Epoch: [12]  [220/263]  eta: 0:00:36  lr: 0.000100  loss: 0.0755 (0.0722)  loss_classifier: 0.0209 (0.0196)  loss_box_reg: 0.0507 (0.0491)  loss_objectness: 0.0012 (0.0010)  loss_rpn_box_reg: 0.0028 (0.0025)  time: 0.8540  data: 0.0589  max mem: 6120\n",
      "Epoch: [12]  [240/263]  eta: 0:00:19  lr: 0.000100  loss: 0.0665 (0.0720)  loss_classifier: 0.0156 (0.0195)  loss_box_reg: 0.0438 (0.0490)  loss_objectness: 0.0005 (0.0010)  loss_rpn_box_reg: 0.0019 (0.0025)  time: 0.8593  data: 0.0624  max mem: 6120\n",
      "Epoch: [12]  [260/263]  eta: 0:00:02  lr: 0.000100  loss: 0.0701 (0.0722)  loss_classifier: 0.0201 (0.0195)  loss_box_reg: 0.0451 (0.0492)  loss_objectness: 0.0009 (0.0011)  loss_rpn_box_reg: 0.0021 (0.0025)  time: 0.8577  data: 0.0605  max mem: 6120\n",
      "Epoch: [12]  [262/263]  eta: 0:00:00  lr: 0.000100  loss: 0.0695 (0.0722)  loss_classifier: 0.0188 (0.0195)  loss_box_reg: 0.0441 (0.0491)  loss_objectness: 0.0009 (0.0011)  loss_rpn_box_reg: 0.0021 (0.0025)  time: 0.8331  data: 0.0598  max mem: 6120\n",
      "Epoch: [12] Total time: 0:03:44 (0.8541 s / it)\n",
      "creating index...\n",
      "index created!\n",
      "Test:  [ 0/75]  eta: 0:00:34  model_time: 0.3794 (0.3794)  evaluator_time: 0.0057 (0.0057)  time: 0.4550  data: 0.0608  max mem: 6120\n"
     ]
    },
    {
     "name": "stderr",
     "output_type": "stream",
     "text": [
      "2024-12-26 01:57:17,866 - INFO - Evaluation results on validation set: <coco_eval.CocoEvaluator object at 0x78284bb82dd0>\n"
     ]
    },
    {
     "name": "stdout",
     "output_type": "stream",
     "text": [
      "Test:  [74/75]  eta: 0:00:00  model_time: 0.3665 (0.3664)  evaluator_time: 0.0054 (0.0059)  time: 0.4488  data: 0.0666  max mem: 6120\n",
      "Test: Total time: 0:00:33 (0.4474 s / it)\n",
      "Averaged stats: model_time: 0.3665 (0.3664)  evaluator_time: 0.0054 (0.0059)\n",
      "Accumulating evaluation results...\n",
      "DONE (t=0.11s).\n",
      "IoU metric: bbox\n",
      " Average Precision  (AP) @[ IoU=0.50:0.95 | area=   all | maxDets=100 ] = 0.275\n",
      " Average Precision  (AP) @[ IoU=0.50      | area=   all | maxDets=100 ] = 0.495\n",
      " Average Precision  (AP) @[ IoU=0.75      | area=   all | maxDets=100 ] = 0.284\n",
      " Average Precision  (AP) @[ IoU=0.50:0.95 | area= small | maxDets=100 ] = 0.080\n",
      " Average Precision  (AP) @[ IoU=0.50:0.95 | area=medium | maxDets=100 ] = 0.152\n",
      " Average Precision  (AP) @[ IoU=0.50:0.95 | area= large | maxDets=100 ] = 0.331\n",
      " Average Recall     (AR) @[ IoU=0.50:0.95 | area=   all | maxDets=  1 ] = 0.247\n",
      " Average Recall     (AR) @[ IoU=0.50:0.95 | area=   all | maxDets= 10 ] = 0.355\n",
      " Average Recall     (AR) @[ IoU=0.50:0.95 | area=   all | maxDets=100 ] = 0.357\n",
      " Average Recall     (AR) @[ IoU=0.50:0.95 | area= small | maxDets=100 ] = 0.095\n",
      " Average Recall     (AR) @[ IoU=0.50:0.95 | area=medium | maxDets=100 ] = 0.221\n",
      " Average Recall     (AR) @[ IoU=0.50:0.95 | area= large | maxDets=100 ] = 0.408\n",
      "<coco_eval.CocoEvaluator object at 0x78284bb82dd0>\n"
     ]
    },
    {
     "name": "stderr",
     "output_type": "stream",
     "text": [
      "2024-12-26 01:57:18,502 - INFO - Checkpoint saved at epoch 12\n"
     ]
    },
    {
     "name": "stdout",
     "output_type": "stream",
     "text": [
      "Checkpoint saved at epoch 12\n",
      "Epoch: [13]  [  0/263]  eta: 0:03:48  lr: 0.000100  loss: 0.0951 (0.0951)  loss_classifier: 0.0218 (0.0218)  loss_box_reg: 0.0708 (0.0708)  loss_objectness: 0.0005 (0.0005)  loss_rpn_box_reg: 0.0020 (0.0020)  time: 0.8704  data: 0.0796  max mem: 6120\n",
      "Epoch: [13]  [ 20/263]  eta: 0:03:28  lr: 0.000100  loss: 0.0641 (0.0658)  loss_classifier: 0.0174 (0.0169)  loss_box_reg: 0.0469 (0.0458)  loss_objectness: 0.0006 (0.0010)  loss_rpn_box_reg: 0.0019 (0.0021)  time: 0.8574  data: 0.0609  max mem: 6120\n",
      "Epoch: [13]  [ 40/263]  eta: 0:03:10  lr: 0.000100  loss: 0.0749 (0.0706)  loss_classifier: 0.0178 (0.0185)  loss_box_reg: 0.0510 (0.0489)  loss_objectness: 0.0007 (0.0010)  loss_rpn_box_reg: 0.0023 (0.0022)  time: 0.8523  data: 0.0577  max mem: 6120\n",
      "Epoch: [13]  [ 60/263]  eta: 0:02:53  lr: 0.000100  loss: 0.0648 (0.0681)  loss_classifier: 0.0177 (0.0181)  loss_box_reg: 0.0434 (0.0469)  loss_objectness: 0.0005 (0.0009)  loss_rpn_box_reg: 0.0016 (0.0021)  time: 0.8526  data: 0.0565  max mem: 6120\n",
      "Epoch: [13]  [ 80/263]  eta: 0:02:36  lr: 0.000100  loss: 0.0683 (0.0681)  loss_classifier: 0.0164 (0.0182)  loss_box_reg: 0.0464 (0.0468)  loss_objectness: 0.0008 (0.0009)  loss_rpn_box_reg: 0.0024 (0.0021)  time: 0.8518  data: 0.0574  max mem: 6120\n",
      "Epoch: [13]  [100/263]  eta: 0:02:19  lr: 0.000100  loss: 0.0661 (0.0683)  loss_classifier: 0.0177 (0.0187)  loss_box_reg: 0.0440 (0.0465)  loss_objectness: 0.0009 (0.0010)  loss_rpn_box_reg: 0.0019 (0.0022)  time: 0.8511  data: 0.0554  max mem: 6120\n",
      "Epoch: [13]  [120/263]  eta: 0:02:02  lr: 0.000100  loss: 0.0685 (0.0682)  loss_classifier: 0.0184 (0.0186)  loss_box_reg: 0.0487 (0.0464)  loss_objectness: 0.0004 (0.0009)  loss_rpn_box_reg: 0.0021 (0.0022)  time: 0.8534  data: 0.0570  max mem: 6120\n",
      "Epoch: [13]  [140/263]  eta: 0:01:44  lr: 0.000100  loss: 0.0706 (0.0689)  loss_classifier: 0.0174 (0.0187)  loss_box_reg: 0.0474 (0.0470)  loss_objectness: 0.0010 (0.0010)  loss_rpn_box_reg: 0.0025 (0.0023)  time: 0.8525  data: 0.0552  max mem: 6120\n",
      "Epoch: [13]  [160/263]  eta: 0:01:27  lr: 0.000100  loss: 0.0672 (0.0689)  loss_classifier: 0.0181 (0.0186)  loss_box_reg: 0.0455 (0.0471)  loss_objectness: 0.0005 (0.0010)  loss_rpn_box_reg: 0.0019 (0.0023)  time: 0.8547  data: 0.0589  max mem: 6120\n",
      "Epoch: [13]  [180/263]  eta: 0:01:10  lr: 0.000100  loss: 0.0608 (0.0693)  loss_classifier: 0.0184 (0.0188)  loss_box_reg: 0.0396 (0.0472)  loss_objectness: 0.0005 (0.0010)  loss_rpn_box_reg: 0.0025 (0.0023)  time: 0.8624  data: 0.0638  max mem: 6120\n",
      "Epoch: [13]  [200/263]  eta: 0:00:53  lr: 0.000100  loss: 0.0728 (0.0699)  loss_classifier: 0.0204 (0.0190)  loss_box_reg: 0.0501 (0.0476)  loss_objectness: 0.0004 (0.0010)  loss_rpn_box_reg: 0.0023 (0.0023)  time: 0.8589  data: 0.0598  max mem: 6120\n",
      "Epoch: [13]  [220/263]  eta: 0:00:36  lr: 0.000100  loss: 0.0721 (0.0701)  loss_classifier: 0.0180 (0.0190)  loss_box_reg: 0.0464 (0.0477)  loss_objectness: 0.0008 (0.0010)  loss_rpn_box_reg: 0.0024 (0.0024)  time: 0.8610  data: 0.0627  max mem: 6120\n",
      "Epoch: [13]  [240/263]  eta: 0:00:19  lr: 0.000100  loss: 0.0660 (0.0696)  loss_classifier: 0.0196 (0.0189)  loss_box_reg: 0.0455 (0.0473)  loss_objectness: 0.0005 (0.0010)  loss_rpn_box_reg: 0.0018 (0.0024)  time: 0.8519  data: 0.0623  max mem: 6120\n",
      "Epoch: [13]  [260/263]  eta: 0:00:02  lr: 0.000100  loss: 0.0657 (0.0700)  loss_classifier: 0.0192 (0.0191)  loss_box_reg: 0.0465 (0.0474)  loss_objectness: 0.0009 (0.0010)  loss_rpn_box_reg: 0.0024 (0.0024)  time: 0.8512  data: 0.0558  max mem: 6120\n",
      "Epoch: [13]  [262/263]  eta: 0:00:00  lr: 0.000100  loss: 0.0720 (0.0700)  loss_classifier: 0.0190 (0.0191)  loss_box_reg: 0.0490 (0.0474)  loss_objectness: 0.0009 (0.0010)  loss_rpn_box_reg: 0.0024 (0.0024)  time: 0.8263  data: 0.0543  max mem: 6120\n",
      "Epoch: [13] Total time: 0:03:44 (0.8529 s / it)\n",
      "creating index...\n",
      "index created!\n",
      "Test:  [ 0/75]  eta: 0:00:33  model_time: 0.3727 (0.3727)  evaluator_time: 0.0053 (0.0053)  time: 0.4414  data: 0.0544  max mem: 6120\n"
     ]
    },
    {
     "name": "stderr",
     "output_type": "stream",
     "text": [
      "2024-12-26 02:01:40,956 - INFO - Evaluation results on validation set: <coco_eval.CocoEvaluator object at 0x782791676890>\n"
     ]
    },
    {
     "name": "stdout",
     "output_type": "stream",
     "text": [
      "Test:  [74/75]  eta: 0:00:00  model_time: 0.3661 (0.3660)  evaluator_time: 0.0054 (0.0061)  time: 0.4529  data: 0.0716  max mem: 6120\n",
      "Test: Total time: 0:00:33 (0.4475 s / it)\n",
      "Averaged stats: model_time: 0.3661 (0.3660)  evaluator_time: 0.0054 (0.0061)\n",
      "Accumulating evaluation results...\n",
      "DONE (t=0.11s).\n",
      "IoU metric: bbox\n",
      " Average Precision  (AP) @[ IoU=0.50:0.95 | area=   all | maxDets=100 ] = 0.262\n",
      " Average Precision  (AP) @[ IoU=0.50      | area=   all | maxDets=100 ] = 0.479\n",
      " Average Precision  (AP) @[ IoU=0.75      | area=   all | maxDets=100 ] = 0.269\n",
      " Average Precision  (AP) @[ IoU=0.50:0.95 | area= small | maxDets=100 ] = 0.065\n",
      " Average Precision  (AP) @[ IoU=0.50:0.95 | area=medium | maxDets=100 ] = 0.137\n",
      " Average Precision  (AP) @[ IoU=0.50:0.95 | area= large | maxDets=100 ] = 0.317\n",
      " Average Recall     (AR) @[ IoU=0.50:0.95 | area=   all | maxDets=  1 ] = 0.237\n",
      " Average Recall     (AR) @[ IoU=0.50:0.95 | area=   all | maxDets= 10 ] = 0.336\n",
      " Average Recall     (AR) @[ IoU=0.50:0.95 | area=   all | maxDets=100 ] = 0.339\n",
      " Average Recall     (AR) @[ IoU=0.50:0.95 | area= small | maxDets=100 ] = 0.105\n",
      " Average Recall     (AR) @[ IoU=0.50:0.95 | area=medium | maxDets=100 ] = 0.216\n",
      " Average Recall     (AR) @[ IoU=0.50:0.95 | area= large | maxDets=100 ] = 0.385\n",
      "<coco_eval.CocoEvaluator object at 0x782791676890>\n"
     ]
    },
    {
     "name": "stderr",
     "output_type": "stream",
     "text": [
      "2024-12-26 02:01:41,589 - INFO - Checkpoint saved at epoch 13\n"
     ]
    },
    {
     "name": "stdout",
     "output_type": "stream",
     "text": [
      "Checkpoint saved at epoch 13\n",
      "Epoch: [14]  [  0/263]  eta: 0:03:45  lr: 0.000100  loss: 0.0923 (0.0923)  loss_classifier: 0.0251 (0.0251)  loss_box_reg: 0.0639 (0.0639)  loss_objectness: 0.0010 (0.0010)  loss_rpn_box_reg: 0.0023 (0.0023)  time: 0.8562  data: 0.0604  max mem: 6120\n",
      "Epoch: [14]  [ 20/263]  eta: 0:03:28  lr: 0.000100  loss: 0.0612 (0.0684)  loss_classifier: 0.0173 (0.0196)  loss_box_reg: 0.0400 (0.0457)  loss_objectness: 0.0004 (0.0007)  loss_rpn_box_reg: 0.0022 (0.0023)  time: 0.8576  data: 0.0604  max mem: 6120\n",
      "Epoch: [14]  [ 40/263]  eta: 0:03:11  lr: 0.000100  loss: 0.0650 (0.0725)  loss_classifier: 0.0184 (0.0201)  loss_box_reg: 0.0480 (0.0494)  loss_objectness: 0.0006 (0.0008)  loss_rpn_box_reg: 0.0020 (0.0022)  time: 0.8560  data: 0.0594  max mem: 6120\n",
      "Epoch: [14]  [ 60/263]  eta: 0:02:53  lr: 0.000100  loss: 0.0622 (0.0721)  loss_classifier: 0.0174 (0.0203)  loss_box_reg: 0.0403 (0.0487)  loss_objectness: 0.0009 (0.0009)  loss_rpn_box_reg: 0.0020 (0.0022)  time: 0.8554  data: 0.0585  max mem: 6120\n",
      "Epoch: [14]  [ 80/263]  eta: 0:02:36  lr: 0.000100  loss: 0.0572 (0.0697)  loss_classifier: 0.0170 (0.0199)  loss_box_reg: 0.0359 (0.0468)  loss_objectness: 0.0007 (0.0009)  loss_rpn_box_reg: 0.0019 (0.0022)  time: 0.8521  data: 0.0571  max mem: 6120\n",
      "Epoch: [14]  [100/263]  eta: 0:02:19  lr: 0.000100  loss: 0.0713 (0.0704)  loss_classifier: 0.0196 (0.0203)  loss_box_reg: 0.0474 (0.0471)  loss_objectness: 0.0004 (0.0009)  loss_rpn_box_reg: 0.0020 (0.0022)  time: 0.8509  data: 0.0547  max mem: 6120\n",
      "Epoch: [14]  [120/263]  eta: 0:02:02  lr: 0.000100  loss: 0.0541 (0.0687)  loss_classifier: 0.0154 (0.0197)  loss_box_reg: 0.0352 (0.0459)  loss_objectness: 0.0008 (0.0009)  loss_rpn_box_reg: 0.0018 (0.0022)  time: 0.8534  data: 0.0574  max mem: 6120\n",
      "Epoch: [14]  [140/263]  eta: 0:01:45  lr: 0.000100  loss: 0.0673 (0.0689)  loss_classifier: 0.0191 (0.0197)  loss_box_reg: 0.0472 (0.0461)  loss_objectness: 0.0005 (0.0009)  loss_rpn_box_reg: 0.0018 (0.0022)  time: 0.8547  data: 0.0581  max mem: 6120\n",
      "Epoch: [14]  [160/263]  eta: 0:01:28  lr: 0.000100  loss: 0.0534 (0.0680)  loss_classifier: 0.0148 (0.0194)  loss_box_reg: 0.0372 (0.0455)  loss_objectness: 0.0008 (0.0009)  loss_rpn_box_reg: 0.0020 (0.0022)  time: 0.8567  data: 0.0575  max mem: 6120\n",
      "Epoch: [14]  [180/263]  eta: 0:01:10  lr: 0.000100  loss: 0.0602 (0.0681)  loss_classifier: 0.0166 (0.0192)  loss_box_reg: 0.0398 (0.0457)  loss_objectness: 0.0004 (0.0010)  loss_rpn_box_reg: 0.0022 (0.0023)  time: 0.8567  data: 0.0576  max mem: 6120\n",
      "Epoch: [14]  [200/263]  eta: 0:00:53  lr: 0.000100  loss: 0.0623 (0.0674)  loss_classifier: 0.0175 (0.0191)  loss_box_reg: 0.0400 (0.0450)  loss_objectness: 0.0009 (0.0010)  loss_rpn_box_reg: 0.0018 (0.0023)  time: 0.8538  data: 0.0560  max mem: 6120\n",
      "Epoch: [14]  [220/263]  eta: 0:00:36  lr: 0.000100  loss: 0.0665 (0.0671)  loss_classifier: 0.0169 (0.0189)  loss_box_reg: 0.0419 (0.0449)  loss_objectness: 0.0007 (0.0010)  loss_rpn_box_reg: 0.0023 (0.0023)  time: 0.8496  data: 0.0588  max mem: 6120\n",
      "Epoch: [14]  [240/263]  eta: 0:00:19  lr: 0.000100  loss: 0.0587 (0.0669)  loss_classifier: 0.0174 (0.0188)  loss_box_reg: 0.0419 (0.0448)  loss_objectness: 0.0003 (0.0010)  loss_rpn_box_reg: 0.0020 (0.0023)  time: 0.8543  data: 0.0565  max mem: 6120\n",
      "Epoch: [14]  [260/263]  eta: 0:00:02  lr: 0.000100  loss: 0.0621 (0.0666)  loss_classifier: 0.0147 (0.0186)  loss_box_reg: 0.0440 (0.0447)  loss_objectness: 0.0006 (0.0010)  loss_rpn_box_reg: 0.0024 (0.0023)  time: 0.8527  data: 0.0557  max mem: 6120\n",
      "Epoch: [14]  [262/263]  eta: 0:00:00  lr: 0.000100  loss: 0.0621 (0.0667)  loss_classifier: 0.0140 (0.0186)  loss_box_reg: 0.0440 (0.0447)  loss_objectness: 0.0007 (0.0010)  loss_rpn_box_reg: 0.0024 (0.0023)  time: 0.8263  data: 0.0535  max mem: 6120\n",
      "Epoch: [14] Total time: 0:03:44 (0.8523 s / it)\n",
      "creating index...\n",
      "index created!\n",
      "Test:  [ 0/75]  eta: 0:00:34  model_time: 0.3810 (0.3810)  evaluator_time: 0.0056 (0.0056)  time: 0.4545  data: 0.0589  max mem: 6120\n"
     ]
    },
    {
     "name": "stderr",
     "output_type": "stream",
     "text": [
      "2024-12-26 02:06:03,975 - INFO - Evaluation results on validation set: <coco_eval.CocoEvaluator object at 0x7827916f3190>\n"
     ]
    },
    {
     "name": "stdout",
     "output_type": "stream",
     "text": [
      "Test:  [74/75]  eta: 0:00:00  model_time: 0.3662 (0.3660)  evaluator_time: 0.0053 (0.0059)  time: 0.4439  data: 0.0628  max mem: 6120\n",
      "Test: Total time: 0:00:33 (0.4451 s / it)\n",
      "Averaged stats: model_time: 0.3662 (0.3660)  evaluator_time: 0.0053 (0.0059)\n",
      "Accumulating evaluation results...\n",
      "DONE (t=0.12s).\n",
      "IoU metric: bbox\n",
      " Average Precision  (AP) @[ IoU=0.50:0.95 | area=   all | maxDets=100 ] = 0.292\n",
      " Average Precision  (AP) @[ IoU=0.50      | area=   all | maxDets=100 ] = 0.505\n",
      " Average Precision  (AP) @[ IoU=0.75      | area=   all | maxDets=100 ] = 0.308\n",
      " Average Precision  (AP) @[ IoU=0.50:0.95 | area= small | maxDets=100 ] = 0.058\n",
      " Average Precision  (AP) @[ IoU=0.50:0.95 | area=medium | maxDets=100 ] = 0.153\n",
      " Average Precision  (AP) @[ IoU=0.50:0.95 | area= large | maxDets=100 ] = 0.344\n",
      " Average Recall     (AR) @[ IoU=0.50:0.95 | area=   all | maxDets=  1 ] = 0.263\n",
      " Average Recall     (AR) @[ IoU=0.50:0.95 | area=   all | maxDets= 10 ] = 0.367\n",
      " Average Recall     (AR) @[ IoU=0.50:0.95 | area=   all | maxDets=100 ] = 0.369\n",
      " Average Recall     (AR) @[ IoU=0.50:0.95 | area= small | maxDets=100 ] = 0.073\n",
      " Average Recall     (AR) @[ IoU=0.50:0.95 | area=medium | maxDets=100 ] = 0.217\n",
      " Average Recall     (AR) @[ IoU=0.50:0.95 | area= large | maxDets=100 ] = 0.420\n",
      "<coco_eval.CocoEvaluator object at 0x7827916f3190>\n"
     ]
    },
    {
     "name": "stderr",
     "output_type": "stream",
     "text": [
      "2024-12-26 02:06:04,602 - INFO - Checkpoint saved at epoch 14\n"
     ]
    },
    {
     "name": "stdout",
     "output_type": "stream",
     "text": [
      "Checkpoint saved at epoch 14\n",
      "Epoch: [15]  [  0/263]  eta: 0:03:43  lr: 0.000100  loss: 0.0983 (0.0983)  loss_classifier: 0.0287 (0.0287)  loss_box_reg: 0.0669 (0.0669)  loss_objectness: 0.0001 (0.0001)  loss_rpn_box_reg: 0.0026 (0.0026)  time: 0.8516  data: 0.0531  max mem: 6120\n",
      "Epoch: [15]  [ 20/263]  eta: 0:03:28  lr: 0.000100  loss: 0.0571 (0.0677)  loss_classifier: 0.0145 (0.0170)  loss_box_reg: 0.0390 (0.0468)  loss_objectness: 0.0008 (0.0014)  loss_rpn_box_reg: 0.0022 (0.0024)  time: 0.8591  data: 0.0611  max mem: 6120\n",
      "Epoch: [15]  [ 40/263]  eta: 0:03:11  lr: 0.000100  loss: 0.0820 (0.0717)  loss_classifier: 0.0205 (0.0186)  loss_box_reg: 0.0550 (0.0495)  loss_objectness: 0.0009 (0.0013)  loss_rpn_box_reg: 0.0022 (0.0023)  time: 0.8558  data: 0.0597  max mem: 6120\n",
      "Epoch: [15]  [ 60/263]  eta: 0:02:53  lr: 0.000100  loss: 0.0725 (0.0720)  loss_classifier: 0.0190 (0.0189)  loss_box_reg: 0.0480 (0.0492)  loss_objectness: 0.0009 (0.0015)  loss_rpn_box_reg: 0.0022 (0.0024)  time: 0.8479  data: 0.0574  max mem: 6120\n",
      "Epoch: [15]  [ 80/263]  eta: 0:02:36  lr: 0.000100  loss: 0.0583 (0.0700)  loss_classifier: 0.0159 (0.0186)  loss_box_reg: 0.0399 (0.0476)  loss_objectness: 0.0003 (0.0013)  loss_rpn_box_reg: 0.0022 (0.0025)  time: 0.8544  data: 0.0576  max mem: 6120\n",
      "Epoch: [15]  [100/263]  eta: 0:02:19  lr: 0.000100  loss: 0.0663 (0.0684)  loss_classifier: 0.0174 (0.0183)  loss_box_reg: 0.0453 (0.0463)  loss_objectness: 0.0006 (0.0013)  loss_rpn_box_reg: 0.0020 (0.0025)  time: 0.8559  data: 0.0590  max mem: 6120\n",
      "Epoch: [15]  [120/263]  eta: 0:02:02  lr: 0.000100  loss: 0.0628 (0.0678)  loss_classifier: 0.0175 (0.0183)  loss_box_reg: 0.0409 (0.0459)  loss_objectness: 0.0005 (0.0012)  loss_rpn_box_reg: 0.0022 (0.0025)  time: 0.8556  data: 0.0589  max mem: 6120\n",
      "Epoch: [15]  [140/263]  eta: 0:01:45  lr: 0.000100  loss: 0.0527 (0.0665)  loss_classifier: 0.0139 (0.0179)  loss_box_reg: 0.0345 (0.0450)  loss_objectness: 0.0006 (0.0012)  loss_rpn_box_reg: 0.0019 (0.0024)  time: 0.8547  data: 0.0582  max mem: 6120\n",
      "Epoch: [15]  [160/263]  eta: 0:01:28  lr: 0.000100  loss: 0.0611 (0.0666)  loss_classifier: 0.0177 (0.0180)  loss_box_reg: 0.0411 (0.0451)  loss_objectness: 0.0006 (0.0011)  loss_rpn_box_reg: 0.0019 (0.0024)  time: 0.8525  data: 0.0563  max mem: 6120\n",
      "Epoch: [15]  [180/263]  eta: 0:01:10  lr: 0.000100  loss: 0.0544 (0.0661)  loss_classifier: 0.0159 (0.0180)  loss_box_reg: 0.0360 (0.0446)  loss_objectness: 0.0004 (0.0011)  loss_rpn_box_reg: 0.0018 (0.0024)  time: 0.8550  data: 0.0586  max mem: 6120\n",
      "Epoch: [15]  [200/263]  eta: 0:00:53  lr: 0.000100  loss: 0.0670 (0.0663)  loss_classifier: 0.0175 (0.0180)  loss_box_reg: 0.0461 (0.0447)  loss_objectness: 0.0008 (0.0011)  loss_rpn_box_reg: 0.0023 (0.0024)  time: 0.8563  data: 0.0595  max mem: 6120\n",
      "Epoch: [15]  [220/263]  eta: 0:00:36  lr: 0.000100  loss: 0.0648 (0.0665)  loss_classifier: 0.0185 (0.0181)  loss_box_reg: 0.0461 (0.0448)  loss_objectness: 0.0006 (0.0011)  loss_rpn_box_reg: 0.0018 (0.0023)  time: 0.8555  data: 0.0584  max mem: 6120\n",
      "Epoch: [15]  [240/263]  eta: 0:00:19  lr: 0.000100  loss: 0.0682 (0.0668)  loss_classifier: 0.0189 (0.0182)  loss_box_reg: 0.0457 (0.0451)  loss_objectness: 0.0007 (0.0011)  loss_rpn_box_reg: 0.0023 (0.0024)  time: 0.8546  data: 0.0580  max mem: 6120\n",
      "Epoch: [15]  [260/263]  eta: 0:00:02  lr: 0.000100  loss: 0.0565 (0.0663)  loss_classifier: 0.0157 (0.0181)  loss_box_reg: 0.0401 (0.0447)  loss_objectness: 0.0005 (0.0011)  loss_rpn_box_reg: 0.0018 (0.0023)  time: 0.8522  data: 0.0563  max mem: 6120\n",
      "Epoch: [15]  [262/263]  eta: 0:00:00  lr: 0.000100  loss: 0.0565 (0.0664)  loss_classifier: 0.0144 (0.0182)  loss_box_reg: 0.0401 (0.0448)  loss_objectness: 0.0004 (0.0011)  loss_rpn_box_reg: 0.0017 (0.0023)  time: 0.8269  data: 0.0547  max mem: 6120\n",
      "Epoch: [15] Total time: 0:03:44 (0.8528 s / it)\n",
      "creating index...\n",
      "index created!\n",
      "Test:  [ 0/75]  eta: 0:00:34  model_time: 0.3881 (0.3881)  evaluator_time: 0.0059 (0.0059)  time: 0.4621  data: 0.0589  max mem: 6120\n"
     ]
    },
    {
     "name": "stderr",
     "output_type": "stream",
     "text": [
      "2024-12-26 02:10:27,555 - INFO - Evaluation results on validation set: <coco_eval.CocoEvaluator object at 0x78286b30a650>\n"
     ]
    },
    {
     "name": "stdout",
     "output_type": "stream",
     "text": [
      "Test:  [74/75]  eta: 0:00:00  model_time: 0.3676 (0.3664)  evaluator_time: 0.0061 (0.0064)  time: 0.4506  data: 0.0669  max mem: 6120\n",
      "Test: Total time: 0:00:33 (0.4484 s / it)\n",
      "Averaged stats: model_time: 0.3676 (0.3664)  evaluator_time: 0.0061 (0.0064)\n",
      "Accumulating evaluation results...\n",
      "DONE (t=0.12s).\n",
      "IoU metric: bbox\n",
      " Average Precision  (AP) @[ IoU=0.50:0.95 | area=   all | maxDets=100 ] = 0.294\n",
      " Average Precision  (AP) @[ IoU=0.50      | area=   all | maxDets=100 ] = 0.513\n",
      " Average Precision  (AP) @[ IoU=0.75      | area=   all | maxDets=100 ] = 0.304\n",
      " Average Precision  (AP) @[ IoU=0.50:0.95 | area= small | maxDets=100 ] = 0.076\n",
      " Average Precision  (AP) @[ IoU=0.50:0.95 | area=medium | maxDets=100 ] = 0.142\n",
      " Average Precision  (AP) @[ IoU=0.50:0.95 | area= large | maxDets=100 ] = 0.350\n",
      " Average Recall     (AR) @[ IoU=0.50:0.95 | area=   all | maxDets=  1 ] = 0.264\n",
      " Average Recall     (AR) @[ IoU=0.50:0.95 | area=   all | maxDets= 10 ] = 0.368\n",
      " Average Recall     (AR) @[ IoU=0.50:0.95 | area=   all | maxDets=100 ] = 0.371\n",
      " Average Recall     (AR) @[ IoU=0.50:0.95 | area= small | maxDets=100 ] = 0.100\n",
      " Average Recall     (AR) @[ IoU=0.50:0.95 | area=medium | maxDets=100 ] = 0.203\n",
      " Average Recall     (AR) @[ IoU=0.50:0.95 | area= large | maxDets=100 ] = 0.427\n",
      "<coco_eval.CocoEvaluator object at 0x78286b30a650>\n"
     ]
    },
    {
     "name": "stderr",
     "output_type": "stream",
     "text": [
      "2024-12-26 02:10:28,210 - INFO - Checkpoint saved at epoch 15\n"
     ]
    },
    {
     "name": "stdout",
     "output_type": "stream",
     "text": [
      "Checkpoint saved at epoch 15\n",
      "Epoch: [16]  [  0/263]  eta: 0:03:44  lr: 0.000100  loss: 0.0421 (0.0421)  loss_classifier: 0.0164 (0.0164)  loss_box_reg: 0.0244 (0.0244)  loss_objectness: 0.0001 (0.0001)  loss_rpn_box_reg: 0.0013 (0.0013)  time: 0.8538  data: 0.0547  max mem: 6120\n",
      "Epoch: [16]  [ 20/263]  eta: 0:03:27  lr: 0.000100  loss: 0.0564 (0.0616)  loss_classifier: 0.0180 (0.0181)  loss_box_reg: 0.0355 (0.0404)  loss_objectness: 0.0006 (0.0009)  loss_rpn_box_reg: 0.0019 (0.0022)  time: 0.8557  data: 0.0595  max mem: 6120\n",
      "Epoch: [16]  [ 40/263]  eta: 0:03:10  lr: 0.000100  loss: 0.0637 (0.0664)  loss_classifier: 0.0192 (0.0192)  loss_box_reg: 0.0380 (0.0436)  loss_objectness: 0.0009 (0.0012)  loss_rpn_box_reg: 0.0024 (0.0023)  time: 0.8550  data: 0.0592  max mem: 6120\n",
      "Epoch: [16]  [ 60/263]  eta: 0:02:53  lr: 0.000100  loss: 0.0645 (0.0672)  loss_classifier: 0.0186 (0.0195)  loss_box_reg: 0.0419 (0.0439)  loss_objectness: 0.0009 (0.0014)  loss_rpn_box_reg: 0.0018 (0.0024)  time: 0.8544  data: 0.0571  max mem: 6120\n",
      "Epoch: [16]  [ 80/263]  eta: 0:02:36  lr: 0.000100  loss: 0.0537 (0.0674)  loss_classifier: 0.0166 (0.0197)  loss_box_reg: 0.0347 (0.0439)  loss_objectness: 0.0009 (0.0014)  loss_rpn_box_reg: 0.0024 (0.0024)  time: 0.8586  data: 0.0611  max mem: 6120\n",
      "Epoch: [16]  [100/263]  eta: 0:02:19  lr: 0.000100  loss: 0.0634 (0.0686)  loss_classifier: 0.0175 (0.0197)  loss_box_reg: 0.0447 (0.0451)  loss_objectness: 0.0007 (0.0014)  loss_rpn_box_reg: 0.0022 (0.0024)  time: 0.8557  data: 0.0598  max mem: 6120\n",
      "Epoch: [16]  [120/263]  eta: 0:02:02  lr: 0.000100  loss: 0.0610 (0.0676)  loss_classifier: 0.0144 (0.0192)  loss_box_reg: 0.0372 (0.0446)  loss_objectness: 0.0010 (0.0014)  loss_rpn_box_reg: 0.0019 (0.0024)  time: 0.8551  data: 0.0596  max mem: 6120\n",
      "Epoch: [16]  [140/263]  eta: 0:01:45  lr: 0.000100  loss: 0.0514 (0.0658)  loss_classifier: 0.0129 (0.0186)  loss_box_reg: 0.0350 (0.0435)  loss_objectness: 0.0009 (0.0013)  loss_rpn_box_reg: 0.0022 (0.0024)  time: 0.8563  data: 0.0601  max mem: 6120\n",
      "Epoch: [16]  [160/263]  eta: 0:01:28  lr: 0.000100  loss: 0.0575 (0.0656)  loss_classifier: 0.0166 (0.0185)  loss_box_reg: 0.0381 (0.0434)  loss_objectness: 0.0009 (0.0013)  loss_rpn_box_reg: 0.0023 (0.0024)  time: 0.8527  data: 0.0569  max mem: 6120\n",
      "Epoch: [16]  [180/263]  eta: 0:01:11  lr: 0.000100  loss: 0.0495 (0.0644)  loss_classifier: 0.0151 (0.0182)  loss_box_reg: 0.0350 (0.0426)  loss_objectness: 0.0005 (0.0012)  loss_rpn_box_reg: 0.0018 (0.0023)  time: 0.8569  data: 0.0599  max mem: 6120\n",
      "Epoch: [16]  [200/263]  eta: 0:00:53  lr: 0.000100  loss: 0.0671 (0.0645)  loss_classifier: 0.0151 (0.0180)  loss_box_reg: 0.0470 (0.0429)  loss_objectness: 0.0010 (0.0013)  loss_rpn_box_reg: 0.0023 (0.0023)  time: 0.8589  data: 0.0614  max mem: 6120\n",
      "Epoch: [16]  [220/263]  eta: 0:00:36  lr: 0.000100  loss: 0.0630 (0.0651)  loss_classifier: 0.0172 (0.0182)  loss_box_reg: 0.0402 (0.0433)  loss_objectness: 0.0006 (0.0012)  loss_rpn_box_reg: 0.0026 (0.0024)  time: 0.8573  data: 0.0607  max mem: 6120\n",
      "Epoch: [16]  [240/263]  eta: 0:00:19  lr: 0.000100  loss: 0.0580 (0.0647)  loss_classifier: 0.0163 (0.0181)  loss_box_reg: 0.0396 (0.0430)  loss_objectness: 0.0006 (0.0012)  loss_rpn_box_reg: 0.0017 (0.0023)  time: 0.8554  data: 0.0562  max mem: 6120\n",
      "Epoch: [16]  [260/263]  eta: 0:00:02  lr: 0.000100  loss: 0.0605 (0.0651)  loss_classifier: 0.0167 (0.0182)  loss_box_reg: 0.0426 (0.0433)  loss_objectness: 0.0006 (0.0012)  loss_rpn_box_reg: 0.0021 (0.0023)  time: 0.8477  data: 0.0554  max mem: 6120\n",
      "Epoch: [16]  [262/263]  eta: 0:00:00  lr: 0.000100  loss: 0.0618 (0.0655)  loss_classifier: 0.0172 (0.0183)  loss_box_reg: 0.0432 (0.0436)  loss_objectness: 0.0006 (0.0012)  loss_rpn_box_reg: 0.0023 (0.0023)  time: 0.8210  data: 0.0527  max mem: 6120\n",
      "Epoch: [16] Total time: 0:03:44 (0.8534 s / it)\n",
      "creating index...\n",
      "index created!\n",
      "Test:  [ 0/75]  eta: 0:00:33  model_time: 0.3732 (0.3732)  evaluator_time: 0.0052 (0.0052)  time: 0.4464  data: 0.0589  max mem: 6120\n"
     ]
    },
    {
     "name": "stderr",
     "output_type": "stream",
     "text": [
      "2024-12-26 02:14:50,812 - INFO - Evaluation results on validation set: <coco_eval.CocoEvaluator object at 0x78284bb82ad0>\n"
     ]
    },
    {
     "name": "stdout",
     "output_type": "stream",
     "text": [
      "Test:  [74/75]  eta: 0:00:00  model_time: 0.3653 (0.3652)  evaluator_time: 0.0050 (0.0055)  time: 0.4438  data: 0.0637  max mem: 6120\n",
      "Test: Total time: 0:00:33 (0.4441 s / it)\n",
      "Averaged stats: model_time: 0.3653 (0.3652)  evaluator_time: 0.0050 (0.0055)\n",
      "Accumulating evaluation results...\n",
      "DONE (t=0.11s).\n",
      "IoU metric: bbox\n",
      " Average Precision  (AP) @[ IoU=0.50:0.95 | area=   all | maxDets=100 ] = 0.279\n",
      " Average Precision  (AP) @[ IoU=0.50      | area=   all | maxDets=100 ] = 0.477\n",
      " Average Precision  (AP) @[ IoU=0.75      | area=   all | maxDets=100 ] = 0.298\n",
      " Average Precision  (AP) @[ IoU=0.50:0.95 | area= small | maxDets=100 ] = 0.076\n",
      " Average Precision  (AP) @[ IoU=0.50:0.95 | area=medium | maxDets=100 ] = 0.134\n",
      " Average Precision  (AP) @[ IoU=0.50:0.95 | area= large | maxDets=100 ] = 0.331\n",
      " Average Recall     (AR) @[ IoU=0.50:0.95 | area=   all | maxDets=  1 ] = 0.256\n",
      " Average Recall     (AR) @[ IoU=0.50:0.95 | area=   all | maxDets= 10 ] = 0.347\n",
      " Average Recall     (AR) @[ IoU=0.50:0.95 | area=   all | maxDets=100 ] = 0.348\n",
      " Average Recall     (AR) @[ IoU=0.50:0.95 | area= small | maxDets=100 ] = 0.085\n",
      " Average Recall     (AR) @[ IoU=0.50:0.95 | area=medium | maxDets=100 ] = 0.187\n",
      " Average Recall     (AR) @[ IoU=0.50:0.95 | area= large | maxDets=100 ] = 0.403\n",
      "<coco_eval.CocoEvaluator object at 0x78284bb82ad0>\n"
     ]
    },
    {
     "name": "stderr",
     "output_type": "stream",
     "text": [
      "2024-12-26 02:14:51,439 - INFO - Checkpoint saved at epoch 16\n"
     ]
    },
    {
     "name": "stdout",
     "output_type": "stream",
     "text": [
      "Checkpoint saved at epoch 16\n",
      "Epoch: [17]  [  0/263]  eta: 0:03:46  lr: 0.000100  loss: 0.0235 (0.0235)  loss_classifier: 0.0088 (0.0088)  loss_box_reg: 0.0129 (0.0129)  loss_objectness: 0.0005 (0.0005)  loss_rpn_box_reg: 0.0014 (0.0014)  time: 0.8625  data: 0.0692  max mem: 6120\n",
      "Epoch: [17]  [ 20/263]  eta: 0:03:27  lr: 0.000100  loss: 0.0679 (0.0689)  loss_classifier: 0.0174 (0.0186)  loss_box_reg: 0.0470 (0.0467)  loss_objectness: 0.0009 (0.0011)  loss_rpn_box_reg: 0.0023 (0.0025)  time: 0.8544  data: 0.0575  max mem: 6120\n",
      "Epoch: [17]  [ 40/263]  eta: 0:03:10  lr: 0.000100  loss: 0.0586 (0.0647)  loss_classifier: 0.0159 (0.0175)  loss_box_reg: 0.0378 (0.0438)  loss_objectness: 0.0006 (0.0011)  loss_rpn_box_reg: 0.0018 (0.0023)  time: 0.8526  data: 0.0570  max mem: 6120\n",
      "Epoch: [17]  [ 60/263]  eta: 0:02:53  lr: 0.000100  loss: 0.0557 (0.0624)  loss_classifier: 0.0152 (0.0170)  loss_box_reg: 0.0391 (0.0422)  loss_objectness: 0.0003 (0.0010)  loss_rpn_box_reg: 0.0017 (0.0022)  time: 0.8551  data: 0.0583  max mem: 6120\n",
      "Epoch: [17]  [ 80/263]  eta: 0:02:36  lr: 0.000100  loss: 0.0533 (0.0602)  loss_classifier: 0.0146 (0.0165)  loss_box_reg: 0.0337 (0.0406)  loss_objectness: 0.0004 (0.0009)  loss_rpn_box_reg: 0.0020 (0.0022)  time: 0.8565  data: 0.0600  max mem: 6120\n",
      "Epoch: [17]  [100/263]  eta: 0:02:19  lr: 0.000100  loss: 0.0567 (0.0602)  loss_classifier: 0.0139 (0.0163)  loss_box_reg: 0.0381 (0.0409)  loss_objectness: 0.0004 (0.0009)  loss_rpn_box_reg: 0.0019 (0.0022)  time: 0.8535  data: 0.0571  max mem: 6120\n",
      "Epoch: [17]  [120/263]  eta: 0:02:02  lr: 0.000100  loss: 0.0563 (0.0600)  loss_classifier: 0.0140 (0.0163)  loss_box_reg: 0.0386 (0.0407)  loss_objectness: 0.0007 (0.0009)  loss_rpn_box_reg: 0.0016 (0.0021)  time: 0.8566  data: 0.0601  max mem: 6120\n",
      "Epoch: [17]  [140/263]  eta: 0:01:45  lr: 0.000100  loss: 0.0634 (0.0610)  loss_classifier: 0.0175 (0.0167)  loss_box_reg: 0.0401 (0.0412)  loss_objectness: 0.0003 (0.0009)  loss_rpn_box_reg: 0.0019 (0.0021)  time: 0.8529  data: 0.0568  max mem: 6120\n",
      "Epoch: [17]  [160/263]  eta: 0:01:28  lr: 0.000100  loss: 0.0600 (0.0612)  loss_classifier: 0.0151 (0.0168)  loss_box_reg: 0.0377 (0.0414)  loss_objectness: 0.0005 (0.0009)  loss_rpn_box_reg: 0.0015 (0.0021)  time: 0.8545  data: 0.0583  max mem: 6120\n",
      "Epoch: [17]  [180/263]  eta: 0:01:10  lr: 0.000100  loss: 0.0579 (0.0620)  loss_classifier: 0.0164 (0.0170)  loss_box_reg: 0.0399 (0.0418)  loss_objectness: 0.0008 (0.0010)  loss_rpn_box_reg: 0.0026 (0.0022)  time: 0.8565  data: 0.0604  max mem: 6120\n",
      "Epoch: [17]  [200/263]  eta: 0:00:53  lr: 0.000100  loss: 0.0580 (0.0621)  loss_classifier: 0.0156 (0.0170)  loss_box_reg: 0.0405 (0.0419)  loss_objectness: 0.0004 (0.0009)  loss_rpn_box_reg: 0.0019 (0.0022)  time: 0.8501  data: 0.0594  max mem: 6120\n",
      "Epoch: [17]  [220/263]  eta: 0:00:36  lr: 0.000100  loss: 0.0568 (0.0620)  loss_classifier: 0.0161 (0.0171)  loss_box_reg: 0.0380 (0.0418)  loss_objectness: 0.0008 (0.0010)  loss_rpn_box_reg: 0.0016 (0.0022)  time: 0.8542  data: 0.0592  max mem: 6120\n",
      "Epoch: [17]  [240/263]  eta: 0:00:19  lr: 0.000100  loss: 0.0565 (0.0617)  loss_classifier: 0.0156 (0.0170)  loss_box_reg: 0.0373 (0.0415)  loss_objectness: 0.0007 (0.0010)  loss_rpn_box_reg: 0.0021 (0.0022)  time: 0.8518  data: 0.0570  max mem: 6120\n",
      "Epoch: [17]  [260/263]  eta: 0:00:02  lr: 0.000100  loss: 0.0577 (0.0615)  loss_classifier: 0.0158 (0.0170)  loss_box_reg: 0.0371 (0.0413)  loss_objectness: 0.0008 (0.0010)  loss_rpn_box_reg: 0.0021 (0.0022)  time: 0.8557  data: 0.0614  max mem: 6120\n",
      "Epoch: [17]  [262/263]  eta: 0:00:00  lr: 0.000100  loss: 0.0618 (0.0615)  loss_classifier: 0.0192 (0.0170)  loss_box_reg: 0.0405 (0.0413)  loss_objectness: 0.0011 (0.0010)  loss_rpn_box_reg: 0.0021 (0.0022)  time: 0.8294  data: 0.0585  max mem: 6120\n",
      "Epoch: [17] Total time: 0:03:44 (0.8524 s / it)\n",
      "creating index...\n",
      "index created!\n",
      "Test:  [ 0/75]  eta: 0:00:33  model_time: 0.3747 (0.3747)  evaluator_time: 0.0043 (0.0043)  time: 0.4476  data: 0.0595  max mem: 6120\n"
     ]
    },
    {
     "name": "stderr",
     "output_type": "stream",
     "text": [
      "2024-12-26 02:19:13,988 - INFO - Evaluation results on validation set: <coco_eval.CocoEvaluator object at 0x7827916f3190>\n"
     ]
    },
    {
     "name": "stdout",
     "output_type": "stream",
     "text": [
      "Test:  [74/75]  eta: 0:00:00  model_time: 0.3659 (0.3658)  evaluator_time: 0.0047 (0.0052)  time: 0.4459  data: 0.0650  max mem: 6120\n",
      "Test: Total time: 0:00:33 (0.4469 s / it)\n",
      "Averaged stats: model_time: 0.3659 (0.3658)  evaluator_time: 0.0047 (0.0052)\n",
      "Accumulating evaluation results...\n",
      "DONE (t=0.10s).\n",
      "IoU metric: bbox\n",
      " Average Precision  (AP) @[ IoU=0.50:0.95 | area=   all | maxDets=100 ] = 0.272\n",
      " Average Precision  (AP) @[ IoU=0.50      | area=   all | maxDets=100 ] = 0.475\n",
      " Average Precision  (AP) @[ IoU=0.75      | area=   all | maxDets=100 ] = 0.285\n",
      " Average Precision  (AP) @[ IoU=0.50:0.95 | area= small | maxDets=100 ] = 0.031\n",
      " Average Precision  (AP) @[ IoU=0.50:0.95 | area=medium | maxDets=100 ] = 0.138\n",
      " Average Precision  (AP) @[ IoU=0.50:0.95 | area= large | maxDets=100 ] = 0.323\n",
      " Average Recall     (AR) @[ IoU=0.50:0.95 | area=   all | maxDets=  1 ] = 0.244\n",
      " Average Recall     (AR) @[ IoU=0.50:0.95 | area=   all | maxDets= 10 ] = 0.337\n",
      " Average Recall     (AR) @[ IoU=0.50:0.95 | area=   all | maxDets=100 ] = 0.340\n",
      " Average Recall     (AR) @[ IoU=0.50:0.95 | area= small | maxDets=100 ] = 0.037\n",
      " Average Recall     (AR) @[ IoU=0.50:0.95 | area=medium | maxDets=100 ] = 0.195\n",
      " Average Recall     (AR) @[ IoU=0.50:0.95 | area= large | maxDets=100 ] = 0.390\n",
      "<coco_eval.CocoEvaluator object at 0x7827916f3190>\n"
     ]
    },
    {
     "name": "stderr",
     "output_type": "stream",
     "text": [
      "2024-12-26 02:19:14,641 - INFO - Checkpoint saved at epoch 17\n"
     ]
    },
    {
     "name": "stdout",
     "output_type": "stream",
     "text": [
      "Checkpoint saved at epoch 17\n",
      "Epoch: [18]  [  0/263]  eta: 0:03:47  lr: 0.000100  loss: 0.0854 (0.0854)  loss_classifier: 0.0217 (0.0217)  loss_box_reg: 0.0580 (0.0580)  loss_objectness: 0.0007 (0.0007)  loss_rpn_box_reg: 0.0050 (0.0050)  time: 0.8652  data: 0.0677  max mem: 6120\n",
      "Epoch: [18]  [ 20/263]  eta: 0:03:28  lr: 0.000100  loss: 0.0580 (0.0615)  loss_classifier: 0.0172 (0.0183)  loss_box_reg: 0.0366 (0.0400)  loss_objectness: 0.0005 (0.0008)  loss_rpn_box_reg: 0.0020 (0.0023)  time: 0.8585  data: 0.0610  max mem: 6120\n",
      "Epoch: [18]  [ 40/263]  eta: 0:03:11  lr: 0.000100  loss: 0.0573 (0.0627)  loss_classifier: 0.0153 (0.0187)  loss_box_reg: 0.0382 (0.0411)  loss_objectness: 0.0005 (0.0008)  loss_rpn_box_reg: 0.0021 (0.0022)  time: 0.8618  data: 0.0638  max mem: 6120\n",
      "Epoch: [18]  [ 60/263]  eta: 0:02:54  lr: 0.000100  loss: 0.0547 (0.0614)  loss_classifier: 0.0148 (0.0179)  loss_box_reg: 0.0378 (0.0406)  loss_objectness: 0.0005 (0.0007)  loss_rpn_box_reg: 0.0021 (0.0022)  time: 0.8538  data: 0.0573  max mem: 6120\n",
      "Epoch: [18]  [ 80/263]  eta: 0:02:36  lr: 0.000100  loss: 0.0629 (0.0624)  loss_classifier: 0.0170 (0.0178)  loss_box_reg: 0.0457 (0.0416)  loss_objectness: 0.0006 (0.0007)  loss_rpn_box_reg: 0.0020 (0.0023)  time: 0.8560  data: 0.0609  max mem: 6120\n",
      "Epoch: [18]  [100/263]  eta: 0:02:19  lr: 0.000100  loss: 0.0584 (0.0623)  loss_classifier: 0.0174 (0.0180)  loss_box_reg: 0.0378 (0.0413)  loss_objectness: 0.0004 (0.0008)  loss_rpn_box_reg: 0.0020 (0.0023)  time: 0.8503  data: 0.0592  max mem: 6120\n",
      "Epoch: [18]  [120/263]  eta: 0:02:02  lr: 0.000100  loss: 0.0539 (0.0610)  loss_classifier: 0.0125 (0.0175)  loss_box_reg: 0.0379 (0.0405)  loss_objectness: 0.0006 (0.0008)  loss_rpn_box_reg: 0.0017 (0.0022)  time: 0.8535  data: 0.0580  max mem: 6120\n",
      "Epoch: [18]  [140/263]  eta: 0:01:45  lr: 0.000100  loss: 0.0564 (0.0611)  loss_classifier: 0.0149 (0.0174)  loss_box_reg: 0.0389 (0.0408)  loss_objectness: 0.0006 (0.0008)  loss_rpn_box_reg: 0.0018 (0.0022)  time: 0.8566  data: 0.0593  max mem: 6120\n",
      "Epoch: [18]  [160/263]  eta: 0:01:28  lr: 0.000100  loss: 0.0502 (0.0606)  loss_classifier: 0.0136 (0.0172)  loss_box_reg: 0.0352 (0.0404)  loss_objectness: 0.0005 (0.0008)  loss_rpn_box_reg: 0.0018 (0.0022)  time: 0.8539  data: 0.0567  max mem: 6120\n",
      "Epoch: [18]  [180/263]  eta: 0:01:11  lr: 0.000100  loss: 0.0518 (0.0602)  loss_classifier: 0.0146 (0.0170)  loss_box_reg: 0.0351 (0.0402)  loss_objectness: 0.0004 (0.0008)  loss_rpn_box_reg: 0.0017 (0.0021)  time: 0.8546  data: 0.0586  max mem: 6120\n",
      "Epoch: [18]  [200/263]  eta: 0:00:53  lr: 0.000100  loss: 0.0574 (0.0603)  loss_classifier: 0.0139 (0.0170)  loss_box_reg: 0.0392 (0.0403)  loss_objectness: 0.0004 (0.0008)  loss_rpn_box_reg: 0.0020 (0.0021)  time: 0.8579  data: 0.0600  max mem: 6120\n",
      "Epoch: [18]  [220/263]  eta: 0:00:36  lr: 0.000100  loss: 0.0567 (0.0601)  loss_classifier: 0.0162 (0.0170)  loss_box_reg: 0.0377 (0.0402)  loss_objectness: 0.0003 (0.0008)  loss_rpn_box_reg: 0.0016 (0.0021)  time: 0.8536  data: 0.0581  max mem: 6120\n",
      "Epoch: [18]  [240/263]  eta: 0:00:19  lr: 0.000100  loss: 0.0563 (0.0600)  loss_classifier: 0.0141 (0.0168)  loss_box_reg: 0.0394 (0.0402)  loss_objectness: 0.0006 (0.0008)  loss_rpn_box_reg: 0.0016 (0.0021)  time: 0.8516  data: 0.0561  max mem: 6120\n",
      "Epoch: [18]  [260/263]  eta: 0:00:02  lr: 0.000100  loss: 0.0561 (0.0599)  loss_classifier: 0.0166 (0.0168)  loss_box_reg: 0.0387 (0.0402)  loss_objectness: 0.0004 (0.0008)  loss_rpn_box_reg: 0.0020 (0.0021)  time: 0.8565  data: 0.0585  max mem: 6120\n",
      "Epoch: [18]  [262/263]  eta: 0:00:00  lr: 0.000100  loss: 0.0601 (0.0600)  loss_classifier: 0.0171 (0.0168)  loss_box_reg: 0.0376 (0.0403)  loss_objectness: 0.0004 (0.0008)  loss_rpn_box_reg: 0.0017 (0.0021)  time: 0.8316  data: 0.0573  max mem: 6120\n",
      "Epoch: [18] Total time: 0:03:44 (0.8534 s / it)\n",
      "creating index...\n",
      "index created!\n",
      "Test:  [ 0/75]  eta: 0:00:33  model_time: 0.3771 (0.3771)  evaluator_time: 0.0049 (0.0049)  time: 0.4468  data: 0.0558  max mem: 6120\n"
     ]
    },
    {
     "name": "stderr",
     "output_type": "stream",
     "text": [
      "2024-12-26 02:23:37,464 - INFO - Evaluation results on validation set: <coco_eval.CocoEvaluator object at 0x78279d5bcf70>\n"
     ]
    },
    {
     "name": "stdout",
     "output_type": "stream",
     "text": [
      "Test:  [74/75]  eta: 0:00:00  model_time: 0.3651 (0.3656)  evaluator_time: 0.0050 (0.0055)  time: 0.4452  data: 0.0647  max mem: 6120\n",
      "Test: Total time: 0:00:33 (0.4444 s / it)\n",
      "Averaged stats: model_time: 0.3651 (0.3656)  evaluator_time: 0.0050 (0.0055)\n",
      "Accumulating evaluation results...\n",
      "DONE (t=0.11s).\n",
      "IoU metric: bbox\n",
      " Average Precision  (AP) @[ IoU=0.50:0.95 | area=   all | maxDets=100 ] = 0.274\n",
      " Average Precision  (AP) @[ IoU=0.50      | area=   all | maxDets=100 ] = 0.483\n",
      " Average Precision  (AP) @[ IoU=0.75      | area=   all | maxDets=100 ] = 0.282\n",
      " Average Precision  (AP) @[ IoU=0.50:0.95 | area= small | maxDets=100 ] = 0.048\n",
      " Average Precision  (AP) @[ IoU=0.50:0.95 | area=medium | maxDets=100 ] = 0.149\n",
      " Average Precision  (AP) @[ IoU=0.50:0.95 | area= large | maxDets=100 ] = 0.329\n",
      " Average Recall     (AR) @[ IoU=0.50:0.95 | area=   all | maxDets=  1 ] = 0.250\n",
      " Average Recall     (AR) @[ IoU=0.50:0.95 | area=   all | maxDets= 10 ] = 0.344\n",
      " Average Recall     (AR) @[ IoU=0.50:0.95 | area=   all | maxDets=100 ] = 0.346\n",
      " Average Recall     (AR) @[ IoU=0.50:0.95 | area= small | maxDets=100 ] = 0.086\n",
      " Average Recall     (AR) @[ IoU=0.50:0.95 | area=medium | maxDets=100 ] = 0.211\n",
      " Average Recall     (AR) @[ IoU=0.50:0.95 | area= large | maxDets=100 ] = 0.396\n",
      "<coco_eval.CocoEvaluator object at 0x78279d5bcf70>\n"
     ]
    },
    {
     "name": "stderr",
     "output_type": "stream",
     "text": [
      "2024-12-26 02:23:38,116 - INFO - Checkpoint saved at epoch 18\n"
     ]
    },
    {
     "name": "stdout",
     "output_type": "stream",
     "text": [
      "Checkpoint saved at epoch 18\n",
      "Epoch: [19]  [  0/263]  eta: 0:03:42  lr: 0.000100  loss: 0.0477 (0.0477)  loss_classifier: 0.0158 (0.0158)  loss_box_reg: 0.0282 (0.0282)  loss_objectness: 0.0017 (0.0017)  loss_rpn_box_reg: 0.0020 (0.0020)  time: 0.8470  data: 0.0544  max mem: 6120\n",
      "Epoch: [19]  [ 20/263]  eta: 0:03:26  lr: 0.000100  loss: 0.0517 (0.0593)  loss_classifier: 0.0137 (0.0153)  loss_box_reg: 0.0374 (0.0413)  loss_objectness: 0.0005 (0.0007)  loss_rpn_box_reg: 0.0018 (0.0019)  time: 0.8507  data: 0.0565  max mem: 6120\n",
      "Epoch: [19]  [ 40/263]  eta: 0:03:10  lr: 0.000100  loss: 0.0572 (0.0606)  loss_classifier: 0.0152 (0.0162)  loss_box_reg: 0.0384 (0.0417)  loss_objectness: 0.0003 (0.0007)  loss_rpn_box_reg: 0.0020 (0.0020)  time: 0.8552  data: 0.0579  max mem: 6120\n",
      "Epoch: [19]  [ 60/263]  eta: 0:02:53  lr: 0.000100  loss: 0.0613 (0.0594)  loss_classifier: 0.0156 (0.0161)  loss_box_reg: 0.0409 (0.0408)  loss_objectness: 0.0002 (0.0006)  loss_rpn_box_reg: 0.0017 (0.0019)  time: 0.8525  data: 0.0562  max mem: 6120\n",
      "Epoch: [19]  [ 80/263]  eta: 0:02:35  lr: 0.000100  loss: 0.0525 (0.0584)  loss_classifier: 0.0145 (0.0159)  loss_box_reg: 0.0358 (0.0400)  loss_objectness: 0.0008 (0.0006)  loss_rpn_box_reg: 0.0018 (0.0019)  time: 0.8507  data: 0.0548  max mem: 6120\n",
      "Epoch: [19]  [100/263]  eta: 0:02:18  lr: 0.000100  loss: 0.0589 (0.0586)  loss_classifier: 0.0160 (0.0161)  loss_box_reg: 0.0384 (0.0399)  loss_objectness: 0.0004 (0.0007)  loss_rpn_box_reg: 0.0017 (0.0019)  time: 0.8512  data: 0.0555  max mem: 6120\n",
      "Epoch: [19]  [120/263]  eta: 0:02:01  lr: 0.000100  loss: 0.0561 (0.0585)  loss_classifier: 0.0156 (0.0161)  loss_box_reg: 0.0390 (0.0398)  loss_objectness: 0.0002 (0.0006)  loss_rpn_box_reg: 0.0017 (0.0019)  time: 0.8513  data: 0.0556  max mem: 6120\n",
      "Epoch: [19]  [140/263]  eta: 0:01:44  lr: 0.000100  loss: 0.0455 (0.0580)  loss_classifier: 0.0147 (0.0161)  loss_box_reg: 0.0331 (0.0393)  loss_objectness: 0.0003 (0.0007)  loss_rpn_box_reg: 0.0018 (0.0019)  time: 0.8530  data: 0.0614  max mem: 6120\n",
      "Epoch: [19]  [160/263]  eta: 0:01:27  lr: 0.000100  loss: 0.0480 (0.0572)  loss_classifier: 0.0133 (0.0159)  loss_box_reg: 0.0315 (0.0386)  loss_objectness: 0.0005 (0.0007)  loss_rpn_box_reg: 0.0014 (0.0019)  time: 0.8525  data: 0.0578  max mem: 6120\n",
      "Epoch: [19]  [180/263]  eta: 0:01:10  lr: 0.000100  loss: 0.0586 (0.0576)  loss_classifier: 0.0162 (0.0161)  loss_box_reg: 0.0407 (0.0390)  loss_objectness: 0.0002 (0.0007)  loss_rpn_box_reg: 0.0017 (0.0019)  time: 0.8507  data: 0.0551  max mem: 6120\n",
      "Epoch: [19]  [200/263]  eta: 0:00:53  lr: 0.000100  loss: 0.0509 (0.0572)  loss_classifier: 0.0131 (0.0158)  loss_box_reg: 0.0346 (0.0388)  loss_objectness: 0.0003 (0.0006)  loss_rpn_box_reg: 0.0017 (0.0019)  time: 0.8488  data: 0.0556  max mem: 6120\n",
      "Epoch: [19]  [220/263]  eta: 0:00:36  lr: 0.000100  loss: 0.0488 (0.0566)  loss_classifier: 0.0135 (0.0157)  loss_box_reg: 0.0324 (0.0384)  loss_objectness: 0.0005 (0.0007)  loss_rpn_box_reg: 0.0016 (0.0019)  time: 0.8527  data: 0.0564  max mem: 6120\n",
      "Epoch: [19]  [240/263]  eta: 0:00:19  lr: 0.000100  loss: 0.0578 (0.0569)  loss_classifier: 0.0172 (0.0159)  loss_box_reg: 0.0389 (0.0385)  loss_objectness: 0.0003 (0.0007)  loss_rpn_box_reg: 0.0017 (0.0019)  time: 0.8504  data: 0.0547  max mem: 6120\n",
      "Epoch: [19]  [260/263]  eta: 0:00:02  lr: 0.000100  loss: 0.0570 (0.0569)  loss_classifier: 0.0154 (0.0159)  loss_box_reg: 0.0384 (0.0384)  loss_objectness: 0.0002 (0.0007)  loss_rpn_box_reg: 0.0016 (0.0019)  time: 0.8531  data: 0.0556  max mem: 6120\n",
      "Epoch: [19]  [262/263]  eta: 0:00:00  lr: 0.000100  loss: 0.0570 (0.0568)  loss_classifier: 0.0154 (0.0159)  loss_box_reg: 0.0384 (0.0384)  loss_objectness: 0.0002 (0.0007)  loss_rpn_box_reg: 0.0015 (0.0019)  time: 0.8276  data: 0.0535  max mem: 6120\n",
      "Epoch: [19] Total time: 0:03:43 (0.8499 s / it)\n",
      "creating index...\n",
      "index created!\n",
      "Test:  [ 0/75]  eta: 0:00:33  model_time: 0.3800 (0.3800)  evaluator_time: 0.0053 (0.0053)  time: 0.4501  data: 0.0558  max mem: 6120\n"
     ]
    },
    {
     "name": "stderr",
     "output_type": "stream",
     "text": [
      "2024-12-26 02:27:59,622 - INFO - Evaluation results on validation set: <coco_eval.CocoEvaluator object at 0x7827916f14e0>\n"
     ]
    },
    {
     "name": "stdout",
     "output_type": "stream",
     "text": [
      "Test:  [74/75]  eta: 0:00:00  model_time: 0.3665 (0.3659)  evaluator_time: 0.0050 (0.0057)  time: 0.4468  data: 0.0644  max mem: 6120\n",
      "Test: Total time: 0:00:33 (0.4450 s / it)\n",
      "Averaged stats: model_time: 0.3665 (0.3659)  evaluator_time: 0.0050 (0.0057)\n",
      "Accumulating evaluation results...\n",
      "DONE (t=0.10s).\n",
      "IoU metric: bbox\n",
      " Average Precision  (AP) @[ IoU=0.50:0.95 | area=   all | maxDets=100 ] = 0.275\n",
      " Average Precision  (AP) @[ IoU=0.50      | area=   all | maxDets=100 ] = 0.484\n",
      " Average Precision  (AP) @[ IoU=0.75      | area=   all | maxDets=100 ] = 0.287\n",
      " Average Precision  (AP) @[ IoU=0.50:0.95 | area= small | maxDets=100 ] = 0.027\n",
      " Average Precision  (AP) @[ IoU=0.50:0.95 | area=medium | maxDets=100 ] = 0.130\n",
      " Average Precision  (AP) @[ IoU=0.50:0.95 | area= large | maxDets=100 ] = 0.336\n",
      " Average Recall     (AR) @[ IoU=0.50:0.95 | area=   all | maxDets=  1 ] = 0.254\n",
      " Average Recall     (AR) @[ IoU=0.50:0.95 | area=   all | maxDets= 10 ] = 0.342\n",
      " Average Recall     (AR) @[ IoU=0.50:0.95 | area=   all | maxDets=100 ] = 0.345\n",
      " Average Recall     (AR) @[ IoU=0.50:0.95 | area= small | maxDets=100 ] = 0.032\n",
      " Average Recall     (AR) @[ IoU=0.50:0.95 | area=medium | maxDets=100 ] = 0.187\n",
      " Average Recall     (AR) @[ IoU=0.50:0.95 | area= large | maxDets=100 ] = 0.401\n",
      "<coco_eval.CocoEvaluator object at 0x7827916f14e0>\n"
     ]
    },
    {
     "name": "stderr",
     "output_type": "stream",
     "text": [
      "2024-12-26 02:28:00,274 - INFO - Checkpoint saved at epoch 19\n",
      "2024-12-26 02:28:00,276 - INFO - Starting evaluation on test set...\n"
     ]
    },
    {
     "name": "stdout",
     "output_type": "stream",
     "text": [
      "Checkpoint saved at epoch 19\n",
      "===== Evaluate on Test =====\n",
      "creating index...\n",
      "index created!\n",
      "Test:  [ 0/38]  eta: 0:00:16  model_time: 0.3645 (0.3645)  evaluator_time: 0.0058 (0.0058)  time: 0.4344  data: 0.0547  max mem: 6120\n"
     ]
    },
    {
     "name": "stderr",
     "output_type": "stream",
     "text": [
      "2024-12-26 02:28:22,442 - INFO - Evaluation results on test set: <coco_eval.CocoEvaluator object at 0x7827916f3160>\n"
     ]
    },
    {
     "name": "stdout",
     "output_type": "stream",
     "text": [
      "Test:  [37/38]  eta: 0:00:00  model_time: 0.3657 (0.3609)  evaluator_time: 0.0048 (0.0052)  time: 0.4375  data: 0.0668  max mem: 6120\n",
      "Test: Total time: 0:00:16 (0.4426 s / it)\n",
      "Averaged stats: model_time: 0.3657 (0.3609)  evaluator_time: 0.0048 (0.0052)\n",
      "Accumulating evaluation results...\n",
      "DONE (t=0.06s).\n",
      "IoU metric: bbox\n",
      " Average Precision  (AP) @[ IoU=0.50:0.95 | area=   all | maxDets=100 ] = 0.288\n",
      " Average Precision  (AP) @[ IoU=0.50      | area=   all | maxDets=100 ] = 0.477\n",
      " Average Precision  (AP) @[ IoU=0.75      | area=   all | maxDets=100 ] = 0.303\n",
      " Average Precision  (AP) @[ IoU=0.50:0.95 | area= small | maxDets=100 ] = 0.012\n",
      " Average Precision  (AP) @[ IoU=0.50:0.95 | area=medium | maxDets=100 ] = 0.090\n",
      " Average Precision  (AP) @[ IoU=0.50:0.95 | area= large | maxDets=100 ] = 0.359\n",
      " Average Recall     (AR) @[ IoU=0.50:0.95 | area=   all | maxDets=  1 ] = 0.262\n",
      " Average Recall     (AR) @[ IoU=0.50:0.95 | area=   all | maxDets= 10 ] = 0.341\n",
      " Average Recall     (AR) @[ IoU=0.50:0.95 | area=   all | maxDets=100 ] = 0.342\n",
      " Average Recall     (AR) @[ IoU=0.50:0.95 | area= small | maxDets=100 ] = 0.033\n",
      " Average Recall     (AR) @[ IoU=0.50:0.95 | area=medium | maxDets=100 ] = 0.140\n",
      " Average Recall     (AR) @[ IoU=0.50:0.95 | area= large | maxDets=100 ] = 0.407\n",
      "\n"
     ]
    }
   ],
   "source": [
    "import torch\n",
    "\n",
    "# Directory for saving checkpoints\n",
    "CHECKPOINT_DIR = \"/kaggle/working/results/checkpoints/\"\n",
    "Path(CHECKPOINT_DIR).mkdir(parents=True, exist_ok=True)\n",
    "\n",
    "def save_checkpoint(model, optimizer, epoch, checkpoint_dir=CHECKPOINT_DIR):\n",
    "    checkpoint_path = Path(checkpoint_dir) / f\"checkpoint_epoch_{epoch}.pth\"\n",
    "    torch.save({\n",
    "        'epoch': epoch,\n",
    "        'model_state_dict': model.state_dict(),\n",
    "        'optimizer_state_dict': optimizer.state_dict(),\n",
    "    }, checkpoint_path)\n",
    "    print(f\"Checkpoint saved at epoch {epoch}\")\n",
    "    logger.info(f\"Checkpoint saved at epoch {epoch}\")\n",
    "\n",
    "# Initialize variables for tracking the best performance\n",
    "best_metric = float('-inf')  # Or float('inf') if you're using a loss function and minimizing it\n",
    "\n",
    "# Training loop with checkpoint saving\n",
    "for epoch in range(num_epochs):\n",
    "    train_one_epoch(model, optimizer, train_dataloader, device, epoch, print_freq=20)\n",
    "    metric = evaluate(model, val_dataloader, device)  # e.g., validation accuracy or validation loss\n",
    "    logger.info(f\"Evaluation results on validation set: {metric}\")\n",
    "    print(metric)\n",
    "\n",
    "    # Save checkpoint at the end of each epoch\n",
    "    save_checkpoint(model, optimizer, epoch)\n",
    "\n",
    "\n",
    "print('===== Evaluate on Test =====')\n",
    "logger.info(\"Starting evaluation on test set...\")\n",
    "result = evaluate(model, test_dataloader, device)\n",
    "print()\n",
    "logger.info(f\"Evaluation results on test set: {result}\")\n"
   ]
  }
 ],
 "metadata": {
  "kaggle": {
   "accelerator": "gpu",
   "dataSources": [
    {
     "datasetId": 6367082,
     "sourceId": 10299100,
     "sourceType": "datasetVersion"
    }
   ],
   "dockerImageVersionId": 30823,
   "isGpuEnabled": true,
   "isInternetEnabled": true,
   "language": "python",
   "sourceType": "notebook"
  },
  "kernelspec": {
   "display_name": "Python 3",
   "language": "python",
   "name": "python3"
  },
  "language_info": {
   "codemirror_mode": {
    "name": "ipython",
    "version": 3
   },
   "file_extension": ".py",
   "mimetype": "text/x-python",
   "name": "python",
   "nbconvert_exporter": "python",
   "pygments_lexer": "ipython3",
   "version": "3.10.12"
  },
  "papermill": {
   "default_parameters": {},
   "duration": 5413.014772,
   "end_time": "2024-12-26T02:28:24.802578",
   "environment_variables": {},
   "exception": null,
   "input_path": "__notebook__.ipynb",
   "output_path": "__notebook__.ipynb",
   "parameters": {},
   "start_time": "2024-12-26T00:58:11.787806",
   "version": "2.6.0"
  }
 },
 "nbformat": 4,
 "nbformat_minor": 5
}
