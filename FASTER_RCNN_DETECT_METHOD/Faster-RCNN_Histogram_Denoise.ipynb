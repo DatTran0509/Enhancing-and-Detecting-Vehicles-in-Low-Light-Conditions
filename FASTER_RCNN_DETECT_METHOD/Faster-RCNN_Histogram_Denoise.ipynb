{
 "cells": [
  {
   "cell_type": "code",
   "execution_count": 1,
   "id": "2c98fba2",
   "metadata": {
    "_cell_guid": "b1076dfc-b9ad-4769-8c92-a6c4dae69d19",
    "_uuid": "8f2839f25d086af736a60e9eeb907d3b93b6e0e5",
    "execution": {
     "iopub.execute_input": "2024-12-22T18:21:51.062984Z",
     "iopub.status.busy": "2024-12-22T18:21:51.062582Z",
     "iopub.status.idle": "2024-12-22T18:23:45.209871Z",
     "shell.execute_reply": "2024-12-22T18:23:45.208535Z"
    },
    "papermill": {
     "duration": 114.15484,
     "end_time": "2024-12-22T18:23:45.212537",
     "exception": false,
     "start_time": "2024-12-22T18:21:51.057697",
     "status": "completed"
    },
    "tags": []
   },
   "outputs": [
    {
     "name": "stdout",
     "output_type": "stream",
     "text": [
      "Cloning into 'vision'...\r\n",
      "remote: Enumerating objects: 590841, done.\u001b[K\r\n",
      "remote: Counting objects: 100% (1195/1195), done.\u001b[K\r\n",
      "remote: Compressing objects: 100% (910/910), done.\u001b[K\r\n",
      "remote: Total 590841 (delta 971), reused 327 (delta 280), pack-reused 589646 (from 5)\u001b[K\r\n",
      "Receiving objects: 100% (590841/590841), 1.12 GiB | 19.21 MiB/s, done.\r\n",
      "Resolving deltas: 100% (552006/552006), done.\r\n",
      "fatal: not a git repository (or any parent up to mount point /kaggle)\r\n",
      "Stopping at filesystem boundary (GIT_DISCOVERY_ACROSS_FILESYSTEM not set).\r\n"
     ]
    }
   ],
   "source": [
    "!pip install pycocotools --quiet\n",
    "!git clone https://github.com/pytorch/vision.git\n",
    "!git checkout v0.3.0\n",
    "\n",
    "!cp vision/references/detection/utils.py ./\n",
    "\n",
    "!cp vision/references/detection/transforms.py ./\n",
    "!cp vision/references/detection/coco_eval.py ./\n",
    "!cp vision/references/detection/engine.py ./\n",
    "!cp vision/references/detection/coco_utils.py ./"
   ]
  },
  {
   "cell_type": "code",
   "execution_count": 2,
   "id": "6feb3781",
   "metadata": {
    "execution": {
     "iopub.execute_input": "2024-12-22T18:23:45.247967Z",
     "iopub.status.busy": "2024-12-22T18:23:45.247679Z",
     "iopub.status.idle": "2024-12-22T18:23:51.819416Z",
     "shell.execute_reply": "2024-12-22T18:23:51.818472Z"
    },
    "papermill": {
     "duration": 6.589805,
     "end_time": "2024-12-22T18:23:51.820763",
     "exception": false,
     "start_time": "2024-12-22T18:23:45.230958",
     "status": "completed"
    },
    "tags": []
   },
   "outputs": [
    {
     "name": "stderr",
     "output_type": "stream",
     "text": [
      "/usr/local/lib/python3.10/dist-packages/albumentations/__init__.py:13: UserWarning: A new version of Albumentations is available: 1.4.23 (you have 1.4.15). Upgrade using: pip install -U albumentations. To disable automatic update checks, set the environment variable NO_ALBUMENTATIONS_UPDATE to 1.\n",
      "  check_for_updates()\n"
     ]
    }
   ],
   "source": [
    "import os\n",
    "import shutil\n",
    "from pathlib import Path\n",
    "import logging\n",
    "import random\n",
    "import warnings\n",
    "import time\n",
    "import io\n",
    "import sys\n",
    "\n",
    "# Data handling and transformations\n",
    "import numpy as np\n",
    "from PIL import Image\n",
    "import cv2\n",
    "import xml.etree.ElementTree as ET\n",
    "\n",
    "# Machine learning and deep learning libraries\n",
    "import torch\n",
    "import torchvision\n",
    "from torchvision import transforms as torchtrans  \n",
    "from torchvision.models.detection.faster_rcnn import FastRCNNPredictor\n",
    "from sklearn.model_selection import train_test_split\n",
    "from sklearn.metrics import precision_recall_fscore_support\n",
    "\n",
    "# For image augmentations\n",
    "import albumentations as A\n",
    "from albumentations.pytorch.transforms import ToTensorV2\n",
    "\n",
    "# Progress bar\n",
    "from tqdm import tqdm\n",
    "import matplotlib.pyplot as plt\n",
    "import matplotlib.patches as patches \n",
    "\n",
    "# Custom libraries\n",
    "import utils\n",
    "import transforms as T\n",
    "import engine  # Assuming this is a custom library\n",
    "import logging\n",
    "from engine import train_one_epoch, evaluate\n",
    "from torchvision import models, transforms"
   ]
  },
  {
   "cell_type": "code",
   "execution_count": 3,
   "id": "1c874648",
   "metadata": {
    "execution": {
     "iopub.execute_input": "2024-12-22T18:23:51.853438Z",
     "iopub.status.busy": "2024-12-22T18:23:51.852970Z",
     "iopub.status.idle": "2024-12-22T18:23:51.856860Z",
     "shell.execute_reply": "2024-12-22T18:23:51.856014Z"
    },
    "papermill": {
     "duration": 0.021293,
     "end_time": "2024-12-22T18:23:51.858268",
     "exception": false,
     "start_time": "2024-12-22T18:23:51.836975",
     "status": "completed"
    },
    "tags": []
   },
   "outputs": [],
   "source": [
    "# Define paths\n",
    "TRAIN_IMAGES_DIR = \"/kaggle/input/dataset-cs406/Enhanced_Dataset/Enhanced_Dataset/train/images\"\n",
    "VAL_IMAGES_DIR = \"/kaggle/input/dataset-cs406/Enhanced_Dataset/Enhanced_Dataset/val/images\"\n",
    "TEST_IMAGES_DIR = \"/kaggle/input/dataset-cs406/Enhanced_Dataset/Enhanced_Dataset/test/images\"\n",
    "ANNOTATIONS_DIR = \"/kaggle/input/dataset-cs406/Enhanced_Dataset/Enhanced_Dataset/VOC_Annotations\"\n"
   ]
  },
  {
   "cell_type": "code",
   "execution_count": 4,
   "id": "a21a6774",
   "metadata": {
    "execution": {
     "iopub.execute_input": "2024-12-22T18:23:51.889398Z",
     "iopub.status.busy": "2024-12-22T18:23:51.889137Z",
     "iopub.status.idle": "2024-12-22T18:23:51.897492Z",
     "shell.execute_reply": "2024-12-22T18:23:51.896791Z"
    },
    "papermill": {
     "duration": 0.025289,
     "end_time": "2024-12-22T18:23:51.898740",
     "exception": false,
     "start_time": "2024-12-22T18:23:51.873451",
     "status": "completed"
    },
    "tags": []
   },
   "outputs": [],
   "source": [
    "class VehicleDataset(torch.utils.data.Dataset):\n",
    "    def __init__(self, images_dir, annotations_dir, transforms=None):\n",
    "        self.images_dir = images_dir\n",
    "        self.transforms = transforms\n",
    "        self.annotations_dir = annotations_dir\n",
    "        self.image_files = [f for f in os.listdir(images_dir) ]\n",
    "        \n",
    "\n",
    "    def __len__(self):\n",
    "        return len(self.image_files)\n",
    "        \n",
    "    def __getitem__(self, idx):\n",
    "        image_filename = self.image_files[idx]\n",
    "        image_path = os.path.join(self.images_dir, image_filename)\n",
    "        anno_file =  os.path.splitext(image_filename)[0] + \".xml\"\n",
    "        annotation_path = os.path.join(self.annotations_dir,anno_file)\n",
    "        img = Image.open(image_path).convert(\"RGB\")\n",
    "        tree = ET.parse(annotation_path)\n",
    "        root = tree.getroot()\n",
    "\n",
    "        boxes = []\n",
    "        labels = []\n",
    "        img_width, img_height = img.size\n",
    "        for obj in root.findall(\"object\"):\n",
    "            bbox = obj.find(\"bndbox\")\n",
    "            xmin = int(bbox.find(\"xmin\").text)\n",
    "            ymin = int(bbox.find(\"ymin\").text)\n",
    "            xmax = int(bbox.find(\"xmax\").text)\n",
    "            ymax = int(bbox.find(\"ymax\").text)\n",
    "            boxes.append([xmin, ymin, xmax, ymax])\n",
    "            name = obj.find(\"name\").text\n",
    "            label = int(name.split('_')[-1]) \n",
    "            labels.append(label)\n",
    "        if len(boxes) == 0:\n",
    "            return None, None\n",
    "            \n",
    "        # Convert boxes to numpy array for albumentations (no manual normalization here)\n",
    "        boxes = np.array(boxes, dtype=np.float32)\n",
    "        \n",
    "        # Apply transformations if provided\n",
    "        if self.transforms:\n",
    "            img = self.transforms(img)\n",
    "\n",
    "        # Convert boxes to tensor\n",
    "        boxes = torch.as_tensor(boxes, dtype=torch.float32)\n",
    "        labels = torch.as_tensor(labels, dtype=torch.int64)\n",
    "\n",
    "        # Calculate area of each box\n",
    "        area = (boxes[:, 3] - boxes[:, 1]) * (boxes[:, 2] - boxes[:, 0])\n",
    "\n",
    "        # Suppose all instances are not crowd\n",
    "        iscrowd = torch.zeros((boxes.shape[0],), dtype=torch.int64)\n",
    "\n",
    "        # Prepare the target dictionary\n",
    "        target = {\n",
    "            \"boxes\": boxes,\n",
    "            \"labels\": labels,\n",
    "            \"area\": area,\n",
    "            \"iscrowd\": iscrowd,\n",
    "            \"image_id\": int(idx)\n",
    "        }\n",
    "\n",
    "        return img, target"
   ]
  },
  {
   "cell_type": "code",
   "execution_count": 5,
   "id": "33b7ca2f",
   "metadata": {
    "execution": {
     "iopub.execute_input": "2024-12-22T18:23:51.929352Z",
     "iopub.status.busy": "2024-12-22T18:23:51.929116Z",
     "iopub.status.idle": "2024-12-22T18:23:52.424930Z",
     "shell.execute_reply": "2024-12-22T18:23:52.424014Z"
    },
    "papermill": {
     "duration": 0.514266,
     "end_time": "2024-12-22T18:23:52.427910",
     "exception": false,
     "start_time": "2024-12-22T18:23:51.913644",
     "status": "completed"
    },
    "tags": []
   },
   "outputs": [
    {
     "name": "stdout",
     "output_type": "stream",
     "text": [
      "torch.Size([3, 640, 640]) \n",
      " {'boxes': tensor([[211., 262., 449., 422.],\n",
      "        [323.,   6., 463., 264.]]), 'labels': tensor([2, 2]), 'area': tensor([38080., 36120.]), 'iscrowd': tensor([0, 0]), 'image_id': 25}\n"
     ]
    },
    {
     "data": {
      "image/png": "[encoded data removed]",
      "text/plain": [
       "<Figure size 640x480 with 1 Axes>"
      ]
     },
     "metadata": {},
     "output_type": "display_data"
    }
   ],
   "source": [
    "tmp_dataset = VehicleDataset(TRAIN_IMAGES_DIR, ANNOTATIONS_DIR)\n",
    "# ========================\n",
    "# Plot Image with Bounding Boxes\n",
    "# ========================\n",
    "def plot_img_bbox(img, target):\n",
    "    fig, ax = plt.subplots(1, 1)\n",
    "    ax.imshow(img.permute(1, 2, 0))  # Convert to HxWxC format for plotting\n",
    "    for box in target['boxes']:\n",
    "        x_min, y_min, x_max, y_max = box\n",
    "        width = x_max - x_min\n",
    "        height = y_max - y_min\n",
    "        rect = patches.Rectangle((x_min, y_min), width, height, linewidth=2, edgecolor='r', facecolor='none')\n",
    "        ax.add_patch(rect)\n",
    "    plt.show()\n",
    "transform = transforms.Compose([\n",
    "    transforms.ToTensor(),\n",
    "])\n",
    "tmp_dataset = VehicleDataset(TRAIN_IMAGES_DIR, ANNOTATIONS_DIR, transform)\n",
    "img, target = tmp_dataset[25]\n",
    "print(img.shape, '\\n', target)\n",
    "plot_img_bbox(img, target)"
   ]
  },
  {
   "cell_type": "code",
   "execution_count": 6,
   "id": "cab90dfe",
   "metadata": {
    "execution": {
     "iopub.execute_input": "2024-12-22T18:23:52.467529Z",
     "iopub.status.busy": "2024-12-22T18:23:52.467179Z",
     "iopub.status.idle": "2024-12-22T18:23:52.500204Z",
     "shell.execute_reply": "2024-12-22T18:23:52.499468Z"
    },
    "papermill": {
     "duration": 0.054291,
     "end_time": "2024-12-22T18:23:52.501652",
     "exception": false,
     "start_time": "2024-12-22T18:23:52.447361",
     "status": "completed"
    },
    "tags": []
   },
   "outputs": [],
   "source": [
    "# Define transformations\n",
    "transform = transforms.Compose([\n",
    "    transforms.ToTensor(),  # Chuyển ảnh PIL -> Tensor\n",
    "    transforms.Normalize(mean=[0.485, 0.456, 0.406], std=[0.229, 0.224, 0.225])  # Chuẩn hóa 3 kênh RGB\n",
    "])\n",
    "# Define dataset and dataloader\n",
    "train_dataset = VehicleDataset(TRAIN_IMAGES_DIR, ANNOTATIONS_DIR, transform)\n",
    "train_dataloader =  torch.utils.data.DataLoader(train_dataset, batch_size=8, shuffle=True, collate_fn=lambda x: tuple(zip(*[(img, tgt) for img, tgt in x if img is not None and tgt is not None])))\n",
    "# Validation setup\n",
    "val_dataset = VehicleDataset(VAL_IMAGES_DIR, ANNOTATIONS_DIR, transform)\n",
    "val_dataloader =  torch.utils.data.DataLoader(val_dataset, batch_size=8, shuffle=False, collate_fn=lambda x: tuple(zip(*[(img, tgt) for img, tgt in x if img is not None and tgt is not None])))\n",
    "# Test setup\n",
    "test_dataset = VehicleDataset(TEST_IMAGES_DIR, ANNOTATIONS_DIR,transform)\n",
    "test_dataloader =  torch.utils.data.DataLoader(test_dataset, batch_size=8, shuffle=False, collate_fn=lambda x: tuple(zip(*[(img, tgt) for img, tgt in x if img is not None and tgt is not None])))"
   ]
  },
  {
   "cell_type": "code",
   "execution_count": 7,
   "id": "9fda7166",
   "metadata": {
    "execution": {
     "iopub.execute_input": "2024-12-22T18:23:52.539785Z",
     "iopub.status.busy": "2024-12-22T18:23:52.539522Z",
     "iopub.status.idle": "2024-12-22T18:23:52.545043Z",
     "shell.execute_reply": "2024-12-22T18:23:52.544235Z"
    },
    "papermill": {
     "duration": 0.025759,
     "end_time": "2024-12-22T18:23:52.546305",
     "exception": false,
     "start_time": "2024-12-22T18:23:52.520546",
     "status": "completed"
    },
    "tags": []
   },
   "outputs": [],
   "source": [
    "from pathlib import Path\n",
    "\n",
    "LOG_FILE = \"/kaggle/working/results/log.txt\"\n",
    "ERROR_FILE = \"/kaggle/working/results/error.txt\"\n",
    "\n",
    "Path(LOG_FILE).parent.mkdir(parents=True, exist_ok=True)\n",
    "Path(ERROR_FILE).parent.mkdir(parents=True, exist_ok=True)\n",
    "\n",
    "logger = logging.getLogger()\n",
    "logger.setLevel(logging.INFO)  # Ensure logger level is set to INFO or DEBUG\n",
    "formatter = logging.Formatter(\"%(asctime)s - %(levelname)s - %(message)s\")\n",
    "\n",
    "# File handler to log to the log.txt file\n",
    "file_handler = logging.FileHandler(LOG_FILE, mode='w')\n",
    "file_handler.setFormatter(formatter)\n",
    "logger.addHandler(file_handler)\n",
    "\n",
    "# Stream handler to log to terminal\n",
    "stream_handler = logging.StreamHandler()\n",
    "stream_handler.setFormatter(formatter)\n",
    "logger.addHandler(stream_handler)\n"
   ]
  },
  {
   "cell_type": "code",
   "execution_count": 8,
   "id": "0071baab",
   "metadata": {
    "execution": {
     "iopub.execute_input": "2024-12-22T18:23:52.584117Z",
     "iopub.status.busy": "2024-12-22T18:23:52.583878Z",
     "iopub.status.idle": "2024-12-22T18:23:52.587456Z",
     "shell.execute_reply": "2024-12-22T18:23:52.586769Z"
    },
    "papermill": {
     "duration": 0.023947,
     "end_time": "2024-12-22T18:23:52.588623",
     "exception": false,
     "start_time": "2024-12-22T18:23:52.564676",
     "status": "completed"
    },
    "tags": []
   },
   "outputs": [],
   "source": [
    "def get_model(num_classes):\n",
    "    model = models.detection.fasterrcnn_resnet50_fpn(pretrained=True)\n",
    "    in_features = model.roi_heads.box_predictor.cls_score.in_features\n",
    "    model.roi_heads.box_predictor = FastRCNNPredictor(in_features, num_classes)\n",
    "    print(\"Model Done!\")\n",
    "    return model"
   ]
  },
  {
   "cell_type": "code",
   "execution_count": 9,
   "id": "102360a3",
   "metadata": {
    "execution": {
     "iopub.execute_input": "2024-12-22T18:23:52.626299Z",
     "iopub.status.busy": "2024-12-22T18:23:52.626040Z",
     "iopub.status.idle": "2024-12-22T18:23:54.411921Z",
     "shell.execute_reply": "2024-12-22T18:23:54.411235Z"
    },
    "papermill": {
     "duration": 1.806426,
     "end_time": "2024-12-22T18:23:54.413422",
     "exception": false,
     "start_time": "2024-12-22T18:23:52.606996",
     "status": "completed"
    },
    "tags": []
   },
   "outputs": [
    {
     "name": "stderr",
     "output_type": "stream",
     "text": [
      "/usr/local/lib/python3.10/dist-packages/torchvision/models/_utils.py:208: UserWarning: The parameter 'pretrained' is deprecated since 0.13 and may be removed in the future, please use 'weights' instead.\n",
      "  warnings.warn(\n",
      "/usr/local/lib/python3.10/dist-packages/torchvision/models/_utils.py:223: UserWarning: Arguments other than a weight enum or `None` for 'weights' are deprecated since 0.13 and may be removed in the future. The current behavior is equivalent to passing `weights=FasterRCNN_ResNet50_FPN_Weights.COCO_V1`. You can also use `weights=FasterRCNN_ResNet50_FPN_Weights.DEFAULT` to get the most up-to-date weights.\n",
      "  warnings.warn(msg)\n",
      "Downloading: \"https://download.pytorch.org/models/fasterrcnn_resnet50_fpn_coco-258fb6c6.pth\" to /root/.cache/torch/hub/checkpoints/fasterrcnn_resnet50_fpn_coco-258fb6c6.pth\n",
      "100%|██████████| 160M/160M [00:00<00:00, 222MB/s]\n"
     ]
    },
    {
     "name": "stdout",
     "output_type": "stream",
     "text": [
      "Model Done!\n"
     ]
    }
   ],
   "source": [
    "device = torch.device('cuda') if torch.cuda.is_available() else torch.device('cpu')\n",
    "model = get_model(6)\n",
    "model.to(device)\n",
    "optimizer = torch.optim.Adam(model.parameters(), lr=1e-4, weight_decay=1e-5)\n",
    "num_epochs = 20"
   ]
  },
  {
   "cell_type": "code",
   "execution_count": 10,
   "id": "c34e0369",
   "metadata": {
    "execution": {
     "iopub.execute_input": "2024-12-22T18:23:54.453631Z",
     "iopub.status.busy": "2024-12-22T18:23:54.453341Z",
     "iopub.status.idle": "2024-12-22T19:54:41.797945Z",
     "shell.execute_reply": "2024-12-22T19:54:41.796959Z"
    },
    "papermill": {
     "duration": 5447.366403,
     "end_time": "2024-12-22T19:54:41.799578",
     "exception": false,
     "start_time": "2024-12-22T18:23:54.433175",
     "status": "completed"
    },
    "tags": []
   },
   "outputs": [
    {
     "name": "stderr",
     "output_type": "stream",
     "text": [
      "/kaggle/working/engine.py:30: FutureWarning: `torch.cuda.amp.autocast(args...)` is deprecated. Please use `torch.amp.autocast('cuda', args...)` instead.\n",
      "  with torch.cuda.amp.autocast(enabled=scaler is not None):\n"
     ]
    },
    {
     "name": "stdout",
     "output_type": "stream",
     "text": [
      "Epoch: [0]  [  0/263]  eta: 0:10:34  lr: 0.000000  loss: 3.5630 (3.5630)  loss_classifier: 2.7824 (2.7824)  loss_box_reg: 0.0447 (0.0447)  loss_objectness: 0.7057 (0.7057)  loss_rpn_box_reg: 0.0302 (0.0302)  time: 2.4117  data: 0.1662  max mem: 5805\n",
      "Epoch: [0]  [ 20/263]  eta: 0:04:02  lr: 0.000008  loss: 2.2698 (2.3173)  loss_classifier: 1.9059 (1.9370)  loss_box_reg: 0.0726 (0.0900)  loss_objectness: 0.1957 (0.2671)  loss_rpn_box_reg: 0.0209 (0.0232)  time: 0.9258  data: 0.1420  max mem: 6119\n",
      "Epoch: [0]  [ 40/263]  eta: 0:03:35  lr: 0.000016  loss: 0.5039 (1.4704)  loss_classifier: 0.2460 (1.1514)  loss_box_reg: 0.1471 (0.1216)  loss_objectness: 0.0704 (0.1786)  loss_rpn_box_reg: 0.0131 (0.0189)  time: 0.9350  data: 0.1460  max mem: 6119\n",
      "Epoch: [0]  [ 60/263]  eta: 0:03:13  lr: 0.000023  loss: 0.4741 (1.1361)  loss_classifier: 0.2027 (0.8491)  loss_box_reg: 0.1503 (0.1312)  loss_objectness: 0.0438 (0.1396)  loss_rpn_box_reg: 0.0098 (0.0162)  time: 0.9331  data: 0.1418  max mem: 6119\n",
      "Epoch: [0]  [ 80/263]  eta: 0:02:54  lr: 0.000031  loss: 0.4273 (0.9624)  loss_classifier: 0.2167 (0.6913)  loss_box_reg: 0.1569 (0.1379)  loss_objectness: 0.0535 (0.1185)  loss_rpn_box_reg: 0.0095 (0.0148)  time: 0.9382  data: 0.1517  max mem: 6119\n",
      "Epoch: [0]  [100/263]  eta: 0:02:34  lr: 0.000039  loss: 0.4997 (0.8677)  loss_classifier: 0.2309 (0.6000)  loss_box_reg: 0.1866 (0.1482)  loss_objectness: 0.0386 (0.1055)  loss_rpn_box_reg: 0.0104 (0.0141)  time: 0.9384  data: 0.1466  max mem: 6119\n",
      "Epoch: [0]  [120/263]  eta: 0:02:15  lr: 0.000046  loss: 0.3829 (0.7924)  loss_classifier: 0.1854 (0.5324)  loss_box_reg: 0.1596 (0.1523)  loss_objectness: 0.0293 (0.0943)  loss_rpn_box_reg: 0.0095 (0.0134)  time: 0.9504  data: 0.1591  max mem: 6119\n",
      "Epoch: [0]  [140/263]  eta: 0:01:56  lr: 0.000054  loss: 0.3719 (0.7368)  loss_classifier: 0.1786 (0.4824)  loss_box_reg: 0.1747 (0.1569)  loss_objectness: 0.0184 (0.0847)  loss_rpn_box_reg: 0.0077 (0.0128)  time: 0.9456  data: 0.1531  max mem: 6119\n",
      "Epoch: [0]  [160/263]  eta: 0:01:37  lr: 0.000061  loss: 0.3629 (0.6907)  loss_classifier: 0.1538 (0.4425)  loss_box_reg: 0.1654 (0.1584)  loss_objectness: 0.0260 (0.0777)  loss_rpn_box_reg: 0.0070 (0.0122)  time: 0.9508  data: 0.1588  max mem: 6119\n",
      "Epoch: [0]  [180/263]  eta: 0:01:18  lr: 0.000069  loss: 0.3559 (0.6556)  loss_classifier: 0.1497 (0.4112)  loss_box_reg: 0.1574 (0.1600)  loss_objectness: 0.0237 (0.0726)  loss_rpn_box_reg: 0.0064 (0.0118)  time: 0.9607  data: 0.1678  max mem: 6119\n",
      "Epoch: [0]  [200/263]  eta: 0:00:59  lr: 0.000077  loss: 0.3710 (0.6283)  loss_classifier: 0.1698 (0.3876)  loss_box_reg: 0.1589 (0.1606)  loss_objectness: 0.0286 (0.0685)  loss_rpn_box_reg: 0.0069 (0.0115)  time: 0.9578  data: 0.1649  max mem: 6119\n",
      "Epoch: [0]  [220/263]  eta: 0:00:40  lr: 0.000084  loss: 0.3472 (0.6036)  loss_classifier: 0.1469 (0.3662)  loss_box_reg: 0.1656 (0.1608)  loss_objectness: 0.0260 (0.0654)  loss_rpn_box_reg: 0.0076 (0.0112)  time: 0.9522  data: 0.1581  max mem: 6119\n",
      "Epoch: [0]  [240/263]  eta: 0:00:21  lr: 0.000092  loss: 0.2544 (0.5775)  loss_classifier: 0.1165 (0.3464)  loss_box_reg: 0.1155 (0.1586)  loss_objectness: 0.0163 (0.0616)  loss_rpn_box_reg: 0.0061 (0.0109)  time: 0.9706  data: 0.1768  max mem: 6119\n",
      "Epoch: [0]  [260/263]  eta: 0:00:02  lr: 0.000100  loss: 0.2912 (0.5602)  loss_classifier: 0.1240 (0.3314)  loss_box_reg: 0.1567 (0.1594)  loss_objectness: 0.0164 (0.0586)  loss_rpn_box_reg: 0.0067 (0.0107)  time: 0.9487  data: 0.1555  max mem: 6119\n",
      "Epoch: [0]  [262/263]  eta: 0:00:00  lr: 0.000100  loss: 0.2995 (0.5590)  loss_classifier: 0.1279 (0.3301)  loss_box_reg: 0.1592 (0.1594)  loss_objectness: 0.0195 (0.0587)  loss_rpn_box_reg: 0.0061 (0.0107)  time: 0.9254  data: 0.1544  max mem: 6119\n",
      "Epoch: [0] Total time: 0:04:10 (0.9506 s / it)\n",
      "creating index...\n",
      "index created!\n",
      "Test:  [ 0/75]  eta: 0:00:39  model_time: 0.3824 (0.3824)  evaluator_time: 0.0217 (0.0217)  time: 0.5238  data: 0.1105  max mem: 6119\n",
      "Test:  [74/75]  eta: 0:00:00  model_time: 0.3648 (0.3650)  evaluator_time: 0.0165 (0.0192)  time: 0.4836  data: 0.0912  max mem: 6119\n",
      "Test: Total time: 0:00:36 (0.4866 s / it)\n",
      "Averaged stats: model_time: 0.3648 (0.3650)  evaluator_time: 0.0165 (0.0192)\n",
      "Accumulating evaluation results...\n"
     ]
    },
    {
     "name": "stderr",
     "output_type": "stream",
     "text": [
      "2024-12-22 18:28:54,352 - INFO - Evaluation results on validation set: <coco_eval.CocoEvaluator object at 0x7897fcc1a6e0>\n"
     ]
    },
    {
     "name": "stdout",
     "output_type": "stream",
     "text": [
      "DONE (t=0.43s).\n",
      "IoU metric: bbox\n",
      " Average Precision  (AP) @[ IoU=0.50:0.95 | area=   all | maxDets=100 ] = 0.209\n",
      " Average Precision  (AP) @[ IoU=0.50      | area=   all | maxDets=100 ] = 0.450\n",
      " Average Precision  (AP) @[ IoU=0.75      | area=   all | maxDets=100 ] = 0.150\n",
      " Average Precision  (AP) @[ IoU=0.50:0.95 | area= small | maxDets=100 ] = 0.064\n",
      " Average Precision  (AP) @[ IoU=0.50:0.95 | area=medium | maxDets=100 ] = 0.122\n",
      " Average Precision  (AP) @[ IoU=0.50:0.95 | area= large | maxDets=100 ] = 0.246\n",
      " Average Recall     (AR) @[ IoU=0.50:0.95 | area=   all | maxDets=  1 ] = 0.212\n",
      " Average Recall     (AR) @[ IoU=0.50:0.95 | area=   all | maxDets= 10 ] = 0.346\n",
      " Average Recall     (AR) @[ IoU=0.50:0.95 | area=   all | maxDets=100 ] = 0.369\n",
      " Average Recall     (AR) @[ IoU=0.50:0.95 | area= small | maxDets=100 ] = 0.140\n",
      " Average Recall     (AR) @[ IoU=0.50:0.95 | area=medium | maxDets=100 ] = 0.268\n",
      " Average Recall     (AR) @[ IoU=0.50:0.95 | area= large | maxDets=100 ] = 0.401\n",
      "<coco_eval.CocoEvaluator object at 0x7897fcc1a6e0>\n"
     ]
    },
    {
     "name": "stderr",
     "output_type": "stream",
     "text": [
      "2024-12-22 18:28:55,112 - INFO - Checkpoint saved at epoch 0\n"
     ]
    },
    {
     "name": "stdout",
     "output_type": "stream",
     "text": [
      "Checkpoint saved at epoch 0\n",
      "Epoch: [1]  [  0/263]  eta: 0:03:49  lr: 0.000100  loss: 0.4328 (0.4328)  loss_classifier: 0.1724 (0.1724)  loss_box_reg: 0.2258 (0.2258)  loss_objectness: 0.0249 (0.0249)  loss_rpn_box_reg: 0.0097 (0.0097)  time: 0.8742  data: 0.0820  max mem: 6119\n",
      "Epoch: [1]  [ 20/263]  eta: 0:03:31  lr: 0.000100  loss: 0.2754 (0.2988)  loss_classifier: 0.1129 (0.1235)  loss_box_reg: 0.1246 (0.1477)  loss_objectness: 0.0164 (0.0203)  loss_rpn_box_reg: 0.0076 (0.0073)  time: 0.8686  data: 0.0758  max mem: 6119\n",
      "Epoch: [1]  [ 40/263]  eta: 0:03:13  lr: 0.000100  loss: 0.2359 (0.2850)  loss_classifier: 0.1048 (0.1192)  loss_box_reg: 0.1155 (0.1403)  loss_objectness: 0.0125 (0.0181)  loss_rpn_box_reg: 0.0069 (0.0074)  time: 0.8696  data: 0.0747  max mem: 6119\n",
      "Epoch: [1]  [ 60/263]  eta: 0:02:56  lr: 0.000100  loss: 0.2689 (0.2909)  loss_classifier: 0.1172 (0.1218)  loss_box_reg: 0.1319 (0.1428)  loss_objectness: 0.0167 (0.0184)  loss_rpn_box_reg: 0.0074 (0.0079)  time: 0.8701  data: 0.0756  max mem: 6119\n",
      "Epoch: [1]  [ 80/263]  eta: 0:02:39  lr: 0.000100  loss: 0.2824 (0.2920)  loss_classifier: 0.1093 (0.1215)  loss_box_reg: 0.1530 (0.1448)  loss_objectness: 0.0114 (0.0179)  loss_rpn_box_reg: 0.0068 (0.0077)  time: 0.8689  data: 0.0748  max mem: 6119\n",
      "Epoch: [1]  [100/263]  eta: 0:02:21  lr: 0.000100  loss: 0.2534 (0.2930)  loss_classifier: 0.1071 (0.1216)  loss_box_reg: 0.1214 (0.1440)  loss_objectness: 0.0186 (0.0196)  loss_rpn_box_reg: 0.0069 (0.0078)  time: 0.8651  data: 0.0720  max mem: 6119\n",
      "Epoch: [1]  [120/263]  eta: 0:02:04  lr: 0.000100  loss: 0.2791 (0.2902)  loss_classifier: 0.1079 (0.1196)  loss_box_reg: 0.1398 (0.1434)  loss_objectness: 0.0165 (0.0194)  loss_rpn_box_reg: 0.0067 (0.0078)  time: 0.8654  data: 0.0707  max mem: 6119\n",
      "Epoch: [1]  [140/263]  eta: 0:01:46  lr: 0.000100  loss: 0.2713 (0.2894)  loss_classifier: 0.1129 (0.1191)  loss_box_reg: 0.1544 (0.1442)  loss_objectness: 0.0116 (0.0185)  loss_rpn_box_reg: 0.0066 (0.0076)  time: 0.8676  data: 0.0758  max mem: 6119\n",
      "Epoch: [1]  [160/263]  eta: 0:01:29  lr: 0.000100  loss: 0.2294 (0.2847)  loss_classifier: 0.0869 (0.1169)  loss_box_reg: 0.1206 (0.1425)  loss_objectness: 0.0105 (0.0178)  loss_rpn_box_reg: 0.0058 (0.0075)  time: 0.8643  data: 0.0736  max mem: 6120\n",
      "Epoch: [1]  [180/263]  eta: 0:01:12  lr: 0.000100  loss: 0.2524 (0.2830)  loss_classifier: 0.1089 (0.1162)  loss_box_reg: 0.1346 (0.1418)  loss_objectness: 0.0140 (0.0177)  loss_rpn_box_reg: 0.0063 (0.0074)  time: 0.8690  data: 0.0761  max mem: 6120\n",
      "Epoch: [1]  [200/263]  eta: 0:00:54  lr: 0.000100  loss: 0.2660 (0.2807)  loss_classifier: 0.1163 (0.1156)  loss_box_reg: 0.1365 (0.1403)  loss_objectness: 0.0148 (0.0175)  loss_rpn_box_reg: 0.0064 (0.0073)  time: 0.8735  data: 0.0795  max mem: 6120\n",
      "Epoch: [1]  [220/263]  eta: 0:00:37  lr: 0.000100  loss: 0.2687 (0.2808)  loss_classifier: 0.1079 (0.1157)  loss_box_reg: 0.1282 (0.1404)  loss_objectness: 0.0125 (0.0174)  loss_rpn_box_reg: 0.0066 (0.0073)  time: 0.8697  data: 0.0757  max mem: 6120\n",
      "Epoch: [1]  [240/263]  eta: 0:00:19  lr: 0.000100  loss: 0.2292 (0.2808)  loss_classifier: 0.0968 (0.1156)  loss_box_reg: 0.1129 (0.1404)  loss_objectness: 0.0120 (0.0174)  loss_rpn_box_reg: 0.0066 (0.0073)  time: 0.8668  data: 0.0727  max mem: 6120\n",
      "Epoch: [1]  [260/263]  eta: 0:00:02  lr: 0.000100  loss: 0.2530 (0.2797)  loss_classifier: 0.1107 (0.1151)  loss_box_reg: 0.1336 (0.1401)  loss_objectness: 0.0103 (0.0172)  loss_rpn_box_reg: 0.0060 (0.0072)  time: 0.8638  data: 0.0705  max mem: 6120\n",
      "Epoch: [1]  [262/263]  eta: 0:00:00  lr: 0.000100  loss: 0.2640 (0.2801)  loss_classifier: 0.1055 (0.1151)  loss_box_reg: 0.1507 (0.1406)  loss_objectness: 0.0135 (0.0172)  loss_rpn_box_reg: 0.0069 (0.0072)  time: 0.8373  data: 0.0677  max mem: 6120\n",
      "Epoch: [1] Total time: 0:03:47 (0.8660 s / it)\n",
      "creating index...\n",
      "index created!\n",
      "Test:  [ 0/75]  eta: 0:00:36  model_time: 0.3825 (0.3825)  evaluator_time: 0.0109 (0.0109)  time: 0.4852  data: 0.0827  max mem: 6120\n",
      "Test:  [74/75]  eta: 0:00:00  model_time: 0.3631 (0.3644)  evaluator_time: 0.0105 (0.0141)  time: 0.4814  data: 0.0865  max mem: 6120\n",
      "Test: Total time: 0:00:35 (0.4738 s / it)\n",
      "Averaged stats: model_time: 0.3631 (0.3644)  evaluator_time: 0.0105 (0.0141)\n",
      "Accumulating evaluation results...\n"
     ]
    },
    {
     "name": "stderr",
     "output_type": "stream",
     "text": [
      "2024-12-22 18:33:24,802 - INFO - Evaluation results on validation set: <coco_eval.CocoEvaluator object at 0x7898b858cbe0>\n"
     ]
    },
    {
     "name": "stdout",
     "output_type": "stream",
     "text": [
      "DONE (t=0.25s).\n",
      "IoU metric: bbox\n",
      " Average Precision  (AP) @[ IoU=0.50:0.95 | area=   all | maxDets=100 ] = 0.277\n",
      " Average Precision  (AP) @[ IoU=0.50      | area=   all | maxDets=100 ] = 0.532\n",
      " Average Precision  (AP) @[ IoU=0.75      | area=   all | maxDets=100 ] = 0.273\n",
      " Average Precision  (AP) @[ IoU=0.50:0.95 | area= small | maxDets=100 ] = 0.086\n",
      " Average Precision  (AP) @[ IoU=0.50:0.95 | area=medium | maxDets=100 ] = 0.184\n",
      " Average Precision  (AP) @[ IoU=0.50:0.95 | area= large | maxDets=100 ] = 0.314\n",
      " Average Recall     (AR) @[ IoU=0.50:0.95 | area=   all | maxDets=  1 ] = 0.242\n",
      " Average Recall     (AR) @[ IoU=0.50:0.95 | area=   all | maxDets= 10 ] = 0.391\n",
      " Average Recall     (AR) @[ IoU=0.50:0.95 | area=   all | maxDets=100 ] = 0.406\n",
      " Average Recall     (AR) @[ IoU=0.50:0.95 | area= small | maxDets=100 ] = 0.165\n",
      " Average Recall     (AR) @[ IoU=0.50:0.95 | area=medium | maxDets=100 ] = 0.304\n",
      " Average Recall     (AR) @[ IoU=0.50:0.95 | area= large | maxDets=100 ] = 0.442\n",
      "<coco_eval.CocoEvaluator object at 0x7898b858cbe0>\n"
     ]
    },
    {
     "name": "stderr",
     "output_type": "stream",
     "text": [
      "2024-12-22 18:33:25,552 - INFO - Checkpoint saved at epoch 1\n"
     ]
    },
    {
     "name": "stdout",
     "output_type": "stream",
     "text": [
      "Checkpoint saved at epoch 1\n",
      "Epoch: [2]  [  0/263]  eta: 0:03:48  lr: 0.000100  loss: 0.3239 (0.3239)  loss_classifier: 0.1216 (0.1216)  loss_box_reg: 0.1770 (0.1770)  loss_objectness: 0.0181 (0.0181)  loss_rpn_box_reg: 0.0072 (0.0072)  time: 0.8676  data: 0.0737  max mem: 6120\n",
      "Epoch: [2]  [ 20/263]  eta: 0:03:30  lr: 0.000100  loss: 0.1836 (0.2101)  loss_classifier: 0.0687 (0.0826)  loss_box_reg: 0.1062 (0.1137)  loss_objectness: 0.0070 (0.0083)  loss_rpn_box_reg: 0.0050 (0.0055)  time: 0.8676  data: 0.0717  max mem: 6120\n",
      "Epoch: [2]  [ 40/263]  eta: 0:03:13  lr: 0.000100  loss: 0.1913 (0.2201)  loss_classifier: 0.0813 (0.0852)  loss_box_reg: 0.1121 (0.1212)  loss_objectness: 0.0061 (0.0079)  loss_rpn_box_reg: 0.0051 (0.0057)  time: 0.8711  data: 0.0763  max mem: 6120\n",
      "Epoch: [2]  [ 60/263]  eta: 0:02:56  lr: 0.000100  loss: 0.2156 (0.2166)  loss_classifier: 0.0749 (0.0828)  loss_box_reg: 0.1263 (0.1211)  loss_objectness: 0.0036 (0.0071)  loss_rpn_box_reg: 0.0045 (0.0055)  time: 0.8650  data: 0.0696  max mem: 6120\n",
      "Epoch: [2]  [ 80/263]  eta: 0:02:38  lr: 0.000100  loss: 0.1935 (0.2134)  loss_classifier: 0.0756 (0.0804)  loss_box_reg: 0.1119 (0.1202)  loss_objectness: 0.0064 (0.0073)  loss_rpn_box_reg: 0.0052 (0.0055)  time: 0.8709  data: 0.0729  max mem: 6120\n",
      "Epoch: [2]  [100/263]  eta: 0:02:21  lr: 0.000100  loss: 0.1936 (0.2123)  loss_classifier: 0.0747 (0.0809)  loss_box_reg: 0.1149 (0.1185)  loss_objectness: 0.0057 (0.0074)  loss_rpn_box_reg: 0.0049 (0.0055)  time: 0.8683  data: 0.0738  max mem: 6120\n",
      "Epoch: [2]  [120/263]  eta: 0:02:04  lr: 0.000100  loss: 0.2349 (0.2155)  loss_classifier: 0.0835 (0.0811)  loss_box_reg: 0.1308 (0.1207)  loss_objectness: 0.0045 (0.0080)  loss_rpn_box_reg: 0.0056 (0.0057)  time: 0.8702  data: 0.0756  max mem: 6120\n",
      "Epoch: [2]  [140/263]  eta: 0:01:46  lr: 0.000100  loss: 0.2261 (0.2164)  loss_classifier: 0.0756 (0.0809)  loss_box_reg: 0.1299 (0.1216)  loss_objectness: 0.0101 (0.0083)  loss_rpn_box_reg: 0.0049 (0.0057)  time: 0.8648  data: 0.0744  max mem: 6120\n",
      "Epoch: [2]  [160/263]  eta: 0:01:29  lr: 0.000100  loss: 0.1943 (0.2160)  loss_classifier: 0.0764 (0.0815)  loss_box_reg: 0.0986 (0.1202)  loss_objectness: 0.0056 (0.0086)  loss_rpn_box_reg: 0.0052 (0.0057)  time: 0.8664  data: 0.0721  max mem: 6120\n",
      "Epoch: [2]  [180/263]  eta: 0:01:12  lr: 0.000100  loss: 0.2561 (0.2187)  loss_classifier: 0.0850 (0.0824)  loss_box_reg: 0.1400 (0.1219)  loss_objectness: 0.0081 (0.0087)  loss_rpn_box_reg: 0.0052 (0.0057)  time: 0.8703  data: 0.0762  max mem: 6120\n",
      "Epoch: [2]  [200/263]  eta: 0:00:54  lr: 0.000100  loss: 0.1954 (0.2173)  loss_classifier: 0.0728 (0.0816)  loss_box_reg: 0.1156 (0.1216)  loss_objectness: 0.0054 (0.0084)  loss_rpn_box_reg: 0.0042 (0.0057)  time: 0.8661  data: 0.0716  max mem: 6120\n",
      "Epoch: [2]  [220/263]  eta: 0:00:37  lr: 0.000100  loss: 0.2149 (0.2182)  loss_classifier: 0.0854 (0.0823)  loss_box_reg: 0.1071 (0.1215)  loss_objectness: 0.0078 (0.0087)  loss_rpn_box_reg: 0.0048 (0.0057)  time: 0.8678  data: 0.0739  max mem: 6120\n",
      "Epoch: [2]  [240/263]  eta: 0:00:19  lr: 0.000100  loss: 0.2331 (0.2202)  loss_classifier: 0.0909 (0.0835)  loss_box_reg: 0.1260 (0.1222)  loss_objectness: 0.0068 (0.0088)  loss_rpn_box_reg: 0.0059 (0.0057)  time: 0.8690  data: 0.0745  max mem: 6120\n",
      "Epoch: [2]  [260/263]  eta: 0:00:02  lr: 0.000100  loss: 0.2102 (0.2212)  loss_classifier: 0.0813 (0.0839)  loss_box_reg: 0.1163 (0.1227)  loss_objectness: 0.0069 (0.0087)  loss_rpn_box_reg: 0.0061 (0.0058)  time: 0.8688  data: 0.0742  max mem: 6120\n",
      "Epoch: [2]  [262/263]  eta: 0:00:00  lr: 0.000100  loss: 0.2076 (0.2214)  loss_classifier: 0.0813 (0.0839)  loss_box_reg: 0.1159 (0.1229)  loss_objectness: 0.0069 (0.0087)  loss_rpn_box_reg: 0.0061 (0.0058)  time: 0.8429  data: 0.0721  max mem: 6120\n",
      "Epoch: [2] Total time: 0:03:47 (0.8662 s / it)\n",
      "creating index...\n",
      "index created!\n",
      "Test:  [ 0/75]  eta: 0:00:34  model_time: 0.3785 (0.3785)  evaluator_time: 0.0087 (0.0087)  time: 0.4626  data: 0.0664  max mem: 6120\n",
      "Test:  [74/75]  eta: 0:00:00  model_time: 0.3639 (0.3642)  evaluator_time: 0.0085 (0.0089)  time: 0.4587  data: 0.0765  max mem: 6120\n",
      "Test: Total time: 0:00:34 (0.4586 s / it)\n",
      "Averaged stats: model_time: 0.3639 (0.3642)  evaluator_time: 0.0085 (0.0089)\n",
      "Accumulating evaluation results...\n"
     ]
    },
    {
     "name": "stderr",
     "output_type": "stream",
     "text": [
      "2024-12-22 18:37:53,792 - INFO - Evaluation results on validation set: <coco_eval.CocoEvaluator object at 0x7897fd6b3fd0>\n"
     ]
    },
    {
     "name": "stdout",
     "output_type": "stream",
     "text": [
      "DONE (t=0.20s).\n",
      "IoU metric: bbox\n",
      " Average Precision  (AP) @[ IoU=0.50:0.95 | area=   all | maxDets=100 ] = 0.308\n",
      " Average Precision  (AP) @[ IoU=0.50      | area=   all | maxDets=100 ] = 0.562\n",
      " Average Precision  (AP) @[ IoU=0.75      | area=   all | maxDets=100 ] = 0.308\n",
      " Average Precision  (AP) @[ IoU=0.50:0.95 | area= small | maxDets=100 ] = 0.089\n",
      " Average Precision  (AP) @[ IoU=0.50:0.95 | area=medium | maxDets=100 ] = 0.201\n",
      " Average Precision  (AP) @[ IoU=0.50:0.95 | area= large | maxDets=100 ] = 0.349\n",
      " Average Recall     (AR) @[ IoU=0.50:0.95 | area=   all | maxDets=  1 ] = 0.266\n",
      " Average Recall     (AR) @[ IoU=0.50:0.95 | area=   all | maxDets= 10 ] = 0.406\n",
      " Average Recall     (AR) @[ IoU=0.50:0.95 | area=   all | maxDets=100 ] = 0.420\n",
      " Average Recall     (AR) @[ IoU=0.50:0.95 | area= small | maxDets=100 ] = 0.145\n",
      " Average Recall     (AR) @[ IoU=0.50:0.95 | area=medium | maxDets=100 ] = 0.307\n",
      " Average Recall     (AR) @[ IoU=0.50:0.95 | area= large | maxDets=100 ] = 0.466\n",
      "<coco_eval.CocoEvaluator object at 0x7897fd6b3fd0>\n"
     ]
    },
    {
     "name": "stderr",
     "output_type": "stream",
     "text": [
      "2024-12-22 18:37:54,544 - INFO - Checkpoint saved at epoch 2\n"
     ]
    },
    {
     "name": "stdout",
     "output_type": "stream",
     "text": [
      "Checkpoint saved at epoch 2\n",
      "Epoch: [3]  [  0/263]  eta: 0:03:51  lr: 0.000100  loss: 0.2479 (0.2479)  loss_classifier: 0.0703 (0.0703)  loss_box_reg: 0.1573 (0.1573)  loss_objectness: 0.0112 (0.0112)  loss_rpn_box_reg: 0.0091 (0.0091)  time: 0.8801  data: 0.0869  max mem: 6120\n",
      "Epoch: [3]  [ 20/263]  eta: 0:03:29  lr: 0.000100  loss: 0.1785 (0.1902)  loss_classifier: 0.0632 (0.0656)  loss_box_reg: 0.0979 (0.1137)  loss_objectness: 0.0038 (0.0051)  loss_rpn_box_reg: 0.0050 (0.0057)  time: 0.8623  data: 0.0731  max mem: 6120\n",
      "Epoch: [3]  [ 40/263]  eta: 0:03:12  lr: 0.000100  loss: 0.1450 (0.1936)  loss_classifier: 0.0562 (0.0674)  loss_box_reg: 0.0905 (0.1144)  loss_objectness: 0.0055 (0.0059)  loss_rpn_box_reg: 0.0039 (0.0058)  time: 0.8659  data: 0.0719  max mem: 6120\n",
      "Epoch: [3]  [ 60/263]  eta: 0:02:55  lr: 0.000100  loss: 0.1766 (0.1891)  loss_classifier: 0.0608 (0.0653)  loss_box_reg: 0.1066 (0.1127)  loss_objectness: 0.0037 (0.0055)  loss_rpn_box_reg: 0.0045 (0.0056)  time: 0.8662  data: 0.0728  max mem: 6120\n",
      "Epoch: [3]  [ 80/263]  eta: 0:02:38  lr: 0.000100  loss: 0.1331 (0.1785)  loss_classifier: 0.0426 (0.0614)  loss_box_reg: 0.0758 (0.1059)  loss_objectness: 0.0055 (0.0057)  loss_rpn_box_reg: 0.0044 (0.0055)  time: 0.8725  data: 0.0769  max mem: 6120\n",
      "Epoch: [3]  [100/263]  eta: 0:02:21  lr: 0.000100  loss: 0.1946 (0.1848)  loss_classifier: 0.0684 (0.0642)  loss_box_reg: 0.1124 (0.1092)  loss_objectness: 0.0045 (0.0058)  loss_rpn_box_reg: 0.0043 (0.0056)  time: 0.8687  data: 0.0745  max mem: 6120\n",
      "Epoch: [3]  [120/263]  eta: 0:02:04  lr: 0.000100  loss: 0.1749 (0.1830)  loss_classifier: 0.0579 (0.0632)  loss_box_reg: 0.1075 (0.1088)  loss_objectness: 0.0040 (0.0056)  loss_rpn_box_reg: 0.0043 (0.0054)  time: 0.8690  data: 0.0755  max mem: 6120\n",
      "Epoch: [3]  [140/263]  eta: 0:01:46  lr: 0.000100  loss: 0.1517 (0.1805)  loss_classifier: 0.0534 (0.0624)  loss_box_reg: 0.0958 (0.1072)  loss_objectness: 0.0046 (0.0055)  loss_rpn_box_reg: 0.0051 (0.0054)  time: 0.8671  data: 0.0739  max mem: 6120\n",
      "Epoch: [3]  [160/263]  eta: 0:01:29  lr: 0.000100  loss: 0.1656 (0.1790)  loss_classifier: 0.0554 (0.0620)  loss_box_reg: 0.1006 (0.1063)  loss_objectness: 0.0041 (0.0054)  loss_rpn_box_reg: 0.0047 (0.0053)  time: 0.8675  data: 0.0737  max mem: 6120\n",
      "Epoch: [3]  [180/263]  eta: 0:01:12  lr: 0.000100  loss: 0.1453 (0.1771)  loss_classifier: 0.0548 (0.0612)  loss_box_reg: 0.0899 (0.1053)  loss_objectness: 0.0044 (0.0054)  loss_rpn_box_reg: 0.0041 (0.0052)  time: 0.8679  data: 0.0726  max mem: 6120\n",
      "Epoch: [3]  [200/263]  eta: 0:00:54  lr: 0.000100  loss: 0.1643 (0.1758)  loss_classifier: 0.0519 (0.0604)  loss_box_reg: 0.1074 (0.1050)  loss_objectness: 0.0041 (0.0053)  loss_rpn_box_reg: 0.0038 (0.0051)  time: 0.8708  data: 0.0765  max mem: 6120\n",
      "Epoch: [3]  [220/263]  eta: 0:00:37  lr: 0.000100  loss: 0.1648 (0.1759)  loss_classifier: 0.0602 (0.0611)  loss_box_reg: 0.0897 (0.1044)  loss_objectness: 0.0054 (0.0054)  loss_rpn_box_reg: 0.0047 (0.0051)  time: 0.8685  data: 0.0753  max mem: 6120\n",
      "Epoch: [3]  [240/263]  eta: 0:00:19  lr: 0.000100  loss: 0.1728 (0.1764)  loss_classifier: 0.0582 (0.0614)  loss_box_reg: 0.1024 (0.1046)  loss_objectness: 0.0042 (0.0054)  loss_rpn_box_reg: 0.0050 (0.0051)  time: 0.8661  data: 0.0716  max mem: 6120\n",
      "Epoch: [3]  [260/263]  eta: 0:00:02  lr: 0.000100  loss: 0.1686 (0.1756)  loss_classifier: 0.0532 (0.0610)  loss_box_reg: 0.1053 (0.1043)  loss_objectness: 0.0035 (0.0053)  loss_rpn_box_reg: 0.0040 (0.0050)  time: 0.8695  data: 0.0746  max mem: 6120\n",
      "Epoch: [3]  [262/263]  eta: 0:00:00  lr: 0.000100  loss: 0.1686 (0.1762)  loss_classifier: 0.0532 (0.0611)  loss_box_reg: 0.1053 (0.1047)  loss_objectness: 0.0035 (0.0054)  loss_rpn_box_reg: 0.0040 (0.0051)  time: 0.8440  data: 0.0723  max mem: 6120\n",
      "Epoch: [3] Total time: 0:03:47 (0.8660 s / it)\n",
      "creating index...\n",
      "index created!\n",
      "Test:  [ 0/75]  eta: 0:00:35  model_time: 0.3818 (0.3818)  evaluator_time: 0.0069 (0.0069)  time: 0.4710  data: 0.0730  max mem: 6120\n",
      "Test:  [74/75]  eta: 0:00:00  model_time: 0.3643 (0.3643)  evaluator_time: 0.0083 (0.0087)  time: 0.4565  data: 0.0737  max mem: 6120\n",
      "Test: Total time: 0:00:34 (0.4584 s / it)\n",
      "Averaged stats: model_time: 0.3643 (0.3643)  evaluator_time: 0.0083 (0.0087)\n",
      "Accumulating evaluation results...\n",
      "DONE (t=0.18s).\n",
      "IoU metric: bbox\n",
      " Average Precision  (AP) @[ IoU=0.50:0.95 | area=   all | maxDets=100 ] = 0.315\n",
      " Average Precision  (AP) @[ IoU=0.50      | area=   all | maxDets=100 ] = 0.583\n",
      " Average Precision  (AP) @[ IoU=0.75      | area=   all | maxDets=100 ] = 0.310\n",
      " Average Precision  (AP) @[ IoU=0.50:0.95 | area= small | maxDets=100 ] = 0.122\n",
      " Average Precision  (AP) @[ IoU=0.50:0.95 | area=medium | maxDets=100 ] = 0.222\n",
      " Average Precision  (AP) @[ IoU=0.50:0.95 | area= large | maxDets=100 ] = 0.358\n",
      " Average Recall     (AR) @[ IoU=0.50:0.95 | area=   all | maxDets=  1 ] = 0.271\n",
      " Average Recall     (AR) @[ IoU=0.50:0.95 | area=   all | maxDets= 10 ] = 0.410\n",
      " Average Recall     (AR) @[ IoU=0.50:0.95 | area=   all | maxDets=100 ] = 0.420\n",
      " Average Recall     (AR) @[ IoU=0.50:0.95 | area= small | maxDets=100 ] = 0.188\n",
      " Average Recall     (AR) @[ IoU=0.50:0.95 | area=medium | maxDets=100 ] = 0.321\n",
      " Average Recall     (AR) @[ IoU=0.50:0.95 | area= large | maxDets=100 ] = 0.457\n"
     ]
    },
    {
     "name": "stderr",
     "output_type": "stream",
     "text": [
      "2024-12-22 18:42:22,834 - INFO - Evaluation results on validation set: <coco_eval.CocoEvaluator object at 0x7897fd6e5330>\n"
     ]
    },
    {
     "name": "stdout",
     "output_type": "stream",
     "text": [
      "<coco_eval.CocoEvaluator object at 0x7897fd6e5330>\n"
     ]
    },
    {
     "name": "stderr",
     "output_type": "stream",
     "text": [
      "2024-12-22 18:42:23,584 - INFO - Checkpoint saved at epoch 3\n"
     ]
    },
    {
     "name": "stdout",
     "output_type": "stream",
     "text": [
      "Checkpoint saved at epoch 3\n",
      "Epoch: [4]  [  0/263]  eta: 0:03:48  lr: 0.000100  loss: 0.1832 (0.1832)  loss_classifier: 0.0648 (0.0648)  loss_box_reg: 0.1082 (0.1082)  loss_objectness: 0.0025 (0.0025)  loss_rpn_box_reg: 0.0077 (0.0077)  time: 0.8696  data: 0.0737  max mem: 6120\n",
      "Epoch: [4]  [ 20/263]  eta: 0:03:31  lr: 0.000100  loss: 0.1311 (0.1368)  loss_classifier: 0.0418 (0.0442)  loss_box_reg: 0.0823 (0.0853)  loss_objectness: 0.0030 (0.0032)  loss_rpn_box_reg: 0.0035 (0.0042)  time: 0.8695  data: 0.0724  max mem: 6120\n",
      "Epoch: [4]  [ 40/263]  eta: 0:03:13  lr: 0.000100  loss: 0.1388 (0.1467)  loss_classifier: 0.0439 (0.0499)  loss_box_reg: 0.0854 (0.0887)  loss_objectness: 0.0025 (0.0039)  loss_rpn_box_reg: 0.0034 (0.0042)  time: 0.8698  data: 0.0738  max mem: 6120\n",
      "Epoch: [4]  [ 60/263]  eta: 0:02:56  lr: 0.000100  loss: 0.1470 (0.1487)  loss_classifier: 0.0471 (0.0505)  loss_box_reg: 0.0953 (0.0903)  loss_objectness: 0.0023 (0.0037)  loss_rpn_box_reg: 0.0036 (0.0041)  time: 0.8650  data: 0.0712  max mem: 6120\n",
      "Epoch: [4]  [ 80/263]  eta: 0:02:39  lr: 0.000100  loss: 0.1742 (0.1542)  loss_classifier: 0.0454 (0.0510)  loss_box_reg: 0.1170 (0.0953)  loss_objectness: 0.0038 (0.0038)  loss_rpn_box_reg: 0.0043 (0.0042)  time: 0.8724  data: 0.0764  max mem: 6120\n",
      "Epoch: [4]  [100/263]  eta: 0:02:21  lr: 0.000100  loss: 0.1231 (0.1500)  loss_classifier: 0.0381 (0.0491)  loss_box_reg: 0.0781 (0.0930)  loss_objectness: 0.0021 (0.0037)  loss_rpn_box_reg: 0.0039 (0.0042)  time: 0.8704  data: 0.0749  max mem: 6120\n",
      "Epoch: [4]  [120/263]  eta: 0:02:04  lr: 0.000100  loss: 0.1643 (0.1518)  loss_classifier: 0.0502 (0.0493)  loss_box_reg: 0.1062 (0.0946)  loss_objectness: 0.0020 (0.0035)  loss_rpn_box_reg: 0.0046 (0.0043)  time: 0.8722  data: 0.0747  max mem: 6120\n",
      "Epoch: [4]  [140/263]  eta: 0:01:47  lr: 0.000100  loss: 0.1362 (0.1492)  loss_classifier: 0.0432 (0.0485)  loss_box_reg: 0.0786 (0.0927)  loss_objectness: 0.0034 (0.0036)  loss_rpn_box_reg: 0.0042 (0.0043)  time: 0.8714  data: 0.0754  max mem: 6120\n",
      "Epoch: [4]  [160/263]  eta: 0:01:29  lr: 0.000100  loss: 0.1294 (0.1499)  loss_classifier: 0.0511 (0.0487)  loss_box_reg: 0.0804 (0.0929)  loss_objectness: 0.0035 (0.0038)  loss_rpn_box_reg: 0.0051 (0.0045)  time: 0.8743  data: 0.0783  max mem: 6120\n",
      "Epoch: [4]  [180/263]  eta: 0:01:12  lr: 0.000100  loss: 0.1436 (0.1504)  loss_classifier: 0.0504 (0.0491)  loss_box_reg: 0.0815 (0.0931)  loss_objectness: 0.0025 (0.0038)  loss_rpn_box_reg: 0.0044 (0.0045)  time: 0.8733  data: 0.0765  max mem: 6120\n",
      "Epoch: [4]  [200/263]  eta: 0:00:54  lr: 0.000100  loss: 0.1289 (0.1494)  loss_classifier: 0.0415 (0.0488)  loss_box_reg: 0.0798 (0.0924)  loss_objectness: 0.0031 (0.0037)  loss_rpn_box_reg: 0.0034 (0.0044)  time: 0.8674  data: 0.0729  max mem: 6120\n",
      "Epoch: [4]  [220/263]  eta: 0:00:37  lr: 0.000100  loss: 0.1332 (0.1483)  loss_classifier: 0.0446 (0.0485)  loss_box_reg: 0.0784 (0.0918)  loss_objectness: 0.0028 (0.0037)  loss_rpn_box_reg: 0.0041 (0.0044)  time: 0.8644  data: 0.0687  max mem: 6120\n",
      "Epoch: [4]  [240/263]  eta: 0:00:20  lr: 0.000100  loss: 0.1497 (0.1481)  loss_classifier: 0.0414 (0.0482)  loss_box_reg: 0.0926 (0.0918)  loss_objectness: 0.0022 (0.0037)  loss_rpn_box_reg: 0.0041 (0.0044)  time: 0.8650  data: 0.0760  max mem: 6120\n",
      "Epoch: [4]  [260/263]  eta: 0:00:02  lr: 0.000100  loss: 0.1630 (0.1490)  loss_classifier: 0.0523 (0.0487)  loss_box_reg: 0.0958 (0.0922)  loss_objectness: 0.0029 (0.0037)  loss_rpn_box_reg: 0.0042 (0.0044)  time: 0.8724  data: 0.0747  max mem: 6120\n",
      "Epoch: [4]  [262/263]  eta: 0:00:00  lr: 0.000100  loss: 0.1570 (0.1487)  loss_classifier: 0.0513 (0.0486)  loss_box_reg: 0.0881 (0.0920)  loss_objectness: 0.0029 (0.0037)  loss_rpn_box_reg: 0.0041 (0.0044)  time: 0.8461  data: 0.0717  max mem: 6120\n",
      "Epoch: [4] Total time: 0:03:48 (0.8679 s / it)\n",
      "creating index...\n",
      "index created!\n",
      "Test:  [ 0/75]  eta: 0:00:34  model_time: 0.3776 (0.3776)  evaluator_time: 0.0071 (0.0071)  time: 0.4604  data: 0.0665  max mem: 6120\n"
     ]
    },
    {
     "name": "stderr",
     "output_type": "stream",
     "text": [
      "2024-12-22 18:46:52,143 - INFO - Evaluation results on validation set: <coco_eval.CocoEvaluator object at 0x7897fd6e6080>\n"
     ]
    },
    {
     "name": "stdout",
     "output_type": "stream",
     "text": [
      "Test:  [74/75]  eta: 0:00:00  model_time: 0.3640 (0.3643)  evaluator_time: 0.0077 (0.0083)  time: 0.4587  data: 0.0761  max mem: 6120\n",
      "Test: Total time: 0:00:34 (0.4579 s / it)\n",
      "Averaged stats: model_time: 0.3640 (0.3643)  evaluator_time: 0.0077 (0.0083)\n",
      "Accumulating evaluation results...\n",
      "DONE (t=0.17s).\n",
      "IoU metric: bbox\n",
      " Average Precision  (AP) @[ IoU=0.50:0.95 | area=   all | maxDets=100 ] = 0.331\n",
      " Average Precision  (AP) @[ IoU=0.50      | area=   all | maxDets=100 ] = 0.581\n",
      " Average Precision  (AP) @[ IoU=0.75      | area=   all | maxDets=100 ] = 0.340\n",
      " Average Precision  (AP) @[ IoU=0.50:0.95 | area= small | maxDets=100 ] = 0.107\n",
      " Average Precision  (AP) @[ IoU=0.50:0.95 | area=medium | maxDets=100 ] = 0.216\n",
      " Average Precision  (AP) @[ IoU=0.50:0.95 | area= large | maxDets=100 ] = 0.376\n",
      " Average Recall     (AR) @[ IoU=0.50:0.95 | area=   all | maxDets=  1 ] = 0.281\n",
      " Average Recall     (AR) @[ IoU=0.50:0.95 | area=   all | maxDets= 10 ] = 0.424\n",
      " Average Recall     (AR) @[ IoU=0.50:0.95 | area=   all | maxDets=100 ] = 0.431\n",
      " Average Recall     (AR) @[ IoU=0.50:0.95 | area= small | maxDets=100 ] = 0.115\n",
      " Average Recall     (AR) @[ IoU=0.50:0.95 | area=medium | maxDets=100 ] = 0.306\n",
      " Average Recall     (AR) @[ IoU=0.50:0.95 | area= large | maxDets=100 ] = 0.479\n",
      "<coco_eval.CocoEvaluator object at 0x7897fd6e6080>\n"
     ]
    },
    {
     "name": "stderr",
     "output_type": "stream",
     "text": [
      "2024-12-22 18:46:52,896 - INFO - Checkpoint saved at epoch 4\n"
     ]
    },
    {
     "name": "stdout",
     "output_type": "stream",
     "text": [
      "Checkpoint saved at epoch 4\n",
      "Epoch: [5]  [  0/263]  eta: 0:03:45  lr: 0.000100  loss: 0.1281 (0.1281)  loss_classifier: 0.0401 (0.0401)  loss_box_reg: 0.0840 (0.0840)  loss_objectness: 0.0004 (0.0004)  loss_rpn_box_reg: 0.0036 (0.0036)  time: 0.8577  data: 0.0665  max mem: 6120\n",
      "Epoch: [5]  [ 20/263]  eta: 0:03:30  lr: 0.000100  loss: 0.1312 (0.1426)  loss_classifier: 0.0423 (0.0446)  loss_box_reg: 0.0815 (0.0898)  loss_objectness: 0.0051 (0.0044)  loss_rpn_box_reg: 0.0029 (0.0037)  time: 0.8667  data: 0.0716  max mem: 6120\n",
      "Epoch: [5]  [ 40/263]  eta: 0:03:13  lr: 0.000100  loss: 0.1175 (0.1355)  loss_classifier: 0.0340 (0.0417)  loss_box_reg: 0.0751 (0.0865)  loss_objectness: 0.0026 (0.0035)  loss_rpn_box_reg: 0.0034 (0.0038)  time: 0.8705  data: 0.0752  max mem: 6120\n",
      "Epoch: [5]  [ 60/263]  eta: 0:02:56  lr: 0.000100  loss: 0.1492 (0.1413)  loss_classifier: 0.0495 (0.0431)  loss_box_reg: 0.0938 (0.0908)  loss_objectness: 0.0029 (0.0033)  loss_rpn_box_reg: 0.0044 (0.0041)  time: 0.8712  data: 0.0759  max mem: 6120\n",
      "Epoch: [5]  [ 80/263]  eta: 0:02:39  lr: 0.000100  loss: 0.1268 (0.1394)  loss_classifier: 0.0385 (0.0427)  loss_box_reg: 0.0808 (0.0897)  loss_objectness: 0.0015 (0.0030)  loss_rpn_box_reg: 0.0036 (0.0040)  time: 0.8704  data: 0.0794  max mem: 6120\n",
      "Epoch: [5]  [100/263]  eta: 0:02:21  lr: 0.000100  loss: 0.1087 (0.1348)  loss_classifier: 0.0337 (0.0415)  loss_box_reg: 0.0743 (0.0863)  loss_objectness: 0.0023 (0.0030)  loss_rpn_box_reg: 0.0031 (0.0039)  time: 0.8739  data: 0.0775  max mem: 6120\n",
      "Epoch: [5]  [120/263]  eta: 0:02:04  lr: 0.000100  loss: 0.1102 (0.1319)  loss_classifier: 0.0337 (0.0404)  loss_box_reg: 0.0731 (0.0846)  loss_objectness: 0.0017 (0.0031)  loss_rpn_box_reg: 0.0032 (0.0039)  time: 0.8702  data: 0.0741  max mem: 6120\n",
      "Epoch: [5]  [140/263]  eta: 0:01:47  lr: 0.000100  loss: 0.1028 (0.1304)  loss_classifier: 0.0287 (0.0396)  loss_box_reg: 0.0704 (0.0839)  loss_objectness: 0.0012 (0.0029)  loss_rpn_box_reg: 0.0043 (0.0040)  time: 0.8740  data: 0.0775  max mem: 6120\n",
      "Epoch: [5]  [160/263]  eta: 0:01:29  lr: 0.000100  loss: 0.1230 (0.1303)  loss_classifier: 0.0350 (0.0393)  loss_box_reg: 0.0808 (0.0842)  loss_objectness: 0.0017 (0.0028)  loss_rpn_box_reg: 0.0037 (0.0039)  time: 0.8686  data: 0.0735  max mem: 6120\n",
      "Epoch: [5]  [180/263]  eta: 0:01:12  lr: 0.000100  loss: 0.1264 (0.1304)  loss_classifier: 0.0406 (0.0396)  loss_box_reg: 0.0776 (0.0841)  loss_objectness: 0.0024 (0.0029)  loss_rpn_box_reg: 0.0036 (0.0039)  time: 0.8706  data: 0.0752  max mem: 6120\n",
      "Epoch: [5]  [200/263]  eta: 0:00:54  lr: 0.000100  loss: 0.1343 (0.1312)  loss_classifier: 0.0460 (0.0399)  loss_box_reg: 0.0832 (0.0844)  loss_objectness: 0.0021 (0.0029)  loss_rpn_box_reg: 0.0038 (0.0039)  time: 0.8737  data: 0.0767  max mem: 6120\n",
      "Epoch: [5]  [220/263]  eta: 0:00:37  lr: 0.000100  loss: 0.1295 (0.1308)  loss_classifier: 0.0387 (0.0400)  loss_box_reg: 0.0773 (0.0841)  loss_objectness: 0.0020 (0.0028)  loss_rpn_box_reg: 0.0038 (0.0039)  time: 0.8730  data: 0.0784  max mem: 6120\n",
      "Epoch: [5]  [240/263]  eta: 0:00:20  lr: 0.000100  loss: 0.1109 (0.1306)  loss_classifier: 0.0336 (0.0400)  loss_box_reg: 0.0750 (0.0838)  loss_objectness: 0.0026 (0.0028)  loss_rpn_box_reg: 0.0035 (0.0040)  time: 0.8693  data: 0.0713  max mem: 6120\n",
      "Epoch: [5]  [260/263]  eta: 0:00:02  lr: 0.000100  loss: 0.1098 (0.1295)  loss_classifier: 0.0328 (0.0397)  loss_box_reg: 0.0679 (0.0829)  loss_objectness: 0.0028 (0.0028)  loss_rpn_box_reg: 0.0041 (0.0040)  time: 0.8681  data: 0.0727  max mem: 6120\n",
      "Epoch: [5]  [262/263]  eta: 0:00:00  lr: 0.000100  loss: 0.1098 (0.1293)  loss_classifier: 0.0328 (0.0397)  loss_box_reg: 0.0714 (0.0829)  loss_objectness: 0.0026 (0.0028)  loss_rpn_box_reg: 0.0041 (0.0040)  time: 0.8424  data: 0.0709  max mem: 6120\n",
      "Epoch: [5] Total time: 0:03:48 (0.8689 s / it)\n",
      "creating index...\n",
      "index created!\n",
      "Test:  [ 0/75]  eta: 0:00:34  model_time: 0.3727 (0.3727)  evaluator_time: 0.0066 (0.0066)  time: 0.4556  data: 0.0667  max mem: 6120\n"
     ]
    },
    {
     "name": "stderr",
     "output_type": "stream",
     "text": [
      "2024-12-22 18:51:22,127 - INFO - Evaluation results on validation set: <coco_eval.CocoEvaluator object at 0x789809fc8f70>\n"
     ]
    },
    {
     "name": "stdout",
     "output_type": "stream",
     "text": [
      "Test:  [74/75]  eta: 0:00:00  model_time: 0.3637 (0.3647)  evaluator_time: 0.0071 (0.0102)  time: 0.4571  data: 0.0750  max mem: 6120\n",
      "Test: Total time: 0:00:34 (0.4619 s / it)\n",
      "Averaged stats: model_time: 0.3637 (0.3647)  evaluator_time: 0.0071 (0.0102)\n",
      "Accumulating evaluation results...\n",
      "DONE (t=0.16s).\n",
      "IoU metric: bbox\n",
      " Average Precision  (AP) @[ IoU=0.50:0.95 | area=   all | maxDets=100 ] = 0.347\n",
      " Average Precision  (AP) @[ IoU=0.50      | area=   all | maxDets=100 ] = 0.596\n",
      " Average Precision  (AP) @[ IoU=0.75      | area=   all | maxDets=100 ] = 0.359\n",
      " Average Precision  (AP) @[ IoU=0.50:0.95 | area= small | maxDets=100 ] = 0.112\n",
      " Average Precision  (AP) @[ IoU=0.50:0.95 | area=medium | maxDets=100 ] = 0.223\n",
      " Average Precision  (AP) @[ IoU=0.50:0.95 | area= large | maxDets=100 ] = 0.395\n",
      " Average Recall     (AR) @[ IoU=0.50:0.95 | area=   all | maxDets=  1 ] = 0.286\n",
      " Average Recall     (AR) @[ IoU=0.50:0.95 | area=   all | maxDets= 10 ] = 0.436\n",
      " Average Recall     (AR) @[ IoU=0.50:0.95 | area=   all | maxDets=100 ] = 0.445\n",
      " Average Recall     (AR) @[ IoU=0.50:0.95 | area= small | maxDets=100 ] = 0.184\n",
      " Average Recall     (AR) @[ IoU=0.50:0.95 | area=medium | maxDets=100 ] = 0.334\n",
      " Average Recall     (AR) @[ IoU=0.50:0.95 | area= large | maxDets=100 ] = 0.483\n",
      "<coco_eval.CocoEvaluator object at 0x789809fc8f70>\n"
     ]
    },
    {
     "name": "stderr",
     "output_type": "stream",
     "text": [
      "2024-12-22 18:51:22,889 - INFO - Checkpoint saved at epoch 5\n"
     ]
    },
    {
     "name": "stdout",
     "output_type": "stream",
     "text": [
      "Checkpoint saved at epoch 5\n",
      "Epoch: [6]  [  0/263]  eta: 0:03:46  lr: 0.000100  loss: 0.2153 (0.2153)  loss_classifier: 0.0697 (0.0697)  loss_box_reg: 0.1351 (0.1351)  loss_objectness: 0.0024 (0.0024)  loss_rpn_box_reg: 0.0081 (0.0081)  time: 0.8602  data: 0.0687  max mem: 6120\n",
      "Epoch: [6]  [ 20/263]  eta: 0:03:29  lr: 0.000100  loss: 0.1080 (0.1262)  loss_classifier: 0.0350 (0.0390)  loss_box_reg: 0.0728 (0.0807)  loss_objectness: 0.0012 (0.0025)  loss_rpn_box_reg: 0.0035 (0.0041)  time: 0.8643  data: 0.0700  max mem: 6120\n",
      "Epoch: [6]  [ 40/263]  eta: 0:03:13  lr: 0.000100  loss: 0.0943 (0.1188)  loss_classifier: 0.0291 (0.0360)  loss_box_reg: 0.0637 (0.0766)  loss_objectness: 0.0015 (0.0024)  loss_rpn_box_reg: 0.0036 (0.0039)  time: 0.8710  data: 0.0758  max mem: 6120\n",
      "Epoch: [6]  [ 60/263]  eta: 0:02:56  lr: 0.000100  loss: 0.1083 (0.1184)  loss_classifier: 0.0297 (0.0355)  loss_box_reg: 0.0715 (0.0767)  loss_objectness: 0.0014 (0.0024)  loss_rpn_box_reg: 0.0032 (0.0039)  time: 0.8694  data: 0.0742  max mem: 6120\n",
      "Epoch: [6]  [ 80/263]  eta: 0:02:38  lr: 0.000100  loss: 0.0967 (0.1162)  loss_classifier: 0.0287 (0.0344)  loss_box_reg: 0.0675 (0.0756)  loss_objectness: 0.0019 (0.0023)  loss_rpn_box_reg: 0.0037 (0.0039)  time: 0.8679  data: 0.0717  max mem: 6120\n",
      "Epoch: [6]  [100/263]  eta: 0:02:21  lr: 0.000100  loss: 0.1177 (0.1166)  loss_classifier: 0.0350 (0.0345)  loss_box_reg: 0.0672 (0.0759)  loss_objectness: 0.0012 (0.0022)  loss_rpn_box_reg: 0.0039 (0.0040)  time: 0.8714  data: 0.0744  max mem: 6120\n",
      "Epoch: [6]  [120/263]  eta: 0:02:04  lr: 0.000100  loss: 0.0985 (0.1154)  loss_classifier: 0.0311 (0.0343)  loss_box_reg: 0.0669 (0.0752)  loss_objectness: 0.0009 (0.0021)  loss_rpn_box_reg: 0.0036 (0.0039)  time: 0.8682  data: 0.0735  max mem: 6120\n",
      "Epoch: [6]  [140/263]  eta: 0:01:46  lr: 0.000100  loss: 0.1174 (0.1170)  loss_classifier: 0.0395 (0.0350)  loss_box_reg: 0.0710 (0.0759)  loss_objectness: 0.0018 (0.0022)  loss_rpn_box_reg: 0.0033 (0.0039)  time: 0.8680  data: 0.0731  max mem: 6120\n",
      "Epoch: [6]  [160/263]  eta: 0:01:29  lr: 0.000100  loss: 0.1066 (0.1161)  loss_classifier: 0.0328 (0.0347)  loss_box_reg: 0.0689 (0.0754)  loss_objectness: 0.0010 (0.0021)  loss_rpn_box_reg: 0.0026 (0.0038)  time: 0.8711  data: 0.0761  max mem: 6120\n",
      "Epoch: [6]  [180/263]  eta: 0:01:12  lr: 0.000100  loss: 0.1035 (0.1165)  loss_classifier: 0.0319 (0.0347)  loss_box_reg: 0.0686 (0.0758)  loss_objectness: 0.0022 (0.0022)  loss_rpn_box_reg: 0.0029 (0.0038)  time: 0.8666  data: 0.0752  max mem: 6120\n",
      "Epoch: [6]  [200/263]  eta: 0:00:54  lr: 0.000100  loss: 0.1119 (0.1163)  loss_classifier: 0.0300 (0.0346)  loss_box_reg: 0.0770 (0.0757)  loss_objectness: 0.0027 (0.0022)  loss_rpn_box_reg: 0.0033 (0.0038)  time: 0.8712  data: 0.0764  max mem: 6120\n",
      "Epoch: [6]  [220/263]  eta: 0:00:37  lr: 0.000100  loss: 0.0951 (0.1143)  loss_classifier: 0.0279 (0.0340)  loss_box_reg: 0.0593 (0.0743)  loss_objectness: 0.0018 (0.0023)  loss_rpn_box_reg: 0.0027 (0.0037)  time: 0.8709  data: 0.0753  max mem: 6120\n",
      "Epoch: [6]  [240/263]  eta: 0:00:19  lr: 0.000100  loss: 0.0971 (0.1139)  loss_classifier: 0.0304 (0.0339)  loss_box_reg: 0.0640 (0.0741)  loss_objectness: 0.0020 (0.0023)  loss_rpn_box_reg: 0.0025 (0.0037)  time: 0.8739  data: 0.0781  max mem: 6120\n",
      "Epoch: [6]  [260/263]  eta: 0:00:02  lr: 0.000100  loss: 0.0994 (0.1131)  loss_classifier: 0.0266 (0.0334)  loss_box_reg: 0.0700 (0.0739)  loss_objectness: 0.0009 (0.0022)  loss_rpn_box_reg: 0.0026 (0.0036)  time: 0.8688  data: 0.0746  max mem: 6120\n",
      "Epoch: [6]  [262/263]  eta: 0:00:00  lr: 0.000100  loss: 0.0966 (0.1132)  loss_classifier: 0.0265 (0.0335)  loss_box_reg: 0.0671 (0.0739)  loss_objectness: 0.0009 (0.0022)  loss_rpn_box_reg: 0.0025 (0.0036)  time: 0.8419  data: 0.0713  max mem: 6120\n",
      "Epoch: [6] Total time: 0:03:48 (0.8675 s / it)\n",
      "creating index...\n",
      "index created!\n",
      "Test:  [ 0/75]  eta: 0:00:34  model_time: 0.3791 (0.3791)  evaluator_time: 0.0056 (0.0056)  time: 0.4617  data: 0.0677  max mem: 6120\n"
     ]
    },
    {
     "name": "stderr",
     "output_type": "stream",
     "text": [
      "2024-12-22 18:55:51,399 - INFO - Evaluation results on validation set: <coco_eval.CocoEvaluator object at 0x7897fcb2a7d0>\n"
     ]
    },
    {
     "name": "stdout",
     "output_type": "stream",
     "text": [
      "Test:  [74/75]  eta: 0:00:00  model_time: 0.3647 (0.3647)  evaluator_time: 0.0059 (0.0064)  time: 0.4558  data: 0.0751  max mem: 6120\n",
      "Test: Total time: 0:00:34 (0.4565 s / it)\n",
      "Averaged stats: model_time: 0.3647 (0.3647)  evaluator_time: 0.0059 (0.0064)\n",
      "Accumulating evaluation results...\n",
      "DONE (t=0.13s).\n",
      "IoU metric: bbox\n",
      " Average Precision  (AP) @[ IoU=0.50:0.95 | area=   all | maxDets=100 ] = 0.340\n",
      " Average Precision  (AP) @[ IoU=0.50      | area=   all | maxDets=100 ] = 0.584\n",
      " Average Precision  (AP) @[ IoU=0.75      | area=   all | maxDets=100 ] = 0.354\n",
      " Average Precision  (AP) @[ IoU=0.50:0.95 | area= small | maxDets=100 ] = 0.114\n",
      " Average Precision  (AP) @[ IoU=0.50:0.95 | area=medium | maxDets=100 ] = 0.213\n",
      " Average Precision  (AP) @[ IoU=0.50:0.95 | area= large | maxDets=100 ] = 0.390\n",
      " Average Recall     (AR) @[ IoU=0.50:0.95 | area=   all | maxDets=  1 ] = 0.282\n",
      " Average Recall     (AR) @[ IoU=0.50:0.95 | area=   all | maxDets= 10 ] = 0.421\n",
      " Average Recall     (AR) @[ IoU=0.50:0.95 | area=   all | maxDets=100 ] = 0.427\n",
      " Average Recall     (AR) @[ IoU=0.50:0.95 | area= small | maxDets=100 ] = 0.161\n",
      " Average Recall     (AR) @[ IoU=0.50:0.95 | area=medium | maxDets=100 ] = 0.298\n",
      " Average Recall     (AR) @[ IoU=0.50:0.95 | area= large | maxDets=100 ] = 0.475\n",
      "<coco_eval.CocoEvaluator object at 0x7897fcb2a7d0>\n"
     ]
    },
    {
     "name": "stderr",
     "output_type": "stream",
     "text": [
      "2024-12-22 18:55:52,168 - INFO - Checkpoint saved at epoch 6\n"
     ]
    },
    {
     "name": "stdout",
     "output_type": "stream",
     "text": [
      "Checkpoint saved at epoch 6\n",
      "Epoch: [7]  [  0/263]  eta: 0:03:54  lr: 0.000100  loss: 0.0996 (0.0996)  loss_classifier: 0.0242 (0.0242)  loss_box_reg: 0.0689 (0.0689)  loss_objectness: 0.0013 (0.0013)  loss_rpn_box_reg: 0.0052 (0.0052)  time: 0.8915  data: 0.0892  max mem: 6120\n",
      "Epoch: [7]  [ 20/263]  eta: 0:03:30  lr: 0.000100  loss: 0.1091 (0.1141)  loss_classifier: 0.0299 (0.0319)  loss_box_reg: 0.0674 (0.0760)  loss_objectness: 0.0020 (0.0022)  loss_rpn_box_reg: 0.0040 (0.0040)  time: 0.8630  data: 0.0730  max mem: 6120\n",
      "Epoch: [7]  [ 40/263]  eta: 0:03:13  lr: 0.000100  loss: 0.0936 (0.1070)  loss_classifier: 0.0255 (0.0302)  loss_box_reg: 0.0649 (0.0713)  loss_objectness: 0.0007 (0.0020)  loss_rpn_box_reg: 0.0028 (0.0036)  time: 0.8688  data: 0.0744  max mem: 6120\n",
      "Epoch: [7]  [ 60/263]  eta: 0:02:56  lr: 0.000100  loss: 0.0882 (0.1036)  loss_classifier: 0.0250 (0.0296)  loss_box_reg: 0.0584 (0.0687)  loss_objectness: 0.0008 (0.0018)  loss_rpn_box_reg: 0.0030 (0.0035)  time: 0.8686  data: 0.0733  max mem: 6120\n",
      "Epoch: [7]  [ 80/263]  eta: 0:02:38  lr: 0.000100  loss: 0.0866 (0.1008)  loss_classifier: 0.0243 (0.0288)  loss_box_reg: 0.0553 (0.0668)  loss_objectness: 0.0012 (0.0020)  loss_rpn_box_reg: 0.0027 (0.0033)  time: 0.8726  data: 0.0743  max mem: 6120\n",
      "Epoch: [7]  [100/263]  eta: 0:02:21  lr: 0.000100  loss: 0.1027 (0.1026)  loss_classifier: 0.0327 (0.0294)  loss_box_reg: 0.0664 (0.0680)  loss_objectness: 0.0010 (0.0018)  loss_rpn_box_reg: 0.0030 (0.0033)  time: 0.8676  data: 0.0727  max mem: 6120\n",
      "Epoch: [7]  [120/263]  eta: 0:02:04  lr: 0.000100  loss: 0.0806 (0.1004)  loss_classifier: 0.0226 (0.0286)  loss_box_reg: 0.0515 (0.0667)  loss_objectness: 0.0010 (0.0018)  loss_rpn_box_reg: 0.0024 (0.0032)  time: 0.8698  data: 0.0745  max mem: 6120\n",
      "Epoch: [7]  [140/263]  eta: 0:01:46  lr: 0.000100  loss: 0.0862 (0.0993)  loss_classifier: 0.0231 (0.0283)  loss_box_reg: 0.0593 (0.0660)  loss_objectness: 0.0009 (0.0018)  loss_rpn_box_reg: 0.0029 (0.0032)  time: 0.8704  data: 0.0746  max mem: 6120\n",
      "Epoch: [7]  [160/263]  eta: 0:01:29  lr: 0.000100  loss: 0.0819 (0.0977)  loss_classifier: 0.0265 (0.0280)  loss_box_reg: 0.0485 (0.0647)  loss_objectness: 0.0010 (0.0018)  loss_rpn_box_reg: 0.0029 (0.0032)  time: 0.8685  data: 0.0717  max mem: 6120\n",
      "Epoch: [7]  [180/263]  eta: 0:01:12  lr: 0.000100  loss: 0.0824 (0.0972)  loss_classifier: 0.0262 (0.0279)  loss_box_reg: 0.0526 (0.0645)  loss_objectness: 0.0007 (0.0017)  loss_rpn_box_reg: 0.0027 (0.0031)  time: 0.8734  data: 0.0766  max mem: 6120\n",
      "Epoch: [7]  [200/263]  eta: 0:00:54  lr: 0.000100  loss: 0.0795 (0.0964)  loss_classifier: 0.0224 (0.0276)  loss_box_reg: 0.0527 (0.0639)  loss_objectness: 0.0014 (0.0017)  loss_rpn_box_reg: 0.0032 (0.0032)  time: 0.8755  data: 0.0793  max mem: 6120\n",
      "Epoch: [7]  [220/263]  eta: 0:00:37  lr: 0.000100  loss: 0.0976 (0.0968)  loss_classifier: 0.0281 (0.0277)  loss_box_reg: 0.0674 (0.0641)  loss_objectness: 0.0006 (0.0017)  loss_rpn_box_reg: 0.0028 (0.0032)  time: 0.8772  data: 0.0818  max mem: 6120\n",
      "Epoch: [7]  [240/263]  eta: 0:00:20  lr: 0.000100  loss: 0.0812 (0.0962)  loss_classifier: 0.0224 (0.0275)  loss_box_reg: 0.0546 (0.0638)  loss_objectness: 0.0009 (0.0017)  loss_rpn_box_reg: 0.0032 (0.0032)  time: 0.8714  data: 0.0759  max mem: 6120\n",
      "Epoch: [7]  [260/263]  eta: 0:00:02  lr: 0.000100  loss: 0.0977 (0.0969)  loss_classifier: 0.0273 (0.0276)  loss_box_reg: 0.0677 (0.0643)  loss_objectness: 0.0016 (0.0017)  loss_rpn_box_reg: 0.0028 (0.0032)  time: 0.8696  data: 0.0737  max mem: 6120\n",
      "Epoch: [7]  [262/263]  eta: 0:00:00  lr: 0.000100  loss: 0.0942 (0.0971)  loss_classifier: 0.0273 (0.0277)  loss_box_reg: 0.0642 (0.0645)  loss_objectness: 0.0018 (0.0017)  loss_rpn_box_reg: 0.0028 (0.0032)  time: 0.8438  data: 0.0718  max mem: 6120\n",
      "Epoch: [7] Total time: 0:03:48 (0.8687 s / it)\n",
      "creating index...\n",
      "index created!\n",
      "Test:  [ 0/75]  eta: 0:00:35  model_time: 0.3734 (0.3734)  evaluator_time: 0.0057 (0.0057)  time: 0.4695  data: 0.0810  max mem: 6120\n"
     ]
    },
    {
     "name": "stderr",
     "output_type": "stream",
     "text": [
      "2024-12-22 19:00:21,409 - INFO - Evaluation results on validation set: <coco_eval.CocoEvaluator object at 0x789809fc8f70>\n"
     ]
    },
    {
     "name": "stdout",
     "output_type": "stream",
     "text": [
      "Test:  [74/75]  eta: 0:00:00  model_time: 0.3644 (0.3649)  evaluator_time: 0.0061 (0.0065)  time: 0.4555  data: 0.0746  max mem: 6120\n",
      "Test: Total time: 0:00:34 (0.4584 s / it)\n",
      "Averaged stats: model_time: 0.3644 (0.3649)  evaluator_time: 0.0061 (0.0065)\n",
      "Accumulating evaluation results...\n",
      "DONE (t=0.12s).\n",
      "IoU metric: bbox\n",
      " Average Precision  (AP) @[ IoU=0.50:0.95 | area=   all | maxDets=100 ] = 0.335\n",
      " Average Precision  (AP) @[ IoU=0.50      | area=   all | maxDets=100 ] = 0.572\n",
      " Average Precision  (AP) @[ IoU=0.75      | area=   all | maxDets=100 ] = 0.355\n",
      " Average Precision  (AP) @[ IoU=0.50:0.95 | area= small | maxDets=100 ] = 0.115\n",
      " Average Precision  (AP) @[ IoU=0.50:0.95 | area=medium | maxDets=100 ] = 0.211\n",
      " Average Precision  (AP) @[ IoU=0.50:0.95 | area= large | maxDets=100 ] = 0.389\n",
      " Average Recall     (AR) @[ IoU=0.50:0.95 | area=   all | maxDets=  1 ] = 0.284\n",
      " Average Recall     (AR) @[ IoU=0.50:0.95 | area=   all | maxDets= 10 ] = 0.419\n",
      " Average Recall     (AR) @[ IoU=0.50:0.95 | area=   all | maxDets=100 ] = 0.425\n",
      " Average Recall     (AR) @[ IoU=0.50:0.95 | area= small | maxDets=100 ] = 0.159\n",
      " Average Recall     (AR) @[ IoU=0.50:0.95 | area=medium | maxDets=100 ] = 0.303\n",
      " Average Recall     (AR) @[ IoU=0.50:0.95 | area= large | maxDets=100 ] = 0.470\n",
      "<coco_eval.CocoEvaluator object at 0x789809fc8f70>\n"
     ]
    },
    {
     "name": "stderr",
     "output_type": "stream",
     "text": [
      "2024-12-22 19:00:22,165 - INFO - Checkpoint saved at epoch 7\n"
     ]
    },
    {
     "name": "stdout",
     "output_type": "stream",
     "text": [
      "Checkpoint saved at epoch 7\n",
      "Epoch: [8]  [  0/263]  eta: 0:03:50  lr: 0.000100  loss: 0.0510 (0.0510)  loss_classifier: 0.0160 (0.0160)  loss_box_reg: 0.0300 (0.0300)  loss_objectness: 0.0012 (0.0012)  loss_rpn_box_reg: 0.0038 (0.0038)  time: 0.8761  data: 0.0759  max mem: 6120\n",
      "Epoch: [8]  [ 20/263]  eta: 0:03:30  lr: 0.000100  loss: 0.0712 (0.0784)  loss_classifier: 0.0185 (0.0203)  loss_box_reg: 0.0500 (0.0546)  loss_objectness: 0.0007 (0.0008)  loss_rpn_box_reg: 0.0022 (0.0026)  time: 0.8642  data: 0.0734  max mem: 6120\n",
      "Epoch: [8]  [ 40/263]  eta: 0:03:13  lr: 0.000100  loss: 0.0912 (0.0889)  loss_classifier: 0.0261 (0.0239)  loss_box_reg: 0.0591 (0.0608)  loss_objectness: 0.0017 (0.0012)  loss_rpn_box_reg: 0.0032 (0.0030)  time: 0.8704  data: 0.0743  max mem: 6120\n",
      "Epoch: [8]  [ 60/263]  eta: 0:02:56  lr: 0.000100  loss: 0.0766 (0.0850)  loss_classifier: 0.0214 (0.0231)  loss_box_reg: 0.0483 (0.0576)  loss_objectness: 0.0012 (0.0013)  loss_rpn_box_reg: 0.0025 (0.0030)  time: 0.8692  data: 0.0724  max mem: 6120\n",
      "Epoch: [8]  [ 80/263]  eta: 0:02:38  lr: 0.000100  loss: 0.0822 (0.0849)  loss_classifier: 0.0206 (0.0232)  loss_box_reg: 0.0554 (0.0574)  loss_objectness: 0.0008 (0.0013)  loss_rpn_box_reg: 0.0028 (0.0030)  time: 0.8673  data: 0.0716  max mem: 6120\n",
      "Epoch: [8]  [100/263]  eta: 0:02:21  lr: 0.000100  loss: 0.1017 (0.0865)  loss_classifier: 0.0263 (0.0241)  loss_box_reg: 0.0631 (0.0583)  loss_objectness: 0.0007 (0.0012)  loss_rpn_box_reg: 0.0029 (0.0030)  time: 0.8706  data: 0.0758  max mem: 6120\n",
      "Epoch: [8]  [120/263]  eta: 0:02:04  lr: 0.000100  loss: 0.0893 (0.0873)  loss_classifier: 0.0240 (0.0243)  loss_box_reg: 0.0635 (0.0589)  loss_objectness: 0.0009 (0.0012)  loss_rpn_box_reg: 0.0022 (0.0029)  time: 0.8707  data: 0.0760  max mem: 6120\n",
      "Epoch: [8]  [140/263]  eta: 0:01:46  lr: 0.000100  loss: 0.0810 (0.0879)  loss_classifier: 0.0224 (0.0245)  loss_box_reg: 0.0574 (0.0593)  loss_objectness: 0.0008 (0.0012)  loss_rpn_box_reg: 0.0027 (0.0029)  time: 0.8680  data: 0.0741  max mem: 6120\n",
      "Epoch: [8]  [160/263]  eta: 0:01:29  lr: 0.000100  loss: 0.0759 (0.0882)  loss_classifier: 0.0228 (0.0246)  loss_box_reg: 0.0515 (0.0595)  loss_objectness: 0.0006 (0.0012)  loss_rpn_box_reg: 0.0026 (0.0029)  time: 0.8660  data: 0.0720  max mem: 6120\n",
      "Epoch: [8]  [180/263]  eta: 0:01:12  lr: 0.000100  loss: 0.0817 (0.0876)  loss_classifier: 0.0209 (0.0243)  loss_box_reg: 0.0555 (0.0591)  loss_objectness: 0.0009 (0.0013)  loss_rpn_box_reg: 0.0028 (0.0029)  time: 0.8728  data: 0.0785  max mem: 6120\n",
      "Epoch: [8]  [200/263]  eta: 0:00:54  lr: 0.000100  loss: 0.0938 (0.0885)  loss_classifier: 0.0231 (0.0243)  loss_box_reg: 0.0649 (0.0599)  loss_objectness: 0.0012 (0.0013)  loss_rpn_box_reg: 0.0031 (0.0030)  time: 0.8699  data: 0.0759  max mem: 6120\n",
      "Epoch: [8]  [220/263]  eta: 0:00:37  lr: 0.000100  loss: 0.0894 (0.0885)  loss_classifier: 0.0256 (0.0244)  loss_box_reg: 0.0589 (0.0598)  loss_objectness: 0.0013 (0.0013)  loss_rpn_box_reg: 0.0025 (0.0030)  time: 0.8729  data: 0.0786  max mem: 6120\n",
      "Epoch: [8]  [240/263]  eta: 0:00:19  lr: 0.000100  loss: 0.0733 (0.0879)  loss_classifier: 0.0220 (0.0244)  loss_box_reg: 0.0479 (0.0593)  loss_objectness: 0.0005 (0.0013)  loss_rpn_box_reg: 0.0025 (0.0029)  time: 0.8718  data: 0.0765  max mem: 6120\n",
      "Epoch: [8]  [260/263]  eta: 0:00:02  lr: 0.000100  loss: 0.0857 (0.0879)  loss_classifier: 0.0246 (0.0244)  loss_box_reg: 0.0568 (0.0593)  loss_objectness: 0.0007 (0.0013)  loss_rpn_box_reg: 0.0025 (0.0029)  time: 0.8732  data: 0.0768  max mem: 6120\n",
      "Epoch: [8]  [262/263]  eta: 0:00:00  lr: 0.000100  loss: 0.0842 (0.0876)  loss_classifier: 0.0239 (0.0244)  loss_box_reg: 0.0536 (0.0590)  loss_objectness: 0.0007 (0.0013)  loss_rpn_box_reg: 0.0025 (0.0029)  time: 0.8465  data: 0.0737  max mem: 6120\n",
      "Epoch: [8] Total time: 0:03:48 (0.8679 s / it)\n",
      "creating index...\n",
      "index created!\n",
      "Test:  [ 0/75]  eta: 0:00:35  model_time: 0.3816 (0.3816)  evaluator_time: 0.0053 (0.0053)  time: 0.4751  data: 0.0791  max mem: 6120\n"
     ]
    },
    {
     "name": "stderr",
     "output_type": "stream",
     "text": [
      "2024-12-22 19:04:50,886 - INFO - Evaluation results on validation set: <coco_eval.CocoEvaluator object at 0x7897fe097850>\n"
     ]
    },
    {
     "name": "stdout",
     "output_type": "stream",
     "text": [
      "Test:  [74/75]  eta: 0:00:00  model_time: 0.3622 (0.3640)  evaluator_time: 0.0051 (0.0056)  time: 0.4534  data: 0.0747  max mem: 6120\n",
      "Test: Total time: 0:00:34 (0.4565 s / it)\n",
      "Averaged stats: model_time: 0.3622 (0.3640)  evaluator_time: 0.0051 (0.0056)\n",
      "Accumulating evaluation results...\n",
      "DONE (t=0.11s).\n",
      "IoU metric: bbox\n",
      " Average Precision  (AP) @[ IoU=0.50:0.95 | area=   all | maxDets=100 ] = 0.344\n",
      " Average Precision  (AP) @[ IoU=0.50      | area=   all | maxDets=100 ] = 0.569\n",
      " Average Precision  (AP) @[ IoU=0.75      | area=   all | maxDets=100 ] = 0.376\n",
      " Average Precision  (AP) @[ IoU=0.50:0.95 | area= small | maxDets=100 ] = 0.109\n",
      " Average Precision  (AP) @[ IoU=0.50:0.95 | area=medium | maxDets=100 ] = 0.207\n",
      " Average Precision  (AP) @[ IoU=0.50:0.95 | area= large | maxDets=100 ] = 0.399\n",
      " Average Recall     (AR) @[ IoU=0.50:0.95 | area=   all | maxDets=  1 ] = 0.293\n",
      " Average Recall     (AR) @[ IoU=0.50:0.95 | area=   all | maxDets= 10 ] = 0.410\n",
      " Average Recall     (AR) @[ IoU=0.50:0.95 | area=   all | maxDets=100 ] = 0.412\n",
      " Average Recall     (AR) @[ IoU=0.50:0.95 | area= small | maxDets=100 ] = 0.138\n",
      " Average Recall     (AR) @[ IoU=0.50:0.95 | area=medium | maxDets=100 ] = 0.263\n",
      " Average Recall     (AR) @[ IoU=0.50:0.95 | area= large | maxDets=100 ] = 0.469\n",
      "<coco_eval.CocoEvaluator object at 0x7897fe097850>\n"
     ]
    },
    {
     "name": "stderr",
     "output_type": "stream",
     "text": [
      "2024-12-22 19:04:51,655 - INFO - Checkpoint saved at epoch 8\n"
     ]
    },
    {
     "name": "stdout",
     "output_type": "stream",
     "text": [
      "Checkpoint saved at epoch 8\n",
      "Epoch: [9]  [  0/263]  eta: 0:03:50  lr: 0.000100  loss: 0.1322 (0.1322)  loss_classifier: 0.0340 (0.0340)  loss_box_reg: 0.0949 (0.0949)  loss_objectness: 0.0002 (0.0002)  loss_rpn_box_reg: 0.0030 (0.0030)  time: 0.8760  data: 0.0782  max mem: 6120\n",
      "Epoch: [9]  [ 20/263]  eta: 0:03:33  lr: 0.000100  loss: 0.0853 (0.0946)  loss_classifier: 0.0225 (0.0255)  loss_box_reg: 0.0537 (0.0642)  loss_objectness: 0.0010 (0.0017)  loss_rpn_box_reg: 0.0028 (0.0031)  time: 0.8770  data: 0.0813  max mem: 6120\n",
      "Epoch: [9]  [ 40/263]  eta: 0:03:14  lr: 0.000100  loss: 0.0804 (0.0888)  loss_classifier: 0.0230 (0.0258)  loss_box_reg: 0.0539 (0.0592)  loss_objectness: 0.0007 (0.0013)  loss_rpn_box_reg: 0.0017 (0.0026)  time: 0.8697  data: 0.0737  max mem: 6120\n",
      "Epoch: [9]  [ 60/263]  eta: 0:02:57  lr: 0.000100  loss: 0.0799 (0.0894)  loss_classifier: 0.0280 (0.0274)  loss_box_reg: 0.0510 (0.0581)  loss_objectness: 0.0007 (0.0013)  loss_rpn_box_reg: 0.0023 (0.0025)  time: 0.8692  data: 0.0772  max mem: 6120\n",
      "Epoch: [9]  [ 80/263]  eta: 0:02:39  lr: 0.000100  loss: 0.0983 (0.0928)  loss_classifier: 0.0310 (0.0291)  loss_box_reg: 0.0656 (0.0596)  loss_objectness: 0.0010 (0.0014)  loss_rpn_box_reg: 0.0029 (0.0027)  time: 0.8756  data: 0.0786  max mem: 6120\n",
      "Epoch: [9]  [100/263]  eta: 0:02:22  lr: 0.000100  loss: 0.0865 (0.0931)  loss_classifier: 0.0294 (0.0295)  loss_box_reg: 0.0519 (0.0594)  loss_objectness: 0.0018 (0.0015)  loss_rpn_box_reg: 0.0026 (0.0027)  time: 0.8752  data: 0.0779  max mem: 6120\n",
      "Epoch: [9]  [120/263]  eta: 0:02:04  lr: 0.000100  loss: 0.0732 (0.0904)  loss_classifier: 0.0202 (0.0285)  loss_box_reg: 0.0470 (0.0577)  loss_objectness: 0.0012 (0.0015)  loss_rpn_box_reg: 0.0021 (0.0026)  time: 0.8679  data: 0.0731  max mem: 6120\n",
      "Epoch: [9]  [140/263]  eta: 0:01:47  lr: 0.000100  loss: 0.0790 (0.0895)  loss_classifier: 0.0241 (0.0281)  loss_box_reg: 0.0527 (0.0572)  loss_objectness: 0.0016 (0.0016)  loss_rpn_box_reg: 0.0025 (0.0027)  time: 0.8681  data: 0.0742  max mem: 6120\n",
      "Epoch: [9]  [160/263]  eta: 0:01:29  lr: 0.000100  loss: 0.0954 (0.0907)  loss_classifier: 0.0268 (0.0279)  loss_box_reg: 0.0646 (0.0583)  loss_objectness: 0.0012 (0.0016)  loss_rpn_box_reg: 0.0033 (0.0028)  time: 0.8693  data: 0.0753  max mem: 6120\n",
      "Epoch: [9]  [180/263]  eta: 0:01:12  lr: 0.000100  loss: 0.0732 (0.0890)  loss_classifier: 0.0208 (0.0273)  loss_box_reg: 0.0493 (0.0575)  loss_objectness: 0.0006 (0.0015)  loss_rpn_box_reg: 0.0024 (0.0028)  time: 0.8659  data: 0.0722  max mem: 6120\n",
      "Epoch: [9]  [200/263]  eta: 0:00:54  lr: 0.000100  loss: 0.0783 (0.0880)  loss_classifier: 0.0206 (0.0267)  loss_box_reg: 0.0532 (0.0570)  loss_objectness: 0.0008 (0.0015)  loss_rpn_box_reg: 0.0028 (0.0028)  time: 0.8733  data: 0.0785  max mem: 6120\n",
      "Epoch: [9]  [220/263]  eta: 0:00:37  lr: 0.000100  loss: 0.0916 (0.0886)  loss_classifier: 0.0246 (0.0267)  loss_box_reg: 0.0635 (0.0576)  loss_objectness: 0.0009 (0.0015)  loss_rpn_box_reg: 0.0027 (0.0029)  time: 0.8684  data: 0.0743  max mem: 6120\n",
      "Epoch: [9]  [240/263]  eta: 0:00:20  lr: 0.000100  loss: 0.0886 (0.0889)  loss_classifier: 0.0222 (0.0265)  loss_box_reg: 0.0609 (0.0580)  loss_objectness: 0.0011 (0.0015)  loss_rpn_box_reg: 0.0030 (0.0029)  time: 0.8692  data: 0.0749  max mem: 6120\n",
      "Epoch: [9]  [260/263]  eta: 0:00:02  lr: 0.000100  loss: 0.0650 (0.0876)  loss_classifier: 0.0169 (0.0260)  loss_box_reg: 0.0432 (0.0573)  loss_objectness: 0.0011 (0.0015)  loss_rpn_box_reg: 0.0022 (0.0028)  time: 0.8716  data: 0.0764  max mem: 6120\n",
      "Epoch: [9]  [262/263]  eta: 0:00:00  lr: 0.000100  loss: 0.0650 (0.0875)  loss_classifier: 0.0170 (0.0259)  loss_box_reg: 0.0432 (0.0572)  loss_objectness: 0.0011 (0.0015)  loss_rpn_box_reg: 0.0022 (0.0028)  time: 0.8448  data: 0.0732  max mem: 6120\n",
      "Epoch: [9] Total time: 0:03:48 (0.8689 s / it)\n",
      "creating index...\n",
      "index created!\n",
      "Test:  [ 0/75]  eta: 0:00:34  model_time: 0.3758 (0.3758)  evaluator_time: 0.0055 (0.0055)  time: 0.4655  data: 0.0749  max mem: 6120\n"
     ]
    },
    {
     "name": "stderr",
     "output_type": "stream",
     "text": [
      "2024-12-22 19:09:20,545 - INFO - Evaluation results on validation set: <coco_eval.CocoEvaluator object at 0x7898b858eef0>\n"
     ]
    },
    {
     "name": "stdout",
     "output_type": "stream",
     "text": [
      "Test:  [74/75]  eta: 0:00:00  model_time: 0.3636 (0.3643)  evaluator_time: 0.0052 (0.0057)  time: 0.4543  data: 0.0749  max mem: 6120\n",
      "Test: Total time: 0:00:34 (0.4554 s / it)\n",
      "Averaged stats: model_time: 0.3636 (0.3643)  evaluator_time: 0.0052 (0.0057)\n",
      "Accumulating evaluation results...\n",
      "DONE (t=0.11s).\n",
      "IoU metric: bbox\n",
      " Average Precision  (AP) @[ IoU=0.50:0.95 | area=   all | maxDets=100 ] = 0.351\n",
      " Average Precision  (AP) @[ IoU=0.50      | area=   all | maxDets=100 ] = 0.582\n",
      " Average Precision  (AP) @[ IoU=0.75      | area=   all | maxDets=100 ] = 0.380\n",
      " Average Precision  (AP) @[ IoU=0.50:0.95 | area= small | maxDets=100 ] = 0.094\n",
      " Average Precision  (AP) @[ IoU=0.50:0.95 | area=medium | maxDets=100 ] = 0.207\n",
      " Average Precision  (AP) @[ IoU=0.50:0.95 | area= large | maxDets=100 ] = 0.407\n",
      " Average Recall     (AR) @[ IoU=0.50:0.95 | area=   all | maxDets=  1 ] = 0.297\n",
      " Average Recall     (AR) @[ IoU=0.50:0.95 | area=   all | maxDets= 10 ] = 0.418\n",
      " Average Recall     (AR) @[ IoU=0.50:0.95 | area=   all | maxDets=100 ] = 0.422\n",
      " Average Recall     (AR) @[ IoU=0.50:0.95 | area= small | maxDets=100 ] = 0.116\n",
      " Average Recall     (AR) @[ IoU=0.50:0.95 | area=medium | maxDets=100 ] = 0.282\n",
      " Average Recall     (AR) @[ IoU=0.50:0.95 | area= large | maxDets=100 ] = 0.472\n",
      "<coco_eval.CocoEvaluator object at 0x7898b858eef0>\n"
     ]
    },
    {
     "name": "stderr",
     "output_type": "stream",
     "text": [
      "2024-12-22 19:09:21,295 - INFO - Checkpoint saved at epoch 9\n"
     ]
    },
    {
     "name": "stdout",
     "output_type": "stream",
     "text": [
      "Checkpoint saved at epoch 9\n",
      "Epoch: [10]  [  0/263]  eta: 0:03:50  lr: 0.000100  loss: 0.0930 (0.0930)  loss_classifier: 0.0246 (0.0246)  loss_box_reg: 0.0603 (0.0603)  loss_objectness: 0.0042 (0.0042)  loss_rpn_box_reg: 0.0039 (0.0039)  time: 0.8780  data: 0.0870  max mem: 6120\n",
      "Epoch: [10]  [ 20/263]  eta: 0:03:31  lr: 0.000100  loss: 0.0687 (0.0726)  loss_classifier: 0.0191 (0.0199)  loss_box_reg: 0.0462 (0.0487)  loss_objectness: 0.0004 (0.0014)  loss_rpn_box_reg: 0.0021 (0.0025)  time: 0.8687  data: 0.0715  max mem: 6120\n",
      "Epoch: [10]  [ 40/263]  eta: 0:03:14  lr: 0.000100  loss: 0.0722 (0.0775)  loss_classifier: 0.0206 (0.0213)  loss_box_reg: 0.0493 (0.0521)  loss_objectness: 0.0013 (0.0016)  loss_rpn_box_reg: 0.0021 (0.0025)  time: 0.8725  data: 0.0766  max mem: 6121\n",
      "Epoch: [10]  [ 60/263]  eta: 0:02:56  lr: 0.000100  loss: 0.0720 (0.0782)  loss_classifier: 0.0196 (0.0211)  loss_box_reg: 0.0514 (0.0534)  loss_objectness: 0.0007 (0.0014)  loss_rpn_box_reg: 0.0021 (0.0024)  time: 0.8646  data: 0.0736  max mem: 6121\n",
      "Epoch: [10]  [ 80/263]  eta: 0:02:38  lr: 0.000100  loss: 0.0792 (0.0779)  loss_classifier: 0.0208 (0.0212)  loss_box_reg: 0.0521 (0.0531)  loss_objectness: 0.0004 (0.0012)  loss_rpn_box_reg: 0.0020 (0.0024)  time: 0.8682  data: 0.0734  max mem: 6121\n",
      "Epoch: [10]  [100/263]  eta: 0:02:21  lr: 0.000100  loss: 0.0794 (0.0778)  loss_classifier: 0.0223 (0.0214)  loss_box_reg: 0.0511 (0.0528)  loss_objectness: 0.0006 (0.0012)  loss_rpn_box_reg: 0.0026 (0.0024)  time: 0.8689  data: 0.0746  max mem: 6121\n",
      "Epoch: [10]  [120/263]  eta: 0:02:04  lr: 0.000100  loss: 0.0835 (0.0791)  loss_classifier: 0.0227 (0.0217)  loss_box_reg: 0.0566 (0.0537)  loss_objectness: 0.0008 (0.0012)  loss_rpn_box_reg: 0.0026 (0.0025)  time: 0.8726  data: 0.0759  max mem: 6121\n",
      "Epoch: [10]  [140/263]  eta: 0:01:46  lr: 0.000100  loss: 0.0778 (0.0790)  loss_classifier: 0.0198 (0.0216)  loss_box_reg: 0.0531 (0.0538)  loss_objectness: 0.0004 (0.0011)  loss_rpn_box_reg: 0.0022 (0.0025)  time: 0.8685  data: 0.0736  max mem: 6121\n",
      "Epoch: [10]  [160/263]  eta: 0:01:29  lr: 0.000100  loss: 0.0733 (0.0789)  loss_classifier: 0.0204 (0.0215)  loss_box_reg: 0.0523 (0.0538)  loss_objectness: 0.0007 (0.0011)  loss_rpn_box_reg: 0.0025 (0.0025)  time: 0.8680  data: 0.0741  max mem: 6121\n",
      "Epoch: [10]  [180/263]  eta: 0:01:12  lr: 0.000100  loss: 0.0572 (0.0774)  loss_classifier: 0.0157 (0.0213)  loss_box_reg: 0.0372 (0.0525)  loss_objectness: 0.0008 (0.0011)  loss_rpn_box_reg: 0.0021 (0.0025)  time: 0.8728  data: 0.0760  max mem: 6121\n",
      "Epoch: [10]  [200/263]  eta: 0:00:54  lr: 0.000100  loss: 0.0709 (0.0769)  loss_classifier: 0.0198 (0.0211)  loss_box_reg: 0.0480 (0.0521)  loss_objectness: 0.0012 (0.0011)  loss_rpn_box_reg: 0.0021 (0.0025)  time: 0.8707  data: 0.0754  max mem: 6121\n",
      "Epoch: [10]  [220/263]  eta: 0:00:37  lr: 0.000100  loss: 0.0846 (0.0783)  loss_classifier: 0.0234 (0.0217)  loss_box_reg: 0.0572 (0.0529)  loss_objectness: 0.0013 (0.0012)  loss_rpn_box_reg: 0.0025 (0.0025)  time: 0.8686  data: 0.0736  max mem: 6121\n",
      "Epoch: [10]  [240/263]  eta: 0:00:20  lr: 0.000100  loss: 0.0771 (0.0783)  loss_classifier: 0.0205 (0.0218)  loss_box_reg: 0.0500 (0.0527)  loss_objectness: 0.0010 (0.0012)  loss_rpn_box_reg: 0.0022 (0.0025)  time: 0.8740  data: 0.0764  max mem: 6121\n",
      "Epoch: [10]  [260/263]  eta: 0:00:02  lr: 0.000100  loss: 0.0667 (0.0783)  loss_classifier: 0.0201 (0.0218)  loss_box_reg: 0.0466 (0.0527)  loss_objectness: 0.0005 (0.0012)  loss_rpn_box_reg: 0.0021 (0.0025)  time: 0.8749  data: 0.0790  max mem: 6121\n",
      "Epoch: [10]  [262/263]  eta: 0:00:00  lr: 0.000100  loss: 0.0667 (0.0784)  loss_classifier: 0.0195 (0.0218)  loss_box_reg: 0.0466 (0.0528)  loss_objectness: 0.0006 (0.0012)  loss_rpn_box_reg: 0.0021 (0.0026)  time: 0.8486  data: 0.0766  max mem: 6121\n",
      "Epoch: [10] Total time: 0:03:48 (0.8684 s / it)\n",
      "creating index...\n",
      "index created!\n",
      "Test:  [ 0/75]  eta: 0:00:34  model_time: 0.3746 (0.3746)  evaluator_time: 0.0048 (0.0048)  time: 0.4638  data: 0.0752  max mem: 6121\n"
     ]
    },
    {
     "name": "stderr",
     "output_type": "stream",
     "text": [
      "2024-12-22 19:13:50,007 - INFO - Evaluation results on validation set: <coco_eval.CocoEvaluator object at 0x7897fe097850>\n"
     ]
    },
    {
     "name": "stdout",
     "output_type": "stream",
     "text": [
      "Test:  [74/75]  eta: 0:00:00  model_time: 0.3635 (0.3644)  evaluator_time: 0.0052 (0.0057)  time: 0.4536  data: 0.0747  max mem: 6121\n",
      "Test: Total time: 0:00:34 (0.4555 s / it)\n",
      "Averaged stats: model_time: 0.3635 (0.3644)  evaluator_time: 0.0052 (0.0057)\n",
      "Accumulating evaluation results...\n",
      "DONE (t=0.11s).\n",
      "IoU metric: bbox\n",
      " Average Precision  (AP) @[ IoU=0.50:0.95 | area=   all | maxDets=100 ] = 0.339\n",
      " Average Precision  (AP) @[ IoU=0.50      | area=   all | maxDets=100 ] = 0.569\n",
      " Average Precision  (AP) @[ IoU=0.75      | area=   all | maxDets=100 ] = 0.358\n",
      " Average Precision  (AP) @[ IoU=0.50:0.95 | area= small | maxDets=100 ] = 0.072\n",
      " Average Precision  (AP) @[ IoU=0.50:0.95 | area=medium | maxDets=100 ] = 0.200\n",
      " Average Precision  (AP) @[ IoU=0.50:0.95 | area= large | maxDets=100 ] = 0.393\n",
      " Average Recall     (AR) @[ IoU=0.50:0.95 | area=   all | maxDets=  1 ] = 0.287\n",
      " Average Recall     (AR) @[ IoU=0.50:0.95 | area=   all | maxDets= 10 ] = 0.406\n",
      " Average Recall     (AR) @[ IoU=0.50:0.95 | area=   all | maxDets=100 ] = 0.410\n",
      " Average Recall     (AR) @[ IoU=0.50:0.95 | area= small | maxDets=100 ] = 0.086\n",
      " Average Recall     (AR) @[ IoU=0.50:0.95 | area=medium | maxDets=100 ] = 0.269\n",
      " Average Recall     (AR) @[ IoU=0.50:0.95 | area= large | maxDets=100 ] = 0.461\n",
      "<coco_eval.CocoEvaluator object at 0x7897fe097850>\n"
     ]
    },
    {
     "name": "stderr",
     "output_type": "stream",
     "text": [
      "2024-12-22 19:13:50,777 - INFO - Checkpoint saved at epoch 10\n"
     ]
    },
    {
     "name": "stdout",
     "output_type": "stream",
     "text": [
      "Checkpoint saved at epoch 10\n",
      "Epoch: [11]  [  0/263]  eta: 0:03:50  lr: 0.000100  loss: 0.0771 (0.0771)  loss_classifier: 0.0227 (0.0227)  loss_box_reg: 0.0514 (0.0514)  loss_objectness: 0.0015 (0.0015)  loss_rpn_box_reg: 0.0015 (0.0015)  time: 0.8779  data: 0.0830  max mem: 6121\n",
      "Epoch: [11]  [ 20/263]  eta: 0:03:31  lr: 0.000100  loss: 0.0596 (0.0669)  loss_classifier: 0.0168 (0.0191)  loss_box_reg: 0.0385 (0.0450)  loss_objectness: 0.0005 (0.0008)  loss_rpn_box_reg: 0.0017 (0.0020)  time: 0.8699  data: 0.0722  max mem: 6121\n",
      "Epoch: [11]  [ 40/263]  eta: 0:03:13  lr: 0.000100  loss: 0.0668 (0.0718)  loss_classifier: 0.0214 (0.0202)  loss_box_reg: 0.0474 (0.0485)  loss_objectness: 0.0005 (0.0009)  loss_rpn_box_reg: 0.0020 (0.0022)  time: 0.8658  data: 0.0721  max mem: 6121\n",
      "Epoch: [11]  [ 60/263]  eta: 0:02:56  lr: 0.000100  loss: 0.0675 (0.0716)  loss_classifier: 0.0169 (0.0199)  loss_box_reg: 0.0457 (0.0483)  loss_objectness: 0.0015 (0.0011)  loss_rpn_box_reg: 0.0024 (0.0023)  time: 0.8671  data: 0.0723  max mem: 6121\n",
      "Epoch: [11]  [ 80/263]  eta: 0:02:38  lr: 0.000100  loss: 0.0640 (0.0710)  loss_classifier: 0.0184 (0.0198)  loss_box_reg: 0.0412 (0.0477)  loss_objectness: 0.0006 (0.0011)  loss_rpn_box_reg: 0.0019 (0.0024)  time: 0.8685  data: 0.0737  max mem: 6121\n",
      "Epoch: [11]  [100/263]  eta: 0:02:21  lr: 0.000100  loss: 0.0713 (0.0722)  loss_classifier: 0.0189 (0.0201)  loss_box_reg: 0.0445 (0.0484)  loss_objectness: 0.0010 (0.0012)  loss_rpn_box_reg: 0.0027 (0.0025)  time: 0.8699  data: 0.0763  max mem: 6121\n",
      "Epoch: [11]  [120/263]  eta: 0:02:04  lr: 0.000100  loss: 0.0854 (0.0746)  loss_classifier: 0.0201 (0.0207)  loss_box_reg: 0.0611 (0.0503)  loss_objectness: 0.0007 (0.0012)  loss_rpn_box_reg: 0.0021 (0.0024)  time: 0.8732  data: 0.0773  max mem: 6121\n",
      "Epoch: [11]  [140/263]  eta: 0:01:46  lr: 0.000100  loss: 0.0670 (0.0741)  loss_classifier: 0.0192 (0.0206)  loss_box_reg: 0.0448 (0.0499)  loss_objectness: 0.0009 (0.0012)  loss_rpn_box_reg: 0.0021 (0.0025)  time: 0.8726  data: 0.0786  max mem: 6121\n",
      "Epoch: [11]  [160/263]  eta: 0:01:29  lr: 0.000100  loss: 0.0595 (0.0727)  loss_classifier: 0.0171 (0.0203)  loss_box_reg: 0.0403 (0.0489)  loss_objectness: 0.0005 (0.0011)  loss_rpn_box_reg: 0.0020 (0.0025)  time: 0.8669  data: 0.0771  max mem: 6121\n",
      "Epoch: [11]  [180/263]  eta: 0:01:12  lr: 0.000100  loss: 0.0722 (0.0728)  loss_classifier: 0.0205 (0.0204)  loss_box_reg: 0.0459 (0.0489)  loss_objectness: 0.0007 (0.0011)  loss_rpn_box_reg: 0.0022 (0.0025)  time: 0.8666  data: 0.0720  max mem: 6121\n",
      "Epoch: [11]  [200/263]  eta: 0:00:54  lr: 0.000100  loss: 0.0797 (0.0730)  loss_classifier: 0.0218 (0.0205)  loss_box_reg: 0.0533 (0.0490)  loss_objectness: 0.0006 (0.0011)  loss_rpn_box_reg: 0.0023 (0.0025)  time: 0.8695  data: 0.0739  max mem: 6121\n",
      "Epoch: [11]  [220/263]  eta: 0:00:37  lr: 0.000100  loss: 0.0705 (0.0729)  loss_classifier: 0.0194 (0.0204)  loss_box_reg: 0.0517 (0.0489)  loss_objectness: 0.0008 (0.0011)  loss_rpn_box_reg: 0.0022 (0.0024)  time: 0.8682  data: 0.0741  max mem: 6121\n",
      "Epoch: [11]  [240/263]  eta: 0:00:19  lr: 0.000100  loss: 0.0661 (0.0726)  loss_classifier: 0.0185 (0.0203)  loss_box_reg: 0.0433 (0.0487)  loss_objectness: 0.0008 (0.0011)  loss_rpn_box_reg: 0.0021 (0.0024)  time: 0.8744  data: 0.0803  max mem: 6121\n",
      "Epoch: [11]  [260/263]  eta: 0:00:02  lr: 0.000100  loss: 0.0711 (0.0730)  loss_classifier: 0.0197 (0.0204)  loss_box_reg: 0.0470 (0.0489)  loss_objectness: 0.0008 (0.0012)  loss_rpn_box_reg: 0.0024 (0.0025)  time: 0.8672  data: 0.0723  max mem: 6121\n",
      "Epoch: [11]  [262/263]  eta: 0:00:00  lr: 0.000100  loss: 0.0679 (0.0730)  loss_classifier: 0.0197 (0.0204)  loss_box_reg: 0.0458 (0.0490)  loss_objectness: 0.0006 (0.0011)  loss_rpn_box_reg: 0.0021 (0.0025)  time: 0.8419  data: 0.0708  max mem: 6121\n",
      "Epoch: [11] Total time: 0:03:48 (0.8674 s / it)\n",
      "creating index...\n",
      "index created!\n",
      "Test:  [ 0/75]  eta: 0:00:34  model_time: 0.3821 (0.3821)  evaluator_time: 0.0049 (0.0049)  time: 0.4665  data: 0.0702  max mem: 6121\n"
     ]
    },
    {
     "name": "stderr",
     "output_type": "stream",
     "text": [
      "2024-12-22 19:18:19,311 - INFO - Evaluation results on validation set: <coco_eval.CocoEvaluator object at 0x7897fe10b190>\n"
     ]
    },
    {
     "name": "stdout",
     "output_type": "stream",
     "text": [
      "Test:  [74/75]  eta: 0:00:00  model_time: 0.3638 (0.3647)  evaluator_time: 0.0053 (0.0056)  time: 0.4561  data: 0.0764  max mem: 6121\n",
      "Test: Total time: 0:00:34 (0.4572 s / it)\n",
      "Averaged stats: model_time: 0.3638 (0.3647)  evaluator_time: 0.0053 (0.0056)\n",
      "Accumulating evaluation results...\n",
      "DONE (t=0.11s).\n",
      "IoU metric: bbox\n",
      " Average Precision  (AP) @[ IoU=0.50:0.95 | area=   all | maxDets=100 ] = 0.341\n",
      " Average Precision  (AP) @[ IoU=0.50      | area=   all | maxDets=100 ] = 0.578\n",
      " Average Precision  (AP) @[ IoU=0.75      | area=   all | maxDets=100 ] = 0.356\n",
      " Average Precision  (AP) @[ IoU=0.50:0.95 | area= small | maxDets=100 ] = 0.115\n",
      " Average Precision  (AP) @[ IoU=0.50:0.95 | area=medium | maxDets=100 ] = 0.199\n",
      " Average Precision  (AP) @[ IoU=0.50:0.95 | area= large | maxDets=100 ] = 0.392\n",
      " Average Recall     (AR) @[ IoU=0.50:0.95 | area=   all | maxDets=  1 ] = 0.289\n",
      " Average Recall     (AR) @[ IoU=0.50:0.95 | area=   all | maxDets= 10 ] = 0.410\n",
      " Average Recall     (AR) @[ IoU=0.50:0.95 | area=   all | maxDets=100 ] = 0.413\n",
      " Average Recall     (AR) @[ IoU=0.50:0.95 | area= small | maxDets=100 ] = 0.153\n",
      " Average Recall     (AR) @[ IoU=0.50:0.95 | area=medium | maxDets=100 ] = 0.266\n",
      " Average Recall     (AR) @[ IoU=0.50:0.95 | area= large | maxDets=100 ] = 0.464\n",
      "<coco_eval.CocoEvaluator object at 0x7897fe10b190>\n"
     ]
    },
    {
     "name": "stderr",
     "output_type": "stream",
     "text": [
      "2024-12-22 19:18:20,080 - INFO - Checkpoint saved at epoch 11\n"
     ]
    },
    {
     "name": "stdout",
     "output_type": "stream",
     "text": [
      "Checkpoint saved at epoch 11\n",
      "Epoch: [12]  [  0/263]  eta: 0:03:46  lr: 0.000100  loss: 0.0598 (0.0598)  loss_classifier: 0.0159 (0.0159)  loss_box_reg: 0.0413 (0.0413)  loss_objectness: 0.0003 (0.0003)  loss_rpn_box_reg: 0.0023 (0.0023)  time: 0.8616  data: 0.0683  max mem: 6121\n",
      "Epoch: [12]  [ 20/263]  eta: 0:03:29  lr: 0.000100  loss: 0.0728 (0.0797)  loss_classifier: 0.0198 (0.0227)  loss_box_reg: 0.0498 (0.0535)  loss_objectness: 0.0008 (0.0010)  loss_rpn_box_reg: 0.0022 (0.0024)  time: 0.8602  data: 0.0714  max mem: 6121\n",
      "Epoch: [12]  [ 40/263]  eta: 0:03:12  lr: 0.000100  loss: 0.0743 (0.0792)  loss_classifier: 0.0189 (0.0222)  loss_box_reg: 0.0509 (0.0538)  loss_objectness: 0.0004 (0.0009)  loss_rpn_box_reg: 0.0018 (0.0023)  time: 0.8697  data: 0.0736  max mem: 6121\n",
      "Epoch: [12]  [ 60/263]  eta: 0:02:56  lr: 0.000100  loss: 0.0652 (0.0741)  loss_classifier: 0.0172 (0.0209)  loss_box_reg: 0.0445 (0.0501)  loss_objectness: 0.0004 (0.0008)  loss_rpn_box_reg: 0.0019 (0.0022)  time: 0.8760  data: 0.0810  max mem: 6121\n",
      "Epoch: [12]  [ 80/263]  eta: 0:02:38  lr: 0.000100  loss: 0.0598 (0.0717)  loss_classifier: 0.0176 (0.0205)  loss_box_reg: 0.0365 (0.0480)  loss_objectness: 0.0008 (0.0010)  loss_rpn_box_reg: 0.0018 (0.0022)  time: 0.8688  data: 0.0747  max mem: 6121\n",
      "Epoch: [12]  [100/263]  eta: 0:02:21  lr: 0.000100  loss: 0.0616 (0.0709)  loss_classifier: 0.0182 (0.0204)  loss_box_reg: 0.0401 (0.0473)  loss_objectness: 0.0010 (0.0010)  loss_rpn_box_reg: 0.0022 (0.0023)  time: 0.8688  data: 0.0731  max mem: 6121\n",
      "Epoch: [12]  [120/263]  eta: 0:02:04  lr: 0.000100  loss: 0.0748 (0.0715)  loss_classifier: 0.0208 (0.0206)  loss_box_reg: 0.0490 (0.0476)  loss_objectness: 0.0006 (0.0010)  loss_rpn_box_reg: 0.0023 (0.0023)  time: 0.8693  data: 0.0737  max mem: 6121\n",
      "Epoch: [12]  [140/263]  eta: 0:01:46  lr: 0.000100  loss: 0.0765 (0.0724)  loss_classifier: 0.0225 (0.0207)  loss_box_reg: 0.0490 (0.0484)  loss_objectness: 0.0007 (0.0010)  loss_rpn_box_reg: 0.0024 (0.0024)  time: 0.8671  data: 0.0734  max mem: 6121\n",
      "Epoch: [12]  [160/263]  eta: 0:01:29  lr: 0.000100  loss: 0.0645 (0.0713)  loss_classifier: 0.0161 (0.0204)  loss_box_reg: 0.0436 (0.0476)  loss_objectness: 0.0003 (0.0009)  loss_rpn_box_reg: 0.0020 (0.0024)  time: 0.8722  data: 0.0762  max mem: 6121\n",
      "Epoch: [12]  [180/263]  eta: 0:01:12  lr: 0.000100  loss: 0.0681 (0.0719)  loss_classifier: 0.0198 (0.0204)  loss_box_reg: 0.0466 (0.0482)  loss_objectness: 0.0005 (0.0009)  loss_rpn_box_reg: 0.0025 (0.0024)  time: 0.8737  data: 0.0783  max mem: 6121\n",
      "Epoch: [12]  [200/263]  eta: 0:00:54  lr: 0.000100  loss: 0.0603 (0.0715)  loss_classifier: 0.0166 (0.0202)  loss_box_reg: 0.0414 (0.0481)  loss_objectness: 0.0003 (0.0009)  loss_rpn_box_reg: 0.0020 (0.0024)  time: 0.8716  data: 0.0770  max mem: 6121\n",
      "Epoch: [12]  [220/263]  eta: 0:00:37  lr: 0.000100  loss: 0.0600 (0.0712)  loss_classifier: 0.0172 (0.0201)  loss_box_reg: 0.0397 (0.0478)  loss_objectness: 0.0003 (0.0009)  loss_rpn_box_reg: 0.0018 (0.0024)  time: 0.8707  data: 0.0750  max mem: 6121\n",
      "Epoch: [12]  [240/263]  eta: 0:00:20  lr: 0.000100  loss: 0.0644 (0.0713)  loss_classifier: 0.0184 (0.0202)  loss_box_reg: 0.0436 (0.0479)  loss_objectness: 0.0006 (0.0009)  loss_rpn_box_reg: 0.0021 (0.0024)  time: 0.8734  data: 0.0770  max mem: 6121\n",
      "Epoch: [12]  [260/263]  eta: 0:00:02  lr: 0.000100  loss: 0.0647 (0.0710)  loss_classifier: 0.0179 (0.0200)  loss_box_reg: 0.0449 (0.0477)  loss_objectness: 0.0010 (0.0009)  loss_rpn_box_reg: 0.0021 (0.0023)  time: 0.8725  data: 0.0791  max mem: 6121\n",
      "Epoch: [12]  [262/263]  eta: 0:00:00  lr: 0.000100  loss: 0.0647 (0.0710)  loss_classifier: 0.0179 (0.0200)  loss_box_reg: 0.0449 (0.0477)  loss_objectness: 0.0010 (0.0009)  loss_rpn_box_reg: 0.0019 (0.0023)  time: 0.8457  data: 0.0760  max mem: 6121\n",
      "Epoch: [12] Total time: 0:03:48 (0.8684 s / it)\n",
      "creating index...\n",
      "index created!\n",
      "Test:  [ 0/75]  eta: 0:00:34  model_time: 0.3743 (0.3743)  evaluator_time: 0.0050 (0.0050)  time: 0.4592  data: 0.0706  max mem: 6121\n"
     ]
    },
    {
     "name": "stderr",
     "output_type": "stream",
     "text": [
      "2024-12-22 19:22:48,791 - INFO - Evaluation results on validation set: <coco_eval.CocoEvaluator object at 0x7898b858dcc0>\n"
     ]
    },
    {
     "name": "stdout",
     "output_type": "stream",
     "text": [
      "Test:  [74/75]  eta: 0:00:00  model_time: 0.3650 (0.3649)  evaluator_time: 0.0053 (0.0056)  time: 0.4558  data: 0.0754  max mem: 6121\n",
      "Test: Total time: 0:00:34 (0.4562 s / it)\n",
      "Averaged stats: model_time: 0.3650 (0.3649)  evaluator_time: 0.0053 (0.0056)\n",
      "Accumulating evaluation results...\n",
      "DONE (t=0.10s).\n",
      "IoU metric: bbox\n",
      " Average Precision  (AP) @[ IoU=0.50:0.95 | area=   all | maxDets=100 ] = 0.338\n",
      " Average Precision  (AP) @[ IoU=0.50      | area=   all | maxDets=100 ] = 0.562\n",
      " Average Precision  (AP) @[ IoU=0.75      | area=   all | maxDets=100 ] = 0.374\n",
      " Average Precision  (AP) @[ IoU=0.50:0.95 | area= small | maxDets=100 ] = 0.093\n",
      " Average Precision  (AP) @[ IoU=0.50:0.95 | area=medium | maxDets=100 ] = 0.176\n",
      " Average Precision  (AP) @[ IoU=0.50:0.95 | area= large | maxDets=100 ] = 0.396\n",
      " Average Recall     (AR) @[ IoU=0.50:0.95 | area=   all | maxDets=  1 ] = 0.286\n",
      " Average Recall     (AR) @[ IoU=0.50:0.95 | area=   all | maxDets= 10 ] = 0.406\n",
      " Average Recall     (AR) @[ IoU=0.50:0.95 | area=   all | maxDets=100 ] = 0.408\n",
      " Average Recall     (AR) @[ IoU=0.50:0.95 | area= small | maxDets=100 ] = 0.123\n",
      " Average Recall     (AR) @[ IoU=0.50:0.95 | area=medium | maxDets=100 ] = 0.227\n",
      " Average Recall     (AR) @[ IoU=0.50:0.95 | area= large | maxDets=100 ] = 0.467\n",
      "<coco_eval.CocoEvaluator object at 0x7898b858dcc0>\n"
     ]
    },
    {
     "name": "stderr",
     "output_type": "stream",
     "text": [
      "2024-12-22 19:22:49,541 - INFO - Checkpoint saved at epoch 12\n"
     ]
    },
    {
     "name": "stdout",
     "output_type": "stream",
     "text": [
      "Checkpoint saved at epoch 12\n",
      "Epoch: [13]  [  0/263]  eta: 0:03:49  lr: 0.000100  loss: 0.0476 (0.0476)  loss_classifier: 0.0119 (0.0119)  loss_box_reg: 0.0341 (0.0341)  loss_objectness: 0.0005 (0.0005)  loss_rpn_box_reg: 0.0011 (0.0011)  time: 0.8710  data: 0.0763  max mem: 6121\n",
      "Epoch: [13]  [ 20/263]  eta: 0:03:31  lr: 0.000100  loss: 0.0637 (0.0673)  loss_classifier: 0.0162 (0.0171)  loss_box_reg: 0.0447 (0.0469)  loss_objectness: 0.0008 (0.0013)  loss_rpn_box_reg: 0.0021 (0.0020)  time: 0.8709  data: 0.0798  max mem: 6121\n",
      "Epoch: [13]  [ 40/263]  eta: 0:03:14  lr: 0.000100  loss: 0.0579 (0.0669)  loss_classifier: 0.0174 (0.0181)  loss_box_reg: 0.0376 (0.0457)  loss_objectness: 0.0003 (0.0010)  loss_rpn_box_reg: 0.0020 (0.0022)  time: 0.8696  data: 0.0738  max mem: 6121\n",
      "Epoch: [13]  [ 60/263]  eta: 0:02:56  lr: 0.000100  loss: 0.0635 (0.0677)  loss_classifier: 0.0198 (0.0187)  loss_box_reg: 0.0394 (0.0458)  loss_objectness: 0.0005 (0.0010)  loss_rpn_box_reg: 0.0023 (0.0023)  time: 0.8692  data: 0.0736  max mem: 6121\n",
      "Epoch: [13]  [ 80/263]  eta: 0:02:39  lr: 0.000100  loss: 0.0651 (0.0680)  loss_classifier: 0.0180 (0.0190)  loss_box_reg: 0.0413 (0.0457)  loss_objectness: 0.0006 (0.0011)  loss_rpn_box_reg: 0.0016 (0.0022)  time: 0.8731  data: 0.0767  max mem: 6121\n",
      "Epoch: [13]  [100/263]  eta: 0:02:21  lr: 0.000100  loss: 0.0637 (0.0684)  loss_classifier: 0.0209 (0.0192)  loss_box_reg: 0.0444 (0.0460)  loss_objectness: 0.0007 (0.0010)  loss_rpn_box_reg: 0.0020 (0.0022)  time: 0.8685  data: 0.0737  max mem: 6121\n",
      "Epoch: [13]  [120/263]  eta: 0:02:04  lr: 0.000100  loss: 0.0688 (0.0692)  loss_classifier: 0.0178 (0.0193)  loss_box_reg: 0.0481 (0.0467)  loss_objectness: 0.0006 (0.0010)  loss_rpn_box_reg: 0.0018 (0.0022)  time: 0.8712  data: 0.0749  max mem: 6121\n",
      "Epoch: [13]  [140/263]  eta: 0:01:47  lr: 0.000100  loss: 0.0601 (0.0687)  loss_classifier: 0.0163 (0.0192)  loss_box_reg: 0.0411 (0.0463)  loss_objectness: 0.0004 (0.0010)  loss_rpn_box_reg: 0.0022 (0.0022)  time: 0.8775  data: 0.0818  max mem: 6121\n",
      "Epoch: [13]  [160/263]  eta: 0:01:29  lr: 0.000100  loss: 0.0572 (0.0680)  loss_classifier: 0.0199 (0.0193)  loss_box_reg: 0.0362 (0.0455)  loss_objectness: 0.0008 (0.0010)  loss_rpn_box_reg: 0.0018 (0.0022)  time: 0.8858  data: 0.0888  max mem: 6121\n",
      "Epoch: [13]  [180/263]  eta: 0:01:12  lr: 0.000100  loss: 0.0688 (0.0686)  loss_classifier: 0.0197 (0.0196)  loss_box_reg: 0.0443 (0.0457)  loss_objectness: 0.0006 (0.0010)  loss_rpn_box_reg: 0.0027 (0.0022)  time: 0.8803  data: 0.0838  max mem: 6121\n",
      "Epoch: [13]  [200/263]  eta: 0:00:55  lr: 0.000100  loss: 0.0671 (0.0692)  loss_classifier: 0.0195 (0.0199)  loss_box_reg: 0.0461 (0.0460)  loss_objectness: 0.0006 (0.0010)  loss_rpn_box_reg: 0.0022 (0.0023)  time: 0.8729  data: 0.0780  max mem: 6121\n",
      "Epoch: [13]  [220/263]  eta: 0:00:37  lr: 0.000100  loss: 0.0582 (0.0683)  loss_classifier: 0.0173 (0.0197)  loss_box_reg: 0.0379 (0.0454)  loss_objectness: 0.0004 (0.0010)  loss_rpn_box_reg: 0.0018 (0.0022)  time: 0.8707  data: 0.0734  max mem: 6121\n",
      "Epoch: [13]  [240/263]  eta: 0:00:20  lr: 0.000100  loss: 0.0699 (0.0687)  loss_classifier: 0.0199 (0.0198)  loss_box_reg: 0.0470 (0.0457)  loss_objectness: 0.0007 (0.0010)  loss_rpn_box_reg: 0.0020 (0.0022)  time: 0.8664  data: 0.0723  max mem: 6121\n",
      "Epoch: [13]  [260/263]  eta: 0:00:02  lr: 0.000100  loss: 0.0781 (0.0693)  loss_classifier: 0.0210 (0.0199)  loss_box_reg: 0.0516 (0.0461)  loss_objectness: 0.0006 (0.0010)  loss_rpn_box_reg: 0.0021 (0.0023)  time: 0.8673  data: 0.0733  max mem: 6121\n",
      "Epoch: [13]  [262/263]  eta: 0:00:00  lr: 0.000100  loss: 0.0749 (0.0692)  loss_classifier: 0.0206 (0.0199)  loss_box_reg: 0.0493 (0.0461)  loss_objectness: 0.0005 (0.0010)  loss_rpn_box_reg: 0.0023 (0.0023)  time: 0.8416  data: 0.0711  max mem: 6121\n",
      "Epoch: [13] Total time: 0:03:48 (0.8707 s / it)\n",
      "creating index...\n",
      "index created!\n",
      "Test:  [ 0/75]  eta: 0:00:34  model_time: 0.3786 (0.3786)  evaluator_time: 0.0051 (0.0051)  time: 0.4593  data: 0.0665  max mem: 6121\n"
     ]
    },
    {
     "name": "stderr",
     "output_type": "stream",
     "text": [
      "2024-12-22 19:27:18,867 - INFO - Evaluation results on validation set: <coco_eval.CocoEvaluator object at 0x7897fcc184c0>\n"
     ]
    },
    {
     "name": "stdout",
     "output_type": "stream",
     "text": [
      "Test:  [74/75]  eta: 0:00:00  model_time: 0.3639 (0.3647)  evaluator_time: 0.0048 (0.0055)  time: 0.4536  data: 0.0742  max mem: 6121\n",
      "Test: Total time: 0:00:34 (0.4582 s / it)\n",
      "Averaged stats: model_time: 0.3639 (0.3647)  evaluator_time: 0.0048 (0.0055)\n",
      "Accumulating evaluation results...\n",
      "DONE (t=0.10s).\n",
      "IoU metric: bbox\n",
      " Average Precision  (AP) @[ IoU=0.50:0.95 | area=   all | maxDets=100 ] = 0.333\n",
      " Average Precision  (AP) @[ IoU=0.50      | area=   all | maxDets=100 ] = 0.561\n",
      " Average Precision  (AP) @[ IoU=0.75      | area=   all | maxDets=100 ] = 0.358\n",
      " Average Precision  (AP) @[ IoU=0.50:0.95 | area= small | maxDets=100 ] = 0.078\n",
      " Average Precision  (AP) @[ IoU=0.50:0.95 | area=medium | maxDets=100 ] = 0.206\n",
      " Average Precision  (AP) @[ IoU=0.50:0.95 | area= large | maxDets=100 ] = 0.382\n",
      " Average Recall     (AR) @[ IoU=0.50:0.95 | area=   all | maxDets=  1 ] = 0.282\n",
      " Average Recall     (AR) @[ IoU=0.50:0.95 | area=   all | maxDets= 10 ] = 0.396\n",
      " Average Recall     (AR) @[ IoU=0.50:0.95 | area=   all | maxDets=100 ] = 0.399\n",
      " Average Recall     (AR) @[ IoU=0.50:0.95 | area= small | maxDets=100 ] = 0.090\n",
      " Average Recall     (AR) @[ IoU=0.50:0.95 | area=medium | maxDets=100 ] = 0.271\n",
      " Average Recall     (AR) @[ IoU=0.50:0.95 | area= large | maxDets=100 ] = 0.446\n",
      "<coco_eval.CocoEvaluator object at 0x7897fcc184c0>\n"
     ]
    },
    {
     "name": "stderr",
     "output_type": "stream",
     "text": [
      "2024-12-22 19:27:19,612 - INFO - Checkpoint saved at epoch 13\n"
     ]
    },
    {
     "name": "stdout",
     "output_type": "stream",
     "text": [
      "Checkpoint saved at epoch 13\n",
      "Epoch: [14]  [  0/263]  eta: 0:03:50  lr: 0.000100  loss: 0.0802 (0.0802)  loss_classifier: 0.0181 (0.0181)  loss_box_reg: 0.0589 (0.0589)  loss_objectness: 0.0010 (0.0010)  loss_rpn_box_reg: 0.0022 (0.0022)  time: 0.8751  data: 0.0809  max mem: 6121\n",
      "Epoch: [14]  [ 20/263]  eta: 0:03:30  lr: 0.000100  loss: 0.0603 (0.0693)  loss_classifier: 0.0168 (0.0186)  loss_box_reg: 0.0423 (0.0478)  loss_objectness: 0.0006 (0.0009)  loss_rpn_box_reg: 0.0016 (0.0021)  time: 0.8642  data: 0.0742  max mem: 6121\n",
      "Epoch: [14]  [ 40/263]  eta: 0:03:13  lr: 0.000100  loss: 0.0574 (0.0662)  loss_classifier: 0.0171 (0.0187)  loss_box_reg: 0.0365 (0.0448)  loss_objectness: 0.0004 (0.0007)  loss_rpn_box_reg: 0.0019 (0.0020)  time: 0.8741  data: 0.0775  max mem: 6121\n",
      "Epoch: [14]  [ 60/263]  eta: 0:02:57  lr: 0.000100  loss: 0.0554 (0.0677)  loss_classifier: 0.0156 (0.0189)  loss_box_reg: 0.0369 (0.0459)  loss_objectness: 0.0004 (0.0008)  loss_rpn_box_reg: 0.0021 (0.0021)  time: 0.8802  data: 0.0847  max mem: 6121\n",
      "Epoch: [14]  [ 80/263]  eta: 0:02:40  lr: 0.000100  loss: 0.0635 (0.0674)  loss_classifier: 0.0173 (0.0188)  loss_box_reg: 0.0458 (0.0458)  loss_objectness: 0.0004 (0.0007)  loss_rpn_box_reg: 0.0019 (0.0021)  time: 0.8804  data: 0.0864  max mem: 6121\n",
      "Epoch: [14]  [100/263]  eta: 0:02:22  lr: 0.000100  loss: 0.0681 (0.0671)  loss_classifier: 0.0193 (0.0188)  loss_box_reg: 0.0433 (0.0454)  loss_objectness: 0.0007 (0.0008)  loss_rpn_box_reg: 0.0020 (0.0022)  time: 0.8817  data: 0.0855  max mem: 6121\n",
      "Epoch: [14]  [120/263]  eta: 0:02:05  lr: 0.000100  loss: 0.0627 (0.0668)  loss_classifier: 0.0167 (0.0187)  loss_box_reg: 0.0434 (0.0451)  loss_objectness: 0.0003 (0.0007)  loss_rpn_box_reg: 0.0022 (0.0022)  time: 0.8843  data: 0.0900  max mem: 6121\n",
      "Epoch: [14]  [140/263]  eta: 0:01:47  lr: 0.000100  loss: 0.0629 (0.0667)  loss_classifier: 0.0167 (0.0187)  loss_box_reg: 0.0394 (0.0450)  loss_objectness: 0.0004 (0.0007)  loss_rpn_box_reg: 0.0021 (0.0023)  time: 0.8811  data: 0.0848  max mem: 6121\n",
      "Epoch: [14]  [160/263]  eta: 0:01:30  lr: 0.000100  loss: 0.0593 (0.0663)  loss_classifier: 0.0171 (0.0186)  loss_box_reg: 0.0416 (0.0448)  loss_objectness: 0.0003 (0.0007)  loss_rpn_box_reg: 0.0016 (0.0022)  time: 0.8824  data: 0.0870  max mem: 6121\n",
      "Epoch: [14]  [180/263]  eta: 0:01:12  lr: 0.000100  loss: 0.0600 (0.0658)  loss_classifier: 0.0165 (0.0184)  loss_box_reg: 0.0409 (0.0444)  loss_objectness: 0.0006 (0.0007)  loss_rpn_box_reg: 0.0019 (0.0022)  time: 0.8780  data: 0.0826  max mem: 6121\n",
      "Epoch: [14]  [200/263]  eta: 0:00:55  lr: 0.000100  loss: 0.0559 (0.0652)  loss_classifier: 0.0183 (0.0184)  loss_box_reg: 0.0368 (0.0438)  loss_objectness: 0.0007 (0.0008)  loss_rpn_box_reg: 0.0018 (0.0022)  time: 0.8768  data: 0.0811  max mem: 6121\n",
      "Epoch: [14]  [220/263]  eta: 0:00:37  lr: 0.000100  loss: 0.0541 (0.0650)  loss_classifier: 0.0155 (0.0184)  loss_box_reg: 0.0340 (0.0436)  loss_objectness: 0.0007 (0.0008)  loss_rpn_box_reg: 0.0020 (0.0022)  time: 0.8737  data: 0.0780  max mem: 6121\n",
      "Epoch: [14]  [240/263]  eta: 0:00:20  lr: 0.000100  loss: 0.0553 (0.0645)  loss_classifier: 0.0154 (0.0183)  loss_box_reg: 0.0376 (0.0433)  loss_objectness: 0.0006 (0.0008)  loss_rpn_box_reg: 0.0018 (0.0022)  time: 0.8680  data: 0.0727  max mem: 6121\n",
      "Epoch: [14]  [260/263]  eta: 0:00:02  lr: 0.000100  loss: 0.0648 (0.0648)  loss_classifier: 0.0179 (0.0184)  loss_box_reg: 0.0431 (0.0435)  loss_objectness: 0.0005 (0.0008)  loss_rpn_box_reg: 0.0021 (0.0022)  time: 0.8716  data: 0.0765  max mem: 6121\n",
      "Epoch: [14]  [262/263]  eta: 0:00:00  lr: 0.000100  loss: 0.0673 (0.0651)  loss_classifier: 0.0199 (0.0184)  loss_box_reg: 0.0439 (0.0437)  loss_objectness: 0.0005 (0.0008)  loss_rpn_box_reg: 0.0023 (0.0022)  time: 0.8440  data: 0.0727  max mem: 6121\n",
      "Epoch: [14] Total time: 0:03:50 (0.8747 s / it)\n",
      "creating index...\n",
      "index created!\n",
      "Test:  [ 0/75]  eta: 0:00:35  model_time: 0.3826 (0.3826)  evaluator_time: 0.0051 (0.0051)  time: 0.4679  data: 0.0710  max mem: 6121\n"
     ]
    },
    {
     "name": "stderr",
     "output_type": "stream",
     "text": [
      "2024-12-22 19:31:50,022 - INFO - Evaluation results on validation set: <coco_eval.CocoEvaluator object at 0x7897fe0977f0>\n"
     ]
    },
    {
     "name": "stdout",
     "output_type": "stream",
     "text": [
      "Test:  [74/75]  eta: 0:00:00  model_time: 0.3647 (0.3653)  evaluator_time: 0.0053 (0.0057)  time: 0.4563  data: 0.0762  max mem: 6121\n",
      "Test: Total time: 0:00:34 (0.4570 s / it)\n",
      "Averaged stats: model_time: 0.3647 (0.3653)  evaluator_time: 0.0053 (0.0057)\n",
      "Accumulating evaluation results...\n",
      "DONE (t=0.11s).\n",
      "IoU metric: bbox\n",
      " Average Precision  (AP) @[ IoU=0.50:0.95 | area=   all | maxDets=100 ] = 0.340\n",
      " Average Precision  (AP) @[ IoU=0.50      | area=   all | maxDets=100 ] = 0.568\n",
      " Average Precision  (AP) @[ IoU=0.75      | area=   all | maxDets=100 ] = 0.358\n",
      " Average Precision  (AP) @[ IoU=0.50:0.95 | area= small | maxDets=100 ] = 0.120\n",
      " Average Precision  (AP) @[ IoU=0.50:0.95 | area=medium | maxDets=100 ] = 0.210\n",
      " Average Precision  (AP) @[ IoU=0.50:0.95 | area= large | maxDets=100 ] = 0.389\n",
      " Average Recall     (AR) @[ IoU=0.50:0.95 | area=   all | maxDets=  1 ] = 0.296\n",
      " Average Recall     (AR) @[ IoU=0.50:0.95 | area=   all | maxDets= 10 ] = 0.415\n",
      " Average Recall     (AR) @[ IoU=0.50:0.95 | area=   all | maxDets=100 ] = 0.418\n",
      " Average Recall     (AR) @[ IoU=0.50:0.95 | area= small | maxDets=100 ] = 0.179\n",
      " Average Recall     (AR) @[ IoU=0.50:0.95 | area=medium | maxDets=100 ] = 0.280\n",
      " Average Recall     (AR) @[ IoU=0.50:0.95 | area= large | maxDets=100 ] = 0.465\n",
      "<coco_eval.CocoEvaluator object at 0x7897fe0977f0>\n"
     ]
    },
    {
     "name": "stderr",
     "output_type": "stream",
     "text": [
      "2024-12-22 19:31:50,815 - INFO - Checkpoint saved at epoch 14\n"
     ]
    },
    {
     "name": "stdout",
     "output_type": "stream",
     "text": [
      "Checkpoint saved at epoch 14\n",
      "Epoch: [15]  [  0/263]  eta: 0:03:50  lr: 0.000100  loss: 0.0892 (0.0892)  loss_classifier: 0.0246 (0.0246)  loss_box_reg: 0.0615 (0.0615)  loss_objectness: 0.0001 (0.0001)  loss_rpn_box_reg: 0.0029 (0.0029)  time: 0.8766  data: 0.0782  max mem: 6121\n",
      "Epoch: [15]  [ 20/263]  eta: 0:03:31  lr: 0.000100  loss: 0.0683 (0.0700)  loss_classifier: 0.0181 (0.0189)  loss_box_reg: 0.0462 (0.0476)  loss_objectness: 0.0005 (0.0010)  loss_rpn_box_reg: 0.0020 (0.0025)  time: 0.8710  data: 0.0759  max mem: 6121\n",
      "Epoch: [15]  [ 40/263]  eta: 0:03:14  lr: 0.000100  loss: 0.0630 (0.0677)  loss_classifier: 0.0169 (0.0185)  loss_box_reg: 0.0450 (0.0457)  loss_objectness: 0.0007 (0.0011)  loss_rpn_box_reg: 0.0017 (0.0023)  time: 0.8701  data: 0.0733  max mem: 6121\n",
      "Epoch: [15]  [ 60/263]  eta: 0:02:57  lr: 0.000100  loss: 0.0546 (0.0644)  loss_classifier: 0.0164 (0.0176)  loss_box_reg: 0.0365 (0.0437)  loss_objectness: 0.0004 (0.0009)  loss_rpn_box_reg: 0.0016 (0.0021)  time: 0.8802  data: 0.0837  max mem: 6121\n",
      "Epoch: [15]  [ 80/263]  eta: 0:02:39  lr: 0.000100  loss: 0.0589 (0.0645)  loss_classifier: 0.0181 (0.0177)  loss_box_reg: 0.0413 (0.0439)  loss_objectness: 0.0003 (0.0008)  loss_rpn_box_reg: 0.0019 (0.0021)  time: 0.8707  data: 0.0742  max mem: 6121\n",
      "Epoch: [15]  [100/263]  eta: 0:02:22  lr: 0.000100  loss: 0.0636 (0.0652)  loss_classifier: 0.0173 (0.0178)  loss_box_reg: 0.0445 (0.0444)  loss_objectness: 0.0005 (0.0008)  loss_rpn_box_reg: 0.0021 (0.0021)  time: 0.8683  data: 0.0720  max mem: 6121\n",
      "Epoch: [15]  [120/263]  eta: 0:02:04  lr: 0.000100  loss: 0.0502 (0.0642)  loss_classifier: 0.0149 (0.0176)  loss_box_reg: 0.0334 (0.0438)  loss_objectness: 0.0003 (0.0008)  loss_rpn_box_reg: 0.0012 (0.0021)  time: 0.8638  data: 0.0739  max mem: 6121\n",
      "Epoch: [15]  [140/263]  eta: 0:01:47  lr: 0.000100  loss: 0.0550 (0.0631)  loss_classifier: 0.0152 (0.0172)  loss_box_reg: 0.0346 (0.0431)  loss_objectness: 0.0004 (0.0008)  loss_rpn_box_reg: 0.0020 (0.0021)  time: 0.8697  data: 0.0749  max mem: 6121\n",
      "Epoch: [15]  [160/263]  eta: 0:01:29  lr: 0.000100  loss: 0.0607 (0.0633)  loss_classifier: 0.0155 (0.0173)  loss_box_reg: 0.0390 (0.0431)  loss_objectness: 0.0004 (0.0008)  loss_rpn_box_reg: 0.0018 (0.0021)  time: 0.8696  data: 0.0756  max mem: 6121\n",
      "Epoch: [15]  [180/263]  eta: 0:01:12  lr: 0.000100  loss: 0.0625 (0.0634)  loss_classifier: 0.0193 (0.0176)  loss_box_reg: 0.0402 (0.0428)  loss_objectness: 0.0010 (0.0009)  loss_rpn_box_reg: 0.0018 (0.0021)  time: 0.8685  data: 0.0755  max mem: 6121\n",
      "Epoch: [15]  [200/263]  eta: 0:00:54  lr: 0.000100  loss: 0.0560 (0.0628)  loss_classifier: 0.0183 (0.0177)  loss_box_reg: 0.0348 (0.0421)  loss_objectness: 0.0009 (0.0009)  loss_rpn_box_reg: 0.0019 (0.0021)  time: 0.8697  data: 0.0738  max mem: 6121\n",
      "Epoch: [15]  [220/263]  eta: 0:00:37  lr: 0.000100  loss: 0.0586 (0.0629)  loss_classifier: 0.0194 (0.0179)  loss_box_reg: 0.0390 (0.0420)  loss_objectness: 0.0004 (0.0009)  loss_rpn_box_reg: 0.0017 (0.0021)  time: 0.8689  data: 0.0733  max mem: 6121\n",
      "Epoch: [15]  [240/263]  eta: 0:00:20  lr: 0.000100  loss: 0.0534 (0.0628)  loss_classifier: 0.0159 (0.0179)  loss_box_reg: 0.0377 (0.0420)  loss_objectness: 0.0004 (0.0009)  loss_rpn_box_reg: 0.0021 (0.0021)  time: 0.8645  data: 0.0714  max mem: 6121\n",
      "Epoch: [15]  [260/263]  eta: 0:00:02  lr: 0.000100  loss: 0.0549 (0.0625)  loss_classifier: 0.0173 (0.0178)  loss_box_reg: 0.0378 (0.0418)  loss_objectness: 0.0002 (0.0009)  loss_rpn_box_reg: 0.0017 (0.0021)  time: 0.8695  data: 0.0748  max mem: 6121\n",
      "Epoch: [15]  [262/263]  eta: 0:00:00  lr: 0.000100  loss: 0.0549 (0.0625)  loss_classifier: 0.0159 (0.0178)  loss_box_reg: 0.0378 (0.0418)  loss_objectness: 0.0002 (0.0009)  loss_rpn_box_reg: 0.0016 (0.0021)  time: 0.8426  data: 0.0717  max mem: 6121\n",
      "Epoch: [15] Total time: 0:03:48 (0.8677 s / it)\n",
      "creating index...\n",
      "index created!\n",
      "Test:  [ 0/75]  eta: 0:00:35  model_time: 0.3811 (0.3811)  evaluator_time: 0.0050 (0.0050)  time: 0.4668  data: 0.0714  max mem: 6121\n"
     ]
    },
    {
     "name": "stderr",
     "output_type": "stream",
     "text": [
      "2024-12-22 19:36:19,164 - INFO - Evaluation results on validation set: <coco_eval.CocoEvaluator object at 0x7898d7d2a620>\n"
     ]
    },
    {
     "name": "stdout",
     "output_type": "stream",
     "text": [
      "Test:  [74/75]  eta: 0:00:00  model_time: 0.3629 (0.3644)  evaluator_time: 0.0050 (0.0056)  time: 0.4524  data: 0.0738  max mem: 6121\n",
      "Test: Total time: 0:00:34 (0.4553 s / it)\n",
      "Averaged stats: model_time: 0.3629 (0.3644)  evaluator_time: 0.0050 (0.0056)\n",
      "Accumulating evaluation results...\n",
      "DONE (t=0.11s).\n",
      "IoU metric: bbox\n",
      " Average Precision  (AP) @[ IoU=0.50:0.95 | area=   all | maxDets=100 ] = 0.354\n",
      " Average Precision  (AP) @[ IoU=0.50      | area=   all | maxDets=100 ] = 0.580\n",
      " Average Precision  (AP) @[ IoU=0.75      | area=   all | maxDets=100 ] = 0.388\n",
      " Average Precision  (AP) @[ IoU=0.50:0.95 | area= small | maxDets=100 ] = 0.109\n",
      " Average Precision  (AP) @[ IoU=0.50:0.95 | area=medium | maxDets=100 ] = 0.222\n",
      " Average Precision  (AP) @[ IoU=0.50:0.95 | area= large | maxDets=100 ] = 0.406\n",
      " Average Recall     (AR) @[ IoU=0.50:0.95 | area=   all | maxDets=  1 ] = 0.299\n",
      " Average Recall     (AR) @[ IoU=0.50:0.95 | area=   all | maxDets= 10 ] = 0.419\n",
      " Average Recall     (AR) @[ IoU=0.50:0.95 | area=   all | maxDets=100 ] = 0.422\n",
      " Average Recall     (AR) @[ IoU=0.50:0.95 | area= small | maxDets=100 ] = 0.190\n",
      " Average Recall     (AR) @[ IoU=0.50:0.95 | area=medium | maxDets=100 ] = 0.275\n",
      " Average Recall     (AR) @[ IoU=0.50:0.95 | area= large | maxDets=100 ] = 0.475\n",
      "<coco_eval.CocoEvaluator object at 0x7898d7d2a620>\n"
     ]
    },
    {
     "name": "stderr",
     "output_type": "stream",
     "text": [
      "2024-12-22 19:36:19,916 - INFO - Checkpoint saved at epoch 15\n"
     ]
    },
    {
     "name": "stdout",
     "output_type": "stream",
     "text": [
      "Checkpoint saved at epoch 15\n",
      "Epoch: [16]  [  0/263]  eta: 0:03:52  lr: 0.000100  loss: 0.0595 (0.0595)  loss_classifier: 0.0166 (0.0166)  loss_box_reg: 0.0416 (0.0416)  loss_objectness: 0.0002 (0.0002)  loss_rpn_box_reg: 0.0011 (0.0011)  time: 0.8852  data: 0.0918  max mem: 6121\n",
      "Epoch: [16]  [ 20/263]  eta: 0:03:30  lr: 0.000100  loss: 0.0537 (0.0587)  loss_classifier: 0.0150 (0.0160)  loss_box_reg: 0.0371 (0.0402)  loss_objectness: 0.0003 (0.0008)  loss_rpn_box_reg: 0.0016 (0.0017)  time: 0.8654  data: 0.0721  max mem: 6121\n",
      "Epoch: [16]  [ 40/263]  eta: 0:03:13  lr: 0.000100  loss: 0.0537 (0.0594)  loss_classifier: 0.0134 (0.0162)  loss_box_reg: 0.0386 (0.0407)  loss_objectness: 0.0006 (0.0008)  loss_rpn_box_reg: 0.0016 (0.0017)  time: 0.8730  data: 0.0788  max mem: 6121\n",
      "Epoch: [16]  [ 60/263]  eta: 0:02:56  lr: 0.000100  loss: 0.0532 (0.0583)  loss_classifier: 0.0155 (0.0159)  loss_box_reg: 0.0340 (0.0398)  loss_objectness: 0.0003 (0.0008)  loss_rpn_box_reg: 0.0018 (0.0018)  time: 0.8710  data: 0.0769  max mem: 6121\n",
      "Epoch: [16]  [ 80/263]  eta: 0:02:39  lr: 0.000100  loss: 0.0567 (0.0583)  loss_classifier: 0.0159 (0.0160)  loss_box_reg: 0.0384 (0.0397)  loss_objectness: 0.0002 (0.0007)  loss_rpn_box_reg: 0.0020 (0.0018)  time: 0.8676  data: 0.0725  max mem: 6121\n",
      "Epoch: [16]  [100/263]  eta: 0:02:21  lr: 0.000100  loss: 0.0553 (0.0591)  loss_classifier: 0.0167 (0.0162)  loss_box_reg: 0.0353 (0.0403)  loss_objectness: 0.0002 (0.0007)  loss_rpn_box_reg: 0.0017 (0.0019)  time: 0.8695  data: 0.0730  max mem: 6121\n",
      "Epoch: [16]  [120/263]  eta: 0:02:04  lr: 0.000100  loss: 0.0567 (0.0582)  loss_classifier: 0.0140 (0.0159)  loss_box_reg: 0.0376 (0.0397)  loss_objectness: 0.0005 (0.0007)  loss_rpn_box_reg: 0.0017 (0.0019)  time: 0.8758  data: 0.0794  max mem: 6121\n",
      "Epoch: [16]  [140/263]  eta: 0:01:47  lr: 0.000100  loss: 0.0541 (0.0581)  loss_classifier: 0.0150 (0.0160)  loss_box_reg: 0.0360 (0.0395)  loss_objectness: 0.0006 (0.0008)  loss_rpn_box_reg: 0.0021 (0.0019)  time: 0.8712  data: 0.0752  max mem: 6121\n",
      "Epoch: [16]  [160/263]  eta: 0:01:29  lr: 0.000100  loss: 0.0491 (0.0571)  loss_classifier: 0.0129 (0.0158)  loss_box_reg: 0.0313 (0.0388)  loss_objectness: 0.0004 (0.0007)  loss_rpn_box_reg: 0.0017 (0.0019)  time: 0.8709  data: 0.0771  max mem: 6121\n",
      "Epoch: [16]  [180/263]  eta: 0:01:12  lr: 0.000100  loss: 0.0469 (0.0571)  loss_classifier: 0.0147 (0.0157)  loss_box_reg: 0.0327 (0.0387)  loss_objectness: 0.0005 (0.0008)  loss_rpn_box_reg: 0.0016 (0.0019)  time: 0.8738  data: 0.0801  max mem: 6121\n",
      "Epoch: [16]  [200/263]  eta: 0:00:54  lr: 0.000100  loss: 0.0527 (0.0574)  loss_classifier: 0.0143 (0.0158)  loss_box_reg: 0.0369 (0.0389)  loss_objectness: 0.0004 (0.0008)  loss_rpn_box_reg: 0.0020 (0.0019)  time: 0.8648  data: 0.0748  max mem: 6121\n",
      "Epoch: [16]  [220/263]  eta: 0:00:37  lr: 0.000100  loss: 0.0599 (0.0575)  loss_classifier: 0.0149 (0.0158)  loss_box_reg: 0.0384 (0.0391)  loss_objectness: 0.0005 (0.0007)  loss_rpn_box_reg: 0.0017 (0.0019)  time: 0.8722  data: 0.0765  max mem: 6121\n",
      "Epoch: [16]  [240/263]  eta: 0:00:20  lr: 0.000100  loss: 0.0610 (0.0583)  loss_classifier: 0.0171 (0.0163)  loss_box_reg: 0.0379 (0.0392)  loss_objectness: 0.0009 (0.0008)  loss_rpn_box_reg: 0.0019 (0.0019)  time: 0.8728  data: 0.0763  max mem: 6121\n",
      "Epoch: [16]  [260/263]  eta: 0:00:02  lr: 0.000100  loss: 0.0661 (0.0592)  loss_classifier: 0.0215 (0.0169)  loss_box_reg: 0.0387 (0.0395)  loss_objectness: 0.0008 (0.0008)  loss_rpn_box_reg: 0.0020 (0.0020)  time: 0.8707  data: 0.0758  max mem: 6121\n",
      "Epoch: [16]  [262/263]  eta: 0:00:00  lr: 0.000100  loss: 0.0730 (0.0595)  loss_classifier: 0.0215 (0.0169)  loss_box_reg: 0.0401 (0.0397)  loss_objectness: 0.0008 (0.0009)  loss_rpn_box_reg: 0.0020 (0.0020)  time: 0.8446  data: 0.0734  max mem: 6121\n",
      "Epoch: [16] Total time: 0:03:48 (0.8688 s / it)\n",
      "creating index...\n",
      "index created!\n",
      "Test:  [ 0/75]  eta: 0:00:34  model_time: 0.3755 (0.3755)  evaluator_time: 0.0069 (0.0069)  time: 0.4609  data: 0.0693  max mem: 6121\n"
     ]
    },
    {
     "name": "stderr",
     "output_type": "stream",
     "text": [
      "2024-12-22 19:40:48,884 - INFO - Evaluation results on validation set: <coco_eval.CocoEvaluator object at 0x7898d7d2a680>\n"
     ]
    },
    {
     "name": "stdout",
     "output_type": "stream",
     "text": [
      "Test:  [74/75]  eta: 0:00:00  model_time: 0.3649 (0.3652)  evaluator_time: 0.0058 (0.0064)  time: 0.4565  data: 0.0754  max mem: 6121\n",
      "Test: Total time: 0:00:34 (0.4570 s / it)\n",
      "Averaged stats: model_time: 0.3649 (0.3652)  evaluator_time: 0.0058 (0.0064)\n",
      "Accumulating evaluation results...\n",
      "DONE (t=0.15s).\n",
      "IoU metric: bbox\n",
      " Average Precision  (AP) @[ IoU=0.50:0.95 | area=   all | maxDets=100 ] = 0.327\n",
      " Average Precision  (AP) @[ IoU=0.50      | area=   all | maxDets=100 ] = 0.551\n",
      " Average Precision  (AP) @[ IoU=0.75      | area=   all | maxDets=100 ] = 0.349\n",
      " Average Precision  (AP) @[ IoU=0.50:0.95 | area= small | maxDets=100 ] = 0.109\n",
      " Average Precision  (AP) @[ IoU=0.50:0.95 | area=medium | maxDets=100 ] = 0.224\n",
      " Average Precision  (AP) @[ IoU=0.50:0.95 | area= large | maxDets=100 ] = 0.374\n",
      " Average Recall     (AR) @[ IoU=0.50:0.95 | area=   all | maxDets=  1 ] = 0.280\n",
      " Average Recall     (AR) @[ IoU=0.50:0.95 | area=   all | maxDets= 10 ] = 0.408\n",
      " Average Recall     (AR) @[ IoU=0.50:0.95 | area=   all | maxDets=100 ] = 0.411\n",
      " Average Recall     (AR) @[ IoU=0.50:0.95 | area= small | maxDets=100 ] = 0.143\n",
      " Average Recall     (AR) @[ IoU=0.50:0.95 | area=medium | maxDets=100 ] = 0.290\n",
      " Average Recall     (AR) @[ IoU=0.50:0.95 | area= large | maxDets=100 ] = 0.457\n",
      "<coco_eval.CocoEvaluator object at 0x7898d7d2a680>\n"
     ]
    },
    {
     "name": "stderr",
     "output_type": "stream",
     "text": [
      "2024-12-22 19:40:49,645 - INFO - Checkpoint saved at epoch 16\n"
     ]
    },
    {
     "name": "stdout",
     "output_type": "stream",
     "text": [
      "Checkpoint saved at epoch 16\n",
      "Epoch: [17]  [  0/263]  eta: 0:03:52  lr: 0.000100  loss: 0.0263 (0.0263)  loss_classifier: 0.0102 (0.0102)  loss_box_reg: 0.0143 (0.0143)  loss_objectness: 0.0004 (0.0004)  loss_rpn_box_reg: 0.0014 (0.0014)  time: 0.8839  data: 0.0879  max mem: 6121\n",
      "Epoch: [17]  [ 20/263]  eta: 0:03:31  lr: 0.000100  loss: 0.0594 (0.0635)  loss_classifier: 0.0169 (0.0184)  loss_box_reg: 0.0389 (0.0402)  loss_objectness: 0.0023 (0.0022)  loss_rpn_box_reg: 0.0023 (0.0027)  time: 0.8711  data: 0.0750  max mem: 6121\n",
      "Epoch: [17]  [ 40/263]  eta: 0:03:14  lr: 0.000100  loss: 0.0565 (0.0627)  loss_classifier: 0.0162 (0.0184)  loss_box_reg: 0.0352 (0.0400)  loss_objectness: 0.0008 (0.0016)  loss_rpn_box_reg: 0.0022 (0.0026)  time: 0.8737  data: 0.0787  max mem: 6121\n",
      "Epoch: [17]  [ 60/263]  eta: 0:02:56  lr: 0.000100  loss: 0.0731 (0.0665)  loss_classifier: 0.0217 (0.0190)  loss_box_reg: 0.0513 (0.0433)  loss_objectness: 0.0009 (0.0015)  loss_rpn_box_reg: 0.0022 (0.0026)  time: 0.8673  data: 0.0726  max mem: 6121\n",
      "Epoch: [17]  [ 80/263]  eta: 0:02:39  lr: 0.000100  loss: 0.0557 (0.0650)  loss_classifier: 0.0153 (0.0186)  loss_box_reg: 0.0390 (0.0425)  loss_objectness: 0.0005 (0.0014)  loss_rpn_box_reg: 0.0018 (0.0025)  time: 0.8715  data: 0.0769  max mem: 6121\n",
      "Epoch: [17]  [100/263]  eta: 0:02:21  lr: 0.000100  loss: 0.0556 (0.0638)  loss_classifier: 0.0164 (0.0182)  loss_box_reg: 0.0387 (0.0418)  loss_objectness: 0.0006 (0.0013)  loss_rpn_box_reg: 0.0021 (0.0024)  time: 0.8700  data: 0.0751  max mem: 6121\n",
      "Epoch: [17]  [120/263]  eta: 0:02:04  lr: 0.000100  loss: 0.0512 (0.0625)  loss_classifier: 0.0138 (0.0178)  loss_box_reg: 0.0329 (0.0411)  loss_objectness: 0.0004 (0.0013)  loss_rpn_box_reg: 0.0016 (0.0023)  time: 0.8708  data: 0.0752  max mem: 6121\n",
      "Epoch: [17]  [140/263]  eta: 0:01:47  lr: 0.000100  loss: 0.0428 (0.0612)  loss_classifier: 0.0120 (0.0174)  loss_box_reg: 0.0292 (0.0403)  loss_objectness: 0.0005 (0.0012)  loss_rpn_box_reg: 0.0017 (0.0023)  time: 0.8696  data: 0.0765  max mem: 6121\n",
      "Epoch: [17]  [160/263]  eta: 0:01:29  lr: 0.000100  loss: 0.0530 (0.0608)  loss_classifier: 0.0152 (0.0172)  loss_box_reg: 0.0362 (0.0401)  loss_objectness: 0.0003 (0.0011)  loss_rpn_box_reg: 0.0018 (0.0023)  time: 0.8671  data: 0.0765  max mem: 6121\n",
      "Epoch: [17]  [180/263]  eta: 0:01:12  lr: 0.000100  loss: 0.0488 (0.0602)  loss_classifier: 0.0135 (0.0171)  loss_box_reg: 0.0297 (0.0397)  loss_objectness: 0.0008 (0.0011)  loss_rpn_box_reg: 0.0018 (0.0023)  time: 0.8683  data: 0.0745  max mem: 6121\n",
      "Epoch: [17]  [200/263]  eta: 0:00:54  lr: 0.000100  loss: 0.0555 (0.0601)  loss_classifier: 0.0150 (0.0170)  loss_box_reg: 0.0364 (0.0398)  loss_objectness: 0.0005 (0.0011)  loss_rpn_box_reg: 0.0018 (0.0022)  time: 0.8723  data: 0.0777  max mem: 6121\n",
      "Epoch: [17]  [220/263]  eta: 0:00:37  lr: 0.000100  loss: 0.0506 (0.0596)  loss_classifier: 0.0141 (0.0168)  loss_box_reg: 0.0348 (0.0395)  loss_objectness: 0.0002 (0.0010)  loss_rpn_box_reg: 0.0015 (0.0022)  time: 0.8730  data: 0.0786  max mem: 6121\n",
      "Epoch: [17]  [240/263]  eta: 0:00:20  lr: 0.000100  loss: 0.0523 (0.0591)  loss_classifier: 0.0143 (0.0168)  loss_box_reg: 0.0331 (0.0392)  loss_objectness: 0.0003 (0.0010)  loss_rpn_box_reg: 0.0012 (0.0021)  time: 0.8698  data: 0.0749  max mem: 6121\n",
      "Epoch: [17]  [260/263]  eta: 0:00:02  lr: 0.000100  loss: 0.0515 (0.0590)  loss_classifier: 0.0132 (0.0167)  loss_box_reg: 0.0349 (0.0392)  loss_objectness: 0.0005 (0.0010)  loss_rpn_box_reg: 0.0015 (0.0021)  time: 0.8677  data: 0.0745  max mem: 6121\n",
      "Epoch: [17]  [262/263]  eta: 0:00:00  lr: 0.000100  loss: 0.0515 (0.0591)  loss_classifier: 0.0132 (0.0167)  loss_box_reg: 0.0349 (0.0393)  loss_objectness: 0.0006 (0.0010)  loss_rpn_box_reg: 0.0015 (0.0021)  time: 0.8419  data: 0.0719  max mem: 6121\n",
      "Epoch: [17] Total time: 0:03:48 (0.8684 s / it)\n",
      "creating index...\n",
      "index created!\n",
      "Test:  [ 0/75]  eta: 0:00:34  model_time: 0.3733 (0.3733)  evaluator_time: 0.0048 (0.0048)  time: 0.4542  data: 0.0669  max mem: 6121\n"
     ]
    },
    {
     "name": "stderr",
     "output_type": "stream",
     "text": [
      "2024-12-22 19:45:18,311 - INFO - Evaluation results on validation set: <coco_eval.CocoEvaluator object at 0x7897fd6e9720>\n"
     ]
    },
    {
     "name": "stdout",
     "output_type": "stream",
     "text": [
      "Test:  [74/75]  eta: 0:00:00  model_time: 0.3638 (0.3644)  evaluator_time: 0.0048 (0.0052)  time: 0.4528  data: 0.0743  max mem: 6121\n",
      "Test: Total time: 0:00:34 (0.4570 s / it)\n",
      "Averaged stats: model_time: 0.3638 (0.3644)  evaluator_time: 0.0048 (0.0052)\n",
      "Accumulating evaluation results...\n",
      "DONE (t=0.10s).\n",
      "IoU metric: bbox\n",
      " Average Precision  (AP) @[ IoU=0.50:0.95 | area=   all | maxDets=100 ] = 0.334\n",
      " Average Precision  (AP) @[ IoU=0.50      | area=   all | maxDets=100 ] = 0.541\n",
      " Average Precision  (AP) @[ IoU=0.75      | area=   all | maxDets=100 ] = 0.360\n",
      " Average Precision  (AP) @[ IoU=0.50:0.95 | area= small | maxDets=100 ] = 0.119\n",
      " Average Precision  (AP) @[ IoU=0.50:0.95 | area=medium | maxDets=100 ] = 0.206\n",
      " Average Precision  (AP) @[ IoU=0.50:0.95 | area= large | maxDets=100 ] = 0.384\n",
      " Average Recall     (AR) @[ IoU=0.50:0.95 | area=   all | maxDets=  1 ] = 0.289\n",
      " Average Recall     (AR) @[ IoU=0.50:0.95 | area=   all | maxDets= 10 ] = 0.397\n",
      " Average Recall     (AR) @[ IoU=0.50:0.95 | area=   all | maxDets=100 ] = 0.400\n",
      " Average Recall     (AR) @[ IoU=0.50:0.95 | area= small | maxDets=100 ] = 0.155\n",
      " Average Recall     (AR) @[ IoU=0.50:0.95 | area=medium | maxDets=100 ] = 0.275\n",
      " Average Recall     (AR) @[ IoU=0.50:0.95 | area= large | maxDets=100 ] = 0.443\n",
      "<coco_eval.CocoEvaluator object at 0x7897fd6e9720>\n"
     ]
    },
    {
     "name": "stderr",
     "output_type": "stream",
     "text": [
      "2024-12-22 19:45:19,066 - INFO - Checkpoint saved at epoch 17\n"
     ]
    },
    {
     "name": "stdout",
     "output_type": "stream",
     "text": [
      "Checkpoint saved at epoch 17\n",
      "Epoch: [18]  [  0/263]  eta: 0:03:47  lr: 0.000100  loss: 0.0574 (0.0574)  loss_classifier: 0.0138 (0.0138)  loss_box_reg: 0.0408 (0.0408)  loss_objectness: 0.0007 (0.0007)  loss_rpn_box_reg: 0.0020 (0.0020)  time: 0.8665  data: 0.0732  max mem: 6121\n",
      "Epoch: [18]  [ 20/263]  eta: 0:03:31  lr: 0.000100  loss: 0.0600 (0.0586)  loss_classifier: 0.0156 (0.0158)  loss_box_reg: 0.0399 (0.0404)  loss_objectness: 0.0003 (0.0007)  loss_rpn_box_reg: 0.0016 (0.0017)  time: 0.8706  data: 0.0752  max mem: 6121\n",
      "Epoch: [18]  [ 40/263]  eta: 0:03:14  lr: 0.000100  loss: 0.0508 (0.0558)  loss_classifier: 0.0137 (0.0149)  loss_box_reg: 0.0349 (0.0385)  loss_objectness: 0.0005 (0.0007)  loss_rpn_box_reg: 0.0015 (0.0016)  time: 0.8701  data: 0.0772  max mem: 6121\n",
      "Epoch: [18]  [ 60/263]  eta: 0:02:56  lr: 0.000100  loss: 0.0584 (0.0556)  loss_classifier: 0.0150 (0.0149)  loss_box_reg: 0.0372 (0.0383)  loss_objectness: 0.0003 (0.0007)  loss_rpn_box_reg: 0.0020 (0.0017)  time: 0.8717  data: 0.0774  max mem: 6121\n",
      "Epoch: [18]  [ 80/263]  eta: 0:02:39  lr: 0.000100  loss: 0.0578 (0.0556)  loss_classifier: 0.0158 (0.0151)  loss_box_reg: 0.0329 (0.0380)  loss_objectness: 0.0008 (0.0007)  loss_rpn_box_reg: 0.0019 (0.0018)  time: 0.8649  data: 0.0703  max mem: 6121\n",
      "Epoch: [18]  [100/263]  eta: 0:02:21  lr: 0.000100  loss: 0.0497 (0.0553)  loss_classifier: 0.0134 (0.0151)  loss_box_reg: 0.0307 (0.0376)  loss_objectness: 0.0002 (0.0007)  loss_rpn_box_reg: 0.0014 (0.0018)  time: 0.8686  data: 0.0751  max mem: 6121\n",
      "Epoch: [18]  [120/263]  eta: 0:02:04  lr: 0.000100  loss: 0.0516 (0.0550)  loss_classifier: 0.0141 (0.0153)  loss_box_reg: 0.0360 (0.0372)  loss_objectness: 0.0001 (0.0007)  loss_rpn_box_reg: 0.0017 (0.0018)  time: 0.8733  data: 0.0790  max mem: 6121\n",
      "Epoch: [18]  [140/263]  eta: 0:01:47  lr: 0.000100  loss: 0.0531 (0.0550)  loss_classifier: 0.0141 (0.0152)  loss_box_reg: 0.0383 (0.0373)  loss_objectness: 0.0003 (0.0007)  loss_rpn_box_reg: 0.0016 (0.0018)  time: 0.8716  data: 0.0758  max mem: 6121\n",
      "Epoch: [18]  [160/263]  eta: 0:01:29  lr: 0.000100  loss: 0.0486 (0.0549)  loss_classifier: 0.0155 (0.0152)  loss_box_reg: 0.0332 (0.0371)  loss_objectness: 0.0004 (0.0007)  loss_rpn_box_reg: 0.0018 (0.0018)  time: 0.8725  data: 0.0765  max mem: 6121\n",
      "Epoch: [18]  [180/263]  eta: 0:01:12  lr: 0.000100  loss: 0.0615 (0.0552)  loss_classifier: 0.0156 (0.0153)  loss_box_reg: 0.0408 (0.0374)  loss_objectness: 0.0003 (0.0007)  loss_rpn_box_reg: 0.0016 (0.0018)  time: 0.8700  data: 0.0755  max mem: 6121\n",
      "Epoch: [18]  [200/263]  eta: 0:00:54  lr: 0.000100  loss: 0.0574 (0.0558)  loss_classifier: 0.0163 (0.0155)  loss_box_reg: 0.0397 (0.0378)  loss_objectness: 0.0002 (0.0006)  loss_rpn_box_reg: 0.0014 (0.0018)  time: 0.8702  data: 0.0736  max mem: 6121\n",
      "Epoch: [18]  [220/263]  eta: 0:00:37  lr: 0.000100  loss: 0.0573 (0.0560)  loss_classifier: 0.0154 (0.0156)  loss_box_reg: 0.0399 (0.0380)  loss_objectness: 0.0004 (0.0006)  loss_rpn_box_reg: 0.0016 (0.0018)  time: 0.8690  data: 0.0751  max mem: 6121\n",
      "Epoch: [18]  [240/263]  eta: 0:00:20  lr: 0.000100  loss: 0.0457 (0.0558)  loss_classifier: 0.0142 (0.0156)  loss_box_reg: 0.0305 (0.0378)  loss_objectness: 0.0004 (0.0007)  loss_rpn_box_reg: 0.0015 (0.0018)  time: 0.8698  data: 0.0746  max mem: 6121\n",
      "Epoch: [18]  [260/263]  eta: 0:00:02  lr: 0.000100  loss: 0.0642 (0.0566)  loss_classifier: 0.0163 (0.0160)  loss_box_reg: 0.0358 (0.0381)  loss_objectness: 0.0008 (0.0007)  loss_rpn_box_reg: 0.0016 (0.0018)  time: 0.8692  data: 0.0749  max mem: 6121\n",
      "Epoch: [18]  [262/263]  eta: 0:00:00  lr: 0.000100  loss: 0.0649 (0.0569)  loss_classifier: 0.0180 (0.0162)  loss_box_reg: 0.0371 (0.0382)  loss_objectness: 0.0010 (0.0007)  loss_rpn_box_reg: 0.0016 (0.0018)  time: 0.8431  data: 0.0727  max mem: 6121\n",
      "Epoch: [18] Total time: 0:03:48 (0.8682 s / it)\n",
      "creating index...\n",
      "index created!\n",
      "Test:  [ 0/75]  eta: 0:00:34  model_time: 0.3753 (0.3753)  evaluator_time: 0.0053 (0.0053)  time: 0.4591  data: 0.0695  max mem: 6121\n"
     ]
    },
    {
     "name": "stderr",
     "output_type": "stream",
     "text": [
      "2024-12-22 19:49:47,638 - INFO - Evaluation results on validation set: <coco_eval.CocoEvaluator object at 0x7897fd6ddd80>\n"
     ]
    },
    {
     "name": "stdout",
     "output_type": "stream",
     "text": [
      "Test:  [74/75]  eta: 0:00:00  model_time: 0.3645 (0.3647)  evaluator_time: 0.0056 (0.0061)  time: 0.4551  data: 0.0752  max mem: 6121\n",
      "Test: Total time: 0:00:34 (0.4558 s / it)\n",
      "Averaged stats: model_time: 0.3645 (0.3647)  evaluator_time: 0.0056 (0.0061)\n",
      "Accumulating evaluation results...\n",
      "DONE (t=0.13s).\n",
      "IoU metric: bbox\n",
      " Average Precision  (AP) @[ IoU=0.50:0.95 | area=   all | maxDets=100 ] = 0.312\n",
      " Average Precision  (AP) @[ IoU=0.50      | area=   all | maxDets=100 ] = 0.523\n",
      " Average Precision  (AP) @[ IoU=0.75      | area=   all | maxDets=100 ] = 0.348\n",
      " Average Precision  (AP) @[ IoU=0.50:0.95 | area= small | maxDets=100 ] = 0.090\n",
      " Average Precision  (AP) @[ IoU=0.50:0.95 | area=medium | maxDets=100 ] = 0.191\n",
      " Average Precision  (AP) @[ IoU=0.50:0.95 | area= large | maxDets=100 ] = 0.360\n",
      " Average Recall     (AR) @[ IoU=0.50:0.95 | area=   all | maxDets=  1 ] = 0.278\n",
      " Average Recall     (AR) @[ IoU=0.50:0.95 | area=   all | maxDets= 10 ] = 0.382\n",
      " Average Recall     (AR) @[ IoU=0.50:0.95 | area=   all | maxDets=100 ] = 0.384\n",
      " Average Recall     (AR) @[ IoU=0.50:0.95 | area= small | maxDets=100 ] = 0.136\n",
      " Average Recall     (AR) @[ IoU=0.50:0.95 | area=medium | maxDets=100 ] = 0.239\n",
      " Average Recall     (AR) @[ IoU=0.50:0.95 | area= large | maxDets=100 ] = 0.436\n",
      "<coco_eval.CocoEvaluator object at 0x7897fd6ddd80>\n"
     ]
    },
    {
     "name": "stderr",
     "output_type": "stream",
     "text": [
      "2024-12-22 19:49:48,458 - INFO - Checkpoint saved at epoch 18\n"
     ]
    },
    {
     "name": "stdout",
     "output_type": "stream",
     "text": [
      "Checkpoint saved at epoch 18\n",
      "Epoch: [19]  [  0/263]  eta: 0:03:49  lr: 0.000100  loss: 0.0826 (0.0826)  loss_classifier: 0.0278 (0.0278)  loss_box_reg: 0.0527 (0.0527)  loss_objectness: 0.0002 (0.0002)  loss_rpn_box_reg: 0.0019 (0.0019)  time: 0.8723  data: 0.0794  max mem: 6121\n",
      "Epoch: [19]  [ 20/263]  eta: 0:03:30  lr: 0.000100  loss: 0.1180 (0.1213)  loss_classifier: 0.0489 (0.0544)  loss_box_reg: 0.0528 (0.0582)  loss_objectness: 0.0047 (0.0054)  loss_rpn_box_reg: 0.0030 (0.0034)  time: 0.8652  data: 0.0758  max mem: 6121\n",
      "Epoch: [19]  [ 40/263]  eta: 0:03:13  lr: 0.000100  loss: 0.1026 (0.1183)  loss_classifier: 0.0391 (0.0488)  loss_box_reg: 0.0550 (0.0604)  loss_objectness: 0.0034 (0.0054)  loss_rpn_box_reg: 0.0041 (0.0038)  time: 0.8710  data: 0.0764  max mem: 6121\n",
      "Epoch: [19]  [ 60/263]  eta: 0:02:56  lr: 0.000100  loss: 0.0973 (0.1124)  loss_classifier: 0.0319 (0.0450)  loss_box_reg: 0.0509 (0.0585)  loss_objectness: 0.0037 (0.0052)  loss_rpn_box_reg: 0.0032 (0.0037)  time: 0.8692  data: 0.0732  max mem: 6121\n",
      "Epoch: [19]  [ 80/263]  eta: 0:02:39  lr: 0.000100  loss: 0.0909 (0.1094)  loss_classifier: 0.0288 (0.0424)  loss_box_reg: 0.0554 (0.0587)  loss_objectness: 0.0017 (0.0047)  loss_rpn_box_reg: 0.0028 (0.0036)  time: 0.8771  data: 0.0772  max mem: 6121\n",
      "Epoch: [19]  [100/263]  eta: 0:02:21  lr: 0.000100  loss: 0.0826 (0.1050)  loss_classifier: 0.0302 (0.0402)  loss_box_reg: 0.0483 (0.0569)  loss_objectness: 0.0034 (0.0044)  loss_rpn_box_reg: 0.0026 (0.0034)  time: 0.8666  data: 0.0701  max mem: 6121\n",
      "Epoch: [19]  [120/263]  eta: 0:02:04  lr: 0.000100  loss: 0.0823 (0.1019)  loss_classifier: 0.0217 (0.0381)  loss_box_reg: 0.0556 (0.0560)  loss_objectness: 0.0026 (0.0044)  loss_rpn_box_reg: 0.0032 (0.0034)  time: 0.8716  data: 0.0753  max mem: 6121\n",
      "Epoch: [19]  [140/263]  eta: 0:01:47  lr: 0.000100  loss: 0.0780 (0.0993)  loss_classifier: 0.0227 (0.0365)  loss_box_reg: 0.0526 (0.0555)  loss_objectness: 0.0017 (0.0040)  loss_rpn_box_reg: 0.0024 (0.0033)  time: 0.8726  data: 0.0766  max mem: 6121\n",
      "Epoch: [19]  [160/263]  eta: 0:01:29  lr: 0.000100  loss: 0.0705 (0.0959)  loss_classifier: 0.0196 (0.0345)  loss_box_reg: 0.0476 (0.0544)  loss_objectness: 0.0014 (0.0038)  loss_rpn_box_reg: 0.0022 (0.0032)  time: 0.8665  data: 0.0731  max mem: 6121\n",
      "Epoch: [19]  [180/263]  eta: 0:01:12  lr: 0.000100  loss: 0.0802 (0.0948)  loss_classifier: 0.0209 (0.0335)  loss_box_reg: 0.0536 (0.0546)  loss_objectness: 0.0011 (0.0036)  loss_rpn_box_reg: 0.0026 (0.0031)  time: 0.8692  data: 0.0737  max mem: 6121\n",
      "Epoch: [19]  [200/263]  eta: 0:00:54  lr: 0.000100  loss: 0.0597 (0.0914)  loss_classifier: 0.0174 (0.0319)  loss_box_reg: 0.0384 (0.0531)  loss_objectness: 0.0011 (0.0033)  loss_rpn_box_reg: 0.0021 (0.0030)  time: 0.8668  data: 0.0716  max mem: 6121\n",
      "Epoch: [19]  [220/263]  eta: 0:00:37  lr: 0.000100  loss: 0.0550 (0.0883)  loss_classifier: 0.0183 (0.0306)  loss_box_reg: 0.0360 (0.0516)  loss_objectness: 0.0010 (0.0032)  loss_rpn_box_reg: 0.0016 (0.0029)  time: 0.8704  data: 0.0761  max mem: 6121\n",
      "Epoch: [19]  [240/263]  eta: 0:00:19  lr: 0.000100  loss: 0.0621 (0.0862)  loss_classifier: 0.0185 (0.0295)  loss_box_reg: 0.0400 (0.0508)  loss_objectness: 0.0004 (0.0030)  loss_rpn_box_reg: 0.0017 (0.0029)  time: 0.8657  data: 0.0709  max mem: 6121\n",
      "Epoch: [19]  [260/263]  eta: 0:00:02  lr: 0.000100  loss: 0.0539 (0.0839)  loss_classifier: 0.0153 (0.0285)  loss_box_reg: 0.0348 (0.0498)  loss_objectness: 0.0007 (0.0028)  loss_rpn_box_reg: 0.0018 (0.0028)  time: 0.8683  data: 0.0735  max mem: 6121\n",
      "Epoch: [19]  [262/263]  eta: 0:00:00  lr: 0.000100  loss: 0.0541 (0.0838)  loss_classifier: 0.0157 (0.0284)  loss_box_reg: 0.0366 (0.0498)  loss_objectness: 0.0007 (0.0028)  loss_rpn_box_reg: 0.0021 (0.0028)  time: 0.8438  data: 0.0729  max mem: 6121\n",
      "Epoch: [19] Total time: 0:03:48 (0.8674 s / it)\n",
      "creating index...\n",
      "index created!\n",
      "Test:  [ 0/75]  eta: 0:00:34  model_time: 0.3796 (0.3796)  evaluator_time: 0.0048 (0.0048)  time: 0.4622  data: 0.0686  max mem: 6121\n"
     ]
    },
    {
     "name": "stderr",
     "output_type": "stream",
     "text": [
      "2024-12-22 19:54:16,775 - INFO - Evaluation results on validation set: <coco_eval.CocoEvaluator object at 0x7897fe109ed0>\n"
     ]
    },
    {
     "name": "stdout",
     "output_type": "stream",
     "text": [
      "Test:  [74/75]  eta: 0:00:00  model_time: 0.3641 (0.3647)  evaluator_time: 0.0054 (0.0057)  time: 0.4545  data: 0.0745  max mem: 6121\n",
      "Test: Total time: 0:00:34 (0.4561 s / it)\n",
      "Averaged stats: model_time: 0.3641 (0.3647)  evaluator_time: 0.0054 (0.0057)\n",
      "Accumulating evaluation results...\n",
      "DONE (t=0.10s).\n",
      "IoU metric: bbox\n",
      " Average Precision  (AP) @[ IoU=0.50:0.95 | area=   all | maxDets=100 ] = 0.347\n",
      " Average Precision  (AP) @[ IoU=0.50      | area=   all | maxDets=100 ] = 0.577\n",
      " Average Precision  (AP) @[ IoU=0.75      | area=   all | maxDets=100 ] = 0.380\n",
      " Average Precision  (AP) @[ IoU=0.50:0.95 | area= small | maxDets=100 ] = 0.091\n",
      " Average Precision  (AP) @[ IoU=0.50:0.95 | area=medium | maxDets=100 ] = 0.187\n",
      " Average Precision  (AP) @[ IoU=0.50:0.95 | area= large | maxDets=100 ] = 0.403\n",
      " Average Recall     (AR) @[ IoU=0.50:0.95 | area=   all | maxDets=  1 ] = 0.295\n",
      " Average Recall     (AR) @[ IoU=0.50:0.95 | area=   all | maxDets= 10 ] = 0.411\n",
      " Average Recall     (AR) @[ IoU=0.50:0.95 | area=   all | maxDets=100 ] = 0.414\n",
      " Average Recall     (AR) @[ IoU=0.50:0.95 | area= small | maxDets=100 ] = 0.127\n",
      " Average Recall     (AR) @[ IoU=0.50:0.95 | area=medium | maxDets=100 ] = 0.242\n",
      " Average Recall     (AR) @[ IoU=0.50:0.95 | area= large | maxDets=100 ] = 0.469\n",
      "<coco_eval.CocoEvaluator object at 0x7897fe109ed0>\n"
     ]
    },
    {
     "name": "stderr",
     "output_type": "stream",
     "text": [
      "2024-12-22 19:54:17,552 - INFO - Checkpoint saved at epoch 19\n",
      "2024-12-22 19:54:17,554 - INFO - Starting evaluation on test set...\n"
     ]
    },
    {
     "name": "stdout",
     "output_type": "stream",
     "text": [
      "Checkpoint saved at epoch 19\n",
      "===== Evaluate on Test =====\n",
      "creating index...\n",
      "index created!\n",
      "Test:  [ 0/38]  eta: 0:00:17  model_time: 0.3653 (0.3653)  evaluator_time: 0.0066 (0.0066)  time: 0.4574  data: 0.0764  max mem: 6121\n"
     ]
    },
    {
     "name": "stderr",
     "output_type": "stream",
     "text": [
      "2024-12-22 19:54:41,793 - INFO - Evaluation results on test set: <coco_eval.CocoEvaluator object at 0x7898b858ca60>\n"
     ]
    },
    {
     "name": "stdout",
     "output_type": "stream",
     "text": [
      "Test:  [37/38]  eta: 0:00:00  model_time: 0.3635 (0.3597)  evaluator_time: 0.0047 (0.0053)  time: 0.4499  data: 0.0806  max mem: 6121\n",
      "Test: Total time: 0:00:17 (0.4581 s / it)\n",
      "Averaged stats: model_time: 0.3635 (0.3597)  evaluator_time: 0.0047 (0.0053)\n",
      "Accumulating evaluation results...\n",
      "DONE (t=0.06s).\n",
      "IoU metric: bbox\n",
      " Average Precision  (AP) @[ IoU=0.50:0.95 | area=   all | maxDets=100 ] = 0.339\n",
      " Average Precision  (AP) @[ IoU=0.50      | area=   all | maxDets=100 ] = 0.552\n",
      " Average Precision  (AP) @[ IoU=0.75      | area=   all | maxDets=100 ] = 0.367\n",
      " Average Precision  (AP) @[ IoU=0.50:0.95 | area= small | maxDets=100 ] = 0.006\n",
      " Average Precision  (AP) @[ IoU=0.50:0.95 | area=medium | maxDets=100 ] = 0.139\n",
      " Average Precision  (AP) @[ IoU=0.50:0.95 | area= large | maxDets=100 ] = 0.413\n",
      " Average Recall     (AR) @[ IoU=0.50:0.95 | area=   all | maxDets=  1 ] = 0.284\n",
      " Average Recall     (AR) @[ IoU=0.50:0.95 | area=   all | maxDets= 10 ] = 0.403\n",
      " Average Recall     (AR) @[ IoU=0.50:0.95 | area=   all | maxDets=100 ] = 0.404\n",
      " Average Recall     (AR) @[ IoU=0.50:0.95 | area= small | maxDets=100 ] = 0.039\n",
      " Average Recall     (AR) @[ IoU=0.50:0.95 | area=medium | maxDets=100 ] = 0.195\n",
      " Average Recall     (AR) @[ IoU=0.50:0.95 | area= large | maxDets=100 ] = 0.472\n",
      "\n"
     ]
    }
   ],
   "source": [
    "import torch\n",
    "\n",
    "# Directory for saving checkpoints\n",
    "CHECKPOINT_DIR = \"/kaggle/working/results/checkpoints/\"\n",
    "Path(CHECKPOINT_DIR).mkdir(parents=True, exist_ok=True)\n",
    "\n",
    "def save_checkpoint(model, optimizer, epoch, checkpoint_dir=CHECKPOINT_DIR):\n",
    "    checkpoint_path = Path(checkpoint_dir) / f\"checkpoint_epoch_{epoch}.pth\"\n",
    "    torch.save({\n",
    "        'epoch': epoch,\n",
    "        'model_state_dict': model.state_dict(),\n",
    "        'optimizer_state_dict': optimizer.state_dict(),\n",
    "    }, checkpoint_path)\n",
    "    print(f\"Checkpoint saved at epoch {epoch}\")\n",
    "    logger.info(f\"Checkpoint saved at epoch {epoch}\")\n",
    "\n",
    "# Initialize variables for tracking the best performance\n",
    "best_metric = float('-inf')  # Or float('inf') if you're using a loss function and minimizing it\n",
    "\n",
    "# Training loop with checkpoint saving\n",
    "for epoch in range(num_epochs):\n",
    "    train_one_epoch(model, optimizer, train_dataloader, device, epoch, print_freq=20)\n",
    "    metric = evaluate(model, val_dataloader, device)  # e.g., validation accuracy or validation loss\n",
    "    logger.info(f\"Evaluation results on validation set: {metric}\")\n",
    "    print(metric)\n",
    "\n",
    "    # Save checkpoint at the end of each epoch\n",
    "    save_checkpoint(model, optimizer, epoch)\n",
    "\n",
    "\n",
    "print('===== Evaluate on Test =====')\n",
    "logger.info(\"Starting evaluation on test set...\")\n",
    "result = evaluate(model, test_dataloader, device)\n",
    "print()\n",
    "logger.info(f\"Evaluation results on test set: {result}\")\n"
   ]
  }
 ],
 "metadata": {
  "kaggle": {
   "accelerator": "gpu",
   "dataSources": [
    {
     "datasetId": 6334922,
     "sourceId": 10272033,
     "sourceType": "datasetVersion"
    }
   ],
   "dockerImageVersionId": 30823,
   "isGpuEnabled": true,
   "isInternetEnabled": true,
   "language": "python",
   "sourceType": "notebook"
  },
  "kernelspec": {
   "display_name": "Python 3",
   "language": "python",
   "name": "python3"
  },
  "language_info": {
   "codemirror_mode": {
    "name": "ipython",
    "version": 3
   },
   "file_extension": ".py",
   "mimetype": "text/x-python",
   "name": "python",
   "nbconvert_exporter": "python",
   "pygments_lexer": "ipython3",
   "version": "3.10.12"
  },
  "papermill": {
   "default_parameters": {},
   "duration": 5575.262306,
   "end_time": "2024-12-22T19:54:44.185735",
   "environment_variables": {},
   "exception": null,
   "input_path": "__notebook__.ipynb",
   "output_path": "__notebook__.ipynb",
   "parameters": {},
   "start_time": "2024-12-22T18:21:48.923429",
   "version": "2.6.0"
  }
 },
 "nbformat": 4,
 "nbformat_minor": 5
}
